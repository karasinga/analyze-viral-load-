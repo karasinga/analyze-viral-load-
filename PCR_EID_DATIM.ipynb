{
 "cells": [
  {
   "cell_type": "markdown",
   "metadata": {},
   "source": [
    "# Read csv downloaded from NASCOP  to summarize it for DATIM and for our consumption:"
   ]
  },
  {
   "cell_type": "code",
   "execution_count": 1,
   "metadata": {
    "ExecuteTime": {
     "end_time": "2021-09-29T10:37:39.548607Z",
     "start_time": "2021-09-29T10:37:32.243208Z"
    }
   },
   "outputs": [
    {
     "data": {
      "text/html": [
       "        <script type=\"text/javascript\">\n",
       "        window.PlotlyConfig = {MathJaxConfig: 'local'};\n",
       "        if (window.MathJax) {MathJax.Hub.Config({SVG: {font: \"STIX-Web\"}});}\n",
       "        if (typeof require !== 'undefined') {\n",
       "        require.undef(\"plotly\");\n",
       "        requirejs.config({\n",
       "            paths: {\n",
       "                'plotly': ['https://cdn.plot.ly/plotly-latest.min']\n",
       "            }\n",
       "        });\n",
       "        require(['plotly'], function(Plotly) {\n",
       "            window._Plotly = Plotly;\n",
       "        });\n",
       "        }\n",
       "        </script>\n",
       "        "
      ]
     },
     "metadata": {},
     "output_type": "display_data"
    },
    {
     "name": "stdout",
     "output_type": "stream",
     "text": [
      "Wall time: 7.28 s\n"
     ]
    }
   ],
   "source": [
    "%%time\n",
    "# import pandas\n",
    "import pandas as pd\n",
    "import numpy as np\n",
    "import matplotlib.pylab as plt\n",
    "import plotly.express as px\n",
    "import calendar\n",
    "import math\n",
    "\n",
    "\n",
    "from plotly.subplots import make_subplots\n",
    "import plotly.graph_objects as go\n",
    "\n",
    "# plt.style.use('fivethirtyeight')\n",
    "import seaborn as sns\n",
    "from io import StringIO\n",
    "%matplotlib inline\n",
    "\n",
    "from plotly.offline import download_plotlyjs, init_notebook_mode, plot,iplot\n",
    "init_notebook_mode(connected=True)\n",
    "\n",
    "from collections import defaultdict\n",
    "from IPython.display import display\n",
    "pd.options.display.max_rows = None\n",
    "pd.options.display.max_columns = None\n",
    "\n",
    "# read dataframe from the directory\n",
    "# df=pd.read_csv('UON CRISSP EID TEST OUTCOMES FOR  IN 01OCT2020  31DEC2020.csv',index_col=None)\n",
    "df=pd.read_csv('C:\\\\Users\\\\user\\\\Downloads\\\\UON CRISSP EID TEST OUTCOMES FOR  IN 01JUN2021  29SEP2021.csv',index_col=None)\n",
    "df=df[df['County']==\"Kiambu\"]\n",
    "# df=df[df['County']==\"Kirinyaga\"]                                                   \n",
    "# df=df[df['Sub-County']==\"Kirinyaga Central\"]\n",
    "# df=df[df['Sub-County']==\"Kirinyaga East\"]\n",
    "# df=df[df['Sub-County']==\"Kirinyaga North\"]\n",
    "# df=df[df['Sub-County']==\"Kirinyaga South\"]\n",
    "# df=df[df['Sub-County']==\"Kirinyaga North/Mwea West\"]"
   ]
  },
  {
   "cell_type": "code",
   "execution_count": 2,
   "metadata": {
    "ExecuteTime": {
     "end_time": "2021-09-29T10:37:39.581587Z",
     "start_time": "2021-09-29T10:37:39.552605Z"
    }
   },
   "outputs": [
    {
     "data": {
      "text/html": [
       "<script>\n",
       "code_show=true; \n",
       "function code_toggle() {\n",
       " if (code_show){\n",
       " $('div.input').hide();\n",
       " } else {\n",
       " $('div.input').show();\n",
       " }\n",
       " code_show = !code_show\n",
       "} \n",
       "$( document ).ready(code_toggle);\n",
       "</script>\n"
      ],
      "text/plain": [
       "<IPython.core.display.HTML object>"
      ]
     },
     "execution_count": 2,
     "metadata": {},
     "output_type": "execute_result"
    }
   ],
   "source": [
    "from IPython.display import HTML\n",
    ",\n",
    "HTML('''<script>\n",
    "code_show=true; \n",
    "function code_toggle() {\n",
    " if (code_show){\n",
    " $('div.input').hide();\n",
    " } else {\n",
    " $('div.input').show();\n",
    " }\n",
    " code_show = !code_show\n",
    "} \n",
    "$( document ).ready(code_toggle);\n",
    "</script>\n",
    "''')"
   ]
  },
  {
   "cell_type": "code",
   "execution_count": 3,
   "metadata": {
    "ExecuteTime": {
     "end_time": "2021-09-29T10:37:39.755483Z",
     "start_time": "2021-09-29T10:37:39.596578Z"
    }
   },
   "outputs": [],
   "source": [
    "def get_results(df):\n",
    "    \"\"\"Displays answer in form of a \"\"\"  \n",
    "    \n",
    "    # get unique values in 'PCR type' column\n",
    "    pcr_types=[] # store unique value from above in a list\n",
    "    for pcr_type in df['PCR Type']: \n",
    "        df=df[df['PCR Type']==pcr_type]\n",
    "        pcr_types.append(pcr_type)\n",
    "        \n",
    "    # count values in the pcr type list\n",
    "    results = defaultdict(int)\n",
    "    for pcr_type in pcr_types:\n",
    "        results[pcr_type] += 1 \n",
    "        \n",
    "    #convert dictionary to a dataframe       \n",
    "    num=pd.DataFrame(results.items(),columns=['PCR type','Count'],index=None )\n",
    "    \n",
    "    return num   "
   ]
  },
  {
   "cell_type": "code",
   "execution_count": 4,
   "metadata": {
    "ExecuteTime": {
     "end_time": "2021-09-29T10:37:39.882401Z",
     "start_time": "2021-09-29T10:37:39.764474Z"
    }
   },
   "outputs": [],
   "source": [
    "def age_buckets(x):\n",
    "    \"\"\"convert age to age ranges\"\"\"\n",
    "    if x == 2: \n",
    "        return '< 2' \n",
    "    elif x == 12: \n",
    "        return '2-12' "
   ]
  },
  {
   "cell_type": "markdown",
   "metadata": {},
   "source": [
    "#####  PMTCT_EID Disaggregated by Infant Test Results\n",
    "use table below to fill DATIM report"
   ]
  },
  {
   "cell_type": "code",
   "execution_count": 5,
   "metadata": {
    "ExecuteTime": {
     "end_time": "2021-09-29T10:37:40.024318Z",
     "start_time": "2021-09-29T10:37:39.888399Z"
    }
   },
   "outputs": [],
   "source": [
    "# change df to datim\n",
    "summary_PCR_done=df\n",
    "\n",
    "# Replace <2 with 2 and 2-12 with 12\n",
    "summary_PCR_done.loc[summary_PCR_done['Age (Months)'] < 2, 'Age (Months)'] = 2\n",
    "summary_PCR_done.loc[(summary_PCR_done['Age (Months)'] >2) & (summary_PCR_done['Age (Months)'] <12), 'Age (Months)'] = 12\n",
    "\n",
    "# Filter all rows for which the children age is greater than >12. Not need in the report\n",
    "summary_PCR_done.drop(summary_PCR_done[summary_PCR_done['Age (Months)'] > 12].index, inplace = True)\n",
    "summary_PCR_done=summary_PCR_done[summary_PCR_done['PCR Type'] != 'Confirmatory PCR and Baseline VL']\n",
    "# summary_PCR_done"
   ]
  },
  {
   "cell_type": "code",
   "execution_count": 6,
   "metadata": {
    "ExecuteTime": {
     "end_time": "2021-09-29T10:37:40.120259Z",
     "start_time": "2021-09-29T10:37:40.029312Z"
    },
    "scrolled": false
   },
   "outputs": [],
   "source": [
    "# add a column of count to the dataframe\n",
    "summary_PCR_done=summary_PCR_done.copy()\n",
    "summary_PCR_done['Counts']=1\n",
    "\n",
    "summary_PCR_done['Age'] = summary_PCR_done['Age (Months)'].apply(age_buckets)\n",
    "\n",
    "# group dataframe by Facilty',\"Result\" and'Age (Months)'\n",
    "facilities=summary_PCR_done.groupby(['County','Facilty','Result','Age']).sum()['Counts'].reset_index()\n",
    "# facilities\n",
    "# ages\n",
    "\n",
    "# #convert summary into a dataframe \n",
    "# pd.DataFrame(summary_PCR_done,columns=['Count'])"
   ]
  },
  {
   "cell_type": "code",
   "execution_count": 7,
   "metadata": {
    "ExecuteTime": {
     "end_time": "2021-09-29T10:37:40.387138Z",
     "start_time": "2021-09-29T10:37:40.124256Z"
    }
   },
   "outputs": [],
   "source": [
    "df2=summary_PCR_done.groupby([\"Sub-County\",'Result','Age']).sum()['Counts'].reset_index()\n",
    "subcounties=df2.pivot_table(index=['Sub-County', 'Age'], columns=\"Result\").reset_index()"
   ]
  },
  {
   "cell_type": "code",
   "execution_count": 8,
   "metadata": {
    "ExecuteTime": {
     "end_time": "2021-09-29T10:37:40.545165Z",
     "start_time": "2021-09-29T10:37:40.395113Z"
    }
   },
   "outputs": [],
   "source": [
    "def convert_pivot_to_dataframe(subcounties):\n",
    "    \"\"\"convert pivot table to dataframe\"\"\"  \n",
    "    subcounties.columns = subcounties.columns.droplevel(0) #remove amount\n",
    "    subcounties = subcounties.reset_index()                #index to columns\n",
    "    return subcounties\n",
    "    \n",
    "# subcounties"
   ]
  },
  {
   "cell_type": "code",
   "execution_count": 9,
   "metadata": {
    "ExecuteTime": {
     "end_time": "2021-09-29T10:37:40.734065Z",
     "start_time": "2021-09-29T10:37:40.563155Z"
    },
    "scrolled": false
   },
   "outputs": [
    {
     "data": {
      "text/html": [
       "<div>\n",
       "<style scoped>\n",
       "    .dataframe tbody tr th:only-of-type {\n",
       "        vertical-align: middle;\n",
       "    }\n",
       "\n",
       "    .dataframe tbody tr th {\n",
       "        vertical-align: top;\n",
       "    }\n",
       "\n",
       "    .dataframe thead th {\n",
       "        text-align: right;\n",
       "    }\n",
       "</style>\n",
       "<table border=\"1\" class=\"dataframe\">\n",
       "  <thead>\n",
       "    <tr style=\"text-align: right;\">\n",
       "      <th></th>\n",
       "      <th>Sub-Counties</th>\n",
       "      <th>Months Initial PCR done</th>\n",
       "      <th>Negative</th>\n",
       "      <th>Positive</th>\n",
       "      <th>Total</th>\n",
       "    </tr>\n",
       "  </thead>\n",
       "  <tbody>\n",
       "    <tr>\n",
       "      <th>0</th>\n",
       "      <td>Gatundu North</td>\n",
       "      <td>2-12</td>\n",
       "      <td>40</td>\n",
       "      <td>1</td>\n",
       "      <td>41</td>\n",
       "    </tr>\n",
       "    <tr>\n",
       "      <th>1</th>\n",
       "      <td>Gatundu North</td>\n",
       "      <td>&lt; 2</td>\n",
       "      <td>9</td>\n",
       "      <td>0</td>\n",
       "      <td>9</td>\n",
       "    </tr>\n",
       "    <tr>\n",
       "      <th>2</th>\n",
       "      <td>Gatundu South</td>\n",
       "      <td>2-12</td>\n",
       "      <td>34</td>\n",
       "      <td>0</td>\n",
       "      <td>34</td>\n",
       "    </tr>\n",
       "    <tr>\n",
       "      <th>3</th>\n",
       "      <td>Gatundu South</td>\n",
       "      <td>&lt; 2</td>\n",
       "      <td>13</td>\n",
       "      <td>0</td>\n",
       "      <td>13</td>\n",
       "    </tr>\n",
       "    <tr>\n",
       "      <th>4</th>\n",
       "      <td>Githunguri</td>\n",
       "      <td>2-12</td>\n",
       "      <td>33</td>\n",
       "      <td>2</td>\n",
       "      <td>35</td>\n",
       "    </tr>\n",
       "    <tr>\n",
       "      <th>5</th>\n",
       "      <td>Githunguri</td>\n",
       "      <td>&lt; 2</td>\n",
       "      <td>14</td>\n",
       "      <td>0</td>\n",
       "      <td>14</td>\n",
       "    </tr>\n",
       "    <tr>\n",
       "      <th>6</th>\n",
       "      <td>Juja</td>\n",
       "      <td>2-12</td>\n",
       "      <td>37</td>\n",
       "      <td>0</td>\n",
       "      <td>37</td>\n",
       "    </tr>\n",
       "    <tr>\n",
       "      <th>7</th>\n",
       "      <td>Juja</td>\n",
       "      <td>&lt; 2</td>\n",
       "      <td>9</td>\n",
       "      <td>0</td>\n",
       "      <td>9</td>\n",
       "    </tr>\n",
       "    <tr>\n",
       "      <th>8</th>\n",
       "      <td>Kabete</td>\n",
       "      <td>2-12</td>\n",
       "      <td>59</td>\n",
       "      <td>0</td>\n",
       "      <td>59</td>\n",
       "    </tr>\n",
       "    <tr>\n",
       "      <th>9</th>\n",
       "      <td>Kabete</td>\n",
       "      <td>&lt; 2</td>\n",
       "      <td>21</td>\n",
       "      <td>0</td>\n",
       "      <td>21</td>\n",
       "    </tr>\n",
       "    <tr>\n",
       "      <th>10</th>\n",
       "      <td>Kiambaa</td>\n",
       "      <td>2-12</td>\n",
       "      <td>49</td>\n",
       "      <td>0</td>\n",
       "      <td>49</td>\n",
       "    </tr>\n",
       "    <tr>\n",
       "      <th>11</th>\n",
       "      <td>Kiambaa</td>\n",
       "      <td>&lt; 2</td>\n",
       "      <td>21</td>\n",
       "      <td>0</td>\n",
       "      <td>21</td>\n",
       "    </tr>\n",
       "    <tr>\n",
       "      <th>12</th>\n",
       "      <td>Kiambu town</td>\n",
       "      <td>2-12</td>\n",
       "      <td>71</td>\n",
       "      <td>1</td>\n",
       "      <td>72</td>\n",
       "    </tr>\n",
       "    <tr>\n",
       "      <th>13</th>\n",
       "      <td>Kiambu town</td>\n",
       "      <td>&lt; 2</td>\n",
       "      <td>24</td>\n",
       "      <td>0</td>\n",
       "      <td>24</td>\n",
       "    </tr>\n",
       "    <tr>\n",
       "      <th>14</th>\n",
       "      <td>Kikuyu</td>\n",
       "      <td>2-12</td>\n",
       "      <td>18</td>\n",
       "      <td>0</td>\n",
       "      <td>18</td>\n",
       "    </tr>\n",
       "    <tr>\n",
       "      <th>15</th>\n",
       "      <td>Kikuyu</td>\n",
       "      <td>&lt; 2</td>\n",
       "      <td>5</td>\n",
       "      <td>0</td>\n",
       "      <td>5</td>\n",
       "    </tr>\n",
       "    <tr>\n",
       "      <th>16</th>\n",
       "      <td>Lari</td>\n",
       "      <td>2-12</td>\n",
       "      <td>13</td>\n",
       "      <td>0</td>\n",
       "      <td>13</td>\n",
       "    </tr>\n",
       "    <tr>\n",
       "      <th>17</th>\n",
       "      <td>Lari</td>\n",
       "      <td>&lt; 2</td>\n",
       "      <td>2</td>\n",
       "      <td>0</td>\n",
       "      <td>2</td>\n",
       "    </tr>\n",
       "    <tr>\n",
       "      <th>18</th>\n",
       "      <td>Limuru</td>\n",
       "      <td>2-12</td>\n",
       "      <td>39</td>\n",
       "      <td>0</td>\n",
       "      <td>39</td>\n",
       "    </tr>\n",
       "    <tr>\n",
       "      <th>19</th>\n",
       "      <td>Limuru</td>\n",
       "      <td>&lt; 2</td>\n",
       "      <td>23</td>\n",
       "      <td>0</td>\n",
       "      <td>23</td>\n",
       "    </tr>\n",
       "    <tr>\n",
       "      <th>20</th>\n",
       "      <td>Ruiru</td>\n",
       "      <td>2-12</td>\n",
       "      <td>116</td>\n",
       "      <td>0</td>\n",
       "      <td>116</td>\n",
       "    </tr>\n",
       "    <tr>\n",
       "      <th>21</th>\n",
       "      <td>Ruiru</td>\n",
       "      <td>&lt; 2</td>\n",
       "      <td>54</td>\n",
       "      <td>2</td>\n",
       "      <td>56</td>\n",
       "    </tr>\n",
       "    <tr>\n",
       "      <th>22</th>\n",
       "      <td>Thika Town</td>\n",
       "      <td>2-12</td>\n",
       "      <td>179</td>\n",
       "      <td>4</td>\n",
       "      <td>183</td>\n",
       "    </tr>\n",
       "    <tr>\n",
       "      <th>23</th>\n",
       "      <td>Thika Town</td>\n",
       "      <td>&lt; 2</td>\n",
       "      <td>78</td>\n",
       "      <td>0</td>\n",
       "      <td>78</td>\n",
       "    </tr>\n",
       "  </tbody>\n",
       "</table>\n",
       "</div>"
      ],
      "text/plain": [
       "      Sub-Counties Months Initial PCR done  Negative  Positive  Total\n",
       "0    Gatundu North                    2-12        40         1     41\n",
       "1    Gatundu North                     < 2         9         0      9\n",
       "2   Gatundu South                     2-12        34         0     34\n",
       "3   Gatundu South                      < 2        13         0     13\n",
       "4       Githunguri                    2-12        33         2     35\n",
       "5       Githunguri                     < 2        14         0     14\n",
       "6             Juja                    2-12        37         0     37\n",
       "7             Juja                     < 2         9         0      9\n",
       "8           Kabete                    2-12        59         0     59\n",
       "9           Kabete                     < 2        21         0     21\n",
       "10         Kiambaa                    2-12        49         0     49\n",
       "11         Kiambaa                     < 2        21         0     21\n",
       "12    Kiambu town                     2-12        71         1     72\n",
       "13    Kiambu town                      < 2        24         0     24\n",
       "14          Kikuyu                    2-12        18         0     18\n",
       "15          Kikuyu                     < 2         5         0      5\n",
       "16            Lari                    2-12        13         0     13\n",
       "17            Lari                     < 2         2         0      2\n",
       "18          Limuru                    2-12        39         0     39\n",
       "19          Limuru                     < 2        23         0     23\n",
       "20           Ruiru                    2-12       116         0    116\n",
       "21           Ruiru                     < 2        54         2     56\n",
       "22     Thika Town                     2-12       179         4    183\n",
       "23     Thika Town                      < 2        78         0     78"
      ]
     },
     "execution_count": 9,
     "metadata": {},
     "output_type": "execute_result"
    }
   ],
   "source": [
    "subcounties=convert_pivot_to_dataframe(subcounties)\n",
    "\n",
    "subcounties.columns=[\"index\",\"Sub-Counties\",\"Months Initial PCR done\",\"Negative\",\"Positive\"]\n",
    "del subcounties['index']\n",
    "subcounties=subcounties.fillna(0)\n",
    "subcounties[\"Total\"]=subcounties[\"Negative\"]+subcounties[\"Positive\"]\n",
    "pcr_done=subcounties['Total'].sum().astype(int)\n",
    "positive_sample=subcounties['Positive'].sum().astype(int)\n",
    "negative_sample=subcounties['Negative'].sum().astype(int)\n",
    "subcounties['Total']=subcounties['Total'].astype(int)\n",
    "subcounties['Positive']=subcounties['Positive'].astype(int)\n",
    "subcounties['Negative']=subcounties['Negative'].astype(int)\n",
    "subcounties"
   ]
  },
  {
   "cell_type": "code",
   "execution_count": 10,
   "metadata": {
    "ExecuteTime": {
     "end_time": "2021-09-29T10:37:41.015117Z",
     "start_time": "2021-09-29T10:37:40.741063Z"
    }
   },
   "outputs": [
    {
     "data": {
      "text/html": [
       "<div>\n",
       "<style scoped>\n",
       "    .dataframe tbody tr th:only-of-type {\n",
       "        vertical-align: middle;\n",
       "    }\n",
       "\n",
       "    .dataframe tbody tr th {\n",
       "        vertical-align: top;\n",
       "    }\n",
       "\n",
       "    .dataframe thead th {\n",
       "        text-align: right;\n",
       "    }\n",
       "</style>\n",
       "<table border=\"1\" class=\"dataframe\">\n",
       "  <thead>\n",
       "    <tr style=\"text-align: right;\">\n",
       "      <th></th>\n",
       "      <th>Sub-Counties</th>\n",
       "      <th>Positive</th>\n",
       "      <th>Negative</th>\n",
       "      <th>Total</th>\n",
       "      <th>mtct rate</th>\n",
       "    </tr>\n",
       "  </thead>\n",
       "  <tbody>\n",
       "    <tr>\n",
       "      <th>8</th>\n",
       "      <td>Lari</td>\n",
       "      <td>0</td>\n",
       "      <td>15</td>\n",
       "      <td>15</td>\n",
       "      <td>0.0</td>\n",
       "    </tr>\n",
       "    <tr>\n",
       "      <th>7</th>\n",
       "      <td>Kikuyu</td>\n",
       "      <td>0</td>\n",
       "      <td>23</td>\n",
       "      <td>23</td>\n",
       "      <td>0.0</td>\n",
       "    </tr>\n",
       "    <tr>\n",
       "      <th>3</th>\n",
       "      <td>Juja</td>\n",
       "      <td>0</td>\n",
       "      <td>46</td>\n",
       "      <td>46</td>\n",
       "      <td>0.0</td>\n",
       "    </tr>\n",
       "    <tr>\n",
       "      <th>1</th>\n",
       "      <td>Gatundu South</td>\n",
       "      <td>0</td>\n",
       "      <td>47</td>\n",
       "      <td>47</td>\n",
       "      <td>0.0</td>\n",
       "    </tr>\n",
       "    <tr>\n",
       "      <th>2</th>\n",
       "      <td>Githunguri</td>\n",
       "      <td>2</td>\n",
       "      <td>47</td>\n",
       "      <td>49</td>\n",
       "      <td>4.1</td>\n",
       "    </tr>\n",
       "    <tr>\n",
       "      <th>0</th>\n",
       "      <td>Gatundu North</td>\n",
       "      <td>1</td>\n",
       "      <td>49</td>\n",
       "      <td>50</td>\n",
       "      <td>2.0</td>\n",
       "    </tr>\n",
       "    <tr>\n",
       "      <th>9</th>\n",
       "      <td>Limuru</td>\n",
       "      <td>0</td>\n",
       "      <td>62</td>\n",
       "      <td>62</td>\n",
       "      <td>0.0</td>\n",
       "    </tr>\n",
       "    <tr>\n",
       "      <th>5</th>\n",
       "      <td>Kiambaa</td>\n",
       "      <td>0</td>\n",
       "      <td>70</td>\n",
       "      <td>70</td>\n",
       "      <td>0.0</td>\n",
       "    </tr>\n",
       "    <tr>\n",
       "      <th>4</th>\n",
       "      <td>Kabete</td>\n",
       "      <td>0</td>\n",
       "      <td>80</td>\n",
       "      <td>80</td>\n",
       "      <td>0.0</td>\n",
       "    </tr>\n",
       "    <tr>\n",
       "      <th>6</th>\n",
       "      <td>Kiambu town</td>\n",
       "      <td>1</td>\n",
       "      <td>95</td>\n",
       "      <td>96</td>\n",
       "      <td>1.0</td>\n",
       "    </tr>\n",
       "    <tr>\n",
       "      <th>10</th>\n",
       "      <td>Ruiru</td>\n",
       "      <td>2</td>\n",
       "      <td>170</td>\n",
       "      <td>172</td>\n",
       "      <td>1.2</td>\n",
       "    </tr>\n",
       "    <tr>\n",
       "      <th>11</th>\n",
       "      <td>Thika Town</td>\n",
       "      <td>4</td>\n",
       "      <td>257</td>\n",
       "      <td>261</td>\n",
       "      <td>1.5</td>\n",
       "    </tr>\n",
       "  </tbody>\n",
       "</table>\n",
       "</div>"
      ],
      "text/plain": [
       "      Sub-Counties  Positive  Negative  Total  mtct rate\n",
       "8             Lari         0        15     15        0.0\n",
       "7           Kikuyu         0        23     23        0.0\n",
       "3             Juja         0        46     46        0.0\n",
       "1   Gatundu South          0        47     47        0.0\n",
       "2       Githunguri         2        47     49        4.1\n",
       "0    Gatundu North         1        49     50        2.0\n",
       "9           Limuru         0        62     62        0.0\n",
       "5          Kiambaa         0        70     70        0.0\n",
       "4           Kabete         0        80     80        0.0\n",
       "6     Kiambu town          1        95     96        1.0\n",
       "10           Ruiru         2       170    172        1.2\n",
       "11     Thika Town          4       257    261        1.5"
      ]
     },
     "execution_count": 10,
     "metadata": {},
     "output_type": "execute_result"
    }
   ],
   "source": [
    "negative=subcounties.groupby(\"Sub-Counties\").sum()['Negative'].reset_index()\n",
    "positives=subcounties.groupby(\"Sub-Counties\").sum()[['Positive','Negative']].reset_index().sort_values(\"Negative\")\n",
    "positives['Total']=positives['Positive']+positives['Negative']\n",
    "\n",
    "\n",
    "positives['Total']=positives['Total'].astype(int)\n",
    "positives['Positive']=positives['Positive'].astype(int)\n",
    "positives['Negative']=positives['Negative'].astype(int)\n",
    "positives['mtct rate']=round(positives['Positive']/positives['Total']*100,1)\n",
    "positives"
   ]
  },
  {
   "cell_type": "code",
   "execution_count": 11,
   "metadata": {
    "ExecuteTime": {
     "end_time": "2021-09-29T10:37:41.187009Z",
     "start_time": "2021-09-29T10:37:41.019113Z"
    }
   },
   "outputs": [
    {
     "data": {
      "text/html": [
       "<div>\n",
       "<style scoped>\n",
       "    .dataframe tbody tr th:only-of-type {\n",
       "        vertical-align: middle;\n",
       "    }\n",
       "\n",
       "    .dataframe tbody tr th {\n",
       "        vertical-align: top;\n",
       "    }\n",
       "\n",
       "    .dataframe thead th {\n",
       "        text-align: right;\n",
       "    }\n",
       "</style>\n",
       "<table border=\"1\" class=\"dataframe\">\n",
       "  <thead>\n",
       "    <tr style=\"text-align: right;\">\n",
       "      <th></th>\n",
       "      <th>Sub-Counties</th>\n",
       "      <th>Positive</th>\n",
       "      <th>Negative</th>\n",
       "      <th>Total</th>\n",
       "      <th>mtct rate</th>\n",
       "    </tr>\n",
       "  </thead>\n",
       "  <tbody>\n",
       "    <tr>\n",
       "      <th>8</th>\n",
       "      <td>Lari</td>\n",
       "      <td>0</td>\n",
       "      <td>15</td>\n",
       "      <td>15</td>\n",
       "      <td>0.0</td>\n",
       "    </tr>\n",
       "    <tr>\n",
       "      <th>7</th>\n",
       "      <td>Kikuyu</td>\n",
       "      <td>0</td>\n",
       "      <td>23</td>\n",
       "      <td>23</td>\n",
       "      <td>0.0</td>\n",
       "    </tr>\n",
       "    <tr>\n",
       "      <th>3</th>\n",
       "      <td>Juja</td>\n",
       "      <td>0</td>\n",
       "      <td>46</td>\n",
       "      <td>46</td>\n",
       "      <td>0.0</td>\n",
       "    </tr>\n",
       "    <tr>\n",
       "      <th>1</th>\n",
       "      <td>Gatundu South</td>\n",
       "      <td>0</td>\n",
       "      <td>47</td>\n",
       "      <td>47</td>\n",
       "      <td>0.0</td>\n",
       "    </tr>\n",
       "    <tr>\n",
       "      <th>2</th>\n",
       "      <td>Githunguri</td>\n",
       "      <td>2</td>\n",
       "      <td>47</td>\n",
       "      <td>49</td>\n",
       "      <td>4.1</td>\n",
       "    </tr>\n",
       "    <tr>\n",
       "      <th>0</th>\n",
       "      <td>Gatundu North</td>\n",
       "      <td>1</td>\n",
       "      <td>49</td>\n",
       "      <td>50</td>\n",
       "      <td>2.0</td>\n",
       "    </tr>\n",
       "    <tr>\n",
       "      <th>9</th>\n",
       "      <td>Limuru</td>\n",
       "      <td>0</td>\n",
       "      <td>62</td>\n",
       "      <td>62</td>\n",
       "      <td>0.0</td>\n",
       "    </tr>\n",
       "    <tr>\n",
       "      <th>5</th>\n",
       "      <td>Kiambaa</td>\n",
       "      <td>0</td>\n",
       "      <td>70</td>\n",
       "      <td>70</td>\n",
       "      <td>0.0</td>\n",
       "    </tr>\n",
       "    <tr>\n",
       "      <th>4</th>\n",
       "      <td>Kabete</td>\n",
       "      <td>0</td>\n",
       "      <td>80</td>\n",
       "      <td>80</td>\n",
       "      <td>0.0</td>\n",
       "    </tr>\n",
       "    <tr>\n",
       "      <th>6</th>\n",
       "      <td>Kiambu town</td>\n",
       "      <td>1</td>\n",
       "      <td>95</td>\n",
       "      <td>96</td>\n",
       "      <td>1.0</td>\n",
       "    </tr>\n",
       "    <tr>\n",
       "      <th>10</th>\n",
       "      <td>Ruiru</td>\n",
       "      <td>2</td>\n",
       "      <td>170</td>\n",
       "      <td>172</td>\n",
       "      <td>1.2</td>\n",
       "    </tr>\n",
       "    <tr>\n",
       "      <th>11</th>\n",
       "      <td>Thika Town</td>\n",
       "      <td>4</td>\n",
       "      <td>257</td>\n",
       "      <td>261</td>\n",
       "      <td>1.5</td>\n",
       "    </tr>\n",
       "  </tbody>\n",
       "</table>\n",
       "</div>"
      ],
      "text/plain": [
       "      Sub-Counties  Positive  Negative  Total  mtct rate\n",
       "8             Lari         0        15     15        0.0\n",
       "7           Kikuyu         0        23     23        0.0\n",
       "3             Juja         0        46     46        0.0\n",
       "1   Gatundu South          0        47     47        0.0\n",
       "2       Githunguri         2        47     49        4.1\n",
       "0    Gatundu North         1        49     50        2.0\n",
       "9           Limuru         0        62     62        0.0\n",
       "5          Kiambaa         0        70     70        0.0\n",
       "4           Kabete         0        80     80        0.0\n",
       "6     Kiambu town          1        95     96        1.0\n",
       "10           Ruiru         2       170    172        1.2\n",
       "11     Thika Town          4       257    261        1.5"
      ]
     },
     "execution_count": 11,
     "metadata": {},
     "output_type": "execute_result"
    }
   ],
   "source": [
    "positives"
   ]
  },
  {
   "cell_type": "code",
   "execution_count": 12,
   "metadata": {
    "ExecuteTime": {
     "end_time": "2021-09-29T10:37:41.749753Z",
     "start_time": "2021-09-29T10:37:41.196003Z"
    }
   },
   "outputs": [
    {
     "data": {
      "application/vnd.plotly.v1+json": {
       "config": {
        "plotlyServerURL": "https://plot.ly"
       },
       "data": [
        {
         "name": "Negative",
         "text": [
          15,
          23,
          46,
          47,
          47,
          49,
          62,
          70,
          80,
          95,
          170,
          257
         ],
         "textposition": "outside",
         "type": "bar",
         "x": [
          "Lari",
          "Kikuyu",
          "Juja",
          "Gatundu South ",
          "Githunguri",
          "Gatundu North",
          "Limuru",
          "Kiambaa",
          "Kabete",
          "Kiambu town ",
          "Ruiru",
          "Thika Town "
         ],
         "xaxis": "x",
         "y": [
          15,
          23,
          46,
          47,
          47,
          49,
          62,
          70,
          80,
          95,
          170,
          257
         ],
         "yaxis": "y"
        },
        {
         "name": "Positive",
         "text": [
          0,
          0,
          0,
          0,
          2,
          1,
          0,
          0,
          0,
          1,
          2,
          4
         ],
         "textposition": "outside",
         "type": "bar",
         "x": [
          "Lari",
          "Kikuyu",
          "Juja",
          "Gatundu South ",
          "Githunguri",
          "Gatundu North",
          "Limuru",
          "Kiambaa",
          "Kabete",
          "Kiambu town ",
          "Ruiru",
          "Thika Town "
         ],
         "xaxis": "x",
         "y": [
          0,
          0,
          0,
          0,
          2,
          1,
          0,
          0,
          0,
          1,
          2,
          4
         ],
         "yaxis": "y"
        },
        {
         "mode": "lines+markers+text",
         "name": "mtct rate %",
         "text": [
          0,
          0,
          0,
          0,
          4.1,
          2,
          0,
          0,
          0,
          1,
          1.2,
          1.5
         ],
         "textfont": {
          "color": "RED",
          "family": "sans serif",
          "size": 18
         },
         "textposition": "top center",
         "type": "scatter",
         "x": [
          "Lari",
          "Kikuyu",
          "Juja",
          "Gatundu South ",
          "Githunguri",
          "Gatundu North",
          "Limuru",
          "Kiambaa",
          "Kabete",
          "Kiambu town ",
          "Ruiru",
          "Thika Town "
         ],
         "xaxis": "x",
         "y": [
          0,
          0,
          0,
          0,
          4.1,
          2,
          0,
          0,
          0,
          1,
          1.2,
          1.5
         ],
         "yaxis": "y2"
        }
       ],
       "layout": {
        "template": {
         "data": {
          "bar": [
           {
            "error_x": {
             "color": "#2a3f5f"
            },
            "error_y": {
             "color": "#2a3f5f"
            },
            "marker": {
             "line": {
              "color": "#E5ECF6",
              "width": 0.5
             }
            },
            "type": "bar"
           }
          ],
          "barpolar": [
           {
            "marker": {
             "line": {
              "color": "#E5ECF6",
              "width": 0.5
             }
            },
            "type": "barpolar"
           }
          ],
          "carpet": [
           {
            "aaxis": {
             "endlinecolor": "#2a3f5f",
             "gridcolor": "white",
             "linecolor": "white",
             "minorgridcolor": "white",
             "startlinecolor": "#2a3f5f"
            },
            "baxis": {
             "endlinecolor": "#2a3f5f",
             "gridcolor": "white",
             "linecolor": "white",
             "minorgridcolor": "white",
             "startlinecolor": "#2a3f5f"
            },
            "type": "carpet"
           }
          ],
          "choropleth": [
           {
            "colorbar": {
             "outlinewidth": 0,
             "ticks": ""
            },
            "type": "choropleth"
           }
          ],
          "contour": [
           {
            "colorbar": {
             "outlinewidth": 0,
             "ticks": ""
            },
            "colorscale": [
             [
              0,
              "#0d0887"
             ],
             [
              0.1111111111111111,
              "#46039f"
             ],
             [
              0.2222222222222222,
              "#7201a8"
             ],
             [
              0.3333333333333333,
              "#9c179e"
             ],
             [
              0.4444444444444444,
              "#bd3786"
             ],
             [
              0.5555555555555556,
              "#d8576b"
             ],
             [
              0.6666666666666666,
              "#ed7953"
             ],
             [
              0.7777777777777778,
              "#fb9f3a"
             ],
             [
              0.8888888888888888,
              "#fdca26"
             ],
             [
              1,
              "#f0f921"
             ]
            ],
            "type": "contour"
           }
          ],
          "contourcarpet": [
           {
            "colorbar": {
             "outlinewidth": 0,
             "ticks": ""
            },
            "type": "contourcarpet"
           }
          ],
          "heatmap": [
           {
            "colorbar": {
             "outlinewidth": 0,
             "ticks": ""
            },
            "colorscale": [
             [
              0,
              "#0d0887"
             ],
             [
              0.1111111111111111,
              "#46039f"
             ],
             [
              0.2222222222222222,
              "#7201a8"
             ],
             [
              0.3333333333333333,
              "#9c179e"
             ],
             [
              0.4444444444444444,
              "#bd3786"
             ],
             [
              0.5555555555555556,
              "#d8576b"
             ],
             [
              0.6666666666666666,
              "#ed7953"
             ],
             [
              0.7777777777777778,
              "#fb9f3a"
             ],
             [
              0.8888888888888888,
              "#fdca26"
             ],
             [
              1,
              "#f0f921"
             ]
            ],
            "type": "heatmap"
           }
          ],
          "heatmapgl": [
           {
            "colorbar": {
             "outlinewidth": 0,
             "ticks": ""
            },
            "colorscale": [
             [
              0,
              "#0d0887"
             ],
             [
              0.1111111111111111,
              "#46039f"
             ],
             [
              0.2222222222222222,
              "#7201a8"
             ],
             [
              0.3333333333333333,
              "#9c179e"
             ],
             [
              0.4444444444444444,
              "#bd3786"
             ],
             [
              0.5555555555555556,
              "#d8576b"
             ],
             [
              0.6666666666666666,
              "#ed7953"
             ],
             [
              0.7777777777777778,
              "#fb9f3a"
             ],
             [
              0.8888888888888888,
              "#fdca26"
             ],
             [
              1,
              "#f0f921"
             ]
            ],
            "type": "heatmapgl"
           }
          ],
          "histogram": [
           {
            "marker": {
             "colorbar": {
              "outlinewidth": 0,
              "ticks": ""
             }
            },
            "type": "histogram"
           }
          ],
          "histogram2d": [
           {
            "colorbar": {
             "outlinewidth": 0,
             "ticks": ""
            },
            "colorscale": [
             [
              0,
              "#0d0887"
             ],
             [
              0.1111111111111111,
              "#46039f"
             ],
             [
              0.2222222222222222,
              "#7201a8"
             ],
             [
              0.3333333333333333,
              "#9c179e"
             ],
             [
              0.4444444444444444,
              "#bd3786"
             ],
             [
              0.5555555555555556,
              "#d8576b"
             ],
             [
              0.6666666666666666,
              "#ed7953"
             ],
             [
              0.7777777777777778,
              "#fb9f3a"
             ],
             [
              0.8888888888888888,
              "#fdca26"
             ],
             [
              1,
              "#f0f921"
             ]
            ],
            "type": "histogram2d"
           }
          ],
          "histogram2dcontour": [
           {
            "colorbar": {
             "outlinewidth": 0,
             "ticks": ""
            },
            "colorscale": [
             [
              0,
              "#0d0887"
             ],
             [
              0.1111111111111111,
              "#46039f"
             ],
             [
              0.2222222222222222,
              "#7201a8"
             ],
             [
              0.3333333333333333,
              "#9c179e"
             ],
             [
              0.4444444444444444,
              "#bd3786"
             ],
             [
              0.5555555555555556,
              "#d8576b"
             ],
             [
              0.6666666666666666,
              "#ed7953"
             ],
             [
              0.7777777777777778,
              "#fb9f3a"
             ],
             [
              0.8888888888888888,
              "#fdca26"
             ],
             [
              1,
              "#f0f921"
             ]
            ],
            "type": "histogram2dcontour"
           }
          ],
          "mesh3d": [
           {
            "colorbar": {
             "outlinewidth": 0,
             "ticks": ""
            },
            "type": "mesh3d"
           }
          ],
          "parcoords": [
           {
            "line": {
             "colorbar": {
              "outlinewidth": 0,
              "ticks": ""
             }
            },
            "type": "parcoords"
           }
          ],
          "pie": [
           {
            "automargin": true,
            "type": "pie"
           }
          ],
          "scatter": [
           {
            "marker": {
             "colorbar": {
              "outlinewidth": 0,
              "ticks": ""
             }
            },
            "type": "scatter"
           }
          ],
          "scatter3d": [
           {
            "line": {
             "colorbar": {
              "outlinewidth": 0,
              "ticks": ""
             }
            },
            "marker": {
             "colorbar": {
              "outlinewidth": 0,
              "ticks": ""
             }
            },
            "type": "scatter3d"
           }
          ],
          "scattercarpet": [
           {
            "marker": {
             "colorbar": {
              "outlinewidth": 0,
              "ticks": ""
             }
            },
            "type": "scattercarpet"
           }
          ],
          "scattergeo": [
           {
            "marker": {
             "colorbar": {
              "outlinewidth": 0,
              "ticks": ""
             }
            },
            "type": "scattergeo"
           }
          ],
          "scattergl": [
           {
            "marker": {
             "colorbar": {
              "outlinewidth": 0,
              "ticks": ""
             }
            },
            "type": "scattergl"
           }
          ],
          "scattermapbox": [
           {
            "marker": {
             "colorbar": {
              "outlinewidth": 0,
              "ticks": ""
             }
            },
            "type": "scattermapbox"
           }
          ],
          "scatterpolar": [
           {
            "marker": {
             "colorbar": {
              "outlinewidth": 0,
              "ticks": ""
             }
            },
            "type": "scatterpolar"
           }
          ],
          "scatterpolargl": [
           {
            "marker": {
             "colorbar": {
              "outlinewidth": 0,
              "ticks": ""
             }
            },
            "type": "scatterpolargl"
           }
          ],
          "scatterternary": [
           {
            "marker": {
             "colorbar": {
              "outlinewidth": 0,
              "ticks": ""
             }
            },
            "type": "scatterternary"
           }
          ],
          "surface": [
           {
            "colorbar": {
             "outlinewidth": 0,
             "ticks": ""
            },
            "colorscale": [
             [
              0,
              "#0d0887"
             ],
             [
              0.1111111111111111,
              "#46039f"
             ],
             [
              0.2222222222222222,
              "#7201a8"
             ],
             [
              0.3333333333333333,
              "#9c179e"
             ],
             [
              0.4444444444444444,
              "#bd3786"
             ],
             [
              0.5555555555555556,
              "#d8576b"
             ],
             [
              0.6666666666666666,
              "#ed7953"
             ],
             [
              0.7777777777777778,
              "#fb9f3a"
             ],
             [
              0.8888888888888888,
              "#fdca26"
             ],
             [
              1,
              "#f0f921"
             ]
            ],
            "type": "surface"
           }
          ],
          "table": [
           {
            "cells": {
             "fill": {
              "color": "#EBF0F8"
             },
             "line": {
              "color": "white"
             }
            },
            "header": {
             "fill": {
              "color": "#C8D4E3"
             },
             "line": {
              "color": "white"
             }
            },
            "type": "table"
           }
          ]
         },
         "layout": {
          "annotationdefaults": {
           "arrowcolor": "#2a3f5f",
           "arrowhead": 0,
           "arrowwidth": 1
          },
          "coloraxis": {
           "colorbar": {
            "outlinewidth": 0,
            "ticks": ""
           }
          },
          "colorscale": {
           "diverging": [
            [
             0,
             "#8e0152"
            ],
            [
             0.1,
             "#c51b7d"
            ],
            [
             0.2,
             "#de77ae"
            ],
            [
             0.3,
             "#f1b6da"
            ],
            [
             0.4,
             "#fde0ef"
            ],
            [
             0.5,
             "#f7f7f7"
            ],
            [
             0.6,
             "#e6f5d0"
            ],
            [
             0.7,
             "#b8e186"
            ],
            [
             0.8,
             "#7fbc41"
            ],
            [
             0.9,
             "#4d9221"
            ],
            [
             1,
             "#276419"
            ]
           ],
           "sequential": [
            [
             0,
             "#0d0887"
            ],
            [
             0.1111111111111111,
             "#46039f"
            ],
            [
             0.2222222222222222,
             "#7201a8"
            ],
            [
             0.3333333333333333,
             "#9c179e"
            ],
            [
             0.4444444444444444,
             "#bd3786"
            ],
            [
             0.5555555555555556,
             "#d8576b"
            ],
            [
             0.6666666666666666,
             "#ed7953"
            ],
            [
             0.7777777777777778,
             "#fb9f3a"
            ],
            [
             0.8888888888888888,
             "#fdca26"
            ],
            [
             1,
             "#f0f921"
            ]
           ],
           "sequentialminus": [
            [
             0,
             "#0d0887"
            ],
            [
             0.1111111111111111,
             "#46039f"
            ],
            [
             0.2222222222222222,
             "#7201a8"
            ],
            [
             0.3333333333333333,
             "#9c179e"
            ],
            [
             0.4444444444444444,
             "#bd3786"
            ],
            [
             0.5555555555555556,
             "#d8576b"
            ],
            [
             0.6666666666666666,
             "#ed7953"
            ],
            [
             0.7777777777777778,
             "#fb9f3a"
            ],
            [
             0.8888888888888888,
             "#fdca26"
            ],
            [
             1,
             "#f0f921"
            ]
           ]
          },
          "colorway": [
           "#636efa",
           "#EF553B",
           "#00cc96",
           "#ab63fa",
           "#FFA15A",
           "#19d3f3",
           "#FF6692",
           "#B6E880",
           "#FF97FF",
           "#FECB52"
          ],
          "font": {
           "color": "#2a3f5f"
          },
          "geo": {
           "bgcolor": "white",
           "lakecolor": "white",
           "landcolor": "#E5ECF6",
           "showlakes": true,
           "showland": true,
           "subunitcolor": "white"
          },
          "hoverlabel": {
           "align": "left"
          },
          "hovermode": "closest",
          "mapbox": {
           "style": "light"
          },
          "paper_bgcolor": "white",
          "plot_bgcolor": "#E5ECF6",
          "polar": {
           "angularaxis": {
            "gridcolor": "white",
            "linecolor": "white",
            "ticks": ""
           },
           "bgcolor": "#E5ECF6",
           "radialaxis": {
            "gridcolor": "white",
            "linecolor": "white",
            "ticks": ""
           }
          },
          "scene": {
           "xaxis": {
            "backgroundcolor": "#E5ECF6",
            "gridcolor": "white",
            "gridwidth": 2,
            "linecolor": "white",
            "showbackground": true,
            "ticks": "",
            "zerolinecolor": "white"
           },
           "yaxis": {
            "backgroundcolor": "#E5ECF6",
            "gridcolor": "white",
            "gridwidth": 2,
            "linecolor": "white",
            "showbackground": true,
            "ticks": "",
            "zerolinecolor": "white"
           },
           "zaxis": {
            "backgroundcolor": "#E5ECF6",
            "gridcolor": "white",
            "gridwidth": 2,
            "linecolor": "white",
            "showbackground": true,
            "ticks": "",
            "zerolinecolor": "white"
           }
          },
          "shapedefaults": {
           "line": {
            "color": "#2a3f5f"
           }
          },
          "ternary": {
           "aaxis": {
            "gridcolor": "white",
            "linecolor": "white",
            "ticks": ""
           },
           "baxis": {
            "gridcolor": "white",
            "linecolor": "white",
            "ticks": ""
           },
           "bgcolor": "#E5ECF6",
           "caxis": {
            "gridcolor": "white",
            "linecolor": "white",
            "ticks": ""
           }
          },
          "title": {
           "x": 0.05
          },
          "xaxis": {
           "automargin": true,
           "gridcolor": "white",
           "linecolor": "white",
           "ticks": "",
           "title": {
            "standoff": 15
           },
           "zerolinecolor": "white",
           "zerolinewidth": 2
          },
          "yaxis": {
           "automargin": true,
           "gridcolor": "white",
           "linecolor": "white",
           "ticks": "",
           "title": {
            "standoff": 15
           },
           "zerolinecolor": "white",
           "zerolinewidth": 2
          }
         }
        },
        "title": {
         "text": "<b>Number of PCR done per Sub-county N= 971 Positive: 10  Negative : 961<b>"
        },
        "xaxis": {
         "anchor": "y",
         "domain": [
          0,
          0.94
         ],
         "title": {
          "text": "<b>SUB-COUNTIES<b>"
         }
        },
        "yaxis": {
         "anchor": "x",
         "domain": [
          0,
          1
         ],
         "title": {
          "text": "<b>PCR DONE</b> "
         }
        },
        "yaxis2": {
         "anchor": "x",
         "overlaying": "y",
         "side": "right",
         "title": {
          "text": "<b>mtct rate</b>"
         }
        }
       }
      },
      "text/html": [
       "<div>                            <div id=\"00197c4c-a06c-40de-b609-e05f80983ab8\" class=\"plotly-graph-div\" style=\"height:525px; width:100%;\"></div>            <script type=\"text/javascript\">                require([\"plotly\"], function(Plotly) {                    window.PLOTLYENV=window.PLOTLYENV || {};                                    if (document.getElementById(\"00197c4c-a06c-40de-b609-e05f80983ab8\")) {                    Plotly.newPlot(                        \"00197c4c-a06c-40de-b609-e05f80983ab8\",                        [{\"name\": \"Negative\", \"text\": [15.0, 23.0, 46.0, 47.0, 47.0, 49.0, 62.0, 70.0, 80.0, 95.0, 170.0, 257.0], \"textposition\": \"outside\", \"type\": \"bar\", \"x\": [\"Lari\", \"Kikuyu\", \"Juja\", \"Gatundu South \", \"Githunguri\", \"Gatundu North\", \"Limuru\", \"Kiambaa\", \"Kabete\", \"Kiambu town \", \"Ruiru\", \"Thika Town \"], \"xaxis\": \"x\", \"y\": [15, 23, 46, 47, 47, 49, 62, 70, 80, 95, 170, 257], \"yaxis\": \"y\"}, {\"name\": \"Positive\", \"text\": [0.0, 0.0, 0.0, 0.0, 2.0, 1.0, 0.0, 0.0, 0.0, 1.0, 2.0, 4.0], \"textposition\": \"outside\", \"type\": \"bar\", \"x\": [\"Lari\", \"Kikuyu\", \"Juja\", \"Gatundu South \", \"Githunguri\", \"Gatundu North\", \"Limuru\", \"Kiambaa\", \"Kabete\", \"Kiambu town \", \"Ruiru\", \"Thika Town \"], \"xaxis\": \"x\", \"y\": [0, 0, 0, 0, 2, 1, 0, 0, 0, 1, 2, 4], \"yaxis\": \"y\"}, {\"mode\": \"lines+markers+text\", \"name\": \"mtct rate %\", \"text\": [0.0, 0.0, 0.0, 0.0, 4.1, 2.0, 0.0, 0.0, 0.0, 1.0, 1.2, 1.5], \"textfont\": {\"color\": \"RED\", \"family\": \"sans serif\", \"size\": 18}, \"textposition\": \"top center\", \"type\": \"scatter\", \"x\": [\"Lari\", \"Kikuyu\", \"Juja\", \"Gatundu South \", \"Githunguri\", \"Gatundu North\", \"Limuru\", \"Kiambaa\", \"Kabete\", \"Kiambu town \", \"Ruiru\", \"Thika Town \"], \"xaxis\": \"x\", \"y\": [0.0, 0.0, 0.0, 0.0, 4.1, 2.0, 0.0, 0.0, 0.0, 1.0, 1.2, 1.5], \"yaxis\": \"y2\"}],                        {\"template\": {\"data\": {\"bar\": [{\"error_x\": {\"color\": \"#2a3f5f\"}, \"error_y\": {\"color\": \"#2a3f5f\"}, \"marker\": {\"line\": {\"color\": \"#E5ECF6\", \"width\": 0.5}}, \"type\": \"bar\"}], \"barpolar\": [{\"marker\": {\"line\": {\"color\": \"#E5ECF6\", \"width\": 0.5}}, \"type\": \"barpolar\"}], \"carpet\": [{\"aaxis\": {\"endlinecolor\": \"#2a3f5f\", \"gridcolor\": \"white\", \"linecolor\": \"white\", \"minorgridcolor\": \"white\", \"startlinecolor\": \"#2a3f5f\"}, \"baxis\": {\"endlinecolor\": \"#2a3f5f\", \"gridcolor\": \"white\", \"linecolor\": \"white\", \"minorgridcolor\": \"white\", \"startlinecolor\": \"#2a3f5f\"}, \"type\": \"carpet\"}], \"choropleth\": [{\"colorbar\": {\"outlinewidth\": 0, \"ticks\": \"\"}, \"type\": \"choropleth\"}], \"contour\": [{\"colorbar\": {\"outlinewidth\": 0, \"ticks\": \"\"}, \"colorscale\": [[0.0, \"#0d0887\"], [0.1111111111111111, \"#46039f\"], [0.2222222222222222, \"#7201a8\"], [0.3333333333333333, \"#9c179e\"], [0.4444444444444444, \"#bd3786\"], [0.5555555555555556, \"#d8576b\"], [0.6666666666666666, \"#ed7953\"], [0.7777777777777778, \"#fb9f3a\"], [0.8888888888888888, \"#fdca26\"], [1.0, \"#f0f921\"]], \"type\": \"contour\"}], \"contourcarpet\": [{\"colorbar\": {\"outlinewidth\": 0, \"ticks\": \"\"}, \"type\": \"contourcarpet\"}], \"heatmap\": [{\"colorbar\": {\"outlinewidth\": 0, \"ticks\": \"\"}, \"colorscale\": [[0.0, \"#0d0887\"], [0.1111111111111111, \"#46039f\"], [0.2222222222222222, \"#7201a8\"], [0.3333333333333333, \"#9c179e\"], [0.4444444444444444, \"#bd3786\"], [0.5555555555555556, \"#d8576b\"], [0.6666666666666666, \"#ed7953\"], [0.7777777777777778, \"#fb9f3a\"], [0.8888888888888888, \"#fdca26\"], [1.0, \"#f0f921\"]], \"type\": \"heatmap\"}], \"heatmapgl\": [{\"colorbar\": {\"outlinewidth\": 0, \"ticks\": \"\"}, \"colorscale\": [[0.0, \"#0d0887\"], [0.1111111111111111, \"#46039f\"], [0.2222222222222222, \"#7201a8\"], [0.3333333333333333, \"#9c179e\"], [0.4444444444444444, \"#bd3786\"], [0.5555555555555556, \"#d8576b\"], [0.6666666666666666, \"#ed7953\"], [0.7777777777777778, \"#fb9f3a\"], [0.8888888888888888, \"#fdca26\"], [1.0, \"#f0f921\"]], \"type\": \"heatmapgl\"}], \"histogram\": [{\"marker\": {\"colorbar\": {\"outlinewidth\": 0, \"ticks\": \"\"}}, \"type\": \"histogram\"}], \"histogram2d\": [{\"colorbar\": {\"outlinewidth\": 0, \"ticks\": \"\"}, \"colorscale\": [[0.0, \"#0d0887\"], [0.1111111111111111, \"#46039f\"], [0.2222222222222222, \"#7201a8\"], [0.3333333333333333, \"#9c179e\"], [0.4444444444444444, \"#bd3786\"], [0.5555555555555556, \"#d8576b\"], [0.6666666666666666, \"#ed7953\"], [0.7777777777777778, \"#fb9f3a\"], [0.8888888888888888, \"#fdca26\"], [1.0, \"#f0f921\"]], \"type\": \"histogram2d\"}], \"histogram2dcontour\": [{\"colorbar\": {\"outlinewidth\": 0, \"ticks\": \"\"}, \"colorscale\": [[0.0, \"#0d0887\"], [0.1111111111111111, \"#46039f\"], [0.2222222222222222, \"#7201a8\"], [0.3333333333333333, \"#9c179e\"], [0.4444444444444444, \"#bd3786\"], [0.5555555555555556, \"#d8576b\"], [0.6666666666666666, \"#ed7953\"], [0.7777777777777778, \"#fb9f3a\"], [0.8888888888888888, \"#fdca26\"], [1.0, \"#f0f921\"]], \"type\": \"histogram2dcontour\"}], \"mesh3d\": [{\"colorbar\": {\"outlinewidth\": 0, \"ticks\": \"\"}, \"type\": \"mesh3d\"}], \"parcoords\": [{\"line\": {\"colorbar\": {\"outlinewidth\": 0, \"ticks\": \"\"}}, \"type\": \"parcoords\"}], \"pie\": [{\"automargin\": true, \"type\": \"pie\"}], \"scatter\": [{\"marker\": {\"colorbar\": {\"outlinewidth\": 0, \"ticks\": \"\"}}, \"type\": \"scatter\"}], \"scatter3d\": [{\"line\": {\"colorbar\": {\"outlinewidth\": 0, \"ticks\": \"\"}}, \"marker\": {\"colorbar\": {\"outlinewidth\": 0, \"ticks\": \"\"}}, \"type\": \"scatter3d\"}], \"scattercarpet\": [{\"marker\": {\"colorbar\": {\"outlinewidth\": 0, \"ticks\": \"\"}}, \"type\": \"scattercarpet\"}], \"scattergeo\": [{\"marker\": {\"colorbar\": {\"outlinewidth\": 0, \"ticks\": \"\"}}, \"type\": \"scattergeo\"}], \"scattergl\": [{\"marker\": {\"colorbar\": {\"outlinewidth\": 0, \"ticks\": \"\"}}, \"type\": \"scattergl\"}], \"scattermapbox\": [{\"marker\": {\"colorbar\": {\"outlinewidth\": 0, \"ticks\": \"\"}}, \"type\": \"scattermapbox\"}], \"scatterpolar\": [{\"marker\": {\"colorbar\": {\"outlinewidth\": 0, \"ticks\": \"\"}}, \"type\": \"scatterpolar\"}], \"scatterpolargl\": [{\"marker\": {\"colorbar\": {\"outlinewidth\": 0, \"ticks\": \"\"}}, \"type\": \"scatterpolargl\"}], \"scatterternary\": [{\"marker\": {\"colorbar\": {\"outlinewidth\": 0, \"ticks\": \"\"}}, \"type\": \"scatterternary\"}], \"surface\": [{\"colorbar\": {\"outlinewidth\": 0, \"ticks\": \"\"}, \"colorscale\": [[0.0, \"#0d0887\"], [0.1111111111111111, \"#46039f\"], [0.2222222222222222, \"#7201a8\"], [0.3333333333333333, \"#9c179e\"], [0.4444444444444444, \"#bd3786\"], [0.5555555555555556, \"#d8576b\"], [0.6666666666666666, \"#ed7953\"], [0.7777777777777778, \"#fb9f3a\"], [0.8888888888888888, \"#fdca26\"], [1.0, \"#f0f921\"]], \"type\": \"surface\"}], \"table\": [{\"cells\": {\"fill\": {\"color\": \"#EBF0F8\"}, \"line\": {\"color\": \"white\"}}, \"header\": {\"fill\": {\"color\": \"#C8D4E3\"}, \"line\": {\"color\": \"white\"}}, \"type\": \"table\"}]}, \"layout\": {\"annotationdefaults\": {\"arrowcolor\": \"#2a3f5f\", \"arrowhead\": 0, \"arrowwidth\": 1}, \"coloraxis\": {\"colorbar\": {\"outlinewidth\": 0, \"ticks\": \"\"}}, \"colorscale\": {\"diverging\": [[0, \"#8e0152\"], [0.1, \"#c51b7d\"], [0.2, \"#de77ae\"], [0.3, \"#f1b6da\"], [0.4, \"#fde0ef\"], [0.5, \"#f7f7f7\"], [0.6, \"#e6f5d0\"], [0.7, \"#b8e186\"], [0.8, \"#7fbc41\"], [0.9, \"#4d9221\"], [1, \"#276419\"]], \"sequential\": [[0.0, \"#0d0887\"], [0.1111111111111111, \"#46039f\"], [0.2222222222222222, \"#7201a8\"], [0.3333333333333333, \"#9c179e\"], [0.4444444444444444, \"#bd3786\"], [0.5555555555555556, \"#d8576b\"], [0.6666666666666666, \"#ed7953\"], [0.7777777777777778, \"#fb9f3a\"], [0.8888888888888888, \"#fdca26\"], [1.0, \"#f0f921\"]], \"sequentialminus\": [[0.0, \"#0d0887\"], [0.1111111111111111, \"#46039f\"], [0.2222222222222222, \"#7201a8\"], [0.3333333333333333, \"#9c179e\"], [0.4444444444444444, \"#bd3786\"], [0.5555555555555556, \"#d8576b\"], [0.6666666666666666, \"#ed7953\"], [0.7777777777777778, \"#fb9f3a\"], [0.8888888888888888, \"#fdca26\"], [1.0, \"#f0f921\"]]}, \"colorway\": [\"#636efa\", \"#EF553B\", \"#00cc96\", \"#ab63fa\", \"#FFA15A\", \"#19d3f3\", \"#FF6692\", \"#B6E880\", \"#FF97FF\", \"#FECB52\"], \"font\": {\"color\": \"#2a3f5f\"}, \"geo\": {\"bgcolor\": \"white\", \"lakecolor\": \"white\", \"landcolor\": \"#E5ECF6\", \"showlakes\": true, \"showland\": true, \"subunitcolor\": \"white\"}, \"hoverlabel\": {\"align\": \"left\"}, \"hovermode\": \"closest\", \"mapbox\": {\"style\": \"light\"}, \"paper_bgcolor\": \"white\", \"plot_bgcolor\": \"#E5ECF6\", \"polar\": {\"angularaxis\": {\"gridcolor\": \"white\", \"linecolor\": \"white\", \"ticks\": \"\"}, \"bgcolor\": \"#E5ECF6\", \"radialaxis\": {\"gridcolor\": \"white\", \"linecolor\": \"white\", \"ticks\": \"\"}}, \"scene\": {\"xaxis\": {\"backgroundcolor\": \"#E5ECF6\", \"gridcolor\": \"white\", \"gridwidth\": 2, \"linecolor\": \"white\", \"showbackground\": true, \"ticks\": \"\", \"zerolinecolor\": \"white\"}, \"yaxis\": {\"backgroundcolor\": \"#E5ECF6\", \"gridcolor\": \"white\", \"gridwidth\": 2, \"linecolor\": \"white\", \"showbackground\": true, \"ticks\": \"\", \"zerolinecolor\": \"white\"}, \"zaxis\": {\"backgroundcolor\": \"#E5ECF6\", \"gridcolor\": \"white\", \"gridwidth\": 2, \"linecolor\": \"white\", \"showbackground\": true, \"ticks\": \"\", \"zerolinecolor\": \"white\"}}, \"shapedefaults\": {\"line\": {\"color\": \"#2a3f5f\"}}, \"ternary\": {\"aaxis\": {\"gridcolor\": \"white\", \"linecolor\": \"white\", \"ticks\": \"\"}, \"baxis\": {\"gridcolor\": \"white\", \"linecolor\": \"white\", \"ticks\": \"\"}, \"bgcolor\": \"#E5ECF6\", \"caxis\": {\"gridcolor\": \"white\", \"linecolor\": \"white\", \"ticks\": \"\"}}, \"title\": {\"x\": 0.05}, \"xaxis\": {\"automargin\": true, \"gridcolor\": \"white\", \"linecolor\": \"white\", \"ticks\": \"\", \"title\": {\"standoff\": 15}, \"zerolinecolor\": \"white\", \"zerolinewidth\": 2}, \"yaxis\": {\"automargin\": true, \"gridcolor\": \"white\", \"linecolor\": \"white\", \"ticks\": \"\", \"title\": {\"standoff\": 15}, \"zerolinecolor\": \"white\", \"zerolinewidth\": 2}}}, \"title\": {\"text\": \"<b>Number of PCR done per Sub-county N= 971 Positive: 10  Negative : 961<b>\"}, \"xaxis\": {\"anchor\": \"y\", \"domain\": [0.0, 0.94], \"title\": {\"text\": \"<b>SUB-COUNTIES<b>\"}}, \"yaxis\": {\"anchor\": \"x\", \"domain\": [0.0, 1.0], \"title\": {\"text\": \"<b>PCR DONE</b> \"}}, \"yaxis2\": {\"anchor\": \"x\", \"overlaying\": \"y\", \"side\": \"right\", \"title\": {\"text\": \"<b>mtct rate</b>\"}}},                        {\"responsive\": true}                    ).then(function(){\n",
       "                            \n",
       "var gd = document.getElementById('00197c4c-a06c-40de-b609-e05f80983ab8');\n",
       "var x = new MutationObserver(function (mutations, observer) {{\n",
       "        var display = window.getComputedStyle(gd).display;\n",
       "        if (!display || display === 'none') {{\n",
       "            console.log([gd, 'removed!']);\n",
       "            Plotly.purge(gd);\n",
       "            observer.disconnect();\n",
       "        }}\n",
       "}});\n",
       "\n",
       "// Listen for the removal of the full notebook cells\n",
       "var notebookContainer = gd.closest('#notebook-container');\n",
       "if (notebookContainer) {{\n",
       "    x.observe(notebookContainer, {childList: true});\n",
       "}}\n",
       "\n",
       "// Listen for the clearing of the current output cell\n",
       "var outputEl = gd.closest('.output');\n",
       "if (outputEl) {{\n",
       "    x.observe(outputEl, {childList: true});\n",
       "}}\n",
       "\n",
       "                        })                };                });            </script>        </div>"
      ]
     },
     "metadata": {},
     "output_type": "display_data"
    }
   ],
   "source": [
    "\n",
    "# positives=positives.sort_values('TX_CURR')\n",
    "positives\n",
    "# fig=px.bar(positives,x='Sub-Counties',y=['tx curr target','Negative ','Positive'],title=F\"TX CURR BY SUB-COUNTIES N={total_curr}\"\n",
    "#            f\"    Positive: {Positive}  Negative : {Negative }\",hover_data=['tx curr target','TX_CURR','Sub-Counties','achievement %'],\n",
    "#            labels={'tx curr target':'TX_CURR TARGET','TX_CURR':'Current TX_CURR'},barmode='group')\n",
    "\n",
    "# texts=[positives['Negative '],positives['Positive']]\n",
    "# for i, t in enumerate(texts):\n",
    "#     fig.data[i].text = t\n",
    "#     fig.data[i].textposition = 'outside'\n",
    "# Create figure with secondary y-axis\n",
    "fig = make_subplots(specs=[[{\"secondary_y\": True}]])\n",
    "\n",
    "# Add traces\n",
    "fig.add_trace(\n",
    "    go.Bar(x=positives['Sub-Counties'],\n",
    "           y=positives['Negative'], name=\"Negative\", text=positives['Negative'], textposition='outside'),\n",
    "    secondary_y=False,\n",
    ")\n",
    "fig.add_trace(\n",
    "go.Bar(x=positives['Sub-Counties'],\n",
    "       y=positives['Positive'], name=\"Positive\", text=positives['Positive'], textposition='outside'),\n",
    "secondary_y=False,\n",
    ")\n",
    "\n",
    "fig.add_trace(\n",
    "    go.Scatter(x=positives['Sub-Counties'],\n",
    "               y=positives['mtct rate'], name=\"mtct rate %\", text=positives['mtct rate'], textposition='top center', mode=\"lines+markers+text\",\n",
    "              textfont_size=18,textfont=dict(\n",
    "                                                family=\"sans serif\",\n",
    "                                                size=22,\n",
    "                                                color=\"RED\")),\n",
    "    secondary_y=True,\n",
    ")\n",
    "\n",
    "\n",
    "# Add figure title\n",
    "fig.update_layout(\n",
    "    title_text=f\"<b>Number of PCR done per Sub-county N= {pcr_done} Positive: {positive_sample}  Negative : {negative_sample }<b>\"\n",
    ")\n",
    "\n",
    "# Set x-axis title\n",
    "fig.update_xaxes(title_text=\"<b>SUB-COUNTIES<b>\")\n",
    "\n",
    "# Set y-axes titles\n",
    "fig.update_yaxes(title_text=\"<b>PCR DONE</b> \", secondary_y=False)\n",
    "fig.update_yaxes(title_text=\"<b>mtct rate</b>\", secondary_y=True)\n",
    "\n",
    "fig.show()"
   ]
  },
  {
   "cell_type": "code",
   "execution_count": 13,
   "metadata": {
    "ExecuteTime": {
     "end_time": "2021-09-29T10:37:41.892664Z",
     "start_time": "2021-09-29T10:37:41.755749Z"
    },
    "scrolled": false
   },
   "outputs": [
    {
     "data": {
      "text/html": [
       "<div>\n",
       "<style scoped>\n",
       "    .dataframe tbody tr th:only-of-type {\n",
       "        vertical-align: middle;\n",
       "    }\n",
       "\n",
       "    .dataframe tbody tr th {\n",
       "        vertical-align: top;\n",
       "    }\n",
       "\n",
       "    .dataframe thead th {\n",
       "        text-align: right;\n",
       "    }\n",
       "</style>\n",
       "<table border=\"1\" class=\"dataframe\">\n",
       "  <thead>\n",
       "    <tr style=\"text-align: right;\">\n",
       "      <th></th>\n",
       "      <th>County</th>\n",
       "      <th>Facility</th>\n",
       "      <th>Months Initial PCR done</th>\n",
       "      <th>Negative</th>\n",
       "      <th>Positive</th>\n",
       "      <th>Total PCRs done</th>\n",
       "    </tr>\n",
       "  </thead>\n",
       "  <tbody>\n",
       "    <tr>\n",
       "      <th>0</th>\n",
       "      <td>Kiambu</td>\n",
       "      <td>Aid Intergrated Programme Mangu Dispensary</td>\n",
       "      <td>2-12</td>\n",
       "      <td>4</td>\n",
       "      <td>0</td>\n",
       "      <td>4</td>\n",
       "    </tr>\n",
       "    <tr>\n",
       "      <th>1</th>\n",
       "      <td>Kiambu</td>\n",
       "      <td>Aid Intergrated Programme Mangu Dispensary</td>\n",
       "      <td>&lt; 2</td>\n",
       "      <td>3</td>\n",
       "      <td>0</td>\n",
       "      <td>3</td>\n",
       "    </tr>\n",
       "    <tr>\n",
       "      <th>2</th>\n",
       "      <td>Kiambu</td>\n",
       "      <td>Anmer Dispensary</td>\n",
       "      <td>2-12</td>\n",
       "      <td>2</td>\n",
       "      <td>0</td>\n",
       "      <td>2</td>\n",
       "    </tr>\n",
       "    <tr>\n",
       "      <th>3</th>\n",
       "      <td>Kiambu</td>\n",
       "      <td>Beta Care Nursing Home</td>\n",
       "      <td>2-12</td>\n",
       "      <td>4</td>\n",
       "      <td>0</td>\n",
       "      <td>4</td>\n",
       "    </tr>\n",
       "    <tr>\n",
       "      <th>4</th>\n",
       "      <td>Kiambu</td>\n",
       "      <td>Beta Care Nursing Home</td>\n",
       "      <td>&lt; 2</td>\n",
       "      <td>1</td>\n",
       "      <td>0</td>\n",
       "      <td>1</td>\n",
       "    </tr>\n",
       "    <tr>\n",
       "      <th>5</th>\n",
       "      <td>Kiambu</td>\n",
       "      <td>Cianda Dispensary</td>\n",
       "      <td>2-12</td>\n",
       "      <td>1</td>\n",
       "      <td>0</td>\n",
       "      <td>1</td>\n",
       "    </tr>\n",
       "    <tr>\n",
       "      <th>6</th>\n",
       "      <td>Kiambu</td>\n",
       "      <td>Cianda Dispensary</td>\n",
       "      <td>&lt; 2</td>\n",
       "      <td>2</td>\n",
       "      <td>0</td>\n",
       "      <td>2</td>\n",
       "    </tr>\n",
       "    <tr>\n",
       "      <th>7</th>\n",
       "      <td>Kiambu</td>\n",
       "      <td>Gachege Dispensary</td>\n",
       "      <td>&lt; 2</td>\n",
       "      <td>2</td>\n",
       "      <td>0</td>\n",
       "      <td>2</td>\n",
       "    </tr>\n",
       "    <tr>\n",
       "      <th>8</th>\n",
       "      <td>Kiambu</td>\n",
       "      <td>Gachororo Health Centre</td>\n",
       "      <td>2-12</td>\n",
       "      <td>9</td>\n",
       "      <td>0</td>\n",
       "      <td>9</td>\n",
       "    </tr>\n",
       "    <tr>\n",
       "      <th>9</th>\n",
       "      <td>Kiambu</td>\n",
       "      <td>Gachororo Health Centre</td>\n",
       "      <td>&lt; 2</td>\n",
       "      <td>3</td>\n",
       "      <td>0</td>\n",
       "      <td>3</td>\n",
       "    </tr>\n",
       "    <tr>\n",
       "      <th>10</th>\n",
       "      <td>Kiambu</td>\n",
       "      <td>Gakoe Dispensary</td>\n",
       "      <td>2-12</td>\n",
       "      <td>5</td>\n",
       "      <td>0</td>\n",
       "      <td>5</td>\n",
       "    </tr>\n",
       "    <tr>\n",
       "      <th>11</th>\n",
       "      <td>Kiambu</td>\n",
       "      <td>Gakoe Dispensary</td>\n",
       "      <td>&lt; 2</td>\n",
       "      <td>1</td>\n",
       "      <td>0</td>\n",
       "      <td>1</td>\n",
       "    </tr>\n",
       "    <tr>\n",
       "      <th>12</th>\n",
       "      <td>Kiambu</td>\n",
       "      <td>Gathanga Dispensary</td>\n",
       "      <td>2-12</td>\n",
       "      <td>7</td>\n",
       "      <td>0</td>\n",
       "      <td>7</td>\n",
       "    </tr>\n",
       "    <tr>\n",
       "      <th>13</th>\n",
       "      <td>Kiambu</td>\n",
       "      <td>Gathanga Dispensary</td>\n",
       "      <td>&lt; 2</td>\n",
       "      <td>2</td>\n",
       "      <td>0</td>\n",
       "      <td>2</td>\n",
       "    </tr>\n",
       "    <tr>\n",
       "      <th>14</th>\n",
       "      <td>Kiambu</td>\n",
       "      <td>Gatundu District Hospital</td>\n",
       "      <td>2-12</td>\n",
       "      <td>24</td>\n",
       "      <td>0</td>\n",
       "      <td>24</td>\n",
       "    </tr>\n",
       "    <tr>\n",
       "      <th>15</th>\n",
       "      <td>Kiambu</td>\n",
       "      <td>Gatundu District Hospital</td>\n",
       "      <td>&lt; 2</td>\n",
       "      <td>4</td>\n",
       "      <td>0</td>\n",
       "      <td>4</td>\n",
       "    </tr>\n",
       "    <tr>\n",
       "      <th>16</th>\n",
       "      <td>Kiambu</td>\n",
       "      <td>Gichuru Dispensary</td>\n",
       "      <td>2-12</td>\n",
       "      <td>8</td>\n",
       "      <td>0</td>\n",
       "      <td>8</td>\n",
       "    </tr>\n",
       "    <tr>\n",
       "      <th>17</th>\n",
       "      <td>Kiambu</td>\n",
       "      <td>Gichuru Dispensary</td>\n",
       "      <td>&lt; 2</td>\n",
       "      <td>2</td>\n",
       "      <td>0</td>\n",
       "      <td>2</td>\n",
       "    </tr>\n",
       "    <tr>\n",
       "      <th>18</th>\n",
       "      <td>Kiambu</td>\n",
       "      <td>Gitare Dispensary (Gatundu)</td>\n",
       "      <td>2-12</td>\n",
       "      <td>1</td>\n",
       "      <td>0</td>\n",
       "      <td>1</td>\n",
       "    </tr>\n",
       "    <tr>\n",
       "      <th>19</th>\n",
       "      <td>Kiambu</td>\n",
       "      <td>Gitare Dispensary (Gatundu)</td>\n",
       "      <td>&lt; 2</td>\n",
       "      <td>4</td>\n",
       "      <td>0</td>\n",
       "      <td>4</td>\n",
       "    </tr>\n",
       "    <tr>\n",
       "      <th>20</th>\n",
       "      <td>Kiambu</td>\n",
       "      <td>Githiga Health Centre</td>\n",
       "      <td>2-12</td>\n",
       "      <td>7</td>\n",
       "      <td>0</td>\n",
       "      <td>7</td>\n",
       "    </tr>\n",
       "    <tr>\n",
       "      <th>21</th>\n",
       "      <td>Kiambu</td>\n",
       "      <td>Githiga Health Centre</td>\n",
       "      <td>&lt; 2</td>\n",
       "      <td>4</td>\n",
       "      <td>0</td>\n",
       "      <td>4</td>\n",
       "    </tr>\n",
       "    <tr>\n",
       "      <th>22</th>\n",
       "      <td>Kiambu</td>\n",
       "      <td>Githunguri  Dispensary</td>\n",
       "      <td>2-12</td>\n",
       "      <td>9</td>\n",
       "      <td>0</td>\n",
       "      <td>9</td>\n",
       "    </tr>\n",
       "    <tr>\n",
       "      <th>23</th>\n",
       "      <td>Kiambu</td>\n",
       "      <td>Githunguri  Dispensary</td>\n",
       "      <td>&lt; 2</td>\n",
       "      <td>4</td>\n",
       "      <td>0</td>\n",
       "      <td>4</td>\n",
       "    </tr>\n",
       "    <tr>\n",
       "      <th>24</th>\n",
       "      <td>Kiambu</td>\n",
       "      <td>Githunguri Health Centre</td>\n",
       "      <td>2-12</td>\n",
       "      <td>7</td>\n",
       "      <td>0</td>\n",
       "      <td>7</td>\n",
       "    </tr>\n",
       "    <tr>\n",
       "      <th>25</th>\n",
       "      <td>Kiambu</td>\n",
       "      <td>Githunguri Health Centre</td>\n",
       "      <td>&lt; 2</td>\n",
       "      <td>4</td>\n",
       "      <td>0</td>\n",
       "      <td>4</td>\n",
       "    </tr>\n",
       "    <tr>\n",
       "      <th>26</th>\n",
       "      <td>Kiambu</td>\n",
       "      <td>Hamundia Dispensary</td>\n",
       "      <td>2-12</td>\n",
       "      <td>6</td>\n",
       "      <td>0</td>\n",
       "      <td>6</td>\n",
       "    </tr>\n",
       "    <tr>\n",
       "      <th>27</th>\n",
       "      <td>Kiambu</td>\n",
       "      <td>Hamundia Dispensary</td>\n",
       "      <td>&lt; 2</td>\n",
       "      <td>1</td>\n",
       "      <td>0</td>\n",
       "      <td>1</td>\n",
       "    </tr>\n",
       "    <tr>\n",
       "      <th>28</th>\n",
       "      <td>Kiambu</td>\n",
       "      <td>Igegania Health Centre</td>\n",
       "      <td>2-12</td>\n",
       "      <td>27</td>\n",
       "      <td>1</td>\n",
       "      <td>28</td>\n",
       "    </tr>\n",
       "    <tr>\n",
       "      <th>29</th>\n",
       "      <td>Kiambu</td>\n",
       "      <td>Igegania Health Centre</td>\n",
       "      <td>&lt; 2</td>\n",
       "      <td>4</td>\n",
       "      <td>0</td>\n",
       "      <td>4</td>\n",
       "    </tr>\n",
       "    <tr>\n",
       "      <th>30</th>\n",
       "      <td>Kiambu</td>\n",
       "      <td>Immaculate Heart of Mary Hospital</td>\n",
       "      <td>2-12</td>\n",
       "      <td>2</td>\n",
       "      <td>0</td>\n",
       "      <td>2</td>\n",
       "    </tr>\n",
       "    <tr>\n",
       "      <th>31</th>\n",
       "      <td>Kiambu</td>\n",
       "      <td>Immaculate Heart of Mary Hospital</td>\n",
       "      <td>&lt; 2</td>\n",
       "      <td>1</td>\n",
       "      <td>0</td>\n",
       "      <td>1</td>\n",
       "    </tr>\n",
       "    <tr>\n",
       "      <th>32</th>\n",
       "      <td>Kiambu</td>\n",
       "      <td>JKUAT Hospital</td>\n",
       "      <td>2-12</td>\n",
       "      <td>9</td>\n",
       "      <td>0</td>\n",
       "      <td>9</td>\n",
       "    </tr>\n",
       "    <tr>\n",
       "      <th>33</th>\n",
       "      <td>Kiambu</td>\n",
       "      <td>JKUAT Hospital</td>\n",
       "      <td>&lt; 2</td>\n",
       "      <td>1</td>\n",
       "      <td>0</td>\n",
       "      <td>1</td>\n",
       "    </tr>\n",
       "    <tr>\n",
       "      <th>34</th>\n",
       "      <td>Kiambu</td>\n",
       "      <td>Juja Farm Dispensary</td>\n",
       "      <td>2-12</td>\n",
       "      <td>7</td>\n",
       "      <td>0</td>\n",
       "      <td>7</td>\n",
       "    </tr>\n",
       "    <tr>\n",
       "      <th>35</th>\n",
       "      <td>Kiambu</td>\n",
       "      <td>Kagwe Dispensary</td>\n",
       "      <td>2-12</td>\n",
       "      <td>3</td>\n",
       "      <td>0</td>\n",
       "      <td>3</td>\n",
       "    </tr>\n",
       "    <tr>\n",
       "      <th>36</th>\n",
       "      <td>Kiambu</td>\n",
       "      <td>Kalimoni Hospital</td>\n",
       "      <td>2-12</td>\n",
       "      <td>6</td>\n",
       "      <td>0</td>\n",
       "      <td>6</td>\n",
       "    </tr>\n",
       "    <tr>\n",
       "      <th>37</th>\n",
       "      <td>Kiambu</td>\n",
       "      <td>Kalimoni Hospital</td>\n",
       "      <td>&lt; 2</td>\n",
       "      <td>4</td>\n",
       "      <td>0</td>\n",
       "      <td>4</td>\n",
       "    </tr>\n",
       "    <tr>\n",
       "      <th>38</th>\n",
       "      <td>Kiambu</td>\n",
       "      <td>Karatu Health Centre</td>\n",
       "      <td>2-12</td>\n",
       "      <td>5</td>\n",
       "      <td>0</td>\n",
       "      <td>5</td>\n",
       "    </tr>\n",
       "    <tr>\n",
       "      <th>39</th>\n",
       "      <td>Kiambu</td>\n",
       "      <td>Karatu Health Centre</td>\n",
       "      <td>&lt; 2</td>\n",
       "      <td>1</td>\n",
       "      <td>0</td>\n",
       "      <td>1</td>\n",
       "    </tr>\n",
       "    <tr>\n",
       "      <th>40</th>\n",
       "      <td>Kiambu</td>\n",
       "      <td>Karuri Health Centre</td>\n",
       "      <td>2-12</td>\n",
       "      <td>19</td>\n",
       "      <td>0</td>\n",
       "      <td>19</td>\n",
       "    </tr>\n",
       "    <tr>\n",
       "      <th>41</th>\n",
       "      <td>Kiambu</td>\n",
       "      <td>Karuri Health Centre</td>\n",
       "      <td>&lt; 2</td>\n",
       "      <td>10</td>\n",
       "      <td>0</td>\n",
       "      <td>10</td>\n",
       "    </tr>\n",
       "    <tr>\n",
       "      <th>42</th>\n",
       "      <td>Kiambu</td>\n",
       "      <td>Kiambu District Hospital</td>\n",
       "      <td>2-12</td>\n",
       "      <td>69</td>\n",
       "      <td>1</td>\n",
       "      <td>70</td>\n",
       "    </tr>\n",
       "    <tr>\n",
       "      <th>43</th>\n",
       "      <td>Kiambu</td>\n",
       "      <td>Kiambu District Hospital</td>\n",
       "      <td>&lt; 2</td>\n",
       "      <td>24</td>\n",
       "      <td>0</td>\n",
       "      <td>24</td>\n",
       "    </tr>\n",
       "    <tr>\n",
       "      <th>44</th>\n",
       "      <td>Kiambu</td>\n",
       "      <td>Kiandutu Health Centre</td>\n",
       "      <td>2-12</td>\n",
       "      <td>34</td>\n",
       "      <td>4</td>\n",
       "      <td>38</td>\n",
       "    </tr>\n",
       "    <tr>\n",
       "      <th>45</th>\n",
       "      <td>Kiambu</td>\n",
       "      <td>Kiandutu Health Centre</td>\n",
       "      <td>&lt; 2</td>\n",
       "      <td>22</td>\n",
       "      <td>0</td>\n",
       "      <td>22</td>\n",
       "    </tr>\n",
       "    <tr>\n",
       "      <th>46</th>\n",
       "      <td>Kiambu</td>\n",
       "      <td>Kigumo Health Centre (Kiambu East)</td>\n",
       "      <td>2-12</td>\n",
       "      <td>10</td>\n",
       "      <td>1</td>\n",
       "      <td>11</td>\n",
       "    </tr>\n",
       "    <tr>\n",
       "      <th>47</th>\n",
       "      <td>Kiambu</td>\n",
       "      <td>Kigumo Health Centre (Kiambu East)</td>\n",
       "      <td>&lt; 2</td>\n",
       "      <td>2</td>\n",
       "      <td>0</td>\n",
       "      <td>2</td>\n",
       "    </tr>\n",
       "    <tr>\n",
       "      <th>48</th>\n",
       "      <td>Kiambu</td>\n",
       "      <td>Kihara Sub-District Hospital</td>\n",
       "      <td>2-12</td>\n",
       "      <td>22</td>\n",
       "      <td>0</td>\n",
       "      <td>22</td>\n",
       "    </tr>\n",
       "    <tr>\n",
       "      <th>49</th>\n",
       "      <td>Kiambu</td>\n",
       "      <td>Kihara Sub-District Hospital</td>\n",
       "      <td>&lt; 2</td>\n",
       "      <td>7</td>\n",
       "      <td>0</td>\n",
       "      <td>7</td>\n",
       "    </tr>\n",
       "    <tr>\n",
       "      <th>50</th>\n",
       "      <td>Kiambu</td>\n",
       "      <td>Langata Health Center (Ruiru)</td>\n",
       "      <td>2-12</td>\n",
       "      <td>48</td>\n",
       "      <td>0</td>\n",
       "      <td>48</td>\n",
       "    </tr>\n",
       "    <tr>\n",
       "      <th>51</th>\n",
       "      <td>Kiambu</td>\n",
       "      <td>Langata Health Center (Ruiru)</td>\n",
       "      <td>&lt; 2</td>\n",
       "      <td>20</td>\n",
       "      <td>0</td>\n",
       "      <td>20</td>\n",
       "    </tr>\n",
       "    <tr>\n",
       "      <th>52</th>\n",
       "      <td>Kiambu</td>\n",
       "      <td>Lari Health Centre</td>\n",
       "      <td>2-12</td>\n",
       "      <td>10</td>\n",
       "      <td>0</td>\n",
       "      <td>10</td>\n",
       "    </tr>\n",
       "    <tr>\n",
       "      <th>53</th>\n",
       "      <td>Kiambu</td>\n",
       "      <td>Lari Health Centre</td>\n",
       "      <td>&lt; 2</td>\n",
       "      <td>2</td>\n",
       "      <td>0</td>\n",
       "      <td>2</td>\n",
       "    </tr>\n",
       "    <tr>\n",
       "      <th>54</th>\n",
       "      <td>Kiambu</td>\n",
       "      <td>Limuru Health Centre</td>\n",
       "      <td>2-12</td>\n",
       "      <td>13</td>\n",
       "      <td>0</td>\n",
       "      <td>13</td>\n",
       "    </tr>\n",
       "    <tr>\n",
       "      <th>55</th>\n",
       "      <td>Kiambu</td>\n",
       "      <td>Limuru Health Centre</td>\n",
       "      <td>&lt; 2</td>\n",
       "      <td>9</td>\n",
       "      <td>0</td>\n",
       "      <td>9</td>\n",
       "    </tr>\n",
       "    <tr>\n",
       "      <th>56</th>\n",
       "      <td>Kiambu</td>\n",
       "      <td>Lussigetti Health Centre</td>\n",
       "      <td>2-12</td>\n",
       "      <td>10</td>\n",
       "      <td>0</td>\n",
       "      <td>10</td>\n",
       "    </tr>\n",
       "    <tr>\n",
       "      <th>57</th>\n",
       "      <td>Kiambu</td>\n",
       "      <td>Lussigetti Health Centre</td>\n",
       "      <td>&lt; 2</td>\n",
       "      <td>3</td>\n",
       "      <td>0</td>\n",
       "      <td>3</td>\n",
       "    </tr>\n",
       "    <tr>\n",
       "      <th>58</th>\n",
       "      <td>Kiambu</td>\n",
       "      <td>MAKONGENI DISPENSARY</td>\n",
       "      <td>2-12</td>\n",
       "      <td>20</td>\n",
       "      <td>0</td>\n",
       "      <td>20</td>\n",
       "    </tr>\n",
       "    <tr>\n",
       "      <th>59</th>\n",
       "      <td>Kiambu</td>\n",
       "      <td>MAKONGENI DISPENSARY</td>\n",
       "      <td>&lt; 2</td>\n",
       "      <td>4</td>\n",
       "      <td>0</td>\n",
       "      <td>4</td>\n",
       "    </tr>\n",
       "    <tr>\n",
       "      <th>60</th>\n",
       "      <td>Kiambu</td>\n",
       "      <td>Mary Help of the Sick Hospital</td>\n",
       "      <td>2-12</td>\n",
       "      <td>14</td>\n",
       "      <td>0</td>\n",
       "      <td>14</td>\n",
       "    </tr>\n",
       "    <tr>\n",
       "      <th>61</th>\n",
       "      <td>Kiambu</td>\n",
       "      <td>Mary Help of the Sick Hospital</td>\n",
       "      <td>&lt; 2</td>\n",
       "      <td>11</td>\n",
       "      <td>0</td>\n",
       "      <td>11</td>\n",
       "    </tr>\n",
       "    <tr>\n",
       "      <th>62</th>\n",
       "      <td>Kiambu</td>\n",
       "      <td>Miguta Dispensary</td>\n",
       "      <td>2-12</td>\n",
       "      <td>1</td>\n",
       "      <td>0</td>\n",
       "      <td>1</td>\n",
       "    </tr>\n",
       "    <tr>\n",
       "      <th>63</th>\n",
       "      <td>Kiambu</td>\n",
       "      <td>Miguta Dispensary</td>\n",
       "      <td>&lt; 2</td>\n",
       "      <td>1</td>\n",
       "      <td>0</td>\n",
       "      <td>1</td>\n",
       "    </tr>\n",
       "    <tr>\n",
       "      <th>64</th>\n",
       "      <td>Kiambu</td>\n",
       "      <td>Munyu Health Centre</td>\n",
       "      <td>2-12</td>\n",
       "      <td>8</td>\n",
       "      <td>0</td>\n",
       "      <td>8</td>\n",
       "    </tr>\n",
       "    <tr>\n",
       "      <th>65</th>\n",
       "      <td>Kiambu</td>\n",
       "      <td>Ndeiya Health Centre</td>\n",
       "      <td>2-12</td>\n",
       "      <td>6</td>\n",
       "      <td>0</td>\n",
       "      <td>6</td>\n",
       "    </tr>\n",
       "    <tr>\n",
       "      <th>66</th>\n",
       "      <td>Kiambu</td>\n",
       "      <td>Ndeiya Health Centre</td>\n",
       "      <td>&lt; 2</td>\n",
       "      <td>7</td>\n",
       "      <td>0</td>\n",
       "      <td>7</td>\n",
       "    </tr>\n",
       "    <tr>\n",
       "      <th>67</th>\n",
       "      <td>Kiambu</td>\n",
       "      <td>Ngenda Health Centre</td>\n",
       "      <td>2-12</td>\n",
       "      <td>4</td>\n",
       "      <td>0</td>\n",
       "      <td>4</td>\n",
       "    </tr>\n",
       "    <tr>\n",
       "      <th>68</th>\n",
       "      <td>Kiambu</td>\n",
       "      <td>Ngenda Health Centre</td>\n",
       "      <td>&lt; 2</td>\n",
       "      <td>2</td>\n",
       "      <td>0</td>\n",
       "      <td>2</td>\n",
       "    </tr>\n",
       "    <tr>\n",
       "      <th>69</th>\n",
       "      <td>Kiambu</td>\n",
       "      <td>Ngewa Health Centre</td>\n",
       "      <td>2-12</td>\n",
       "      <td>4</td>\n",
       "      <td>1</td>\n",
       "      <td>5</td>\n",
       "    </tr>\n",
       "    <tr>\n",
       "      <th>70</th>\n",
       "      <td>Kiambu</td>\n",
       "      <td>Ngewa Health Centre</td>\n",
       "      <td>&lt; 2</td>\n",
       "      <td>2</td>\n",
       "      <td>0</td>\n",
       "      <td>2</td>\n",
       "    </tr>\n",
       "    <tr>\n",
       "      <th>71</th>\n",
       "      <td>Kiambu</td>\n",
       "      <td>Ngoliba Health Centre</td>\n",
       "      <td>2-12</td>\n",
       "      <td>21</td>\n",
       "      <td>0</td>\n",
       "      <td>21</td>\n",
       "    </tr>\n",
       "    <tr>\n",
       "      <th>72</th>\n",
       "      <td>Kiambu</td>\n",
       "      <td>Ngoliba Health Centre</td>\n",
       "      <td>&lt; 2</td>\n",
       "      <td>10</td>\n",
       "      <td>0</td>\n",
       "      <td>10</td>\n",
       "    </tr>\n",
       "    <tr>\n",
       "      <th>73</th>\n",
       "      <td>Kiambu</td>\n",
       "      <td>Ngorongo Health Centre</td>\n",
       "      <td>2-12</td>\n",
       "      <td>4</td>\n",
       "      <td>0</td>\n",
       "      <td>4</td>\n",
       "    </tr>\n",
       "    <tr>\n",
       "      <th>74</th>\n",
       "      <td>Kiambu</td>\n",
       "      <td>Ngorongo Health Centre</td>\n",
       "      <td>&lt; 2</td>\n",
       "      <td>1</td>\n",
       "      <td>0</td>\n",
       "      <td>1</td>\n",
       "    </tr>\n",
       "    <tr>\n",
       "      <th>75</th>\n",
       "      <td>Kiambu</td>\n",
       "      <td>Nyathuna Health Centre</td>\n",
       "      <td>2-12</td>\n",
       "      <td>7</td>\n",
       "      <td>0</td>\n",
       "      <td>7</td>\n",
       "    </tr>\n",
       "    <tr>\n",
       "      <th>76</th>\n",
       "      <td>Kiambu</td>\n",
       "      <td>Nyathuna Health Centre</td>\n",
       "      <td>&lt; 2</td>\n",
       "      <td>1</td>\n",
       "      <td>0</td>\n",
       "      <td>1</td>\n",
       "    </tr>\n",
       "    <tr>\n",
       "      <th>77</th>\n",
       "      <td>Kiambu</td>\n",
       "      <td>Ruiru Sub-District Hospital</td>\n",
       "      <td>2-12</td>\n",
       "      <td>59</td>\n",
       "      <td>0</td>\n",
       "      <td>59</td>\n",
       "    </tr>\n",
       "    <tr>\n",
       "      <th>78</th>\n",
       "      <td>Kiambu</td>\n",
       "      <td>Ruiru Sub-District Hospital</td>\n",
       "      <td>&lt; 2</td>\n",
       "      <td>30</td>\n",
       "      <td>2</td>\n",
       "      <td>32</td>\n",
       "    </tr>\n",
       "    <tr>\n",
       "      <th>79</th>\n",
       "      <td>Kiambu</td>\n",
       "      <td>ST MULUMBA MISSION HOSPITAL</td>\n",
       "      <td>2-12</td>\n",
       "      <td>25</td>\n",
       "      <td>0</td>\n",
       "      <td>25</td>\n",
       "    </tr>\n",
       "    <tr>\n",
       "      <th>80</th>\n",
       "      <td>Kiambu</td>\n",
       "      <td>ST MULUMBA MISSION HOSPITAL</td>\n",
       "      <td>&lt; 2</td>\n",
       "      <td>3</td>\n",
       "      <td>0</td>\n",
       "      <td>3</td>\n",
       "    </tr>\n",
       "    <tr>\n",
       "      <th>81</th>\n",
       "      <td>Kiambu</td>\n",
       "      <td>Thika District Hospital</td>\n",
       "      <td>2-12</td>\n",
       "      <td>55</td>\n",
       "      <td>0</td>\n",
       "      <td>55</td>\n",
       "    </tr>\n",
       "    <tr>\n",
       "      <th>82</th>\n",
       "      <td>Kiambu</td>\n",
       "      <td>Thika District Hospital</td>\n",
       "      <td>&lt; 2</td>\n",
       "      <td>27</td>\n",
       "      <td>0</td>\n",
       "      <td>27</td>\n",
       "    </tr>\n",
       "    <tr>\n",
       "      <th>83</th>\n",
       "      <td>Kiambu</td>\n",
       "      <td>Tigoni District Hospital</td>\n",
       "      <td>2-12</td>\n",
       "      <td>20</td>\n",
       "      <td>0</td>\n",
       "      <td>20</td>\n",
       "    </tr>\n",
       "    <tr>\n",
       "      <th>84</th>\n",
       "      <td>Kiambu</td>\n",
       "      <td>Tigoni District Hospital</td>\n",
       "      <td>&lt; 2</td>\n",
       "      <td>7</td>\n",
       "      <td>0</td>\n",
       "      <td>7</td>\n",
       "    </tr>\n",
       "    <tr>\n",
       "      <th>85</th>\n",
       "      <td>Kiambu</td>\n",
       "      <td>Uthiru Dispensary</td>\n",
       "      <td>2-12</td>\n",
       "      <td>10</td>\n",
       "      <td>0</td>\n",
       "      <td>10</td>\n",
       "    </tr>\n",
       "    <tr>\n",
       "      <th>86</th>\n",
       "      <td>Kiambu</td>\n",
       "      <td>Uthiru Dispensary</td>\n",
       "      <td>&lt; 2</td>\n",
       "      <td>3</td>\n",
       "      <td>0</td>\n",
       "      <td>3</td>\n",
       "    </tr>\n",
       "    <tr>\n",
       "      <th>87</th>\n",
       "      <td>Kiambu</td>\n",
       "      <td>Wangige Health Centre</td>\n",
       "      <td>2-12</td>\n",
       "      <td>42</td>\n",
       "      <td>0</td>\n",
       "      <td>42</td>\n",
       "    </tr>\n",
       "    <tr>\n",
       "      <th>88</th>\n",
       "      <td>Kiambu</td>\n",
       "      <td>Wangige Health Centre</td>\n",
       "      <td>&lt; 2</td>\n",
       "      <td>17</td>\n",
       "      <td>0</td>\n",
       "      <td>17</td>\n",
       "    </tr>\n",
       "  </tbody>\n",
       "</table>\n",
       "</div>"
      ],
      "text/plain": [
       "    County                                    Facility  \\\n",
       "0   Kiambu  Aid Intergrated Programme Mangu Dispensary   \n",
       "1   Kiambu  Aid Intergrated Programme Mangu Dispensary   \n",
       "2   Kiambu                            Anmer Dispensary   \n",
       "3   Kiambu                      Beta Care Nursing Home   \n",
       "4   Kiambu                      Beta Care Nursing Home   \n",
       "5   Kiambu                           Cianda Dispensary   \n",
       "6   Kiambu                           Cianda Dispensary   \n",
       "7   Kiambu                          Gachege Dispensary   \n",
       "8   Kiambu                     Gachororo Health Centre   \n",
       "9   Kiambu                     Gachororo Health Centre   \n",
       "10  Kiambu                            Gakoe Dispensary   \n",
       "11  Kiambu                            Gakoe Dispensary   \n",
       "12  Kiambu                         Gathanga Dispensary   \n",
       "13  Kiambu                         Gathanga Dispensary   \n",
       "14  Kiambu                   Gatundu District Hospital   \n",
       "15  Kiambu                   Gatundu District Hospital   \n",
       "16  Kiambu                          Gichuru Dispensary   \n",
       "17  Kiambu                          Gichuru Dispensary   \n",
       "18  Kiambu                 Gitare Dispensary (Gatundu)   \n",
       "19  Kiambu                 Gitare Dispensary (Gatundu)   \n",
       "20  Kiambu                       Githiga Health Centre   \n",
       "21  Kiambu                       Githiga Health Centre   \n",
       "22  Kiambu                      Githunguri  Dispensary   \n",
       "23  Kiambu                      Githunguri  Dispensary   \n",
       "24  Kiambu                    Githunguri Health Centre   \n",
       "25  Kiambu                    Githunguri Health Centre   \n",
       "26  Kiambu                         Hamundia Dispensary   \n",
       "27  Kiambu                         Hamundia Dispensary   \n",
       "28  Kiambu                      Igegania Health Centre   \n",
       "29  Kiambu                      Igegania Health Centre   \n",
       "30  Kiambu           Immaculate Heart of Mary Hospital   \n",
       "31  Kiambu           Immaculate Heart of Mary Hospital   \n",
       "32  Kiambu                              JKUAT Hospital   \n",
       "33  Kiambu                              JKUAT Hospital   \n",
       "34  Kiambu                        Juja Farm Dispensary   \n",
       "35  Kiambu                            Kagwe Dispensary   \n",
       "36  Kiambu                           Kalimoni Hospital   \n",
       "37  Kiambu                           Kalimoni Hospital   \n",
       "38  Kiambu                        Karatu Health Centre   \n",
       "39  Kiambu                        Karatu Health Centre   \n",
       "40  Kiambu                        Karuri Health Centre   \n",
       "41  Kiambu                        Karuri Health Centre   \n",
       "42  Kiambu                    Kiambu District Hospital   \n",
       "43  Kiambu                    Kiambu District Hospital   \n",
       "44  Kiambu                      Kiandutu Health Centre   \n",
       "45  Kiambu                      Kiandutu Health Centre   \n",
       "46  Kiambu          Kigumo Health Centre (Kiambu East)   \n",
       "47  Kiambu          Kigumo Health Centre (Kiambu East)   \n",
       "48  Kiambu                Kihara Sub-District Hospital   \n",
       "49  Kiambu                Kihara Sub-District Hospital   \n",
       "50  Kiambu               Langata Health Center (Ruiru)   \n",
       "51  Kiambu               Langata Health Center (Ruiru)   \n",
       "52  Kiambu                          Lari Health Centre   \n",
       "53  Kiambu                          Lari Health Centre   \n",
       "54  Kiambu                        Limuru Health Centre   \n",
       "55  Kiambu                        Limuru Health Centre   \n",
       "56  Kiambu                    Lussigetti Health Centre   \n",
       "57  Kiambu                    Lussigetti Health Centre   \n",
       "58  Kiambu                        MAKONGENI DISPENSARY   \n",
       "59  Kiambu                        MAKONGENI DISPENSARY   \n",
       "60  Kiambu              Mary Help of the Sick Hospital   \n",
       "61  Kiambu              Mary Help of the Sick Hospital   \n",
       "62  Kiambu                           Miguta Dispensary   \n",
       "63  Kiambu                           Miguta Dispensary   \n",
       "64  Kiambu                         Munyu Health Centre   \n",
       "65  Kiambu                        Ndeiya Health Centre   \n",
       "66  Kiambu                        Ndeiya Health Centre   \n",
       "67  Kiambu                        Ngenda Health Centre   \n",
       "68  Kiambu                        Ngenda Health Centre   \n",
       "69  Kiambu                         Ngewa Health Centre   \n",
       "70  Kiambu                         Ngewa Health Centre   \n",
       "71  Kiambu                       Ngoliba Health Centre   \n",
       "72  Kiambu                       Ngoliba Health Centre   \n",
       "73  Kiambu                      Ngorongo Health Centre   \n",
       "74  Kiambu                      Ngorongo Health Centre   \n",
       "75  Kiambu                      Nyathuna Health Centre   \n",
       "76  Kiambu                      Nyathuna Health Centre   \n",
       "77  Kiambu                 Ruiru Sub-District Hospital   \n",
       "78  Kiambu                 Ruiru Sub-District Hospital   \n",
       "79  Kiambu                 ST MULUMBA MISSION HOSPITAL   \n",
       "80  Kiambu                 ST MULUMBA MISSION HOSPITAL   \n",
       "81  Kiambu                     Thika District Hospital   \n",
       "82  Kiambu                     Thika District Hospital   \n",
       "83  Kiambu                    Tigoni District Hospital   \n",
       "84  Kiambu                    Tigoni District Hospital   \n",
       "85  Kiambu                           Uthiru Dispensary   \n",
       "86  Kiambu                           Uthiru Dispensary   \n",
       "87  Kiambu                       Wangige Health Centre   \n",
       "88  Kiambu                       Wangige Health Centre   \n",
       "\n",
       "   Months Initial PCR done  Negative  Positive  Total PCRs done  \n",
       "0                     2-12         4         0                4  \n",
       "1                      < 2         3         0                3  \n",
       "2                     2-12         2         0                2  \n",
       "3                     2-12         4         0                4  \n",
       "4                      < 2         1         0                1  \n",
       "5                     2-12         1         0                1  \n",
       "6                      < 2         2         0                2  \n",
       "7                      < 2         2         0                2  \n",
       "8                     2-12         9         0                9  \n",
       "9                      < 2         3         0                3  \n",
       "10                    2-12         5         0                5  \n",
       "11                     < 2         1         0                1  \n",
       "12                    2-12         7         0                7  \n",
       "13                     < 2         2         0                2  \n",
       "14                    2-12        24         0               24  \n",
       "15                     < 2         4         0                4  \n",
       "16                    2-12         8         0                8  \n",
       "17                     < 2         2         0                2  \n",
       "18                    2-12         1         0                1  \n",
       "19                     < 2         4         0                4  \n",
       "20                    2-12         7         0                7  \n",
       "21                     < 2         4         0                4  \n",
       "22                    2-12         9         0                9  \n",
       "23                     < 2         4         0                4  \n",
       "24                    2-12         7         0                7  \n",
       "25                     < 2         4         0                4  \n",
       "26                    2-12         6         0                6  \n",
       "27                     < 2         1         0                1  \n",
       "28                    2-12        27         1               28  \n",
       "29                     < 2         4         0                4  \n",
       "30                    2-12         2         0                2  \n",
       "31                     < 2         1         0                1  \n",
       "32                    2-12         9         0                9  \n",
       "33                     < 2         1         0                1  \n",
       "34                    2-12         7         0                7  \n",
       "35                    2-12         3         0                3  \n",
       "36                    2-12         6         0                6  \n",
       "37                     < 2         4         0                4  \n",
       "38                    2-12         5         0                5  \n",
       "39                     < 2         1         0                1  \n",
       "40                    2-12        19         0               19  \n",
       "41                     < 2        10         0               10  \n",
       "42                    2-12        69         1               70  \n",
       "43                     < 2        24         0               24  \n",
       "44                    2-12        34         4               38  \n",
       "45                     < 2        22         0               22  \n",
       "46                    2-12        10         1               11  \n",
       "47                     < 2         2         0                2  \n",
       "48                    2-12        22         0               22  \n",
       "49                     < 2         7         0                7  \n",
       "50                    2-12        48         0               48  \n",
       "51                     < 2        20         0               20  \n",
       "52                    2-12        10         0               10  \n",
       "53                     < 2         2         0                2  \n",
       "54                    2-12        13         0               13  \n",
       "55                     < 2         9         0                9  \n",
       "56                    2-12        10         0               10  \n",
       "57                     < 2         3         0                3  \n",
       "58                    2-12        20         0               20  \n",
       "59                     < 2         4         0                4  \n",
       "60                    2-12        14         0               14  \n",
       "61                     < 2        11         0               11  \n",
       "62                    2-12         1         0                1  \n",
       "63                     < 2         1         0                1  \n",
       "64                    2-12         8         0                8  \n",
       "65                    2-12         6         0                6  \n",
       "66                     < 2         7         0                7  \n",
       "67                    2-12         4         0                4  \n",
       "68                     < 2         2         0                2  \n",
       "69                    2-12         4         1                5  \n",
       "70                     < 2         2         0                2  \n",
       "71                    2-12        21         0               21  \n",
       "72                     < 2        10         0               10  \n",
       "73                    2-12         4         0                4  \n",
       "74                     < 2         1         0                1  \n",
       "75                    2-12         7         0                7  \n",
       "76                     < 2         1         0                1  \n",
       "77                    2-12        59         0               59  \n",
       "78                     < 2        30         2               32  \n",
       "79                    2-12        25         0               25  \n",
       "80                     < 2         3         0                3  \n",
       "81                    2-12        55         0               55  \n",
       "82                     < 2        27         0               27  \n",
       "83                    2-12        20         0               20  \n",
       "84                     < 2         7         0                7  \n",
       "85                    2-12        10         0               10  \n",
       "86                     < 2         3         0                3  \n",
       "87                    2-12        42         0               42  \n",
       "88                     < 2        17         0               17  "
      ]
     },
     "execution_count": 13,
     "metadata": {},
     "output_type": "execute_result"
    }
   ],
   "source": [
    "facilities=facilities.pivot_table(index=[\"County\",'Facilty', 'Age'], columns=\"Result\").reset_index()\n",
    "\n",
    "facilities=convert_pivot_to_dataframe(facilities)\n",
    "\n",
    "facilities.columns=[\"index\",\"County\",\"Facility\",\"Months Initial PCR done\",\"Negative\",\"Positive\"]\n",
    "del facilities['index']\n",
    "facilities=facilities.fillna(0)\n",
    "facilities[\"Total PCRs done\"]=facilities[\"Negative\"]+facilities[\"Positive\"]\n",
    "\n",
    "facilities[\"Total PCRs done\"]=facilities[\"Total PCRs done\"].astype(int)\n",
    "facilities[\"Positive\"]=facilities[\"Positive\"].astype(int)\n",
    "facilities[\"Negative\"]=facilities[\"Negative\"].astype(int)\n",
    "facilities"
   ]
  },
  {
   "cell_type": "code",
   "execution_count": 14,
   "metadata": {
    "ExecuteTime": {
     "end_time": "2021-09-29T10:37:41.972617Z",
     "start_time": "2021-09-29T10:37:41.896662Z"
    }
   },
   "outputs": [],
   "source": [
    "facilities_pos=facilities[facilities['Positive']!=0]\n",
    "\n",
    "facilities_pos=facilities_pos.copy()\n",
    "facilities_pos['facilities'] = facilities_pos['Facility'].str.split().str[0]\n",
    "del facilities_pos['Facility']\n",
    "\n",
    "sorted_columns=['County', 'facilities','Months Initial PCR done', 'Negative', 'Positive',\n",
    "       'Total PCRs done']\n",
    "\n",
    "facilities_pos = facilities_pos.reindex(sorted_columns, axis=1)\n",
    "facilities_pos=facilities_pos.groupby(['facilities','Months Initial PCR done']).sum()['Positive'].reset_index()\n",
    "facilities_pos=facilities_pos.sort_values(\"Positive\")\n",
    "facilities_pos=facilities_pos.pivot(index=\"facilities\",columns=\"Months Initial PCR done\")\n",
    "facilities_pos=convert_pivot_to_dataframe(facilities_pos)\n",
    "facilities_pos=facilities_pos.fillna(0)\n",
    "\n",
    "\n",
    "if ('< 2' and '2-12') in facilities_pos.columns:\n",
    "    facilities_pos['2-12']=facilities_pos['2-12'].astype(int)\n",
    "    facilities_pos['< 2']=facilities_pos['< 2'].astype(int)\n",
    "    less_2_months=facilities_pos[\"< 2\"].sum()\n",
    "    two_to_twelve_months=facilities_pos[\"2-12\"].sum()\n",
    "    facilities_pos['total']=facilities_pos['< 2']+facilities_pos['2-12']\n",
    "    total=facilities_pos['total'].sum()\n",
    "    \n",
    "elif '2-12' not in facilities_pos.columns:\n",
    "#     facilities_pos['2-12']=facilities_pos['2-12'].astype(int)\n",
    "    facilities_pos['< 2']=facilities_pos['< 2'].astype(int)\n",
    "    less_2_months=facilities_pos[\"< 2\"].sum()\n",
    "    two_to_twelve_months=0\n",
    "    facilities_pos['total']=facilities_pos['< 2']\n",
    "    total=facilities_pos['total'].sum()\n",
    "else:\n",
    "    facilities_pos['2-12']=facilities_pos['2-12'].astype(int)\n",
    "#     facilities_pos['< 2']=facilities_pos['< 2'].astype(int)\n",
    "    less_2_months=0\n",
    "    two_to_twelve_months=facilities_pos[\"2-12\"].sum()\n",
    "    facilities_pos['total']=facilities_pos['2-12']\n",
    "    total=facilities_pos['total'].sum()\n",
    "    \n",
    "\n",
    "facilities_pos=facilities_pos.sort_values(\"total\")"
   ]
  },
  {
   "cell_type": "code",
   "execution_count": 15,
   "metadata": {
    "ExecuteTime": {
     "end_time": "2021-09-29T10:37:43.159967Z",
     "start_time": "2021-09-29T10:37:41.977613Z"
    }
   },
   "outputs": [
    {
     "data": {
      "application/vnd.plotly.v1+json": {
       "config": {
        "plotlyServerURL": "https://plot.ly"
       },
       "data": [
        {
         "alignmentgroup": "True",
         "hovertemplate": "variable=< 2<br>facilities=%{x}<br>value=%{y}<extra></extra>",
         "legendgroup": "< 2",
         "marker": {
          "color": "#636efa"
         },
         "name": "< 2",
         "offsetgroup": "< 2",
         "orientation": "v",
         "showlegend": true,
         "text": [
          0,
          0,
          0,
          0,
          2,
          0
         ],
         "textposition": "outside",
         "type": "bar",
         "x": [
          "Igegania",
          "Kiambu",
          "Kigumo",
          "Ngewa",
          "Ruiru",
          "Kiandutu"
         ],
         "xaxis": "x",
         "y": [
          0,
          0,
          0,
          0,
          2,
          0
         ],
         "yaxis": "y"
        },
        {
         "alignmentgroup": "True",
         "hovertemplate": "variable=2-12<br>facilities=%{x}<br>value=%{y}<extra></extra>",
         "legendgroup": "2-12",
         "marker": {
          "color": "#EF553B"
         },
         "name": "2-12",
         "offsetgroup": "2-12",
         "orientation": "v",
         "showlegend": true,
         "text": [
          1,
          1,
          1,
          1,
          0,
          4
         ],
         "textposition": "outside",
         "type": "bar",
         "x": [
          "Igegania",
          "Kiambu",
          "Kigumo",
          "Ngewa",
          "Ruiru",
          "Kiandutu"
         ],
         "xaxis": "x",
         "y": [
          1,
          1,
          1,
          1,
          0,
          4
         ],
         "yaxis": "y"
        }
       ],
       "layout": {
        "barmode": "group",
        "legend": {
         "title": {
          "text": "variable"
         },
         "tracegroupgap": 0
        },
        "template": {
         "data": {
          "bar": [
           {
            "error_x": {
             "color": "#2a3f5f"
            },
            "error_y": {
             "color": "#2a3f5f"
            },
            "marker": {
             "line": {
              "color": "#E5ECF6",
              "width": 0.5
             }
            },
            "type": "bar"
           }
          ],
          "barpolar": [
           {
            "marker": {
             "line": {
              "color": "#E5ECF6",
              "width": 0.5
             }
            },
            "type": "barpolar"
           }
          ],
          "carpet": [
           {
            "aaxis": {
             "endlinecolor": "#2a3f5f",
             "gridcolor": "white",
             "linecolor": "white",
             "minorgridcolor": "white",
             "startlinecolor": "#2a3f5f"
            },
            "baxis": {
             "endlinecolor": "#2a3f5f",
             "gridcolor": "white",
             "linecolor": "white",
             "minorgridcolor": "white",
             "startlinecolor": "#2a3f5f"
            },
            "type": "carpet"
           }
          ],
          "choropleth": [
           {
            "colorbar": {
             "outlinewidth": 0,
             "ticks": ""
            },
            "type": "choropleth"
           }
          ],
          "contour": [
           {
            "colorbar": {
             "outlinewidth": 0,
             "ticks": ""
            },
            "colorscale": [
             [
              0,
              "#0d0887"
             ],
             [
              0.1111111111111111,
              "#46039f"
             ],
             [
              0.2222222222222222,
              "#7201a8"
             ],
             [
              0.3333333333333333,
              "#9c179e"
             ],
             [
              0.4444444444444444,
              "#bd3786"
             ],
             [
              0.5555555555555556,
              "#d8576b"
             ],
             [
              0.6666666666666666,
              "#ed7953"
             ],
             [
              0.7777777777777778,
              "#fb9f3a"
             ],
             [
              0.8888888888888888,
              "#fdca26"
             ],
             [
              1,
              "#f0f921"
             ]
            ],
            "type": "contour"
           }
          ],
          "contourcarpet": [
           {
            "colorbar": {
             "outlinewidth": 0,
             "ticks": ""
            },
            "type": "contourcarpet"
           }
          ],
          "heatmap": [
           {
            "colorbar": {
             "outlinewidth": 0,
             "ticks": ""
            },
            "colorscale": [
             [
              0,
              "#0d0887"
             ],
             [
              0.1111111111111111,
              "#46039f"
             ],
             [
              0.2222222222222222,
              "#7201a8"
             ],
             [
              0.3333333333333333,
              "#9c179e"
             ],
             [
              0.4444444444444444,
              "#bd3786"
             ],
             [
              0.5555555555555556,
              "#d8576b"
             ],
             [
              0.6666666666666666,
              "#ed7953"
             ],
             [
              0.7777777777777778,
              "#fb9f3a"
             ],
             [
              0.8888888888888888,
              "#fdca26"
             ],
             [
              1,
              "#f0f921"
             ]
            ],
            "type": "heatmap"
           }
          ],
          "heatmapgl": [
           {
            "colorbar": {
             "outlinewidth": 0,
             "ticks": ""
            },
            "colorscale": [
             [
              0,
              "#0d0887"
             ],
             [
              0.1111111111111111,
              "#46039f"
             ],
             [
              0.2222222222222222,
              "#7201a8"
             ],
             [
              0.3333333333333333,
              "#9c179e"
             ],
             [
              0.4444444444444444,
              "#bd3786"
             ],
             [
              0.5555555555555556,
              "#d8576b"
             ],
             [
              0.6666666666666666,
              "#ed7953"
             ],
             [
              0.7777777777777778,
              "#fb9f3a"
             ],
             [
              0.8888888888888888,
              "#fdca26"
             ],
             [
              1,
              "#f0f921"
             ]
            ],
            "type": "heatmapgl"
           }
          ],
          "histogram": [
           {
            "marker": {
             "colorbar": {
              "outlinewidth": 0,
              "ticks": ""
             }
            },
            "type": "histogram"
           }
          ],
          "histogram2d": [
           {
            "colorbar": {
             "outlinewidth": 0,
             "ticks": ""
            },
            "colorscale": [
             [
              0,
              "#0d0887"
             ],
             [
              0.1111111111111111,
              "#46039f"
             ],
             [
              0.2222222222222222,
              "#7201a8"
             ],
             [
              0.3333333333333333,
              "#9c179e"
             ],
             [
              0.4444444444444444,
              "#bd3786"
             ],
             [
              0.5555555555555556,
              "#d8576b"
             ],
             [
              0.6666666666666666,
              "#ed7953"
             ],
             [
              0.7777777777777778,
              "#fb9f3a"
             ],
             [
              0.8888888888888888,
              "#fdca26"
             ],
             [
              1,
              "#f0f921"
             ]
            ],
            "type": "histogram2d"
           }
          ],
          "histogram2dcontour": [
           {
            "colorbar": {
             "outlinewidth": 0,
             "ticks": ""
            },
            "colorscale": [
             [
              0,
              "#0d0887"
             ],
             [
              0.1111111111111111,
              "#46039f"
             ],
             [
              0.2222222222222222,
              "#7201a8"
             ],
             [
              0.3333333333333333,
              "#9c179e"
             ],
             [
              0.4444444444444444,
              "#bd3786"
             ],
             [
              0.5555555555555556,
              "#d8576b"
             ],
             [
              0.6666666666666666,
              "#ed7953"
             ],
             [
              0.7777777777777778,
              "#fb9f3a"
             ],
             [
              0.8888888888888888,
              "#fdca26"
             ],
             [
              1,
              "#f0f921"
             ]
            ],
            "type": "histogram2dcontour"
           }
          ],
          "mesh3d": [
           {
            "colorbar": {
             "outlinewidth": 0,
             "ticks": ""
            },
            "type": "mesh3d"
           }
          ],
          "parcoords": [
           {
            "line": {
             "colorbar": {
              "outlinewidth": 0,
              "ticks": ""
             }
            },
            "type": "parcoords"
           }
          ],
          "pie": [
           {
            "automargin": true,
            "type": "pie"
           }
          ],
          "scatter": [
           {
            "marker": {
             "colorbar": {
              "outlinewidth": 0,
              "ticks": ""
             }
            },
            "type": "scatter"
           }
          ],
          "scatter3d": [
           {
            "line": {
             "colorbar": {
              "outlinewidth": 0,
              "ticks": ""
             }
            },
            "marker": {
             "colorbar": {
              "outlinewidth": 0,
              "ticks": ""
             }
            },
            "type": "scatter3d"
           }
          ],
          "scattercarpet": [
           {
            "marker": {
             "colorbar": {
              "outlinewidth": 0,
              "ticks": ""
             }
            },
            "type": "scattercarpet"
           }
          ],
          "scattergeo": [
           {
            "marker": {
             "colorbar": {
              "outlinewidth": 0,
              "ticks": ""
             }
            },
            "type": "scattergeo"
           }
          ],
          "scattergl": [
           {
            "marker": {
             "colorbar": {
              "outlinewidth": 0,
              "ticks": ""
             }
            },
            "type": "scattergl"
           }
          ],
          "scattermapbox": [
           {
            "marker": {
             "colorbar": {
              "outlinewidth": 0,
              "ticks": ""
             }
            },
            "type": "scattermapbox"
           }
          ],
          "scatterpolar": [
           {
            "marker": {
             "colorbar": {
              "outlinewidth": 0,
              "ticks": ""
             }
            },
            "type": "scatterpolar"
           }
          ],
          "scatterpolargl": [
           {
            "marker": {
             "colorbar": {
              "outlinewidth": 0,
              "ticks": ""
             }
            },
            "type": "scatterpolargl"
           }
          ],
          "scatterternary": [
           {
            "marker": {
             "colorbar": {
              "outlinewidth": 0,
              "ticks": ""
             }
            },
            "type": "scatterternary"
           }
          ],
          "surface": [
           {
            "colorbar": {
             "outlinewidth": 0,
             "ticks": ""
            },
            "colorscale": [
             [
              0,
              "#0d0887"
             ],
             [
              0.1111111111111111,
              "#46039f"
             ],
             [
              0.2222222222222222,
              "#7201a8"
             ],
             [
              0.3333333333333333,
              "#9c179e"
             ],
             [
              0.4444444444444444,
              "#bd3786"
             ],
             [
              0.5555555555555556,
              "#d8576b"
             ],
             [
              0.6666666666666666,
              "#ed7953"
             ],
             [
              0.7777777777777778,
              "#fb9f3a"
             ],
             [
              0.8888888888888888,
              "#fdca26"
             ],
             [
              1,
              "#f0f921"
             ]
            ],
            "type": "surface"
           }
          ],
          "table": [
           {
            "cells": {
             "fill": {
              "color": "#EBF0F8"
             },
             "line": {
              "color": "white"
             }
            },
            "header": {
             "fill": {
              "color": "#C8D4E3"
             },
             "line": {
              "color": "white"
             }
            },
            "type": "table"
           }
          ]
         },
         "layout": {
          "annotationdefaults": {
           "arrowcolor": "#2a3f5f",
           "arrowhead": 0,
           "arrowwidth": 1
          },
          "coloraxis": {
           "colorbar": {
            "outlinewidth": 0,
            "ticks": ""
           }
          },
          "colorscale": {
           "diverging": [
            [
             0,
             "#8e0152"
            ],
            [
             0.1,
             "#c51b7d"
            ],
            [
             0.2,
             "#de77ae"
            ],
            [
             0.3,
             "#f1b6da"
            ],
            [
             0.4,
             "#fde0ef"
            ],
            [
             0.5,
             "#f7f7f7"
            ],
            [
             0.6,
             "#e6f5d0"
            ],
            [
             0.7,
             "#b8e186"
            ],
            [
             0.8,
             "#7fbc41"
            ],
            [
             0.9,
             "#4d9221"
            ],
            [
             1,
             "#276419"
            ]
           ],
           "sequential": [
            [
             0,
             "#0d0887"
            ],
            [
             0.1111111111111111,
             "#46039f"
            ],
            [
             0.2222222222222222,
             "#7201a8"
            ],
            [
             0.3333333333333333,
             "#9c179e"
            ],
            [
             0.4444444444444444,
             "#bd3786"
            ],
            [
             0.5555555555555556,
             "#d8576b"
            ],
            [
             0.6666666666666666,
             "#ed7953"
            ],
            [
             0.7777777777777778,
             "#fb9f3a"
            ],
            [
             0.8888888888888888,
             "#fdca26"
            ],
            [
             1,
             "#f0f921"
            ]
           ],
           "sequentialminus": [
            [
             0,
             "#0d0887"
            ],
            [
             0.1111111111111111,
             "#46039f"
            ],
            [
             0.2222222222222222,
             "#7201a8"
            ],
            [
             0.3333333333333333,
             "#9c179e"
            ],
            [
             0.4444444444444444,
             "#bd3786"
            ],
            [
             0.5555555555555556,
             "#d8576b"
            ],
            [
             0.6666666666666666,
             "#ed7953"
            ],
            [
             0.7777777777777778,
             "#fb9f3a"
            ],
            [
             0.8888888888888888,
             "#fdca26"
            ],
            [
             1,
             "#f0f921"
            ]
           ]
          },
          "colorway": [
           "#636efa",
           "#EF553B",
           "#00cc96",
           "#ab63fa",
           "#FFA15A",
           "#19d3f3",
           "#FF6692",
           "#B6E880",
           "#FF97FF",
           "#FECB52"
          ],
          "font": {
           "color": "#2a3f5f"
          },
          "geo": {
           "bgcolor": "white",
           "lakecolor": "white",
           "landcolor": "#E5ECF6",
           "showlakes": true,
           "showland": true,
           "subunitcolor": "white"
          },
          "hoverlabel": {
           "align": "left"
          },
          "hovermode": "closest",
          "mapbox": {
           "style": "light"
          },
          "paper_bgcolor": "white",
          "plot_bgcolor": "#E5ECF6",
          "polar": {
           "angularaxis": {
            "gridcolor": "white",
            "linecolor": "white",
            "ticks": ""
           },
           "bgcolor": "#E5ECF6",
           "radialaxis": {
            "gridcolor": "white",
            "linecolor": "white",
            "ticks": ""
           }
          },
          "scene": {
           "xaxis": {
            "backgroundcolor": "#E5ECF6",
            "gridcolor": "white",
            "gridwidth": 2,
            "linecolor": "white",
            "showbackground": true,
            "ticks": "",
            "zerolinecolor": "white"
           },
           "yaxis": {
            "backgroundcolor": "#E5ECF6",
            "gridcolor": "white",
            "gridwidth": 2,
            "linecolor": "white",
            "showbackground": true,
            "ticks": "",
            "zerolinecolor": "white"
           },
           "zaxis": {
            "backgroundcolor": "#E5ECF6",
            "gridcolor": "white",
            "gridwidth": 2,
            "linecolor": "white",
            "showbackground": true,
            "ticks": "",
            "zerolinecolor": "white"
           }
          },
          "shapedefaults": {
           "line": {
            "color": "#2a3f5f"
           }
          },
          "ternary": {
           "aaxis": {
            "gridcolor": "white",
            "linecolor": "white",
            "ticks": ""
           },
           "baxis": {
            "gridcolor": "white",
            "linecolor": "white",
            "ticks": ""
           },
           "bgcolor": "#E5ECF6",
           "caxis": {
            "gridcolor": "white",
            "linecolor": "white",
            "ticks": ""
           }
          },
          "title": {
           "x": 0.05
          },
          "xaxis": {
           "automargin": true,
           "gridcolor": "white",
           "linecolor": "white",
           "ticks": "",
           "title": {
            "standoff": 15
           },
           "zerolinecolor": "white",
           "zerolinewidth": 2
          },
          "yaxis": {
           "automargin": true,
           "gridcolor": "white",
           "linecolor": "white",
           "ticks": "",
           "title": {
            "standoff": 15
           },
           "zerolinecolor": "white",
           "zerolinewidth": 2
          }
         }
        },
        "title": {
         "text": "<b>NUMBER OF POSITIVE SAMPLES DURING THE REVIEW PERIOD N=10   < 2 months: 2 (20%)  2-12 months: 8 (80%)<b>"
        },
        "uniformtext": {
         "minsize": 14,
         "mode": "hide"
        },
        "xaxis": {
         "anchor": "y",
         "domain": [
          0,
          1
         ],
         "title": {
          "text": "<b>Facilities<b>"
         }
        },
        "yaxis": {
         "anchor": "x",
         "domain": [
          0,
          1
         ],
         "title": {
          "text": "<b>Positive PCRs</b> "
         }
        }
       }
      },
      "text/html": [
       "<div>                            <div id=\"1946361e-7b57-425e-8c8b-32fd2fd0b393\" class=\"plotly-graph-div\" style=\"height:525px; width:100%;\"></div>            <script type=\"text/javascript\">                require([\"plotly\"], function(Plotly) {                    window.PLOTLYENV=window.PLOTLYENV || {};                                    if (document.getElementById(\"1946361e-7b57-425e-8c8b-32fd2fd0b393\")) {                    Plotly.newPlot(                        \"1946361e-7b57-425e-8c8b-32fd2fd0b393\",                        [{\"alignmentgroup\": \"True\", \"hovertemplate\": \"variable=< 2<br>facilities=%{x}<br>value=%{y}<extra></extra>\", \"legendgroup\": \"< 2\", \"marker\": {\"color\": \"#636efa\"}, \"name\": \"< 2\", \"offsetgroup\": \"< 2\", \"orientation\": \"v\", \"showlegend\": true, \"text\": [0.0, 0.0, 0.0, 0.0, 2.0, 0.0], \"textposition\": \"outside\", \"type\": \"bar\", \"x\": [\"Igegania\", \"Kiambu\", \"Kigumo\", \"Ngewa\", \"Ruiru\", \"Kiandutu\"], \"xaxis\": \"x\", \"y\": [0, 0, 0, 0, 2, 0], \"yaxis\": \"y\"}, {\"alignmentgroup\": \"True\", \"hovertemplate\": \"variable=2-12<br>facilities=%{x}<br>value=%{y}<extra></extra>\", \"legendgroup\": \"2-12\", \"marker\": {\"color\": \"#EF553B\"}, \"name\": \"2-12\", \"offsetgroup\": \"2-12\", \"orientation\": \"v\", \"showlegend\": true, \"text\": [1.0, 1.0, 1.0, 1.0, 0.0, 4.0], \"textposition\": \"outside\", \"type\": \"bar\", \"x\": [\"Igegania\", \"Kiambu\", \"Kigumo\", \"Ngewa\", \"Ruiru\", \"Kiandutu\"], \"xaxis\": \"x\", \"y\": [1, 1, 1, 1, 0, 4], \"yaxis\": \"y\"}],                        {\"barmode\": \"group\", \"legend\": {\"title\": {\"text\": \"variable\"}, \"tracegroupgap\": 0}, \"template\": {\"data\": {\"bar\": [{\"error_x\": {\"color\": \"#2a3f5f\"}, \"error_y\": {\"color\": \"#2a3f5f\"}, \"marker\": {\"line\": {\"color\": \"#E5ECF6\", \"width\": 0.5}}, \"type\": \"bar\"}], \"barpolar\": [{\"marker\": {\"line\": {\"color\": \"#E5ECF6\", \"width\": 0.5}}, \"type\": \"barpolar\"}], \"carpet\": [{\"aaxis\": {\"endlinecolor\": \"#2a3f5f\", \"gridcolor\": \"white\", \"linecolor\": \"white\", \"minorgridcolor\": \"white\", \"startlinecolor\": \"#2a3f5f\"}, \"baxis\": {\"endlinecolor\": \"#2a3f5f\", \"gridcolor\": \"white\", \"linecolor\": \"white\", \"minorgridcolor\": \"white\", \"startlinecolor\": \"#2a3f5f\"}, \"type\": \"carpet\"}], \"choropleth\": [{\"colorbar\": {\"outlinewidth\": 0, \"ticks\": \"\"}, \"type\": \"choropleth\"}], \"contour\": [{\"colorbar\": {\"outlinewidth\": 0, \"ticks\": \"\"}, \"colorscale\": [[0.0, \"#0d0887\"], [0.1111111111111111, \"#46039f\"], [0.2222222222222222, \"#7201a8\"], [0.3333333333333333, \"#9c179e\"], [0.4444444444444444, \"#bd3786\"], [0.5555555555555556, \"#d8576b\"], [0.6666666666666666, \"#ed7953\"], [0.7777777777777778, \"#fb9f3a\"], [0.8888888888888888, \"#fdca26\"], [1.0, \"#f0f921\"]], \"type\": \"contour\"}], \"contourcarpet\": [{\"colorbar\": {\"outlinewidth\": 0, \"ticks\": \"\"}, \"type\": \"contourcarpet\"}], \"heatmap\": [{\"colorbar\": {\"outlinewidth\": 0, \"ticks\": \"\"}, \"colorscale\": [[0.0, \"#0d0887\"], [0.1111111111111111, \"#46039f\"], [0.2222222222222222, \"#7201a8\"], [0.3333333333333333, \"#9c179e\"], [0.4444444444444444, \"#bd3786\"], [0.5555555555555556, \"#d8576b\"], [0.6666666666666666, \"#ed7953\"], [0.7777777777777778, \"#fb9f3a\"], [0.8888888888888888, \"#fdca26\"], [1.0, \"#f0f921\"]], \"type\": \"heatmap\"}], \"heatmapgl\": [{\"colorbar\": {\"outlinewidth\": 0, \"ticks\": \"\"}, \"colorscale\": [[0.0, \"#0d0887\"], [0.1111111111111111, \"#46039f\"], [0.2222222222222222, \"#7201a8\"], [0.3333333333333333, \"#9c179e\"], [0.4444444444444444, \"#bd3786\"], [0.5555555555555556, \"#d8576b\"], [0.6666666666666666, \"#ed7953\"], [0.7777777777777778, \"#fb9f3a\"], [0.8888888888888888, \"#fdca26\"], [1.0, \"#f0f921\"]], \"type\": \"heatmapgl\"}], \"histogram\": [{\"marker\": {\"colorbar\": {\"outlinewidth\": 0, \"ticks\": \"\"}}, \"type\": \"histogram\"}], \"histogram2d\": [{\"colorbar\": {\"outlinewidth\": 0, \"ticks\": \"\"}, \"colorscale\": [[0.0, \"#0d0887\"], [0.1111111111111111, \"#46039f\"], [0.2222222222222222, \"#7201a8\"], [0.3333333333333333, \"#9c179e\"], [0.4444444444444444, \"#bd3786\"], [0.5555555555555556, \"#d8576b\"], [0.6666666666666666, \"#ed7953\"], [0.7777777777777778, \"#fb9f3a\"], [0.8888888888888888, \"#fdca26\"], [1.0, \"#f0f921\"]], \"type\": \"histogram2d\"}], \"histogram2dcontour\": [{\"colorbar\": {\"outlinewidth\": 0, \"ticks\": \"\"}, \"colorscale\": [[0.0, \"#0d0887\"], [0.1111111111111111, \"#46039f\"], [0.2222222222222222, \"#7201a8\"], [0.3333333333333333, \"#9c179e\"], [0.4444444444444444, \"#bd3786\"], [0.5555555555555556, \"#d8576b\"], [0.6666666666666666, \"#ed7953\"], [0.7777777777777778, \"#fb9f3a\"], [0.8888888888888888, \"#fdca26\"], [1.0, \"#f0f921\"]], \"type\": \"histogram2dcontour\"}], \"mesh3d\": [{\"colorbar\": {\"outlinewidth\": 0, \"ticks\": \"\"}, \"type\": \"mesh3d\"}], \"parcoords\": [{\"line\": {\"colorbar\": {\"outlinewidth\": 0, \"ticks\": \"\"}}, \"type\": \"parcoords\"}], \"pie\": [{\"automargin\": true, \"type\": \"pie\"}], \"scatter\": [{\"marker\": {\"colorbar\": {\"outlinewidth\": 0, \"ticks\": \"\"}}, \"type\": \"scatter\"}], \"scatter3d\": [{\"line\": {\"colorbar\": {\"outlinewidth\": 0, \"ticks\": \"\"}}, \"marker\": {\"colorbar\": {\"outlinewidth\": 0, \"ticks\": \"\"}}, \"type\": \"scatter3d\"}], \"scattercarpet\": [{\"marker\": {\"colorbar\": {\"outlinewidth\": 0, \"ticks\": \"\"}}, \"type\": \"scattercarpet\"}], \"scattergeo\": [{\"marker\": {\"colorbar\": {\"outlinewidth\": 0, \"ticks\": \"\"}}, \"type\": \"scattergeo\"}], \"scattergl\": [{\"marker\": {\"colorbar\": {\"outlinewidth\": 0, \"ticks\": \"\"}}, \"type\": \"scattergl\"}], \"scattermapbox\": [{\"marker\": {\"colorbar\": {\"outlinewidth\": 0, \"ticks\": \"\"}}, \"type\": \"scattermapbox\"}], \"scatterpolar\": [{\"marker\": {\"colorbar\": {\"outlinewidth\": 0, \"ticks\": \"\"}}, \"type\": \"scatterpolar\"}], \"scatterpolargl\": [{\"marker\": {\"colorbar\": {\"outlinewidth\": 0, \"ticks\": \"\"}}, \"type\": \"scatterpolargl\"}], \"scatterternary\": [{\"marker\": {\"colorbar\": {\"outlinewidth\": 0, \"ticks\": \"\"}}, \"type\": \"scatterternary\"}], \"surface\": [{\"colorbar\": {\"outlinewidth\": 0, \"ticks\": \"\"}, \"colorscale\": [[0.0, \"#0d0887\"], [0.1111111111111111, \"#46039f\"], [0.2222222222222222, \"#7201a8\"], [0.3333333333333333, \"#9c179e\"], [0.4444444444444444, \"#bd3786\"], [0.5555555555555556, \"#d8576b\"], [0.6666666666666666, \"#ed7953\"], [0.7777777777777778, \"#fb9f3a\"], [0.8888888888888888, \"#fdca26\"], [1.0, \"#f0f921\"]], \"type\": \"surface\"}], \"table\": [{\"cells\": {\"fill\": {\"color\": \"#EBF0F8\"}, \"line\": {\"color\": \"white\"}}, \"header\": {\"fill\": {\"color\": \"#C8D4E3\"}, \"line\": {\"color\": \"white\"}}, \"type\": \"table\"}]}, \"layout\": {\"annotationdefaults\": {\"arrowcolor\": \"#2a3f5f\", \"arrowhead\": 0, \"arrowwidth\": 1}, \"coloraxis\": {\"colorbar\": {\"outlinewidth\": 0, \"ticks\": \"\"}}, \"colorscale\": {\"diverging\": [[0, \"#8e0152\"], [0.1, \"#c51b7d\"], [0.2, \"#de77ae\"], [0.3, \"#f1b6da\"], [0.4, \"#fde0ef\"], [0.5, \"#f7f7f7\"], [0.6, \"#e6f5d0\"], [0.7, \"#b8e186\"], [0.8, \"#7fbc41\"], [0.9, \"#4d9221\"], [1, \"#276419\"]], \"sequential\": [[0.0, \"#0d0887\"], [0.1111111111111111, \"#46039f\"], [0.2222222222222222, \"#7201a8\"], [0.3333333333333333, \"#9c179e\"], [0.4444444444444444, \"#bd3786\"], [0.5555555555555556, \"#d8576b\"], [0.6666666666666666, \"#ed7953\"], [0.7777777777777778, \"#fb9f3a\"], [0.8888888888888888, \"#fdca26\"], [1.0, \"#f0f921\"]], \"sequentialminus\": [[0.0, \"#0d0887\"], [0.1111111111111111, \"#46039f\"], [0.2222222222222222, \"#7201a8\"], [0.3333333333333333, \"#9c179e\"], [0.4444444444444444, \"#bd3786\"], [0.5555555555555556, \"#d8576b\"], [0.6666666666666666, \"#ed7953\"], [0.7777777777777778, \"#fb9f3a\"], [0.8888888888888888, \"#fdca26\"], [1.0, \"#f0f921\"]]}, \"colorway\": [\"#636efa\", \"#EF553B\", \"#00cc96\", \"#ab63fa\", \"#FFA15A\", \"#19d3f3\", \"#FF6692\", \"#B6E880\", \"#FF97FF\", \"#FECB52\"], \"font\": {\"color\": \"#2a3f5f\"}, \"geo\": {\"bgcolor\": \"white\", \"lakecolor\": \"white\", \"landcolor\": \"#E5ECF6\", \"showlakes\": true, \"showland\": true, \"subunitcolor\": \"white\"}, \"hoverlabel\": {\"align\": \"left\"}, \"hovermode\": \"closest\", \"mapbox\": {\"style\": \"light\"}, \"paper_bgcolor\": \"white\", \"plot_bgcolor\": \"#E5ECF6\", \"polar\": {\"angularaxis\": {\"gridcolor\": \"white\", \"linecolor\": \"white\", \"ticks\": \"\"}, \"bgcolor\": \"#E5ECF6\", \"radialaxis\": {\"gridcolor\": \"white\", \"linecolor\": \"white\", \"ticks\": \"\"}}, \"scene\": {\"xaxis\": {\"backgroundcolor\": \"#E5ECF6\", \"gridcolor\": \"white\", \"gridwidth\": 2, \"linecolor\": \"white\", \"showbackground\": true, \"ticks\": \"\", \"zerolinecolor\": \"white\"}, \"yaxis\": {\"backgroundcolor\": \"#E5ECF6\", \"gridcolor\": \"white\", \"gridwidth\": 2, \"linecolor\": \"white\", \"showbackground\": true, \"ticks\": \"\", \"zerolinecolor\": \"white\"}, \"zaxis\": {\"backgroundcolor\": \"#E5ECF6\", \"gridcolor\": \"white\", \"gridwidth\": 2, \"linecolor\": \"white\", \"showbackground\": true, \"ticks\": \"\", \"zerolinecolor\": \"white\"}}, \"shapedefaults\": {\"line\": {\"color\": \"#2a3f5f\"}}, \"ternary\": {\"aaxis\": {\"gridcolor\": \"white\", \"linecolor\": \"white\", \"ticks\": \"\"}, \"baxis\": {\"gridcolor\": \"white\", \"linecolor\": \"white\", \"ticks\": \"\"}, \"bgcolor\": \"#E5ECF6\", \"caxis\": {\"gridcolor\": \"white\", \"linecolor\": \"white\", \"ticks\": \"\"}}, \"title\": {\"x\": 0.05}, \"xaxis\": {\"automargin\": true, \"gridcolor\": \"white\", \"linecolor\": \"white\", \"ticks\": \"\", \"title\": {\"standoff\": 15}, \"zerolinecolor\": \"white\", \"zerolinewidth\": 2}, \"yaxis\": {\"automargin\": true, \"gridcolor\": \"white\", \"linecolor\": \"white\", \"ticks\": \"\", \"title\": {\"standoff\": 15}, \"zerolinecolor\": \"white\", \"zerolinewidth\": 2}}}, \"title\": {\"text\": \"<b>NUMBER OF POSITIVE SAMPLES DURING THE REVIEW PERIOD N=10   < 2 months: 2 (20%)  2-12 months: 8 (80%)<b>\"}, \"uniformtext\": {\"minsize\": 14, \"mode\": \"hide\"}, \"xaxis\": {\"anchor\": \"y\", \"domain\": [0.0, 1.0], \"title\": {\"text\": \"<b>Facilities<b>\"}}, \"yaxis\": {\"anchor\": \"x\", \"domain\": [0.0, 1.0], \"title\": {\"text\": \"<b>Positive PCRs</b> \"}}},                        {\"responsive\": true}                    ).then(function(){\n",
       "                            \n",
       "var gd = document.getElementById('1946361e-7b57-425e-8c8b-32fd2fd0b393');\n",
       "var x = new MutationObserver(function (mutations, observer) {{\n",
       "        var display = window.getComputedStyle(gd).display;\n",
       "        if (!display || display === 'none') {{\n",
       "            console.log([gd, 'removed!']);\n",
       "            Plotly.purge(gd);\n",
       "            observer.disconnect();\n",
       "        }}\n",
       "}});\n",
       "\n",
       "// Listen for the removal of the full notebook cells\n",
       "var notebookContainer = gd.closest('#notebook-container');\n",
       "if (notebookContainer) {{\n",
       "    x.observe(notebookContainer, {childList: true});\n",
       "}}\n",
       "\n",
       "// Listen for the clearing of the current output cell\n",
       "var outputEl = gd.closest('.output');\n",
       "if (outputEl) {{\n",
       "    x.observe(outputEl, {childList: true});\n",
       "}}\n",
       "\n",
       "                        })                };                });            </script>        </div>"
      ]
     },
     "metadata": {},
     "output_type": "display_data"
    }
   ],
   "source": [
    "try:\n",
    "    fig=px.bar(facilities_pos,x='facilities',y=['< 2','2-12'],title=\"<b>NUMBER OF POSITIVE SAMPLES DURING THE REVIEW PERIOD\"\n",
    "           f\" N={total}   < 2 months: {less_2_months} ({round(less_2_months/(less_2_months+two_to_twelve_months)*100,)}%)  2-12 months: {two_to_twelve_months} ({round(two_to_twelve_months/(less_2_months+two_to_twelve_months)*100,)}%)<b>\",\n",
    "           barmode='group')\n",
    "\n",
    "    texts=[facilities_pos['< 2'],facilities_pos['2-12']]\n",
    "    for i, t in enumerate(texts):\n",
    "        fig.data[i].text = t\n",
    "        fig.data[i].textposition = 'outside'\n",
    "    fig.update_layout(uniformtext_minsize=14, uniformtext_mode='hide')\n",
    "\n",
    "    # Set x-axis title\n",
    "    fig.update_xaxes(title_text=\"<b>Facilities<b>\")\n",
    "\n",
    "    # Set y-axes titles\n",
    "    fig.update_yaxes(title_text=\"<b>Positive PCRs</b> \", secondary_y=False)\n",
    "    # fig.update_yaxes(title_text=\"<b>CONTRIBUTION TO HUB TX_CURR</b>\", secondary_y=True)\n",
    "\n",
    "    fig.show()\n",
    "except:\n",
    "    fig=px.bar(facilities_pos,x='facilities',y='< 2',title=\"<b>NUMBER OF POSITIVE SAMPLES DURING THE REVIEW PERIOD\"\n",
    "           f\" N={total}   < 2 months: {less_2_months} ({round(less_2_months/(less_2_months+two_to_twelve_months)*100,)}%)  2-12 months: {two_to_twelve_months} ({round(two_to_twelve_months/(less_2_months+two_to_twelve_months)*100,)}%)<b>\",\n",
    "              text='< 2')\n",
    " \n",
    "    fig.update_traces( textposition='outside')\n",
    "\n",
    "    fig.show()"
   ]
  },
  {
   "cell_type": "markdown",
   "metadata": {},
   "source": [
    "##### MTCT RATE"
   ]
  },
  {
   "cell_type": "code",
   "execution_count": 16,
   "metadata": {
    "ExecuteTime": {
     "end_time": "2021-09-29T10:37:43.191957Z",
     "start_time": "2021-09-29T10:37:43.165965Z"
    }
   },
   "outputs": [
    {
     "name": "stdout",
     "output_type": "stream",
     "text": [
      "mtct_rate was 2.13 %\n"
     ]
    }
   ],
   "source": [
    "positives=len(df[(df[\"Result\"]=='Positive') & (df['PCR Type'] !=\"Confirmatory PCR and Baseline VL)\")])\n",
    "negatives=len(df[df[\"Result\"]=='Negative'])\n",
    "mtct_rate=round(positives/(negatives+positives)*100,2)\n",
    "print(f\"mtct_rate was {mtct_rate} %\")"
   ]
  },
  {
   "cell_type": "code",
   "execution_count": 17,
   "metadata": {
    "ExecuteTime": {
     "end_time": "2021-09-29T10:37:43.568485Z",
     "start_time": "2021-09-29T10:37:43.197945Z"
    }
   },
   "outputs": [
    {
     "name": "stdout",
     "output_type": "stream",
     "text": [
      "Initial PCRs (6 week or first contact) done were 254. \n"
     ]
    }
   ],
   "source": [
    "initial_PCR=df[(df['Age (Months)'] <=2) & (df['PCR Type'] == 'Initial PCR (6 week or first contact)')]\n",
    "initial_PCRs=len(initial_PCR['PCR Type'])\n",
    "print(f\"Initial PCRs (6 week or first contact) done were {initial_PCRs}. \")"
   ]
  },
  {
   "cell_type": "code",
   "execution_count": 18,
   "metadata": {
    "ExecuteTime": {
     "end_time": "2021-09-29T10:37:43.786550Z",
     "start_time": "2021-09-29T10:37:43.576468Z"
    }
   },
   "outputs": [
    {
     "name": "stdout",
     "output_type": "stream",
     "text": [
      "2nd PCR (6 months) done were 384. \n"
     ]
    }
   ],
   "source": [
    "second_PCR=df[(df['PCR Type'] == '2nd PCR (6 months)')]\n",
    "print(f\"2nd PCR (6 months) done were {len(second_PCR['PCR Type'])}. \")"
   ]
  },
  {
   "cell_type": "code",
   "execution_count": 19,
   "metadata": {
    "ExecuteTime": {
     "end_time": "2021-09-29T10:37:44.020352Z",
     "start_time": "2021-09-29T10:37:43.800533Z"
    }
   },
   "outputs": [
    {
     "name": "stdout",
     "output_type": "stream",
     "text": [
      "3rd PCR (12 months) done were 174. \n"
     ]
    }
   ],
   "source": [
    "third_PCR=df[(df['PCR Type'] == '3rd PCR (12 months)')]\n",
    "print(f\"3rd PCR (12 months) done were {len(third_PCR['PCR Type'])}. \")"
   ]
  },
  {
   "cell_type": "code",
   "execution_count": 20,
   "metadata": {
    "ExecuteTime": {
     "end_time": "2021-09-29T10:37:44.436096Z",
     "start_time": "2021-09-29T10:37:44.040339Z"
    }
   },
   "outputs": [],
   "source": [
    "# confirmatory_PCRs=df[(df['Age (Months)'] >2) & (df['Age (Months)'] <=12) &(df['Result'] == 'Positive') &\n",
    "#        (df['PCR Type'] == 'Confirmatory PCR and Baseline VL')]\n",
    "# confirmatory_PCRs"
   ]
  },
  {
   "cell_type": "markdown",
   "metadata": {},
   "source": [
    "##### Less than 2 month and negative"
   ]
  },
  {
   "cell_type": "code",
   "execution_count": 21,
   "metadata": {
    "ExecuteTime": {
     "end_time": "2021-09-29T10:37:45.129668Z",
     "start_time": "2021-09-29T10:37:44.440094Z"
    }
   },
   "outputs": [
    {
     "data": {
      "text/html": [
       "<div>\n",
       "<style scoped>\n",
       "    .dataframe tbody tr th:only-of-type {\n",
       "        vertical-align: middle;\n",
       "    }\n",
       "\n",
       "    .dataframe tbody tr th {\n",
       "        vertical-align: top;\n",
       "    }\n",
       "\n",
       "    .dataframe thead th {\n",
       "        text-align: right;\n",
       "    }\n",
       "</style>\n",
       "<table border=\"1\" class=\"dataframe\">\n",
       "  <thead>\n",
       "    <tr style=\"text-align: right;\">\n",
       "      <th></th>\n",
       "      <th>PCR type</th>\n",
       "      <th>Count</th>\n",
       "    </tr>\n",
       "  </thead>\n",
       "  <tbody>\n",
       "    <tr>\n",
       "      <th>0</th>\n",
       "      <td>Initial PCR (6 week or first contact)</td>\n",
       "      <td>252</td>\n",
       "    </tr>\n",
       "    <tr>\n",
       "      <th>1</th>\n",
       "      <td>2nd PCR (6 months)</td>\n",
       "      <td>3</td>\n",
       "    </tr>\n",
       "    <tr>\n",
       "      <th>2</th>\n",
       "      <td>3rd PCR (12 months)</td>\n",
       "      <td>18</td>\n",
       "    </tr>\n",
       "  </tbody>\n",
       "</table>\n",
       "</div>"
      ],
      "text/plain": [
       "                                PCR type  Count\n",
       "0  Initial PCR (6 week or first contact)    252\n",
       "1                     2nd PCR (6 months)      3\n",
       "2                    3rd PCR (12 months)     18"
      ]
     },
     "execution_count": 21,
     "metadata": {},
     "output_type": "execute_result"
    }
   ],
   "source": [
    "df2=df[(df['Age (Months)'] <=2) & (df['Result'] == 'Negative')]\n",
    "get_results(df2)"
   ]
  },
  {
   "cell_type": "markdown",
   "metadata": {},
   "source": [
    "##### Less than 2 month and positives"
   ]
  },
  {
   "cell_type": "code",
   "execution_count": 22,
   "metadata": {
    "ExecuteTime": {
     "end_time": "2021-09-29T10:37:45.177639Z",
     "start_time": "2021-09-29T10:37:45.133667Z"
    }
   },
   "outputs": [
    {
     "data": {
      "text/html": [
       "<div>\n",
       "<style scoped>\n",
       "    .dataframe tbody tr th:only-of-type {\n",
       "        vertical-align: middle;\n",
       "    }\n",
       "\n",
       "    .dataframe tbody tr th {\n",
       "        vertical-align: top;\n",
       "    }\n",
       "\n",
       "    .dataframe thead th {\n",
       "        text-align: right;\n",
       "    }\n",
       "</style>\n",
       "<table border=\"1\" class=\"dataframe\">\n",
       "  <thead>\n",
       "    <tr style=\"text-align: right;\">\n",
       "      <th></th>\n",
       "      <th>PCR type</th>\n",
       "      <th>Count</th>\n",
       "    </tr>\n",
       "  </thead>\n",
       "  <tbody>\n",
       "    <tr>\n",
       "      <th>0</th>\n",
       "      <td>Initial PCR (6 week or first contact)</td>\n",
       "      <td>2</td>\n",
       "    </tr>\n",
       "    <tr>\n",
       "      <th>1</th>\n",
       "      <td>Confirmatory PCR and Baseline VL</td>\n",
       "      <td>1</td>\n",
       "    </tr>\n",
       "  </tbody>\n",
       "</table>\n",
       "</div>"
      ],
      "text/plain": [
       "                                PCR type  Count\n",
       "0  Initial PCR (6 week or first contact)      2\n",
       "1       Confirmatory PCR and Baseline VL      1"
      ]
     },
     "execution_count": 22,
     "metadata": {},
     "output_type": "execute_result"
    }
   ],
   "source": [
    "df1=df[(df['Age (Months)'] <=2) & (df['Result'] ==\"Positive\")]\n",
    "get_results(df1)  "
   ]
  },
  {
   "cell_type": "markdown",
   "metadata": {},
   "source": [
    "##### > 2 month and <=12months and Positive"
   ]
  },
  {
   "cell_type": "code",
   "execution_count": 23,
   "metadata": {
    "ExecuteTime": {
     "end_time": "2021-09-29T10:37:45.522428Z",
     "start_time": "2021-09-29T10:37:45.188632Z"
    }
   },
   "outputs": [
    {
     "data": {
      "text/html": [
       "<div>\n",
       "<style scoped>\n",
       "    .dataframe tbody tr th:only-of-type {\n",
       "        vertical-align: middle;\n",
       "    }\n",
       "\n",
       "    .dataframe tbody tr th {\n",
       "        vertical-align: top;\n",
       "    }\n",
       "\n",
       "    .dataframe thead th {\n",
       "        text-align: right;\n",
       "    }\n",
       "</style>\n",
       "<table border=\"1\" class=\"dataframe\">\n",
       "  <thead>\n",
       "    <tr style=\"text-align: right;\">\n",
       "      <th></th>\n",
       "      <th>PCR type</th>\n",
       "      <th>Count</th>\n",
       "    </tr>\n",
       "  </thead>\n",
       "  <tbody>\n",
       "    <tr>\n",
       "      <th>0</th>\n",
       "      <td>Initial PCR (6 week or first contact)</td>\n",
       "      <td>7</td>\n",
       "    </tr>\n",
       "    <tr>\n",
       "      <th>1</th>\n",
       "      <td>2nd PCR (6 months)</td>\n",
       "      <td>1</td>\n",
       "    </tr>\n",
       "  </tbody>\n",
       "</table>\n",
       "</div>"
      ],
      "text/plain": [
       "                                PCR type  Count\n",
       "0  Initial PCR (6 week or first contact)      7\n",
       "1                     2nd PCR (6 months)      1"
      ]
     },
     "execution_count": 23,
     "metadata": {},
     "output_type": "execute_result"
    }
   ],
   "source": [
    "df3=df[(df['Age (Months)'] >2) & (df['Age (Months)'] <=12) &(df['Result'] == 'Positive') & \n",
    "       (df['PCR Type'] != 'Confirmatory PCR and Baseline VL')]\n",
    "get_results(df3)"
   ]
  },
  {
   "cell_type": "markdown",
   "metadata": {},
   "source": [
    "##### > 2 month and <=12months and Negative"
   ]
  },
  {
   "cell_type": "code",
   "execution_count": 24,
   "metadata": {
    "ExecuteTime": {
     "end_time": "2021-09-29T10:37:46.445857Z",
     "start_time": "2021-09-29T10:37:45.528423Z"
    }
   },
   "outputs": [
    {
     "data": {
      "text/html": [
       "<div>\n",
       "<style scoped>\n",
       "    .dataframe tbody tr th:only-of-type {\n",
       "        vertical-align: middle;\n",
       "    }\n",
       "\n",
       "    .dataframe tbody tr th {\n",
       "        vertical-align: top;\n",
       "    }\n",
       "\n",
       "    .dataframe thead th {\n",
       "        text-align: right;\n",
       "    }\n",
       "</style>\n",
       "<table border=\"1\" class=\"dataframe\">\n",
       "  <thead>\n",
       "    <tr style=\"text-align: right;\">\n",
       "      <th></th>\n",
       "      <th>PCR type</th>\n",
       "      <th>Count</th>\n",
       "    </tr>\n",
       "  </thead>\n",
       "  <tbody>\n",
       "    <tr>\n",
       "      <th>0</th>\n",
       "      <td>3rd PCR (12 months)</td>\n",
       "      <td>156</td>\n",
       "    </tr>\n",
       "    <tr>\n",
       "      <th>1</th>\n",
       "      <td>2nd PCR (6 months)</td>\n",
       "      <td>379</td>\n",
       "    </tr>\n",
       "    <tr>\n",
       "      <th>2</th>\n",
       "      <td>Initial PCR (6 week or first contact)</td>\n",
       "      <td>152</td>\n",
       "    </tr>\n",
       "    <tr>\n",
       "      <th>3</th>\n",
       "      <td>Confirmatory PCR and Baseline VL</td>\n",
       "      <td>1</td>\n",
       "    </tr>\n",
       "    <tr>\n",
       "      <th>4</th>\n",
       "      <td>No Data</td>\n",
       "      <td>1</td>\n",
       "    </tr>\n",
       "  </tbody>\n",
       "</table>\n",
       "</div>"
      ],
      "text/plain": [
       "                                PCR type  Count\n",
       "0                    3rd PCR (12 months)    156\n",
       "1                     2nd PCR (6 months)    379\n",
       "2  Initial PCR (6 week or first contact)    152\n",
       "3       Confirmatory PCR and Baseline VL      1\n",
       "4                                No Data      1"
      ]
     },
     "execution_count": 24,
     "metadata": {},
     "output_type": "execute_result"
    }
   ],
   "source": [
    "df4=df[(df['Age (Months)'] >2) & (df['Age (Months)'] <=12) &(df['Result'] == 'Negative')]\n",
    "get_results(df4)"
   ]
  },
  {
   "cell_type": "markdown",
   "metadata": {},
   "source": [
    "##### PCR positive during normal follow up <1yr"
   ]
  },
  {
   "cell_type": "code",
   "execution_count": 25,
   "metadata": {
    "ExecuteTime": {
     "end_time": "2021-09-29T10:37:46.491830Z",
     "start_time": "2021-09-29T10:37:46.449856Z"
    }
   },
   "outputs": [
    {
     "data": {
      "text/html": [
       "<div>\n",
       "<style scoped>\n",
       "    .dataframe tbody tr th:only-of-type {\n",
       "        vertical-align: middle;\n",
       "    }\n",
       "\n",
       "    .dataframe tbody tr th {\n",
       "        vertical-align: top;\n",
       "    }\n",
       "\n",
       "    .dataframe thead th {\n",
       "        text-align: right;\n",
       "    }\n",
       "</style>\n",
       "<table border=\"1\" class=\"dataframe\">\n",
       "  <thead>\n",
       "    <tr style=\"text-align: right;\">\n",
       "      <th></th>\n",
       "      <th>PCR type</th>\n",
       "      <th>Count</th>\n",
       "    </tr>\n",
       "  </thead>\n",
       "  <tbody>\n",
       "    <tr>\n",
       "      <th>0</th>\n",
       "      <td>2nd PCR (6 months)</td>\n",
       "      <td>1</td>\n",
       "    </tr>\n",
       "  </tbody>\n",
       "</table>\n",
       "</div>"
      ],
      "text/plain": [
       "             PCR type  Count\n",
       "0  2nd PCR (6 months)      1"
      ]
     },
     "execution_count": 25,
     "metadata": {},
     "output_type": "execute_result"
    }
   ],
   "source": [
    "df6=df[(df['Age (Months)'] >2) & (df['Age (Months)'] <=12) & (df['Result'] == 'Positive') & \n",
    "       (df['PCR Type'] != 'Initial PCR (6 week or first contact)') & (df['PCR Type'] != 'Confirmatory PCR and Baseline VL')]\n",
    "get_results(df6)"
   ]
  },
  {
   "cell_type": "markdown",
   "metadata": {},
   "source": [
    "##### PCR positive > 12 months"
   ]
  },
  {
   "cell_type": "code",
   "execution_count": 26,
   "metadata": {
    "ExecuteTime": {
     "end_time": "2021-09-29T10:37:46.795644Z",
     "start_time": "2021-09-29T10:37:46.495828Z"
    }
   },
   "outputs": [
    {
     "data": {
      "text/html": [
       "<div>\n",
       "<style scoped>\n",
       "    .dataframe tbody tr th:only-of-type {\n",
       "        vertical-align: middle;\n",
       "    }\n",
       "\n",
       "    .dataframe tbody tr th {\n",
       "        vertical-align: top;\n",
       "    }\n",
       "\n",
       "    .dataframe thead th {\n",
       "        text-align: right;\n",
       "    }\n",
       "</style>\n",
       "<table border=\"1\" class=\"dataframe\">\n",
       "  <thead>\n",
       "    <tr style=\"text-align: right;\">\n",
       "      <th></th>\n",
       "      <th>PCR type</th>\n",
       "      <th>Count</th>\n",
       "    </tr>\n",
       "  </thead>\n",
       "  <tbody>\n",
       "  </tbody>\n",
       "</table>\n",
       "</div>"
      ],
      "text/plain": [
       "Empty DataFrame\n",
       "Columns: [PCR type, Count]\n",
       "Index: []"
      ]
     },
     "execution_count": 26,
     "metadata": {},
     "output_type": "execute_result"
    }
   ],
   "source": [
    "df8=df[(df['Age (Months)'] >12) & (df['Result'] == 'Positive')& (df['PCR Type'] != 'Confirmatory PCR and Baseline VL')]\n",
    "get_results(df8)"
   ]
  },
  {
   "cell_type": "markdown",
   "metadata": {},
   "source": [
    "##### Facilities with PCR positive during normal follow up (both <1 and >1yr)"
   ]
  },
  {
   "cell_type": "code",
   "execution_count": 27,
   "metadata": {
    "ExecuteTime": {
     "end_time": "2021-09-29T10:37:46.918567Z",
     "start_time": "2021-09-29T10:37:46.799641Z"
    }
   },
   "outputs": [
    {
     "name": "stdout",
     "output_type": "stream",
     "text": [
      "Kiandutu Health Centre\n"
     ]
    }
   ],
   "source": [
    "followup_positives = pd.concat([df6,df8])\n",
    "for facility in sorted(followup_positives['Facilty'].unique()):\n",
    "    print(facility)"
   ]
  },
  {
   "cell_type": "code",
   "execution_count": 28,
   "metadata": {
    "ExecuteTime": {
     "end_time": "2021-09-29T10:37:47.075471Z",
     "start_time": "2021-09-29T10:37:46.921565Z"
    }
   },
   "outputs": [
    {
     "data": {
      "text/html": [
       "<div>\n",
       "<style scoped>\n",
       "    .dataframe tbody tr th:only-of-type {\n",
       "        vertical-align: middle;\n",
       "    }\n",
       "\n",
       "    .dataframe tbody tr th {\n",
       "        vertical-align: top;\n",
       "    }\n",
       "\n",
       "    .dataframe thead th {\n",
       "        text-align: right;\n",
       "    }\n",
       "</style>\n",
       "<table border=\"1\" class=\"dataframe\">\n",
       "  <thead>\n",
       "    <tr style=\"text-align: right;\">\n",
       "      <th></th>\n",
       "      <th>System ID</th>\n",
       "      <th>Sample ID</th>\n",
       "      <th>Batch</th>\n",
       "      <th>Lab Tested In</th>\n",
       "      <th>County</th>\n",
       "      <th>Sub-County</th>\n",
       "      <th>Partner</th>\n",
       "      <th>Facilty</th>\n",
       "      <th>Facility Code</th>\n",
       "      <th>Gender</th>\n",
       "      <th>DOB</th>\n",
       "      <th>Age (Months)</th>\n",
       "      <th>PCR Type</th>\n",
       "      <th>Enrollment CCC No</th>\n",
       "      <th>Date Collected</th>\n",
       "      <th>Date Received</th>\n",
       "      <th>Date Tested</th>\n",
       "      <th>Date Dispatched</th>\n",
       "      <th>Infant Prophylaxis</th>\n",
       "      <th>Received Status</th>\n",
       "      <th>Lab Comment</th>\n",
       "      <th>Reason for Repeat</th>\n",
       "      <th>Spots</th>\n",
       "      <th>Feeding</th>\n",
       "      <th>Entry Point</th>\n",
       "      <th>Result</th>\n",
       "      <th>PMTCT Intervention</th>\n",
       "      <th>Mother Result</th>\n",
       "      <th>Mother Age</th>\n",
       "      <th>Mother CCC No</th>\n",
       "      <th>Mother Last VL</th>\n",
       "    </tr>\n",
       "  </thead>\n",
       "  <tbody>\n",
       "    <tr>\n",
       "      <th>0</th>\n",
       "      <td>2459841</td>\n",
       "      <td>16814-21-017</td>\n",
       "      <td>13661</td>\n",
       "      <td>Kenyatta National Hospial Lab, Nairobi</td>\n",
       "      <td>Kiambu</td>\n",
       "      <td>Thika Town</td>\n",
       "      <td>UON CRISSP+</td>\n",
       "      <td>Kiandutu Health Centre</td>\n",
       "      <td>16814</td>\n",
       "      <td>Male</td>\n",
       "      <td>2020-11-12</td>\n",
       "      <td>12.0</td>\n",
       "      <td>2nd PCR (6 months)</td>\n",
       "      <td>1681400814</td>\n",
       "      <td>2021-05-12</td>\n",
       "      <td>2021-05-31</td>\n",
       "      <td>2021-06-07</td>\n",
       "      <td>2021-06-07</td>\n",
       "      <td>AZT for 6 weeks + NVP for &gt;12 weeks</td>\n",
       "      <td>Accepted</td>\n",
       "      <td>NaN</td>\n",
       "      <td>NaN</td>\n",
       "      <td>4.0</td>\n",
       "      <td>EBF</td>\n",
       "      <td>MCH/PMTCT</td>\n",
       "      <td>Positive</td>\n",
       "      <td>PM9 :TDF+3TC+EFV</td>\n",
       "      <td>NaN</td>\n",
       "      <td>26.0</td>\n",
       "      <td>1381401697</td>\n",
       "      <td>NaN</td>\n",
       "    </tr>\n",
       "  </tbody>\n",
       "</table>\n",
       "</div>"
      ],
      "text/plain": [
       "   System ID     Sample ID  Batch                           Lab Tested In  \\\n",
       "0    2459841  16814-21-017  13661  Kenyatta National Hospial Lab, Nairobi   \n",
       "\n",
       "   County   Sub-County      Partner                 Facilty  Facility Code  \\\n",
       "0  Kiambu  Thika Town   UON CRISSP+  Kiandutu Health Centre          16814   \n",
       "\n",
       "  Gender         DOB  Age (Months)            PCR Type Enrollment CCC No  \\\n",
       "0   Male  2020-11-12          12.0  2nd PCR (6 months)        1681400814   \n",
       "\n",
       "  Date Collected Date Received Date Tested Date Dispatched  \\\n",
       "0     2021-05-12    2021-05-31  2021-06-07      2021-06-07   \n",
       "\n",
       "                     Infant Prophylaxis Received Status  Lab Comment  \\\n",
       "0  AZT for 6 weeks + NVP for >12 weeks         Accepted          NaN   \n",
       "\n",
       "   Reason for Repeat  Spots Feeding Entry Point    Result PMTCT Intervention  \\\n",
       "0                NaN    4.0     EBF   MCH/PMTCT  Positive   PM9 :TDF+3TC+EFV   \n",
       "\n",
       "  Mother Result  Mother Age Mother CCC No Mother Last VL  \n",
       "0           NaN        26.0    1381401697            NaN  "
      ]
     },
     "execution_count": 28,
     "metadata": {},
     "output_type": "execute_result"
    }
   ],
   "source": [
    "followup_positives.reset_index(drop=True, inplace=True)\n",
    "followup_positives"
   ]
  },
  {
   "cell_type": "markdown",
   "metadata": {},
   "source": [
    "##### Facilities with positive PCR"
   ]
  },
  {
   "cell_type": "code",
   "execution_count": 29,
   "metadata": {
    "ExecuteTime": {
     "end_time": "2021-09-29T10:37:47.217384Z",
     "start_time": "2021-09-29T10:37:47.079468Z"
    }
   },
   "outputs": [
    {
     "name": "stdout",
     "output_type": "stream",
     "text": [
      "Igegania Health Centre\n",
      "Kiambu District Hospital\n",
      "Kiandutu Health Centre\n",
      "Kigumo Health Centre (Kiambu East)\n",
      "Ngewa Health Centre\n",
      "Ruiru Sub-District Hospital\n"
     ]
    }
   ],
   "source": [
    "total_positives = pd.concat([df1, df3,df8])\n",
    "for facility in sorted(total_positives['Facilty'].unique()):\n",
    "    print(facility)\n"
   ]
  },
  {
   "cell_type": "code",
   "execution_count": 30,
   "metadata": {
    "ExecuteTime": {
     "end_time": "2021-09-29T10:37:47.405268Z",
     "start_time": "2021-09-29T10:37:47.221381Z"
    }
   },
   "outputs": [
    {
     "data": {
      "text/html": [
       "<div>\n",
       "<style scoped>\n",
       "    .dataframe tbody tr th:only-of-type {\n",
       "        vertical-align: middle;\n",
       "    }\n",
       "\n",
       "    .dataframe tbody tr th {\n",
       "        vertical-align: top;\n",
       "    }\n",
       "\n",
       "    .dataframe thead th {\n",
       "        text-align: right;\n",
       "    }\n",
       "</style>\n",
       "<table border=\"1\" class=\"dataframe\">\n",
       "  <thead>\n",
       "    <tr style=\"text-align: right;\">\n",
       "      <th></th>\n",
       "      <th>System ID</th>\n",
       "      <th>Sample ID</th>\n",
       "      <th>Batch</th>\n",
       "      <th>Lab Tested In</th>\n",
       "      <th>County</th>\n",
       "      <th>Sub-County</th>\n",
       "      <th>Partner</th>\n",
       "      <th>Facilty</th>\n",
       "      <th>Facility Code</th>\n",
       "      <th>Gender</th>\n",
       "      <th>DOB</th>\n",
       "      <th>Age (Months)</th>\n",
       "      <th>PCR Type</th>\n",
       "      <th>Enrollment CCC No</th>\n",
       "      <th>Date Collected</th>\n",
       "      <th>Date Received</th>\n",
       "      <th>Date Tested</th>\n",
       "      <th>Date Dispatched</th>\n",
       "      <th>Infant Prophylaxis</th>\n",
       "      <th>Received Status</th>\n",
       "      <th>Lab Comment</th>\n",
       "      <th>Reason for Repeat</th>\n",
       "      <th>Spots</th>\n",
       "      <th>Feeding</th>\n",
       "      <th>Entry Point</th>\n",
       "      <th>Result</th>\n",
       "      <th>PMTCT Intervention</th>\n",
       "      <th>Mother Result</th>\n",
       "      <th>Mother Age</th>\n",
       "      <th>Mother CCC No</th>\n",
       "      <th>Mother Last VL</th>\n",
       "    </tr>\n",
       "  </thead>\n",
       "  <tbody>\n",
       "    <tr>\n",
       "      <th>1133</th>\n",
       "      <td>2469125</td>\n",
       "      <td>10973-2021-0059</td>\n",
       "      <td>13911</td>\n",
       "      <td>Kenyatta National Hospial Lab, Nairobi</td>\n",
       "      <td>Kiambu</td>\n",
       "      <td>Ruiru</td>\n",
       "      <td>UON CRISSP+</td>\n",
       "      <td>Ruiru Sub-District Hospital</td>\n",
       "      <td>10973</td>\n",
       "      <td>Male</td>\n",
       "      <td>2021-05-03</td>\n",
       "      <td>2.0</td>\n",
       "      <td>Initial PCR (6 week or first contact)</td>\n",
       "      <td>1097306440</td>\n",
       "      <td>2021-06-14</td>\n",
       "      <td>2021-06-18</td>\n",
       "      <td>2021-06-25</td>\n",
       "      <td>2021-06-29</td>\n",
       "      <td>AZT for 6 weeks + NVP for &gt;12 weeks</td>\n",
       "      <td>Accepted</td>\n",
       "      <td>NaN</td>\n",
       "      <td>NaN</td>\n",
       "      <td>5.0</td>\n",
       "      <td>EBF</td>\n",
       "      <td>MCH/PMTCT</td>\n",
       "      <td>Positive</td>\n",
       "      <td>No Data</td>\n",
       "      <td>Positive</td>\n",
       "      <td>20.0</td>\n",
       "      <td>NaN</td>\n",
       "      <td>NaN</td>\n",
       "    </tr>\n",
       "    <tr>\n",
       "      <th>1159</th>\n",
       "      <td>2475244</td>\n",
       "      <td>10973-2021-0059</td>\n",
       "      <td>14161</td>\n",
       "      <td>Kenyatta National Hospial Lab, Nairobi</td>\n",
       "      <td>Kiambu</td>\n",
       "      <td>Ruiru</td>\n",
       "      <td>UON CRISSP+</td>\n",
       "      <td>Ruiru Sub-District Hospital</td>\n",
       "      <td>10973</td>\n",
       "      <td>Male</td>\n",
       "      <td>2021-05-03</td>\n",
       "      <td>2.0</td>\n",
       "      <td>Confirmatory PCR and Baseline VL</td>\n",
       "      <td>1097306440</td>\n",
       "      <td>2021-07-01</td>\n",
       "      <td>2021-07-14</td>\n",
       "      <td>2021-07-19</td>\n",
       "      <td>2021-07-19</td>\n",
       "      <td>AZT for 6 weeks + NVP for &gt;12 weeks</td>\n",
       "      <td>Accepted</td>\n",
       "      <td>NaN</td>\n",
       "      <td>NaN</td>\n",
       "      <td>4.0</td>\n",
       "      <td>EBF</td>\n",
       "      <td>MCH/PMTCT</td>\n",
       "      <td>Positive</td>\n",
       "      <td>PM12:TDF+3TC+DTG</td>\n",
       "      <td>Positive</td>\n",
       "      <td>21.0</td>\n",
       "      <td>NaN</td>\n",
       "      <td>19600</td>\n",
       "    </tr>\n",
       "    <tr>\n",
       "      <th>1177</th>\n",
       "      <td>2480021</td>\n",
       "      <td>10973-2021-0079</td>\n",
       "      <td>14321</td>\n",
       "      <td>Kenyatta National Hospial Lab, Nairobi</td>\n",
       "      <td>Kiambu</td>\n",
       "      <td>Ruiru</td>\n",
       "      <td>UON CRISSP+</td>\n",
       "      <td>Ruiru Sub-District Hospital</td>\n",
       "      <td>10973</td>\n",
       "      <td>Male</td>\n",
       "      <td>2021-06-19</td>\n",
       "      <td>2.0</td>\n",
       "      <td>Initial PCR (6 week or first contact)</td>\n",
       "      <td>NaN</td>\n",
       "      <td>2021-08-19</td>\n",
       "      <td>2021-08-23</td>\n",
       "      <td>2021-08-27</td>\n",
       "      <td>2021-08-27</td>\n",
       "      <td>AZT for 6 weeks + NVP for &gt;12 weeks</td>\n",
       "      <td>Accepted</td>\n",
       "      <td>NaN</td>\n",
       "      <td>NaN</td>\n",
       "      <td>4.0</td>\n",
       "      <td>EBF</td>\n",
       "      <td>MCH/PMTCT</td>\n",
       "      <td>Positive</td>\n",
       "      <td>PM12:TDF+3TC+DTG</td>\n",
       "      <td>Positive</td>\n",
       "      <td>27.0</td>\n",
       "      <td>NaN</td>\n",
       "      <td>361</td>\n",
       "    </tr>\n",
       "    <tr>\n",
       "      <th>59</th>\n",
       "      <td>2463895</td>\n",
       "      <td>10338-2021-432</td>\n",
       "      <td>13846</td>\n",
       "      <td>Kenyatta National Hospial Lab, Nairobi</td>\n",
       "      <td>Kiambu</td>\n",
       "      <td>Gatundu North</td>\n",
       "      <td>UON CRISSP+</td>\n",
       "      <td>Igegania Health Centre</td>\n",
       "      <td>10338</td>\n",
       "      <td>Female</td>\n",
       "      <td>2021-03-01</td>\n",
       "      <td>12.0</td>\n",
       "      <td>Initial PCR (6 week or first contact)</td>\n",
       "      <td>1033801425</td>\n",
       "      <td>2021-06-02</td>\n",
       "      <td>2021-06-11</td>\n",
       "      <td>2021-06-17</td>\n",
       "      <td>2021-06-17</td>\n",
       "      <td>AZT for 6 weeks + NVP for 12 weeks</td>\n",
       "      <td>Accepted</td>\n",
       "      <td>NaN</td>\n",
       "      <td>NaN</td>\n",
       "      <td>4.0</td>\n",
       "      <td>EBF</td>\n",
       "      <td>MCH/PMTCT</td>\n",
       "      <td>Positive</td>\n",
       "      <td>PM12:TDF+3TC+DTG</td>\n",
       "      <td>Positive</td>\n",
       "      <td>30.0</td>\n",
       "      <td>NaN</td>\n",
       "      <td>NaN</td>\n",
       "    </tr>\n",
       "    <tr>\n",
       "      <th>255</th>\n",
       "      <td>2474779</td>\n",
       "      <td>10539-2021-0057</td>\n",
       "      <td>14130</td>\n",
       "      <td>Kenyatta National Hospial Lab, Nairobi</td>\n",
       "      <td>Kiambu</td>\n",
       "      <td>Kiambu town</td>\n",
       "      <td>UON CRISSP+</td>\n",
       "      <td>Kiambu District Hospital</td>\n",
       "      <td>10539</td>\n",
       "      <td>Female</td>\n",
       "      <td>2021-03-07</td>\n",
       "      <td>12.0</td>\n",
       "      <td>Initial PCR (6 week or first contact)</td>\n",
       "      <td>NaN</td>\n",
       "      <td>2021-06-25</td>\n",
       "      <td>2021-07-09</td>\n",
       "      <td>2021-07-16</td>\n",
       "      <td>2021-07-16</td>\n",
       "      <td>AZT for 6 weeks + NVP for &gt;12 weeks</td>\n",
       "      <td>Accepted</td>\n",
       "      <td>NaN</td>\n",
       "      <td>NaN</td>\n",
       "      <td>4.0</td>\n",
       "      <td>MBF</td>\n",
       "      <td>IPD</td>\n",
       "      <td>Positive</td>\n",
       "      <td>No Data</td>\n",
       "      <td>Positive</td>\n",
       "      <td>NaN</td>\n",
       "      <td>NaN</td>\n",
       "      <td>NaN</td>\n",
       "    </tr>\n",
       "    <tr>\n",
       "      <th>324</th>\n",
       "      <td>2482782</td>\n",
       "      <td>10587-2021-0013</td>\n",
       "      <td>14475</td>\n",
       "      <td>Kenyatta National Hospial Lab, Nairobi</td>\n",
       "      <td>Kiambu</td>\n",
       "      <td>Githunguri</td>\n",
       "      <td>UON CRISSP+</td>\n",
       "      <td>Kigumo Health Centre (Kiambu East)</td>\n",
       "      <td>10587</td>\n",
       "      <td>Female</td>\n",
       "      <td>2021-02-12</td>\n",
       "      <td>12.0</td>\n",
       "      <td>Initial PCR (6 week or first contact)</td>\n",
       "      <td>NaN</td>\n",
       "      <td>2021-09-06</td>\n",
       "      <td>2021-09-13</td>\n",
       "      <td>2021-09-17</td>\n",
       "      <td>2021-09-17</td>\n",
       "      <td>AZT for 6 weeks + NVP for &gt;12 weeks</td>\n",
       "      <td>Accepted</td>\n",
       "      <td>NaN</td>\n",
       "      <td>NaN</td>\n",
       "      <td>4.0</td>\n",
       "      <td>BF</td>\n",
       "      <td>MCH/PMTCT</td>\n",
       "      <td>Positive</td>\n",
       "      <td>PM12:TDF+3TC+DTG</td>\n",
       "      <td>Positive</td>\n",
       "      <td>24.0</td>\n",
       "      <td>NaN</td>\n",
       "      <td>NaN</td>\n",
       "    </tr>\n",
       "    <tr>\n",
       "      <th>367</th>\n",
       "      <td>2461603</td>\n",
       "      <td>10865-2021-003</td>\n",
       "      <td>13732</td>\n",
       "      <td>Kenyatta National Hospial Lab, Nairobi</td>\n",
       "      <td>Kiambu</td>\n",
       "      <td>Githunguri</td>\n",
       "      <td>UON CRISSP+</td>\n",
       "      <td>Ngewa Health Centre</td>\n",
       "      <td>10865</td>\n",
       "      <td>Female</td>\n",
       "      <td>2021-03-03</td>\n",
       "      <td>12.0</td>\n",
       "      <td>Initial PCR (6 week or first contact)</td>\n",
       "      <td>10865-00598</td>\n",
       "      <td>2021-05-18</td>\n",
       "      <td>2021-06-04</td>\n",
       "      <td>2021-06-11</td>\n",
       "      <td>2021-06-11</td>\n",
       "      <td>AZT for 6 weeks + NVP for &gt;12 weeks</td>\n",
       "      <td>Accepted</td>\n",
       "      <td>NaN</td>\n",
       "      <td>NaN</td>\n",
       "      <td>4.0</td>\n",
       "      <td>EBF</td>\n",
       "      <td>MCH/PMTCT</td>\n",
       "      <td>Positive</td>\n",
       "      <td>PM12:TDF+3TC+DTG</td>\n",
       "      <td>Positive</td>\n",
       "      <td>18.0</td>\n",
       "      <td>NaN</td>\n",
       "      <td>NaN</td>\n",
       "    </tr>\n",
       "    <tr>\n",
       "      <th>934</th>\n",
       "      <td>2459831</td>\n",
       "      <td>16814-21-029</td>\n",
       "      <td>13654</td>\n",
       "      <td>Kenyatta National Hospial Lab, Nairobi</td>\n",
       "      <td>Kiambu</td>\n",
       "      <td>Thika Town</td>\n",
       "      <td>UON CRISSP+</td>\n",
       "      <td>Kiandutu Health Centre</td>\n",
       "      <td>16814</td>\n",
       "      <td>Male</td>\n",
       "      <td>2021-02-18</td>\n",
       "      <td>12.0</td>\n",
       "      <td>Initial PCR (6 week or first contact)</td>\n",
       "      <td>16814001818</td>\n",
       "      <td>2021-05-18</td>\n",
       "      <td>2021-05-31</td>\n",
       "      <td>2021-06-07</td>\n",
       "      <td>2021-06-07</td>\n",
       "      <td>AZT for 6 weeks + NVP for &gt;12 weeks</td>\n",
       "      <td>Accepted</td>\n",
       "      <td>NaN</td>\n",
       "      <td>NaN</td>\n",
       "      <td>4.0</td>\n",
       "      <td>EBF</td>\n",
       "      <td>MCH/PMTCT</td>\n",
       "      <td>Positive</td>\n",
       "      <td>PM12:TDF+3TC+DTG</td>\n",
       "      <td>Positive</td>\n",
       "      <td>38.0</td>\n",
       "      <td>NaN</td>\n",
       "      <td>LDL</td>\n",
       "    </tr>\n",
       "    <tr>\n",
       "      <th>941</th>\n",
       "      <td>2459841</td>\n",
       "      <td>16814-21-017</td>\n",
       "      <td>13661</td>\n",
       "      <td>Kenyatta National Hospial Lab, Nairobi</td>\n",
       "      <td>Kiambu</td>\n",
       "      <td>Thika Town</td>\n",
       "      <td>UON CRISSP+</td>\n",
       "      <td>Kiandutu Health Centre</td>\n",
       "      <td>16814</td>\n",
       "      <td>Male</td>\n",
       "      <td>2020-11-12</td>\n",
       "      <td>12.0</td>\n",
       "      <td>2nd PCR (6 months)</td>\n",
       "      <td>1681400814</td>\n",
       "      <td>2021-05-12</td>\n",
       "      <td>2021-05-31</td>\n",
       "      <td>2021-06-07</td>\n",
       "      <td>2021-06-07</td>\n",
       "      <td>AZT for 6 weeks + NVP for &gt;12 weeks</td>\n",
       "      <td>Accepted</td>\n",
       "      <td>NaN</td>\n",
       "      <td>NaN</td>\n",
       "      <td>4.0</td>\n",
       "      <td>EBF</td>\n",
       "      <td>MCH/PMTCT</td>\n",
       "      <td>Positive</td>\n",
       "      <td>PM9 :TDF+3TC+EFV</td>\n",
       "      <td>NaN</td>\n",
       "      <td>26.0</td>\n",
       "      <td>1381401697</td>\n",
       "      <td>NaN</td>\n",
       "    </tr>\n",
       "    <tr>\n",
       "      <th>950</th>\n",
       "      <td>2469139</td>\n",
       "      <td>16814-2021-036</td>\n",
       "      <td>13933</td>\n",
       "      <td>Kenyatta National Hospial Lab, Nairobi</td>\n",
       "      <td>Kiambu</td>\n",
       "      <td>Thika Town</td>\n",
       "      <td>UON CRISSP+</td>\n",
       "      <td>Kiandutu Health Centre</td>\n",
       "      <td>16814</td>\n",
       "      <td>Male</td>\n",
       "      <td>2020-09-28</td>\n",
       "      <td>12.0</td>\n",
       "      <td>Initial PCR (6 week or first contact)</td>\n",
       "      <td>168140001830</td>\n",
       "      <td>2021-06-14</td>\n",
       "      <td>2021-06-18</td>\n",
       "      <td>2021-06-25</td>\n",
       "      <td>2021-06-29</td>\n",
       "      <td>AZT for 6 weeks + NVP for &gt;12 weeks</td>\n",
       "      <td>Accepted</td>\n",
       "      <td>NaN</td>\n",
       "      <td>NaN</td>\n",
       "      <td>5.0</td>\n",
       "      <td>BF</td>\n",
       "      <td>MCH/PMTCT</td>\n",
       "      <td>Positive</td>\n",
       "      <td>No Data</td>\n",
       "      <td>Positive</td>\n",
       "      <td>42.0</td>\n",
       "      <td>NaN</td>\n",
       "      <td>NaN</td>\n",
       "    </tr>\n",
       "    <tr>\n",
       "      <th>987</th>\n",
       "      <td>2481579</td>\n",
       "      <td>16814-21-047</td>\n",
       "      <td>14372</td>\n",
       "      <td>Kenyatta National Hospial Lab, Nairobi</td>\n",
       "      <td>Kiambu</td>\n",
       "      <td>Thika Town</td>\n",
       "      <td>UON CRISSP+</td>\n",
       "      <td>Kiandutu Health Centre</td>\n",
       "      <td>16814</td>\n",
       "      <td>Female</td>\n",
       "      <td>2021-06-16</td>\n",
       "      <td>12.0</td>\n",
       "      <td>Initial PCR (6 week or first contact)</td>\n",
       "      <td>NaN</td>\n",
       "      <td>2021-08-26</td>\n",
       "      <td>2021-08-27</td>\n",
       "      <td>2021-09-09</td>\n",
       "      <td>2021-09-09</td>\n",
       "      <td>AZT for 6 weeks + NVP for &gt;12 weeks</td>\n",
       "      <td>Accepted</td>\n",
       "      <td>NaN</td>\n",
       "      <td>NaN</td>\n",
       "      <td>4.0</td>\n",
       "      <td>EBF</td>\n",
       "      <td>MCH/PMTCT</td>\n",
       "      <td>Positive</td>\n",
       "      <td>PM12:TDF+3TC+DTG</td>\n",
       "      <td>Positive</td>\n",
       "      <td>23.0</td>\n",
       "      <td>NaN</td>\n",
       "      <td>NaN</td>\n",
       "    </tr>\n",
       "  </tbody>\n",
       "</table>\n",
       "</div>"
      ],
      "text/plain": [
       "      System ID        Sample ID  Batch  \\\n",
       "1133    2469125  10973-2021-0059  13911   \n",
       "1159    2475244  10973-2021-0059  14161   \n",
       "1177    2480021  10973-2021-0079  14321   \n",
       "59      2463895   10338-2021-432  13846   \n",
       "255     2474779  10539-2021-0057  14130   \n",
       "324     2482782  10587-2021-0013  14475   \n",
       "367     2461603   10865-2021-003  13732   \n",
       "934     2459831     16814-21-029  13654   \n",
       "941     2459841     16814-21-017  13661   \n",
       "950     2469139   16814-2021-036  13933   \n",
       "987     2481579     16814-21-047  14372   \n",
       "\n",
       "                               Lab Tested In  County     Sub-County  \\\n",
       "1133  Kenyatta National Hospial Lab, Nairobi  Kiambu          Ruiru   \n",
       "1159  Kenyatta National Hospial Lab, Nairobi  Kiambu          Ruiru   \n",
       "1177  Kenyatta National Hospial Lab, Nairobi  Kiambu          Ruiru   \n",
       "59    Kenyatta National Hospial Lab, Nairobi  Kiambu  Gatundu North   \n",
       "255   Kenyatta National Hospial Lab, Nairobi  Kiambu   Kiambu town    \n",
       "324   Kenyatta National Hospial Lab, Nairobi  Kiambu     Githunguri   \n",
       "367   Kenyatta National Hospial Lab, Nairobi  Kiambu     Githunguri   \n",
       "934   Kenyatta National Hospial Lab, Nairobi  Kiambu    Thika Town    \n",
       "941   Kenyatta National Hospial Lab, Nairobi  Kiambu    Thika Town    \n",
       "950   Kenyatta National Hospial Lab, Nairobi  Kiambu    Thika Town    \n",
       "987   Kenyatta National Hospial Lab, Nairobi  Kiambu    Thika Town    \n",
       "\n",
       "          Partner                             Facilty  Facility Code  Gender  \\\n",
       "1133  UON CRISSP+         Ruiru Sub-District Hospital          10973    Male   \n",
       "1159  UON CRISSP+         Ruiru Sub-District Hospital          10973    Male   \n",
       "1177  UON CRISSP+         Ruiru Sub-District Hospital          10973    Male   \n",
       "59    UON CRISSP+              Igegania Health Centre          10338  Female   \n",
       "255   UON CRISSP+            Kiambu District Hospital          10539  Female   \n",
       "324   UON CRISSP+  Kigumo Health Centre (Kiambu East)          10587  Female   \n",
       "367   UON CRISSP+                 Ngewa Health Centre          10865  Female   \n",
       "934   UON CRISSP+              Kiandutu Health Centre          16814    Male   \n",
       "941   UON CRISSP+              Kiandutu Health Centre          16814    Male   \n",
       "950   UON CRISSP+              Kiandutu Health Centre          16814    Male   \n",
       "987   UON CRISSP+              Kiandutu Health Centre          16814  Female   \n",
       "\n",
       "             DOB  Age (Months)                               PCR Type  \\\n",
       "1133  2021-05-03           2.0  Initial PCR (6 week or first contact)   \n",
       "1159  2021-05-03           2.0       Confirmatory PCR and Baseline VL   \n",
       "1177  2021-06-19           2.0  Initial PCR (6 week or first contact)   \n",
       "59    2021-03-01          12.0  Initial PCR (6 week or first contact)   \n",
       "255   2021-03-07          12.0  Initial PCR (6 week or first contact)   \n",
       "324   2021-02-12          12.0  Initial PCR (6 week or first contact)   \n",
       "367   2021-03-03          12.0  Initial PCR (6 week or first contact)   \n",
       "934   2021-02-18          12.0  Initial PCR (6 week or first contact)   \n",
       "941   2020-11-12          12.0                     2nd PCR (6 months)   \n",
       "950   2020-09-28          12.0  Initial PCR (6 week or first contact)   \n",
       "987   2021-06-16          12.0  Initial PCR (6 week or first contact)   \n",
       "\n",
       "     Enrollment CCC No Date Collected Date Received Date Tested  \\\n",
       "1133        1097306440     2021-06-14    2021-06-18  2021-06-25   \n",
       "1159        1097306440     2021-07-01    2021-07-14  2021-07-19   \n",
       "1177               NaN     2021-08-19    2021-08-23  2021-08-27   \n",
       "59          1033801425     2021-06-02    2021-06-11  2021-06-17   \n",
       "255                NaN     2021-06-25    2021-07-09  2021-07-16   \n",
       "324                NaN     2021-09-06    2021-09-13  2021-09-17   \n",
       "367        10865-00598     2021-05-18    2021-06-04  2021-06-11   \n",
       "934        16814001818     2021-05-18    2021-05-31  2021-06-07   \n",
       "941         1681400814     2021-05-12    2021-05-31  2021-06-07   \n",
       "950       168140001830     2021-06-14    2021-06-18  2021-06-25   \n",
       "987                NaN     2021-08-26    2021-08-27  2021-09-09   \n",
       "\n",
       "     Date Dispatched                    Infant Prophylaxis Received Status  \\\n",
       "1133      2021-06-29  AZT for 6 weeks + NVP for >12 weeks         Accepted   \n",
       "1159      2021-07-19  AZT for 6 weeks + NVP for >12 weeks         Accepted   \n",
       "1177      2021-08-27  AZT for 6 weeks + NVP for >12 weeks         Accepted   \n",
       "59        2021-06-17    AZT for 6 weeks + NVP for 12 weeks        Accepted   \n",
       "255       2021-07-16  AZT for 6 weeks + NVP for >12 weeks         Accepted   \n",
       "324       2021-09-17  AZT for 6 weeks + NVP for >12 weeks         Accepted   \n",
       "367       2021-06-11  AZT for 6 weeks + NVP for >12 weeks         Accepted   \n",
       "934       2021-06-07  AZT for 6 weeks + NVP for >12 weeks         Accepted   \n",
       "941       2021-06-07  AZT for 6 weeks + NVP for >12 weeks         Accepted   \n",
       "950       2021-06-29  AZT for 6 weeks + NVP for >12 weeks         Accepted   \n",
       "987       2021-09-09  AZT for 6 weeks + NVP for >12 weeks         Accepted   \n",
       "\n",
       "      Lab Comment  Reason for Repeat  Spots Feeding Entry Point    Result  \\\n",
       "1133          NaN                NaN    5.0     EBF   MCH/PMTCT  Positive   \n",
       "1159          NaN                NaN    4.0     EBF   MCH/PMTCT  Positive   \n",
       "1177          NaN                NaN    4.0     EBF   MCH/PMTCT  Positive   \n",
       "59            NaN                NaN    4.0     EBF   MCH/PMTCT  Positive   \n",
       "255           NaN                NaN    4.0     MBF         IPD  Positive   \n",
       "324           NaN                NaN    4.0      BF   MCH/PMTCT  Positive   \n",
       "367           NaN                NaN    4.0     EBF   MCH/PMTCT  Positive   \n",
       "934           NaN                NaN    4.0     EBF   MCH/PMTCT  Positive   \n",
       "941           NaN                NaN    4.0     EBF   MCH/PMTCT  Positive   \n",
       "950           NaN                NaN    5.0      BF   MCH/PMTCT  Positive   \n",
       "987           NaN                NaN    4.0     EBF   MCH/PMTCT  Positive   \n",
       "\n",
       "     PMTCT Intervention Mother Result  Mother Age Mother CCC No Mother Last VL  \n",
       "1133            No Data      Positive        20.0           NaN            NaN  \n",
       "1159   PM12:TDF+3TC+DTG      Positive        21.0           NaN          19600  \n",
       "1177   PM12:TDF+3TC+DTG      Positive        27.0           NaN            361  \n",
       "59     PM12:TDF+3TC+DTG      Positive        30.0           NaN            NaN  \n",
       "255             No Data      Positive         NaN           NaN            NaN  \n",
       "324    PM12:TDF+3TC+DTG      Positive        24.0           NaN            NaN  \n",
       "367    PM12:TDF+3TC+DTG      Positive        18.0           NaN            NaN  \n",
       "934    PM12:TDF+3TC+DTG      Positive        38.0           NaN            LDL  \n",
       "941    PM9 :TDF+3TC+EFV           NaN        26.0    1381401697            NaN  \n",
       "950             No Data      Positive        42.0           NaN            NaN  \n",
       "987    PM12:TDF+3TC+DTG      Positive        23.0           NaN            NaN  "
      ]
     },
     "execution_count": 30,
     "metadata": {},
     "output_type": "execute_result"
    }
   ],
   "source": [
    "total_positives.sort_values('County')\n",
    "total_positives"
   ]
  },
  {
   "cell_type": "markdown",
   "metadata": {},
   "source": [
    "##### Available details for children with positive PCR "
   ]
  },
  {
   "cell_type": "code",
   "execution_count": 31,
   "metadata": {
    "ExecuteTime": {
     "end_time": "2021-09-29T10:37:47.674103Z",
     "start_time": "2021-09-29T10:37:47.409265Z"
    }
   },
   "outputs": [
    {
     "data": {
      "text/html": [
       "<div>\n",
       "<style scoped>\n",
       "    .dataframe tbody tr th:only-of-type {\n",
       "        vertical-align: middle;\n",
       "    }\n",
       "\n",
       "    .dataframe tbody tr th {\n",
       "        vertical-align: top;\n",
       "    }\n",
       "\n",
       "    .dataframe thead th {\n",
       "        text-align: right;\n",
       "    }\n",
       "</style>\n",
       "<table border=\"1\" class=\"dataframe\">\n",
       "  <thead>\n",
       "    <tr style=\"text-align: right;\">\n",
       "      <th></th>\n",
       "      <th>County</th>\n",
       "      <th>Facilty</th>\n",
       "      <th>Gender</th>\n",
       "      <th>DOB</th>\n",
       "      <th>Age</th>\n",
       "      <th>Feeding</th>\n",
       "      <th>Date Collected</th>\n",
       "      <th>Date Tested</th>\n",
       "      <th>Infant Prophylaxis</th>\n",
       "    </tr>\n",
       "  </thead>\n",
       "  <tbody>\n",
       "    <tr>\n",
       "      <th>0</th>\n",
       "      <td>Kiambu</td>\n",
       "      <td>Ruiru Sub-District Hospital</td>\n",
       "      <td>Male</td>\n",
       "      <td>2021-05-03</td>\n",
       "      <td>&lt; 2</td>\n",
       "      <td>EBF</td>\n",
       "      <td>2021-06-14</td>\n",
       "      <td>2021-06-25</td>\n",
       "      <td>AZT for 6 weeks + NVP for &gt;12 weeks</td>\n",
       "    </tr>\n",
       "    <tr>\n",
       "      <th>1</th>\n",
       "      <td>Kiambu</td>\n",
       "      <td>Ruiru Sub-District Hospital</td>\n",
       "      <td>Male</td>\n",
       "      <td>2021-05-03</td>\n",
       "      <td>&lt; 2</td>\n",
       "      <td>EBF</td>\n",
       "      <td>2021-07-01</td>\n",
       "      <td>2021-07-19</td>\n",
       "      <td>AZT for 6 weeks + NVP for &gt;12 weeks</td>\n",
       "    </tr>\n",
       "    <tr>\n",
       "      <th>2</th>\n",
       "      <td>Kiambu</td>\n",
       "      <td>Ruiru Sub-District Hospital</td>\n",
       "      <td>Male</td>\n",
       "      <td>2021-06-19</td>\n",
       "      <td>&lt; 2</td>\n",
       "      <td>EBF</td>\n",
       "      <td>2021-08-19</td>\n",
       "      <td>2021-08-27</td>\n",
       "      <td>AZT for 6 weeks + NVP for &gt;12 weeks</td>\n",
       "    </tr>\n",
       "    <tr>\n",
       "      <th>3</th>\n",
       "      <td>Kiambu</td>\n",
       "      <td>Igegania Health Centre</td>\n",
       "      <td>Female</td>\n",
       "      <td>2021-03-01</td>\n",
       "      <td>2-12</td>\n",
       "      <td>EBF</td>\n",
       "      <td>2021-06-02</td>\n",
       "      <td>2021-06-17</td>\n",
       "      <td>AZT for 6 weeks + NVP for 12 weeks</td>\n",
       "    </tr>\n",
       "    <tr>\n",
       "      <th>4</th>\n",
       "      <td>Kiambu</td>\n",
       "      <td>Kiambu District Hospital</td>\n",
       "      <td>Female</td>\n",
       "      <td>2021-03-07</td>\n",
       "      <td>2-12</td>\n",
       "      <td>MBF</td>\n",
       "      <td>2021-06-25</td>\n",
       "      <td>2021-07-16</td>\n",
       "      <td>AZT for 6 weeks + NVP for &gt;12 weeks</td>\n",
       "    </tr>\n",
       "    <tr>\n",
       "      <th>5</th>\n",
       "      <td>Kiambu</td>\n",
       "      <td>Kigumo Health Centre (Kiambu East)</td>\n",
       "      <td>Female</td>\n",
       "      <td>2021-02-12</td>\n",
       "      <td>2-12</td>\n",
       "      <td>BF</td>\n",
       "      <td>2021-09-06</td>\n",
       "      <td>2021-09-17</td>\n",
       "      <td>AZT for 6 weeks + NVP for &gt;12 weeks</td>\n",
       "    </tr>\n",
       "    <tr>\n",
       "      <th>6</th>\n",
       "      <td>Kiambu</td>\n",
       "      <td>Ngewa Health Centre</td>\n",
       "      <td>Female</td>\n",
       "      <td>2021-03-03</td>\n",
       "      <td>2-12</td>\n",
       "      <td>EBF</td>\n",
       "      <td>2021-05-18</td>\n",
       "      <td>2021-06-11</td>\n",
       "      <td>AZT for 6 weeks + NVP for &gt;12 weeks</td>\n",
       "    </tr>\n",
       "    <tr>\n",
       "      <th>7</th>\n",
       "      <td>Kiambu</td>\n",
       "      <td>Kiandutu Health Centre</td>\n",
       "      <td>Male</td>\n",
       "      <td>2021-02-18</td>\n",
       "      <td>2-12</td>\n",
       "      <td>EBF</td>\n",
       "      <td>2021-05-18</td>\n",
       "      <td>2021-06-07</td>\n",
       "      <td>AZT for 6 weeks + NVP for &gt;12 weeks</td>\n",
       "    </tr>\n",
       "    <tr>\n",
       "      <th>8</th>\n",
       "      <td>Kiambu</td>\n",
       "      <td>Kiandutu Health Centre</td>\n",
       "      <td>Male</td>\n",
       "      <td>2020-11-12</td>\n",
       "      <td>2-12</td>\n",
       "      <td>EBF</td>\n",
       "      <td>2021-05-12</td>\n",
       "      <td>2021-06-07</td>\n",
       "      <td>AZT for 6 weeks + NVP for &gt;12 weeks</td>\n",
       "    </tr>\n",
       "    <tr>\n",
       "      <th>9</th>\n",
       "      <td>Kiambu</td>\n",
       "      <td>Kiandutu Health Centre</td>\n",
       "      <td>Male</td>\n",
       "      <td>2020-09-28</td>\n",
       "      <td>2-12</td>\n",
       "      <td>BF</td>\n",
       "      <td>2021-06-14</td>\n",
       "      <td>2021-06-25</td>\n",
       "      <td>AZT for 6 weeks + NVP for &gt;12 weeks</td>\n",
       "    </tr>\n",
       "    <tr>\n",
       "      <th>10</th>\n",
       "      <td>Kiambu</td>\n",
       "      <td>Kiandutu Health Centre</td>\n",
       "      <td>Female</td>\n",
       "      <td>2021-06-16</td>\n",
       "      <td>2-12</td>\n",
       "      <td>EBF</td>\n",
       "      <td>2021-08-26</td>\n",
       "      <td>2021-09-09</td>\n",
       "      <td>AZT for 6 weeks + NVP for &gt;12 weeks</td>\n",
       "    </tr>\n",
       "  </tbody>\n",
       "</table>\n",
       "</div>"
      ],
      "text/plain": [
       "    County                             Facilty  Gender         DOB   Age  \\\n",
       "0   Kiambu         Ruiru Sub-District Hospital    Male  2021-05-03   < 2   \n",
       "1   Kiambu         Ruiru Sub-District Hospital    Male  2021-05-03   < 2   \n",
       "2   Kiambu         Ruiru Sub-District Hospital    Male  2021-06-19   < 2   \n",
       "3   Kiambu              Igegania Health Centre  Female  2021-03-01  2-12   \n",
       "4   Kiambu            Kiambu District Hospital  Female  2021-03-07  2-12   \n",
       "5   Kiambu  Kigumo Health Centre (Kiambu East)  Female  2021-02-12  2-12   \n",
       "6   Kiambu                 Ngewa Health Centre  Female  2021-03-03  2-12   \n",
       "7   Kiambu              Kiandutu Health Centre    Male  2021-02-18  2-12   \n",
       "8   Kiambu              Kiandutu Health Centre    Male  2020-11-12  2-12   \n",
       "9   Kiambu              Kiandutu Health Centre    Male  2020-09-28  2-12   \n",
       "10  Kiambu              Kiandutu Health Centre  Female  2021-06-16  2-12   \n",
       "\n",
       "   Feeding Date Collected Date Tested                    Infant Prophylaxis  \n",
       "0      EBF     2021-06-14  2021-06-25  AZT for 6 weeks + NVP for >12 weeks   \n",
       "1      EBF     2021-07-01  2021-07-19  AZT for 6 weeks + NVP for >12 weeks   \n",
       "2      EBF     2021-08-19  2021-08-27  AZT for 6 weeks + NVP for >12 weeks   \n",
       "3      EBF     2021-06-02  2021-06-17    AZT for 6 weeks + NVP for 12 weeks  \n",
       "4      MBF     2021-06-25  2021-07-16  AZT for 6 weeks + NVP for >12 weeks   \n",
       "5       BF     2021-09-06  2021-09-17  AZT for 6 weeks + NVP for >12 weeks   \n",
       "6      EBF     2021-05-18  2021-06-11  AZT for 6 weeks + NVP for >12 weeks   \n",
       "7      EBF     2021-05-18  2021-06-07  AZT for 6 weeks + NVP for >12 weeks   \n",
       "8      EBF     2021-05-12  2021-06-07  AZT for 6 weeks + NVP for >12 weeks   \n",
       "9       BF     2021-06-14  2021-06-25  AZT for 6 weeks + NVP for >12 weeks   \n",
       "10     EBF     2021-08-26  2021-09-09  AZT for 6 weeks + NVP for >12 weeks   "
      ]
     },
     "execution_count": 31,
     "metadata": {},
     "output_type": "execute_result"
    }
   ],
   "source": [
    "total_positives['Age'] = total_positives['Age (Months)'].apply(age_buckets)\n",
    "available_children_info=total_positives[[\"County\",\"Facilty\",\"Gender\",\"DOB\",\"Age\",\"Feeding\",\"Date Collected\",\"Date Tested\",\n",
    "                                         \"Infant Prophylaxis\"]]\n",
    "available_children_info.reset_index(drop=True, inplace=True)\n",
    "available_children_info"
   ]
  },
  {
   "cell_type": "markdown",
   "metadata": {},
   "source": [
    "##### Available details for mothers with positive PCR babies"
   ]
  },
  {
   "cell_type": "code",
   "execution_count": 32,
   "metadata": {
    "ExecuteTime": {
     "end_time": "2021-09-29T10:37:47.846995Z",
     "start_time": "2021-09-29T10:37:47.678099Z"
    }
   },
   "outputs": [
    {
     "data": {
      "text/html": [
       "<div>\n",
       "<style scoped>\n",
       "    .dataframe tbody tr th:only-of-type {\n",
       "        vertical-align: middle;\n",
       "    }\n",
       "\n",
       "    .dataframe tbody tr th {\n",
       "        vertical-align: top;\n",
       "    }\n",
       "\n",
       "    .dataframe thead th {\n",
       "        text-align: right;\n",
       "    }\n",
       "</style>\n",
       "<table border=\"1\" class=\"dataframe\">\n",
       "  <thead>\n",
       "    <tr style=\"text-align: right;\">\n",
       "      <th></th>\n",
       "      <th>Facilty</th>\n",
       "      <th>Entry Point</th>\n",
       "      <th>PMTCT Intervention</th>\n",
       "      <th>Mother Age</th>\n",
       "      <th>Mother Last VL</th>\n",
       "      <th>Mother CCC No</th>\n",
       "    </tr>\n",
       "  </thead>\n",
       "  <tbody>\n",
       "    <tr>\n",
       "      <th>0</th>\n",
       "      <td>Ruiru Sub-District Hospital</td>\n",
       "      <td>MCH/PMTCT</td>\n",
       "      <td>No Data</td>\n",
       "      <td>20.0</td>\n",
       "      <td>0</td>\n",
       "      <td>0</td>\n",
       "    </tr>\n",
       "    <tr>\n",
       "      <th>1</th>\n",
       "      <td>Ruiru Sub-District Hospital</td>\n",
       "      <td>MCH/PMTCT</td>\n",
       "      <td>PM12:TDF+3TC+DTG</td>\n",
       "      <td>21.0</td>\n",
       "      <td>19600</td>\n",
       "      <td>0</td>\n",
       "    </tr>\n",
       "    <tr>\n",
       "      <th>2</th>\n",
       "      <td>Ruiru Sub-District Hospital</td>\n",
       "      <td>MCH/PMTCT</td>\n",
       "      <td>PM12:TDF+3TC+DTG</td>\n",
       "      <td>27.0</td>\n",
       "      <td>361</td>\n",
       "      <td>0</td>\n",
       "    </tr>\n",
       "    <tr>\n",
       "      <th>3</th>\n",
       "      <td>Igegania Health Centre</td>\n",
       "      <td>MCH/PMTCT</td>\n",
       "      <td>PM12:TDF+3TC+DTG</td>\n",
       "      <td>30.0</td>\n",
       "      <td>0</td>\n",
       "      <td>0</td>\n",
       "    </tr>\n",
       "    <tr>\n",
       "      <th>4</th>\n",
       "      <td>Kiambu District Hospital</td>\n",
       "      <td>IPD</td>\n",
       "      <td>No Data</td>\n",
       "      <td>0.0</td>\n",
       "      <td>0</td>\n",
       "      <td>0</td>\n",
       "    </tr>\n",
       "    <tr>\n",
       "      <th>5</th>\n",
       "      <td>Kigumo Health Centre (Kiambu East)</td>\n",
       "      <td>MCH/PMTCT</td>\n",
       "      <td>PM12:TDF+3TC+DTG</td>\n",
       "      <td>24.0</td>\n",
       "      <td>0</td>\n",
       "      <td>0</td>\n",
       "    </tr>\n",
       "    <tr>\n",
       "      <th>6</th>\n",
       "      <td>Ngewa Health Centre</td>\n",
       "      <td>MCH/PMTCT</td>\n",
       "      <td>PM12:TDF+3TC+DTG</td>\n",
       "      <td>18.0</td>\n",
       "      <td>0</td>\n",
       "      <td>0</td>\n",
       "    </tr>\n",
       "    <tr>\n",
       "      <th>7</th>\n",
       "      <td>Kiandutu Health Centre</td>\n",
       "      <td>MCH/PMTCT</td>\n",
       "      <td>PM12:TDF+3TC+DTG</td>\n",
       "      <td>38.0</td>\n",
       "      <td>LDL</td>\n",
       "      <td>0</td>\n",
       "    </tr>\n",
       "    <tr>\n",
       "      <th>8</th>\n",
       "      <td>Kiandutu Health Centre</td>\n",
       "      <td>MCH/PMTCT</td>\n",
       "      <td>PM9 :TDF+3TC+EFV</td>\n",
       "      <td>26.0</td>\n",
       "      <td>0</td>\n",
       "      <td>1381401697</td>\n",
       "    </tr>\n",
       "    <tr>\n",
       "      <th>9</th>\n",
       "      <td>Kiandutu Health Centre</td>\n",
       "      <td>MCH/PMTCT</td>\n",
       "      <td>No Data</td>\n",
       "      <td>42.0</td>\n",
       "      <td>0</td>\n",
       "      <td>0</td>\n",
       "    </tr>\n",
       "    <tr>\n",
       "      <th>10</th>\n",
       "      <td>Kiandutu Health Centre</td>\n",
       "      <td>MCH/PMTCT</td>\n",
       "      <td>PM12:TDF+3TC+DTG</td>\n",
       "      <td>23.0</td>\n",
       "      <td>0</td>\n",
       "      <td>0</td>\n",
       "    </tr>\n",
       "  </tbody>\n",
       "</table>\n",
       "</div>"
      ],
      "text/plain": [
       "                               Facilty Entry Point PMTCT Intervention  \\\n",
       "0          Ruiru Sub-District Hospital   MCH/PMTCT            No Data   \n",
       "1          Ruiru Sub-District Hospital   MCH/PMTCT   PM12:TDF+3TC+DTG   \n",
       "2          Ruiru Sub-District Hospital   MCH/PMTCT   PM12:TDF+3TC+DTG   \n",
       "3               Igegania Health Centre   MCH/PMTCT   PM12:TDF+3TC+DTG   \n",
       "4             Kiambu District Hospital         IPD            No Data   \n",
       "5   Kigumo Health Centre (Kiambu East)   MCH/PMTCT   PM12:TDF+3TC+DTG   \n",
       "6                  Ngewa Health Centre   MCH/PMTCT   PM12:TDF+3TC+DTG   \n",
       "7               Kiandutu Health Centre   MCH/PMTCT   PM12:TDF+3TC+DTG   \n",
       "8               Kiandutu Health Centre   MCH/PMTCT   PM9 :TDF+3TC+EFV   \n",
       "9               Kiandutu Health Centre   MCH/PMTCT            No Data   \n",
       "10              Kiandutu Health Centre   MCH/PMTCT   PM12:TDF+3TC+DTG   \n",
       "\n",
       "    Mother Age Mother Last VL Mother CCC No  \n",
       "0         20.0              0             0  \n",
       "1         21.0          19600             0  \n",
       "2         27.0            361             0  \n",
       "3         30.0              0             0  \n",
       "4          0.0              0             0  \n",
       "5         24.0              0             0  \n",
       "6         18.0              0             0  \n",
       "7         38.0            LDL             0  \n",
       "8         26.0              0    1381401697  \n",
       "9         42.0              0             0  \n",
       "10        23.0              0             0  "
      ]
     },
     "execution_count": 32,
     "metadata": {},
     "output_type": "execute_result"
    }
   ],
   "source": [
    "available_maternal_info=total_positives[[\"Facilty\",\"Entry Point\",\"PMTCT Intervention\",\"Mother Age\",\"Mother Last VL\",\n",
    "                                         \"Mother CCC No\"]]\n",
    "available_maternal_info.reset_index(drop=True, inplace=True)\n",
    "available_maternal_info.fillna(0)"
   ]
  },
  {
   "cell_type": "markdown",
   "metadata": {},
   "source": [
    "##### Subcounties with positive PCR"
   ]
  },
  {
   "cell_type": "code",
   "execution_count": 33,
   "metadata": {
    "ExecuteTime": {
     "end_time": "2021-09-29T10:37:47.974919Z",
     "start_time": "2021-09-29T10:37:47.849994Z"
    }
   },
   "outputs": [
    {
     "name": "stdout",
     "output_type": "stream",
     "text": [
      "Ruiru\n",
      "Gatundu North\n",
      "Kiambu town \n",
      "Githunguri\n",
      "Thika Town \n"
     ]
    }
   ],
   "source": [
    "for subcounty in total_positives['Sub-County'].unique():\n",
    "    print(subcounty)"
   ]
  },
  {
   "cell_type": "markdown",
   "metadata": {},
   "source": [
    "##### Confirmatory PCRs"
   ]
  },
  {
   "cell_type": "code",
   "execution_count": 34,
   "metadata": {
    "ExecuteTime": {
     "end_time": "2021-09-29T10:37:48.134818Z",
     "start_time": "2021-09-29T10:37:47.977915Z"
    }
   },
   "outputs": [
    {
     "data": {
      "text/html": [
       "<div>\n",
       "<style scoped>\n",
       "    .dataframe tbody tr th:only-of-type {\n",
       "        vertical-align: middle;\n",
       "    }\n",
       "\n",
       "    .dataframe tbody tr th {\n",
       "        vertical-align: top;\n",
       "    }\n",
       "\n",
       "    .dataframe thead th {\n",
       "        text-align: right;\n",
       "    }\n",
       "</style>\n",
       "<table border=\"1\" class=\"dataframe\">\n",
       "  <thead>\n",
       "    <tr style=\"text-align: right;\">\n",
       "      <th></th>\n",
       "      <th>PCR type</th>\n",
       "      <th>Count</th>\n",
       "    </tr>\n",
       "  </thead>\n",
       "  <tbody>\n",
       "    <tr>\n",
       "      <th>0</th>\n",
       "      <td>Confirmatory PCR and Baseline VL</td>\n",
       "      <td>10</td>\n",
       "    </tr>\n",
       "  </tbody>\n",
       "</table>\n",
       "</div>"
      ],
      "text/plain": [
       "                           PCR type  Count\n",
       "0  Confirmatory PCR and Baseline VL     10"
      ]
     },
     "execution_count": 34,
     "metadata": {},
     "output_type": "execute_result"
    }
   ],
   "source": [
    "df7=df[(df['Age (Months)'] >2) & (df['Age (Months)'] <=12) &(df['Result'] == 'Positive') &\n",
    "       (df['PCR Type'] == 'Confirmatory PCR and Baseline VL')]\n",
    "get_results(df7)"
   ]
  },
  {
   "cell_type": "markdown",
   "metadata": {},
   "source": [
    "##### Total number initial PCR done after 2 months of age"
   ]
  },
  {
   "cell_type": "code",
   "execution_count": 35,
   "metadata": {
    "ExecuteTime": {
     "end_time": "2021-09-29T10:37:48.422642Z",
     "start_time": "2021-09-29T10:37:48.137817Z"
    }
   },
   "outputs": [
    {
     "data": {
      "text/html": [
       "<div>\n",
       "<style scoped>\n",
       "    .dataframe tbody tr th:only-of-type {\n",
       "        vertical-align: middle;\n",
       "    }\n",
       "\n",
       "    .dataframe tbody tr th {\n",
       "        vertical-align: top;\n",
       "    }\n",
       "\n",
       "    .dataframe thead th {\n",
       "        text-align: right;\n",
       "    }\n",
       "</style>\n",
       "<table border=\"1\" class=\"dataframe\">\n",
       "  <thead>\n",
       "    <tr style=\"text-align: right;\">\n",
       "      <th></th>\n",
       "      <th>PCR type</th>\n",
       "      <th>Count</th>\n",
       "    </tr>\n",
       "  </thead>\n",
       "  <tbody>\n",
       "    <tr>\n",
       "      <th>0</th>\n",
       "      <td>Initial PCR (6 week or first contact)</td>\n",
       "      <td>159</td>\n",
       "    </tr>\n",
       "  </tbody>\n",
       "</table>\n",
       "</div>"
      ],
      "text/plain": [
       "                                PCR type  Count\n",
       "0  Initial PCR (6 week or first contact)    159"
      ]
     },
     "execution_count": 35,
     "metadata": {},
     "output_type": "execute_result"
    }
   ],
   "source": [
    "df5=df[(df['Age (Months)'] >2) & (df['PCR Type'] ==\"Initial PCR (6 week or first contact)\")]\n",
    "get_results(df5)"
   ]
  },
  {
   "cell_type": "markdown",
   "metadata": {},
   "source": [
    "##### Facilities with initial PCR after 2 months"
   ]
  },
  {
   "cell_type": "code",
   "execution_count": 36,
   "metadata": {
    "ExecuteTime": {
     "end_time": "2021-09-29T10:37:48.483604Z",
     "start_time": "2021-09-29T10:37:48.425640Z"
    }
   },
   "outputs": [
    {
     "data": {
      "text/html": [
       "<div>\n",
       "<style scoped>\n",
       "    .dataframe tbody tr th:only-of-type {\n",
       "        vertical-align: middle;\n",
       "    }\n",
       "\n",
       "    .dataframe tbody tr th {\n",
       "        vertical-align: top;\n",
       "    }\n",
       "\n",
       "    .dataframe thead th {\n",
       "        text-align: right;\n",
       "    }\n",
       "</style>\n",
       "<table border=\"1\" class=\"dataframe\">\n",
       "  <thead>\n",
       "    <tr style=\"text-align: right;\">\n",
       "      <th>col_0</th>\n",
       "      <th>Facilty</th>\n",
       "      <th>Count</th>\n",
       "    </tr>\n",
       "  </thead>\n",
       "  <tbody>\n",
       "    <tr>\n",
       "      <th>25</th>\n",
       "      <td>Ruiru Sub-District Hospital</td>\n",
       "      <td>17</td>\n",
       "    </tr>\n",
       "    <tr>\n",
       "      <th>30</th>\n",
       "      <td>Wangige Health Centre</td>\n",
       "      <td>13</td>\n",
       "    </tr>\n",
       "    <tr>\n",
       "      <th>10</th>\n",
       "      <td>Kiambu District Hospital</td>\n",
       "      <td>13</td>\n",
       "    </tr>\n",
       "    <tr>\n",
       "      <th>14</th>\n",
       "      <td>Langata Health Center (Ruiru)</td>\n",
       "      <td>12</td>\n",
       "    </tr>\n",
       "    <tr>\n",
       "      <th>27</th>\n",
       "      <td>Thika District Hospital</td>\n",
       "      <td>11</td>\n",
       "    </tr>\n",
       "    <tr>\n",
       "      <th>24</th>\n",
       "      <td>Ngoliba Health Centre</td>\n",
       "      <td>7</td>\n",
       "    </tr>\n",
       "    <tr>\n",
       "      <th>17</th>\n",
       "      <td>MAKONGENI DISPENSARY</td>\n",
       "      <td>7</td>\n",
       "    </tr>\n",
       "    <tr>\n",
       "      <th>13</th>\n",
       "      <td>Kihara Sub-District Hospital</td>\n",
       "      <td>7</td>\n",
       "    </tr>\n",
       "    <tr>\n",
       "      <th>26</th>\n",
       "      <td>ST MULUMBA MISSION HOSPITAL</td>\n",
       "      <td>6</td>\n",
       "    </tr>\n",
       "    <tr>\n",
       "      <th>11</th>\n",
       "      <td>Kiandutu Health Centre</td>\n",
       "      <td>6</td>\n",
       "    </tr>\n",
       "    <tr>\n",
       "      <th>0</th>\n",
       "      <td>Gachororo Health Centre</td>\n",
       "      <td>6</td>\n",
       "    </tr>\n",
       "    <tr>\n",
       "      <th>9</th>\n",
       "      <td>Karuri Health Centre</td>\n",
       "      <td>6</td>\n",
       "    </tr>\n",
       "    <tr>\n",
       "      <th>6</th>\n",
       "      <td>Igegania Health Centre</td>\n",
       "      <td>6</td>\n",
       "    </tr>\n",
       "    <tr>\n",
       "      <th>2</th>\n",
       "      <td>Gatundu District Hospital</td>\n",
       "      <td>5</td>\n",
       "    </tr>\n",
       "    <tr>\n",
       "      <th>29</th>\n",
       "      <td>Uthiru Dispensary</td>\n",
       "      <td>4</td>\n",
       "    </tr>\n",
       "    <tr>\n",
       "      <th>20</th>\n",
       "      <td>Munyu Health Centre</td>\n",
       "      <td>4</td>\n",
       "    </tr>\n",
       "    <tr>\n",
       "      <th>21</th>\n",
       "      <td>Ndeiya Health Centre</td>\n",
       "      <td>4</td>\n",
       "    </tr>\n",
       "    <tr>\n",
       "      <th>16</th>\n",
       "      <td>Lussigetti Health Centre</td>\n",
       "      <td>3</td>\n",
       "    </tr>\n",
       "    <tr>\n",
       "      <th>12</th>\n",
       "      <td>Kigumo Health Centre (Kiambu East)</td>\n",
       "      <td>3</td>\n",
       "    </tr>\n",
       "    <tr>\n",
       "      <th>3</th>\n",
       "      <td>Gichuru Dispensary</td>\n",
       "      <td>3</td>\n",
       "    </tr>\n",
       "    <tr>\n",
       "      <th>28</th>\n",
       "      <td>Tigoni District Hospital</td>\n",
       "      <td>3</td>\n",
       "    </tr>\n",
       "    <tr>\n",
       "      <th>1</th>\n",
       "      <td>Gakoe Dispensary</td>\n",
       "      <td>2</td>\n",
       "    </tr>\n",
       "    <tr>\n",
       "      <th>5</th>\n",
       "      <td>Githunguri Health Centre</td>\n",
       "      <td>2</td>\n",
       "    </tr>\n",
       "    <tr>\n",
       "      <th>4</th>\n",
       "      <td>Githunguri  Dispensary</td>\n",
       "      <td>2</td>\n",
       "    </tr>\n",
       "    <tr>\n",
       "      <th>18</th>\n",
       "      <td>Mary Help of the Sick Hospital</td>\n",
       "      <td>1</td>\n",
       "    </tr>\n",
       "    <tr>\n",
       "      <th>19</th>\n",
       "      <td>Miguta Dispensary</td>\n",
       "      <td>1</td>\n",
       "    </tr>\n",
       "    <tr>\n",
       "      <th>22</th>\n",
       "      <td>Ngenda Health Centre</td>\n",
       "      <td>1</td>\n",
       "    </tr>\n",
       "    <tr>\n",
       "      <th>23</th>\n",
       "      <td>Ngewa Health Centre</td>\n",
       "      <td>1</td>\n",
       "    </tr>\n",
       "    <tr>\n",
       "      <th>7</th>\n",
       "      <td>Juja Farm Dispensary</td>\n",
       "      <td>1</td>\n",
       "    </tr>\n",
       "    <tr>\n",
       "      <th>8</th>\n",
       "      <td>Kalimoni Hospital</td>\n",
       "      <td>1</td>\n",
       "    </tr>\n",
       "    <tr>\n",
       "      <th>15</th>\n",
       "      <td>Limuru Health Centre</td>\n",
       "      <td>1</td>\n",
       "    </tr>\n",
       "  </tbody>\n",
       "</table>\n",
       "</div>"
      ],
      "text/plain": [
       "col_0                             Facilty  Count\n",
       "25            Ruiru Sub-District Hospital     17\n",
       "30                  Wangige Health Centre     13\n",
       "10               Kiambu District Hospital     13\n",
       "14          Langata Health Center (Ruiru)     12\n",
       "27                Thika District Hospital     11\n",
       "24                  Ngoliba Health Centre      7\n",
       "17                   MAKONGENI DISPENSARY      7\n",
       "13           Kihara Sub-District Hospital      7\n",
       "26            ST MULUMBA MISSION HOSPITAL      6\n",
       "11                 Kiandutu Health Centre      6\n",
       "0                 Gachororo Health Centre      6\n",
       "9                    Karuri Health Centre      6\n",
       "6                  Igegania Health Centre      6\n",
       "2               Gatundu District Hospital      5\n",
       "29                      Uthiru Dispensary      4\n",
       "20                    Munyu Health Centre      4\n",
       "21                   Ndeiya Health Centre      4\n",
       "16               Lussigetti Health Centre      3\n",
       "12     Kigumo Health Centre (Kiambu East)      3\n",
       "3                      Gichuru Dispensary      3\n",
       "28               Tigoni District Hospital      3\n",
       "1                        Gakoe Dispensary      2\n",
       "5                Githunguri Health Centre      2\n",
       "4                  Githunguri  Dispensary      2\n",
       "18         Mary Help of the Sick Hospital      1\n",
       "19                      Miguta Dispensary      1\n",
       "22                   Ngenda Health Centre      1\n",
       "23                    Ngewa Health Centre      1\n",
       "7                    Juja Farm Dispensary      1\n",
       "8                       Kalimoni Hospital      1\n",
       "15                   Limuru Health Centre      1"
      ]
     },
     "execution_count": 36,
     "metadata": {},
     "output_type": "execute_result"
    }
   ],
   "source": [
    "initial_pcr_less2months=pd.crosstab(df5['Facilty'], columns='Count').reset_index()\n",
    "initial_pcr_less2months\n",
    "initial_pcr_less2months.sort_values('Count',ascending=False)"
   ]
  },
  {
   "cell_type": "markdown",
   "metadata": {},
   "source": [
    "##### PCR Turn Around Time (collection to dispatch)\n",
    "- These are business days. Weekends have been excluded"
   ]
  },
  {
   "cell_type": "code",
   "execution_count": 37,
   "metadata": {
    "ExecuteTime": {
     "end_time": "2021-09-29T10:37:48.609528Z",
     "start_time": "2021-09-29T10:37:48.486602Z"
    }
   },
   "outputs": [
    {
     "data": {
      "text/html": [
       "<div>\n",
       "<style scoped>\n",
       "    .dataframe tbody tr th:only-of-type {\n",
       "        vertical-align: middle;\n",
       "    }\n",
       "\n",
       "    .dataframe tbody tr th {\n",
       "        vertical-align: top;\n",
       "    }\n",
       "\n",
       "    .dataframe thead th {\n",
       "        text-align: right;\n",
       "    }\n",
       "</style>\n",
       "<table border=\"1\" class=\"dataframe\">\n",
       "  <thead>\n",
       "    <tr style=\"text-align: right;\">\n",
       "      <th></th>\n",
       "      <th>Facilty</th>\n",
       "      <th>TAT(days)</th>\n",
       "    </tr>\n",
       "  </thead>\n",
       "  <tbody>\n",
       "    <tr>\n",
       "      <th>0</th>\n",
       "      <td>Miguta Dispensary</td>\n",
       "      <td>34.0</td>\n",
       "    </tr>\n",
       "    <tr>\n",
       "      <th>1</th>\n",
       "      <td>Lussigetti Health Centre</td>\n",
       "      <td>32.0</td>\n",
       "    </tr>\n",
       "    <tr>\n",
       "      <th>2</th>\n",
       "      <td>Limuru Health Centre</td>\n",
       "      <td>30.0</td>\n",
       "    </tr>\n",
       "    <tr>\n",
       "      <th>3</th>\n",
       "      <td>Aid Intergrated Programme Mangu Dispensary</td>\n",
       "      <td>26.0</td>\n",
       "    </tr>\n",
       "    <tr>\n",
       "      <th>4</th>\n",
       "      <td>Gakoe Dispensary</td>\n",
       "      <td>26.0</td>\n",
       "    </tr>\n",
       "    <tr>\n",
       "      <th>5</th>\n",
       "      <td>Ndeiya Health Centre</td>\n",
       "      <td>25.0</td>\n",
       "    </tr>\n",
       "    <tr>\n",
       "      <th>6</th>\n",
       "      <td>Hamundia Dispensary</td>\n",
       "      <td>25.0</td>\n",
       "    </tr>\n",
       "    <tr>\n",
       "      <th>7</th>\n",
       "      <td>Mary Help of the Sick Hospital</td>\n",
       "      <td>24.0</td>\n",
       "    </tr>\n",
       "    <tr>\n",
       "      <th>8</th>\n",
       "      <td>Ngewa Health Centre</td>\n",
       "      <td>23.0</td>\n",
       "    </tr>\n",
       "    <tr>\n",
       "      <th>9</th>\n",
       "      <td>Ngoliba Health Centre</td>\n",
       "      <td>22.0</td>\n",
       "    </tr>\n",
       "    <tr>\n",
       "      <th>10</th>\n",
       "      <td>Gichuru Dispensary</td>\n",
       "      <td>22.0</td>\n",
       "    </tr>\n",
       "    <tr>\n",
       "      <th>11</th>\n",
       "      <td>Kihara Sub-District Hospital</td>\n",
       "      <td>21.0</td>\n",
       "    </tr>\n",
       "    <tr>\n",
       "      <th>12</th>\n",
       "      <td>Langata Health Center (Ruiru)</td>\n",
       "      <td>20.0</td>\n",
       "    </tr>\n",
       "    <tr>\n",
       "      <th>13</th>\n",
       "      <td>Immaculate Heart of Mary Hospital</td>\n",
       "      <td>20.0</td>\n",
       "    </tr>\n",
       "    <tr>\n",
       "      <th>14</th>\n",
       "      <td>Kalimoni Hospital</td>\n",
       "      <td>20.0</td>\n",
       "    </tr>\n",
       "    <tr>\n",
       "      <th>15</th>\n",
       "      <td>Uthiru Dispensary</td>\n",
       "      <td>20.0</td>\n",
       "    </tr>\n",
       "    <tr>\n",
       "      <th>16</th>\n",
       "      <td>Beta Care Nursing Home</td>\n",
       "      <td>20.0</td>\n",
       "    </tr>\n",
       "    <tr>\n",
       "      <th>17</th>\n",
       "      <td>Kigumo Health Centre (Kiambu East)</td>\n",
       "      <td>20.0</td>\n",
       "    </tr>\n",
       "    <tr>\n",
       "      <th>18</th>\n",
       "      <td>Anmer Dispensary</td>\n",
       "      <td>19.0</td>\n",
       "    </tr>\n",
       "    <tr>\n",
       "      <th>19</th>\n",
       "      <td>Ngorongo Health Centre</td>\n",
       "      <td>18.0</td>\n",
       "    </tr>\n",
       "    <tr>\n",
       "      <th>20</th>\n",
       "      <td>Ngenda Health Centre</td>\n",
       "      <td>18.0</td>\n",
       "    </tr>\n",
       "    <tr>\n",
       "      <th>21</th>\n",
       "      <td>Gathanga Dispensary</td>\n",
       "      <td>18.0</td>\n",
       "    </tr>\n",
       "    <tr>\n",
       "      <th>22</th>\n",
       "      <td>Gachege Dispensary</td>\n",
       "      <td>18.0</td>\n",
       "    </tr>\n",
       "    <tr>\n",
       "      <th>23</th>\n",
       "      <td>Igegania Health Centre</td>\n",
       "      <td>17.0</td>\n",
       "    </tr>\n",
       "    <tr>\n",
       "      <th>24</th>\n",
       "      <td>Tigoni District Hospital</td>\n",
       "      <td>17.0</td>\n",
       "    </tr>\n",
       "    <tr>\n",
       "      <th>25</th>\n",
       "      <td>Githunguri Health Centre</td>\n",
       "      <td>17.0</td>\n",
       "    </tr>\n",
       "    <tr>\n",
       "      <th>26</th>\n",
       "      <td>Ruiru Sub-District Hospital</td>\n",
       "      <td>16.0</td>\n",
       "    </tr>\n",
       "    <tr>\n",
       "      <th>27</th>\n",
       "      <td>Wangige Health Centre</td>\n",
       "      <td>16.0</td>\n",
       "    </tr>\n",
       "    <tr>\n",
       "      <th>28</th>\n",
       "      <td>Cianda Dispensary</td>\n",
       "      <td>16.0</td>\n",
       "    </tr>\n",
       "    <tr>\n",
       "      <th>29</th>\n",
       "      <td>Gachororo Health Centre</td>\n",
       "      <td>16.0</td>\n",
       "    </tr>\n",
       "    <tr>\n",
       "      <th>30</th>\n",
       "      <td>Karatu Health Centre</td>\n",
       "      <td>16.0</td>\n",
       "    </tr>\n",
       "    <tr>\n",
       "      <th>31</th>\n",
       "      <td>Kagwe Dispensary</td>\n",
       "      <td>16.0</td>\n",
       "    </tr>\n",
       "    <tr>\n",
       "      <th>32</th>\n",
       "      <td>Gitare Dispensary (Gatundu)</td>\n",
       "      <td>16.0</td>\n",
       "    </tr>\n",
       "    <tr>\n",
       "      <th>33</th>\n",
       "      <td>Githiga Health Centre</td>\n",
       "      <td>16.0</td>\n",
       "    </tr>\n",
       "    <tr>\n",
       "      <th>34</th>\n",
       "      <td>Lari Health Centre</td>\n",
       "      <td>15.0</td>\n",
       "    </tr>\n",
       "    <tr>\n",
       "      <th>35</th>\n",
       "      <td>Kiandutu Health Centre</td>\n",
       "      <td>15.0</td>\n",
       "    </tr>\n",
       "    <tr>\n",
       "      <th>36</th>\n",
       "      <td>Kiambu District Hospital</td>\n",
       "      <td>15.0</td>\n",
       "    </tr>\n",
       "    <tr>\n",
       "      <th>37</th>\n",
       "      <td>Juja Farm Dispensary</td>\n",
       "      <td>15.0</td>\n",
       "    </tr>\n",
       "    <tr>\n",
       "      <th>38</th>\n",
       "      <td>Munyu Health Centre</td>\n",
       "      <td>15.0</td>\n",
       "    </tr>\n",
       "    <tr>\n",
       "      <th>39</th>\n",
       "      <td>Karuri Health Centre</td>\n",
       "      <td>15.0</td>\n",
       "    </tr>\n",
       "    <tr>\n",
       "      <th>40</th>\n",
       "      <td>Nyathuna Health Centre</td>\n",
       "      <td>14.0</td>\n",
       "    </tr>\n",
       "    <tr>\n",
       "      <th>41</th>\n",
       "      <td>Thika District Hospital</td>\n",
       "      <td>12.0</td>\n",
       "    </tr>\n",
       "    <tr>\n",
       "      <th>42</th>\n",
       "      <td>ST MULUMBA MISSION HOSPITAL</td>\n",
       "      <td>11.0</td>\n",
       "    </tr>\n",
       "    <tr>\n",
       "      <th>43</th>\n",
       "      <td>Githunguri  Dispensary</td>\n",
       "      <td>11.0</td>\n",
       "    </tr>\n",
       "    <tr>\n",
       "      <th>44</th>\n",
       "      <td>JKUAT Hospital</td>\n",
       "      <td>10.0</td>\n",
       "    </tr>\n",
       "    <tr>\n",
       "      <th>45</th>\n",
       "      <td>MAKONGENI DISPENSARY</td>\n",
       "      <td>10.0</td>\n",
       "    </tr>\n",
       "    <tr>\n",
       "      <th>46</th>\n",
       "      <td>Gatundu District Hospital</td>\n",
       "      <td>8.0</td>\n",
       "    </tr>\n",
       "  </tbody>\n",
       "</table>\n",
       "</div>"
      ],
      "text/plain": [
       "                                       Facilty  TAT(days)\n",
       "0                            Miguta Dispensary       34.0\n",
       "1                     Lussigetti Health Centre       32.0\n",
       "2                         Limuru Health Centre       30.0\n",
       "3   Aid Intergrated Programme Mangu Dispensary       26.0\n",
       "4                             Gakoe Dispensary       26.0\n",
       "5                         Ndeiya Health Centre       25.0\n",
       "6                          Hamundia Dispensary       25.0\n",
       "7               Mary Help of the Sick Hospital       24.0\n",
       "8                          Ngewa Health Centre       23.0\n",
       "9                        Ngoliba Health Centre       22.0\n",
       "10                          Gichuru Dispensary       22.0\n",
       "11                Kihara Sub-District Hospital       21.0\n",
       "12               Langata Health Center (Ruiru)       20.0\n",
       "13           Immaculate Heart of Mary Hospital       20.0\n",
       "14                           Kalimoni Hospital       20.0\n",
       "15                           Uthiru Dispensary       20.0\n",
       "16                      Beta Care Nursing Home       20.0\n",
       "17          Kigumo Health Centre (Kiambu East)       20.0\n",
       "18                            Anmer Dispensary       19.0\n",
       "19                      Ngorongo Health Centre       18.0\n",
       "20                        Ngenda Health Centre       18.0\n",
       "21                         Gathanga Dispensary       18.0\n",
       "22                          Gachege Dispensary       18.0\n",
       "23                      Igegania Health Centre       17.0\n",
       "24                    Tigoni District Hospital       17.0\n",
       "25                    Githunguri Health Centre       17.0\n",
       "26                 Ruiru Sub-District Hospital       16.0\n",
       "27                       Wangige Health Centre       16.0\n",
       "28                           Cianda Dispensary       16.0\n",
       "29                     Gachororo Health Centre       16.0\n",
       "30                        Karatu Health Centre       16.0\n",
       "31                            Kagwe Dispensary       16.0\n",
       "32                 Gitare Dispensary (Gatundu)       16.0\n",
       "33                       Githiga Health Centre       16.0\n",
       "34                          Lari Health Centre       15.0\n",
       "35                      Kiandutu Health Centre       15.0\n",
       "36                    Kiambu District Hospital       15.0\n",
       "37                        Juja Farm Dispensary       15.0\n",
       "38                         Munyu Health Centre       15.0\n",
       "39                        Karuri Health Centre       15.0\n",
       "40                      Nyathuna Health Centre       14.0\n",
       "41                     Thika District Hospital       12.0\n",
       "42                 ST MULUMBA MISSION HOSPITAL       11.0\n",
       "43                      Githunguri  Dispensary       11.0\n",
       "44                              JKUAT Hospital       10.0\n",
       "45                        MAKONGENI DISPENSARY       10.0\n",
       "46                   Gatundu District Hospital        8.0"
      ]
     },
     "execution_count": 37,
     "metadata": {},
     "output_type": "execute_result"
    }
   ],
   "source": [
    "# convert columns containing date to date data type\n",
    "df.loc[:,'Date Dispatched'] = pd.to_datetime(df['Date Dispatched'])\n",
    "df.loc[:,'Date Collected'] = pd.to_datetime(df['Date Collected'])\n",
    "df.loc[:,'Date Received'] = pd.to_datetime(df['Date Received'])\n",
    "df.loc[:,'Date Tested'] = pd.to_datetime(df['Date Tested'])\n",
    "\n",
    "# collected_not_null = pd.notnull(df['Date Collected'])\n",
    "\n",
    "\n",
    "# df['Date Dispatched'] = df['Date Dispatched'].values.astype('datetime64[D]')\n",
    "# df['Date Collected'] = df['Date Collected'].values.astype('datetime64[D]')\n",
    "# df['Date Received'] = df['Date Received'].values.astype('datetime64[D]')\n",
    "# df['Date Tested'] = df['Date Tested'].values.astype('datetime64[D]')\n",
    "\n",
    "# date1 = pd.to_datetime(date1,format=\"%d/%m/%Y\").date()\n",
    "# date2 = pd.to_datetime(date2,format=\"%d/%m/%Y\").date()\n",
    "\n",
    "# days = np.busday_count( date1 , date2)\n",
    "# df['Date Collected'] = df['Date Collected'].dt.strftime('%Y-%m-%d')\n",
    "# df['Date Dispatched'] = df['Date Dispatched'].dt.strftime('%Y-%m-%d')\n",
    "\n",
    "\n",
    "# add TAT column\n",
    "df['TAT(days)']=df['Date Dispatched']-df['Date Collected']\n",
    "\n",
    "# Remove days in TAT column\n",
    "df['TAT(days)']=df['TAT(days)'].astype('timedelta64[D]')\n",
    "\n",
    "all_results_tat=df.copy()\n",
    "# find the average of TAT grouped by facilities\n",
    "turn_around_time=round(df.groupby(['Facilty']).mean()['TAT(days)'],)\n",
    "df[df[\"Facilty\"]==\"Baricho Health Centre\"]\n",
    "turn_around_time\n",
    "\n",
    "df.head()\n",
    "# convert results into a dataframe and sort TAT column Z-A\n",
    "tat=pd.DataFrame(turn_around_time).sort_values('TAT(days)',ascending=False).reset_index()\n",
    "tat\n",
    "# df.head()"
   ]
  },
  {
   "cell_type": "code",
   "execution_count": 38,
   "metadata": {
    "ExecuteTime": {
     "end_time": "2021-09-29T10:37:48.864369Z",
     "start_time": "2021-09-29T10:37:48.612525Z"
    }
   },
   "outputs": [],
   "source": [
    "\n",
    "def convert_to_business_days(tat):\n",
    "    tat.columns=['Facilty','TAT(days)']\n",
    "    original_columns=tat.columns\n",
    "    tat['weeks']=tat['TAT(days)']/7\n",
    "    # tat['weeks'] = tat.apply(lambda x: math.ceil(x['weeks']), axis=1)\n",
    "    tat['multiplier']=2\n",
    "    tat['weekends days']=tat['weeks']*tat['multiplier']\n",
    "    # tat['weekends days']=math.ceil(tat['weekends days'])\n",
    "    # tat['weekends days'] = tat.apply(lambda x: math.ceil(x['weekends days']), axis=1)\n",
    "    tat['business days']=tat['TAT(days)']-tat['weekends days']\n",
    "    tat['business days'] = tat.apply(lambda x: math.ceil(x['business days']), axis=1)\n",
    "    final_column=[]\n",
    "    for column in original_columns:\n",
    "        final_column.append(column)\n",
    "\n",
    "    added_columns=['weeks','multiplier','weekends days',\"business days\"]\n",
    "    final_column.extend(added_columns)\n",
    "    # tat.columns=\n",
    "    # tat\n",
    "    final_column\n",
    "    tat = tat.set_axis(final_column, axis=1, inplace=False)\n",
    "    tat=tat[['Facilty','business days']]\n",
    "    tat.columns=['Facility','TAT']\n",
    "    tat['TAT']=tat['TAT'].astype(int)\n",
    "#     tat.head(10)\n",
    "    return tat"
   ]
  },
  {
   "cell_type": "code",
   "execution_count": 39,
   "metadata": {
    "ExecuteTime": {
     "end_time": "2021-09-29T10:37:49.036263Z",
     "start_time": "2021-09-29T10:37:48.868367Z"
    }
   },
   "outputs": [
    {
     "name": "stdout",
     "output_type": "stream",
     "text": [
      "Calculated, check below\n",
      "===================================================================================================\n"
     ]
    }
   ],
   "source": [
    "convert_to_business_days(tat)\n",
    "print(\"Calculated, check below\\n===================================================================================================\")"
   ]
  },
  {
   "cell_type": "markdown",
   "metadata": {},
   "source": [
    "#### Average Collection to NASCOP receipt (Sending samples)"
   ]
  },
  {
   "cell_type": "code",
   "execution_count": 40,
   "metadata": {
    "ExecuteTime": {
     "end_time": "2021-09-29T10:37:49.223149Z",
     "start_time": "2021-09-29T10:37:49.040262Z"
    },
    "scrolled": false
   },
   "outputs": [
    {
     "name": "stdout",
     "output_type": "stream",
     "text": [
      "Calculated, check below\n",
      "===================================================================================================\n"
     ]
    }
   ],
   "source": [
    "# add TAT column\n",
    "df['days spent for NASCOP to receive samples']=df['Date Received']-df['Date Collected']\n",
    "\n",
    "# Remove days in TAT column\n",
    "df['days spent for NASCOP to receive samples']=df['days spent for NASCOP to receive samples'].astype('timedelta64[D]')\n",
    "\n",
    "# find the average of TAT grouped by facilities\n",
    "turn_around_time=round(df.groupby(['Facilty']).mean()['days spent for NASCOP to receive samples'],)\n",
    "\n",
    "# convert results into a dataframe and sort TAT column Z-A\n",
    "sending=pd.DataFrame(turn_around_time).sort_values('days spent for NASCOP to receive samples',ascending=False).reset_index()\n",
    "convert_to_business_days(sending)\n",
    "print(\"Calculated, check below\\n===================================================================================================\")"
   ]
  },
  {
   "cell_type": "markdown",
   "metadata": {},
   "source": [
    "#### Processing at NASCOP (Receipt to dispatch)"
   ]
  },
  {
   "cell_type": "code",
   "execution_count": 41,
   "metadata": {
    "ExecuteTime": {
     "end_time": "2021-09-29T10:37:49.363063Z",
     "start_time": "2021-09-29T10:37:49.226146Z"
    },
    "scrolled": true
   },
   "outputs": [
    {
     "name": "stdout",
     "output_type": "stream",
     "text": [
      "Calculated, check below\n",
      "===================================================================================================\n"
     ]
    }
   ],
   "source": [
    "# add TAT column\n",
    "df['Processing To Dispatch']=df['Date Dispatched']-df['Date Tested']\n",
    "\n",
    "# Remove days in TAT column\n",
    "df['Processing To Dispatch']=df['Processing To Dispatch'].astype('timedelta64[D]')\n",
    "\n",
    "# find the average of TAT grouped by facilities\n",
    "turn_around_time=round(df.groupby(['Facilty']).mean()['Processing To Dispatch'],)\n",
    "\n",
    "# convert results into a dataframe and sort TAT column Z-A\n",
    "processing=pd.DataFrame(turn_around_time).sort_values('Processing To Dispatch',ascending=False).reset_index()\n",
    "convert_to_business_days(processing)\n",
    "print(\"Calculated, check below\\n===================================================================================================\")"
   ]
  },
  {
   "cell_type": "markdown",
   "metadata": {},
   "source": [
    "#### receipt to processing"
   ]
  },
  {
   "cell_type": "code",
   "execution_count": 42,
   "metadata": {
    "ExecuteTime": {
     "end_time": "2021-09-29T10:37:49.535958Z",
     "start_time": "2021-09-29T10:37:49.367060Z"
    }
   },
   "outputs": [
    {
     "name": "stdout",
     "output_type": "stream",
     "text": [
      "Calculated, check below\n",
      "===================================================================================================\n"
     ]
    }
   ],
   "source": [
    "# add TAT column\n",
    "df['Receipt To Processing']=df['Date Tested']-df['Date Received']\n",
    "\n",
    "# Remove days in TAT column\n",
    "df['Receipt To Processing']=df['Receipt To Processing'].astype('timedelta64[D]')\n",
    "\n",
    "# find the average of TAT grouped by facilities\n",
    "turn_around_time=round(df.groupby(['Facilty']).mean()['Receipt To Processing'],)\n",
    "\n",
    "# convert results into a dataframe and sort TAT column Z-A\n",
    "receipt_processing=pd.DataFrame(turn_around_time).sort_values('Receipt To Processing',ascending=False).reset_index()\n",
    "convert_to_business_days(receipt_processing)\n",
    "print(\"Calculated, check below\\n===================================================================================================\")"
   ]
  },
  {
   "cell_type": "code",
   "execution_count": 43,
   "metadata": {
    "ExecuteTime": {
     "end_time": "2021-09-29T10:37:49.661878Z",
     "start_time": "2021-09-29T10:37:49.540958Z"
    }
   },
   "outputs": [],
   "source": [
    "sending=sending[['Facilty','business days']]\n",
    "sending.columns=['Facility','collection to receipt']\n",
    "sending.head()\n",
    "\n",
    "processing.head()\n",
    "processing=processing[['Facilty','business days']]\n",
    "processing.columns=['Facility','Processing To Dispatch']\n",
    "\n",
    "receipt_processing.head()\n",
    "receipt_processing=receipt_processing[['Facilty','business days']]\n",
    "receipt_processing.columns=['Facility','Receipt To Processing']\n",
    "# processing.head()\n",
    "\n",
    "tat=tat[['Facilty','business days']]\n",
    "tat.columns=['Facility','Collection to Dispatch']\n",
    "# tat.head()"
   ]
  },
  {
   "cell_type": "code",
   "execution_count": 44,
   "metadata": {
    "ExecuteTime": {
     "end_time": "2021-09-29T10:37:49.787800Z",
     "start_time": "2021-09-29T10:37:49.664878Z"
    }
   },
   "outputs": [],
   "source": [
    "time= pd.merge(sending,receipt_processing, on='Facility', how='outer')\n",
    "time= pd.merge(time,processing, on='Facility', how='outer')\n",
    "time= pd.merge(time,tat, on='Facility', how='outer')\n",
    "# time"
   ]
  },
  {
   "cell_type": "code",
   "execution_count": 45,
   "metadata": {
    "ExecuteTime": {
     "end_time": "2021-09-29T10:37:49.963693Z",
     "start_time": "2021-09-29T10:37:49.790800Z"
    }
   },
   "outputs": [
    {
     "data": {
      "text/html": [
       "<div>\n",
       "<style scoped>\n",
       "    .dataframe tbody tr th:only-of-type {\n",
       "        vertical-align: middle;\n",
       "    }\n",
       "\n",
       "    .dataframe tbody tr th {\n",
       "        vertical-align: top;\n",
       "    }\n",
       "\n",
       "    .dataframe thead th {\n",
       "        text-align: right;\n",
       "    }\n",
       "</style>\n",
       "<table border=\"1\" class=\"dataframe\">\n",
       "  <thead>\n",
       "    <tr style=\"text-align: right;\">\n",
       "      <th></th>\n",
       "      <th>Facility</th>\n",
       "      <th>Collection to Receipt</th>\n",
       "      <th>Receipt To Processing</th>\n",
       "      <th>Processing To Dispatch</th>\n",
       "      <th>Collection to Dispatch</th>\n",
       "    </tr>\n",
       "  </thead>\n",
       "  <tbody>\n",
       "    <tr>\n",
       "      <th>0</th>\n",
       "      <td>Miguta</td>\n",
       "      <td>23</td>\n",
       "      <td>3</td>\n",
       "      <td>0</td>\n",
       "      <td>25</td>\n",
       "    </tr>\n",
       "    <tr>\n",
       "      <th>1</th>\n",
       "      <td>Lussigetti</td>\n",
       "      <td>17</td>\n",
       "      <td>6</td>\n",
       "      <td>1</td>\n",
       "      <td>23</td>\n",
       "    </tr>\n",
       "    <tr>\n",
       "      <th>2</th>\n",
       "      <td>Limuru</td>\n",
       "      <td>16</td>\n",
       "      <td>5</td>\n",
       "      <td>1</td>\n",
       "      <td>22</td>\n",
       "    </tr>\n",
       "    <tr>\n",
       "      <th>45</th>\n",
       "      <td>Aid Intergrated</td>\n",
       "      <td>17</td>\n",
       "      <td>3</td>\n",
       "      <td>0</td>\n",
       "      <td>19</td>\n",
       "    </tr>\n",
       "    <tr>\n",
       "      <th>14</th>\n",
       "      <td>Gakoe</td>\n",
       "      <td>11</td>\n",
       "      <td>8</td>\n",
       "      <td>0</td>\n",
       "      <td>19</td>\n",
       "    </tr>\n",
       "    <tr>\n",
       "      <th>5</th>\n",
       "      <td>Hamundia</td>\n",
       "      <td>14</td>\n",
       "      <td>4</td>\n",
       "      <td>1</td>\n",
       "      <td>18</td>\n",
       "    </tr>\n",
       "    <tr>\n",
       "      <th>4</th>\n",
       "      <td>Ndeiya</td>\n",
       "      <td>15</td>\n",
       "      <td>3</td>\n",
       "      <td>1</td>\n",
       "      <td>18</td>\n",
       "    </tr>\n",
       "    <tr>\n",
       "      <th>3</th>\n",
       "      <td>Mary</td>\n",
       "      <td>15</td>\n",
       "      <td>3</td>\n",
       "      <td>0</td>\n",
       "      <td>18</td>\n",
       "    </tr>\n",
       "    <tr>\n",
       "      <th>9</th>\n",
       "      <td>Ngewa</td>\n",
       "      <td>13</td>\n",
       "      <td>4</td>\n",
       "      <td>1</td>\n",
       "      <td>17</td>\n",
       "    </tr>\n",
       "    <tr>\n",
       "      <th>8</th>\n",
       "      <td>Ngoliba</td>\n",
       "      <td>13</td>\n",
       "      <td>4</td>\n",
       "      <td>1</td>\n",
       "      <td>16</td>\n",
       "    </tr>\n",
       "    <tr>\n",
       "      <th>6</th>\n",
       "      <td>Gichuru</td>\n",
       "      <td>13</td>\n",
       "      <td>3</td>\n",
       "      <td>0</td>\n",
       "      <td>16</td>\n",
       "    </tr>\n",
       "    <tr>\n",
       "      <th>7</th>\n",
       "      <td>Kihara</td>\n",
       "      <td>13</td>\n",
       "      <td>3</td>\n",
       "      <td>0</td>\n",
       "      <td>15</td>\n",
       "    </tr>\n",
       "    <tr>\n",
       "      <th>10</th>\n",
       "      <td>Beta</td>\n",
       "      <td>12</td>\n",
       "      <td>3</td>\n",
       "      <td>0</td>\n",
       "      <td>15</td>\n",
       "    </tr>\n",
       "    <tr>\n",
       "      <th>12</th>\n",
       "      <td>Kalimoni</td>\n",
       "      <td>11</td>\n",
       "      <td>4</td>\n",
       "      <td>0</td>\n",
       "      <td>15</td>\n",
       "    </tr>\n",
       "    <tr>\n",
       "      <th>13</th>\n",
       "      <td>Kigumo</td>\n",
       "      <td>11</td>\n",
       "      <td>3</td>\n",
       "      <td>2</td>\n",
       "      <td>15</td>\n",
       "    </tr>\n",
       "    <tr>\n",
       "      <th>15</th>\n",
       "      <td>Immaculate</td>\n",
       "      <td>11</td>\n",
       "      <td>4</td>\n",
       "      <td>0</td>\n",
       "      <td>15</td>\n",
       "    </tr>\n",
       "    <tr>\n",
       "      <th>16</th>\n",
       "      <td>Langata</td>\n",
       "      <td>10</td>\n",
       "      <td>4</td>\n",
       "      <td>1</td>\n",
       "      <td>15</td>\n",
       "    </tr>\n",
       "    <tr>\n",
       "      <th>22</th>\n",
       "      <td>Uthiru</td>\n",
       "      <td>9</td>\n",
       "      <td>5</td>\n",
       "      <td>0</td>\n",
       "      <td>15</td>\n",
       "    </tr>\n",
       "    <tr>\n",
       "      <th>11</th>\n",
       "      <td>Anmer</td>\n",
       "      <td>12</td>\n",
       "      <td>2</td>\n",
       "      <td>1</td>\n",
       "      <td>14</td>\n",
       "    </tr>\n",
       "    <tr>\n",
       "      <th>26</th>\n",
       "      <td>Ngenda</td>\n",
       "      <td>8</td>\n",
       "      <td>5</td>\n",
       "      <td>1</td>\n",
       "      <td>13</td>\n",
       "    </tr>\n",
       "    <tr>\n",
       "      <th>25</th>\n",
       "      <td>Ngorongo</td>\n",
       "      <td>8</td>\n",
       "      <td>3</td>\n",
       "      <td>2</td>\n",
       "      <td>13</td>\n",
       "    </tr>\n",
       "    <tr>\n",
       "      <th>17</th>\n",
       "      <td>Gachege</td>\n",
       "      <td>10</td>\n",
       "      <td>3</td>\n",
       "      <td>0</td>\n",
       "      <td>13</td>\n",
       "    </tr>\n",
       "    <tr>\n",
       "      <th>20</th>\n",
       "      <td>Githunguri</td>\n",
       "      <td>10</td>\n",
       "      <td>3</td>\n",
       "      <td>1</td>\n",
       "      <td>13</td>\n",
       "    </tr>\n",
       "    <tr>\n",
       "      <th>19</th>\n",
       "      <td>Tigoni</td>\n",
       "      <td>10</td>\n",
       "      <td>3</td>\n",
       "      <td>1</td>\n",
       "      <td>13</td>\n",
       "    </tr>\n",
       "    <tr>\n",
       "      <th>18</th>\n",
       "      <td>Gathanga</td>\n",
       "      <td>10</td>\n",
       "      <td>3</td>\n",
       "      <td>1</td>\n",
       "      <td>13</td>\n",
       "    </tr>\n",
       "    <tr>\n",
       "      <th>32</th>\n",
       "      <td>Igegania</td>\n",
       "      <td>8</td>\n",
       "      <td>5</td>\n",
       "      <td>0</td>\n",
       "      <td>13</td>\n",
       "    </tr>\n",
       "    <tr>\n",
       "      <th>36</th>\n",
       "      <td>Ruiru</td>\n",
       "      <td>8</td>\n",
       "      <td>3</td>\n",
       "      <td>2</td>\n",
       "      <td>12</td>\n",
       "    </tr>\n",
       "    <tr>\n",
       "      <th>34</th>\n",
       "      <td>Karatu</td>\n",
       "      <td>8</td>\n",
       "      <td>3</td>\n",
       "      <td>1</td>\n",
       "      <td>12</td>\n",
       "    </tr>\n",
       "    <tr>\n",
       "      <th>33</th>\n",
       "      <td>Wangige</td>\n",
       "      <td>8</td>\n",
       "      <td>4</td>\n",
       "      <td>0</td>\n",
       "      <td>12</td>\n",
       "    </tr>\n",
       "    <tr>\n",
       "      <th>23</th>\n",
       "      <td>Cianda</td>\n",
       "      <td>9</td>\n",
       "      <td>3</td>\n",
       "      <td>0</td>\n",
       "      <td>12</td>\n",
       "    </tr>\n",
       "    <tr>\n",
       "      <th>29</th>\n",
       "      <td>Gachororo</td>\n",
       "      <td>8</td>\n",
       "      <td>3</td>\n",
       "      <td>1</td>\n",
       "      <td>12</td>\n",
       "    </tr>\n",
       "    <tr>\n",
       "      <th>28</th>\n",
       "      <td>Gitare</td>\n",
       "      <td>8</td>\n",
       "      <td>3</td>\n",
       "      <td>1</td>\n",
       "      <td>12</td>\n",
       "    </tr>\n",
       "    <tr>\n",
       "      <th>21</th>\n",
       "      <td>Kagwe</td>\n",
       "      <td>9</td>\n",
       "      <td>3</td>\n",
       "      <td>0</td>\n",
       "      <td>12</td>\n",
       "    </tr>\n",
       "    <tr>\n",
       "      <th>24</th>\n",
       "      <td>Githiga</td>\n",
       "      <td>9</td>\n",
       "      <td>3</td>\n",
       "      <td>1</td>\n",
       "      <td>12</td>\n",
       "    </tr>\n",
       "    <tr>\n",
       "      <th>30</th>\n",
       "      <td>Karuri</td>\n",
       "      <td>8</td>\n",
       "      <td>3</td>\n",
       "      <td>1</td>\n",
       "      <td>11</td>\n",
       "    </tr>\n",
       "    <tr>\n",
       "      <th>31</th>\n",
       "      <td>Juja</td>\n",
       "      <td>8</td>\n",
       "      <td>3</td>\n",
       "      <td>0</td>\n",
       "      <td>11</td>\n",
       "    </tr>\n",
       "    <tr>\n",
       "      <th>39</th>\n",
       "      <td>Kiandutu</td>\n",
       "      <td>5</td>\n",
       "      <td>5</td>\n",
       "      <td>2</td>\n",
       "      <td>11</td>\n",
       "    </tr>\n",
       "    <tr>\n",
       "      <th>38</th>\n",
       "      <td>Lari</td>\n",
       "      <td>7</td>\n",
       "      <td>4</td>\n",
       "      <td>1</td>\n",
       "      <td>11</td>\n",
       "    </tr>\n",
       "    <tr>\n",
       "      <th>35</th>\n",
       "      <td>Munyu</td>\n",
       "      <td>8</td>\n",
       "      <td>3</td>\n",
       "      <td>0</td>\n",
       "      <td>11</td>\n",
       "    </tr>\n",
       "    <tr>\n",
       "      <th>27</th>\n",
       "      <td>Kiambu</td>\n",
       "      <td>8</td>\n",
       "      <td>3</td>\n",
       "      <td>1</td>\n",
       "      <td>11</td>\n",
       "    </tr>\n",
       "    <tr>\n",
       "      <th>37</th>\n",
       "      <td>Nyathuna</td>\n",
       "      <td>8</td>\n",
       "      <td>3</td>\n",
       "      <td>1</td>\n",
       "      <td>10</td>\n",
       "    </tr>\n",
       "    <tr>\n",
       "      <th>42</th>\n",
       "      <td>Thika</td>\n",
       "      <td>4</td>\n",
       "      <td>5</td>\n",
       "      <td>1</td>\n",
       "      <td>9</td>\n",
       "    </tr>\n",
       "    <tr>\n",
       "      <th>40</th>\n",
       "      <td>Githunguri</td>\n",
       "      <td>5</td>\n",
       "      <td>3</td>\n",
       "      <td>1</td>\n",
       "      <td>8</td>\n",
       "    </tr>\n",
       "    <tr>\n",
       "      <th>41</th>\n",
       "      <td>JKUAT</td>\n",
       "      <td>4</td>\n",
       "      <td>4</td>\n",
       "      <td>0</td>\n",
       "      <td>8</td>\n",
       "    </tr>\n",
       "    <tr>\n",
       "      <th>43</th>\n",
       "      <td>MAKONGENI</td>\n",
       "      <td>3</td>\n",
       "      <td>4</td>\n",
       "      <td>1</td>\n",
       "      <td>8</td>\n",
       "    </tr>\n",
       "    <tr>\n",
       "      <th>46</th>\n",
       "      <td>ST MULUMBA</td>\n",
       "      <td>5</td>\n",
       "      <td>3</td>\n",
       "      <td>1</td>\n",
       "      <td>8</td>\n",
       "    </tr>\n",
       "    <tr>\n",
       "      <th>44</th>\n",
       "      <td>Gatundu</td>\n",
       "      <td>3</td>\n",
       "      <td>3</td>\n",
       "      <td>1</td>\n",
       "      <td>6</td>\n",
       "    </tr>\n",
       "  </tbody>\n",
       "</table>\n",
       "</div>"
      ],
      "text/plain": [
       "           Facility  Collection to Receipt  Receipt To Processing  \\\n",
       "0            Miguta                     23                      3   \n",
       "1        Lussigetti                     17                      6   \n",
       "2            Limuru                     16                      5   \n",
       "45  Aid Intergrated                     17                      3   \n",
       "14            Gakoe                     11                      8   \n",
       "5          Hamundia                     14                      4   \n",
       "4            Ndeiya                     15                      3   \n",
       "3              Mary                     15                      3   \n",
       "9             Ngewa                     13                      4   \n",
       "8           Ngoliba                     13                      4   \n",
       "6           Gichuru                     13                      3   \n",
       "7            Kihara                     13                      3   \n",
       "10             Beta                     12                      3   \n",
       "12         Kalimoni                     11                      4   \n",
       "13           Kigumo                     11                      3   \n",
       "15       Immaculate                     11                      4   \n",
       "16          Langata                     10                      4   \n",
       "22           Uthiru                      9                      5   \n",
       "11            Anmer                     12                      2   \n",
       "26           Ngenda                      8                      5   \n",
       "25         Ngorongo                      8                      3   \n",
       "17          Gachege                     10                      3   \n",
       "20       Githunguri                     10                      3   \n",
       "19           Tigoni                     10                      3   \n",
       "18         Gathanga                     10                      3   \n",
       "32         Igegania                      8                      5   \n",
       "36            Ruiru                      8                      3   \n",
       "34           Karatu                      8                      3   \n",
       "33          Wangige                      8                      4   \n",
       "23           Cianda                      9                      3   \n",
       "29        Gachororo                      8                      3   \n",
       "28           Gitare                      8                      3   \n",
       "21            Kagwe                      9                      3   \n",
       "24          Githiga                      9                      3   \n",
       "30           Karuri                      8                      3   \n",
       "31             Juja                      8                      3   \n",
       "39         Kiandutu                      5                      5   \n",
       "38             Lari                      7                      4   \n",
       "35            Munyu                      8                      3   \n",
       "27           Kiambu                      8                      3   \n",
       "37         Nyathuna                      8                      3   \n",
       "42            Thika                      4                      5   \n",
       "40       Githunguri                      5                      3   \n",
       "41            JKUAT                      4                      4   \n",
       "43        MAKONGENI                      3                      4   \n",
       "46       ST MULUMBA                      5                      3   \n",
       "44          Gatundu                      3                      3   \n",
       "\n",
       "    Processing To Dispatch  Collection to Dispatch  \n",
       "0                        0                      25  \n",
       "1                        1                      23  \n",
       "2                        1                      22  \n",
       "45                       0                      19  \n",
       "14                       0                      19  \n",
       "5                        1                      18  \n",
       "4                        1                      18  \n",
       "3                        0                      18  \n",
       "9                        1                      17  \n",
       "8                        1                      16  \n",
       "6                        0                      16  \n",
       "7                        0                      15  \n",
       "10                       0                      15  \n",
       "12                       0                      15  \n",
       "13                       2                      15  \n",
       "15                       0                      15  \n",
       "16                       1                      15  \n",
       "22                       0                      15  \n",
       "11                       1                      14  \n",
       "26                       1                      13  \n",
       "25                       2                      13  \n",
       "17                       0                      13  \n",
       "20                       1                      13  \n",
       "19                       1                      13  \n",
       "18                       1                      13  \n",
       "32                       0                      13  \n",
       "36                       2                      12  \n",
       "34                       1                      12  \n",
       "33                       0                      12  \n",
       "23                       0                      12  \n",
       "29                       1                      12  \n",
       "28                       1                      12  \n",
       "21                       0                      12  \n",
       "24                       1                      12  \n",
       "30                       1                      11  \n",
       "31                       0                      11  \n",
       "39                       2                      11  \n",
       "38                       1                      11  \n",
       "35                       0                      11  \n",
       "27                       1                      11  \n",
       "37                       1                      10  \n",
       "42                       1                       9  \n",
       "40                       1                       8  \n",
       "41                       0                       8  \n",
       "43                       1                       8  \n",
       "46                       1                       8  \n",
       "44                       1                       6  "
      ]
     },
     "execution_count": 45,
     "metadata": {},
     "output_type": "execute_result"
    }
   ],
   "source": [
    "time['facilities'] = time['Facility'].str.split().str[0]\n",
    "time['ZipLen'] = time['facilities'].astype(str).map(len)\n",
    "converted_facility_names=time.loc[time['ZipLen']<=3]\n",
    "non_converted_facility_names=time.loc[time['ZipLen']>3]\n",
    "\n",
    "non_converted_facility_names=non_converted_facility_names.copy()\n",
    "non_converted_facility_names['facilities1'] = non_converted_facility_names['Facility'].str.split().str[0]\n",
    "\n",
    "\n",
    "converted_facility_names=converted_facility_names.copy()\n",
    "converted_facility_names['facilities1'] = converted_facility_names['Facility'].str.split().str[0] +\" \"+ converted_facility_names['Facility'].str.split().str[1]\n",
    "\n",
    "time = non_converted_facility_names.append(converted_facility_names, ignore_index=True)\n",
    "del time['Facility']\n",
    "del time['ZipLen']\n",
    "del time['facilities']\n",
    "sorted_columns=[\"facilities1\",\"collection to receipt\",\"Receipt To Processing\",\"Processing To Dispatch\",\"Collection to Dispatch\"]\n",
    "time = time.reindex(sorted_columns, axis=1)\n",
    "time = time.rename({'facilities1': 'Facility','collection to receipt':'Collection to Receipt'}, axis=1)  # new method\n",
    "# \n",
    "time=time.sort_values('Collection to Dispatch',ascending =False)\n",
    "time"
   ]
  },
  {
   "cell_type": "markdown",
   "metadata": {},
   "source": [
    "##### Monthly TAT"
   ]
  },
  {
   "cell_type": "code",
   "execution_count": 46,
   "metadata": {
    "ExecuteTime": {
     "end_time": "2021-09-29T10:37:50.087615Z",
     "start_time": "2021-09-29T10:37:49.967691Z"
    }
   },
   "outputs": [],
   "source": [
    "# add a column for months\n",
    "df['month'] = pd.DatetimeIndex(df['Date Dispatched']).month\n",
    "df['year'] = pd.DatetimeIndex(df['Date Dispatched']).year\n",
    "df=df[['Facilty','month','TAT(days)',\"year\"]]"
   ]
  },
  {
   "cell_type": "code",
   "execution_count": 47,
   "metadata": {
    "ExecuteTime": {
     "end_time": "2021-09-29T10:37:50.199548Z",
     "start_time": "2021-09-29T10:37:50.090615Z"
    }
   },
   "outputs": [],
   "source": [
    "def convert_to_business_days(tat):\n",
    "    tat.columns=['month','year','TAT(days)']\n",
    "    original_columns=tat.columns\n",
    "    tat['weeks']=round(tat['TAT(days)']/7,)\n",
    "    tat['multiplier']=2\n",
    "    tat['weekends days']=tat['weeks']*tat['multiplier']\n",
    "    tat['business days']=tat['TAT(days)']-tat['weekends days']\n",
    "    final_column=[]\n",
    "    for column in original_columns:\n",
    "        final_column.append(column)\n",
    "\n",
    "    added_columns=['weeks','multiplier','weekends days',\"business days\"]\n",
    "    final_column.extend(added_columns)\n",
    "    # tat.columns=\n",
    "    # tat\n",
    "    final_column\n",
    "    tat = tat.set_axis(final_column, axis=1, inplace=False)\n",
    "    tat=tat[['month','year','business days']]\n",
    "    tat.columns=['month','year','TAT(days)']\n",
    "    tat['TAT(days)']=tat['TAT(days)'].astype(int)\n",
    "    return tat"
   ]
  },
  {
   "cell_type": "code",
   "execution_count": 48,
   "metadata": {
    "ExecuteTime": {
     "end_time": "2021-09-29T10:37:50.342461Z",
     "start_time": "2021-09-29T10:37:50.201546Z"
    }
   },
   "outputs": [],
   "source": [
    "# find the average TAT grouped by months\n",
    "program_avg_TAT=round(df.groupby(['month','year']).mean()['TAT(days)'],1).reset_index()\n",
    "program_avg_TAT=convert_to_business_days(program_avg_TAT)\n",
    "program_avg_TAT['Month name'] = program_avg_TAT['month'].apply(lambda x: calendar.month_abbr[x])\n",
    "# program_avg_TAT['month']\n",
    "\n",
    "program_avg_TAT['month_year']=pd.to_datetime(program_avg_TAT['year'].astype(str) +\"-\" + program_avg_TAT['month'].astype(int).astype(str) + '-1', format = '%Y-%m')\n",
    "program_avg_TAT=program_avg_TAT.sort_values('month_year')\n",
    "del program_avg_TAT['month']\n",
    "del program_avg_TAT['year']\n",
    "del program_avg_TAT['Month name']\n",
    "# sorted_column=['month_year','T.A.T']\n",
    "# program_avg_TAT = program_avg_TAT.reindex(sorted_columns, axis=1)\n",
    "# program_avg_TAT"
   ]
  },
  {
   "cell_type": "code",
   "execution_count": 49,
   "metadata": {
    "ExecuteTime": {
     "end_time": "2021-09-29T10:37:50.629284Z",
     "start_time": "2021-09-29T10:37:50.345458Z"
    }
   },
   "outputs": [
    {
     "data": {
      "application/vnd.plotly.v1+json": {
       "config": {
        "plotlyServerURL": "https://plot.ly"
       },
       "data": [
        {
         "hovertemplate": "month_year=%{x}<br>TAT(days)=%{text}<extra></extra>",
         "legendgroup": "",
         "line": {
          "color": "#636efa",
          "dash": "solid"
         },
         "mode": "lines+markers+text",
         "name": "",
         "orientation": "v",
         "showlegend": false,
         "text": [
          14,
          11,
          11,
          10
         ],
         "textposition": "top center",
         "type": "scatter",
         "x": [
          "2021-06-01T00:00:00",
          "2021-07-01T00:00:00",
          "2021-08-01T00:00:00",
          "2021-09-01T00:00:00"
         ],
         "xaxis": "x",
         "y": [
          14,
          11,
          11,
          10
         ],
         "yaxis": "y"
        }
       ],
       "layout": {
        "legend": {
         "tracegroupgap": 0
        },
        "template": {
         "data": {
          "bar": [
           {
            "error_x": {
             "color": "#2a3f5f"
            },
            "error_y": {
             "color": "#2a3f5f"
            },
            "marker": {
             "line": {
              "color": "#E5ECF6",
              "width": 0.5
             }
            },
            "type": "bar"
           }
          ],
          "barpolar": [
           {
            "marker": {
             "line": {
              "color": "#E5ECF6",
              "width": 0.5
             }
            },
            "type": "barpolar"
           }
          ],
          "carpet": [
           {
            "aaxis": {
             "endlinecolor": "#2a3f5f",
             "gridcolor": "white",
             "linecolor": "white",
             "minorgridcolor": "white",
             "startlinecolor": "#2a3f5f"
            },
            "baxis": {
             "endlinecolor": "#2a3f5f",
             "gridcolor": "white",
             "linecolor": "white",
             "minorgridcolor": "white",
             "startlinecolor": "#2a3f5f"
            },
            "type": "carpet"
           }
          ],
          "choropleth": [
           {
            "colorbar": {
             "outlinewidth": 0,
             "ticks": ""
            },
            "type": "choropleth"
           }
          ],
          "contour": [
           {
            "colorbar": {
             "outlinewidth": 0,
             "ticks": ""
            },
            "colorscale": [
             [
              0,
              "#0d0887"
             ],
             [
              0.1111111111111111,
              "#46039f"
             ],
             [
              0.2222222222222222,
              "#7201a8"
             ],
             [
              0.3333333333333333,
              "#9c179e"
             ],
             [
              0.4444444444444444,
              "#bd3786"
             ],
             [
              0.5555555555555556,
              "#d8576b"
             ],
             [
              0.6666666666666666,
              "#ed7953"
             ],
             [
              0.7777777777777778,
              "#fb9f3a"
             ],
             [
              0.8888888888888888,
              "#fdca26"
             ],
             [
              1,
              "#f0f921"
             ]
            ],
            "type": "contour"
           }
          ],
          "contourcarpet": [
           {
            "colorbar": {
             "outlinewidth": 0,
             "ticks": ""
            },
            "type": "contourcarpet"
           }
          ],
          "heatmap": [
           {
            "colorbar": {
             "outlinewidth": 0,
             "ticks": ""
            },
            "colorscale": [
             [
              0,
              "#0d0887"
             ],
             [
              0.1111111111111111,
              "#46039f"
             ],
             [
              0.2222222222222222,
              "#7201a8"
             ],
             [
              0.3333333333333333,
              "#9c179e"
             ],
             [
              0.4444444444444444,
              "#bd3786"
             ],
             [
              0.5555555555555556,
              "#d8576b"
             ],
             [
              0.6666666666666666,
              "#ed7953"
             ],
             [
              0.7777777777777778,
              "#fb9f3a"
             ],
             [
              0.8888888888888888,
              "#fdca26"
             ],
             [
              1,
              "#f0f921"
             ]
            ],
            "type": "heatmap"
           }
          ],
          "heatmapgl": [
           {
            "colorbar": {
             "outlinewidth": 0,
             "ticks": ""
            },
            "colorscale": [
             [
              0,
              "#0d0887"
             ],
             [
              0.1111111111111111,
              "#46039f"
             ],
             [
              0.2222222222222222,
              "#7201a8"
             ],
             [
              0.3333333333333333,
              "#9c179e"
             ],
             [
              0.4444444444444444,
              "#bd3786"
             ],
             [
              0.5555555555555556,
              "#d8576b"
             ],
             [
              0.6666666666666666,
              "#ed7953"
             ],
             [
              0.7777777777777778,
              "#fb9f3a"
             ],
             [
              0.8888888888888888,
              "#fdca26"
             ],
             [
              1,
              "#f0f921"
             ]
            ],
            "type": "heatmapgl"
           }
          ],
          "histogram": [
           {
            "marker": {
             "colorbar": {
              "outlinewidth": 0,
              "ticks": ""
             }
            },
            "type": "histogram"
           }
          ],
          "histogram2d": [
           {
            "colorbar": {
             "outlinewidth": 0,
             "ticks": ""
            },
            "colorscale": [
             [
              0,
              "#0d0887"
             ],
             [
              0.1111111111111111,
              "#46039f"
             ],
             [
              0.2222222222222222,
              "#7201a8"
             ],
             [
              0.3333333333333333,
              "#9c179e"
             ],
             [
              0.4444444444444444,
              "#bd3786"
             ],
             [
              0.5555555555555556,
              "#d8576b"
             ],
             [
              0.6666666666666666,
              "#ed7953"
             ],
             [
              0.7777777777777778,
              "#fb9f3a"
             ],
             [
              0.8888888888888888,
              "#fdca26"
             ],
             [
              1,
              "#f0f921"
             ]
            ],
            "type": "histogram2d"
           }
          ],
          "histogram2dcontour": [
           {
            "colorbar": {
             "outlinewidth": 0,
             "ticks": ""
            },
            "colorscale": [
             [
              0,
              "#0d0887"
             ],
             [
              0.1111111111111111,
              "#46039f"
             ],
             [
              0.2222222222222222,
              "#7201a8"
             ],
             [
              0.3333333333333333,
              "#9c179e"
             ],
             [
              0.4444444444444444,
              "#bd3786"
             ],
             [
              0.5555555555555556,
              "#d8576b"
             ],
             [
              0.6666666666666666,
              "#ed7953"
             ],
             [
              0.7777777777777778,
              "#fb9f3a"
             ],
             [
              0.8888888888888888,
              "#fdca26"
             ],
             [
              1,
              "#f0f921"
             ]
            ],
            "type": "histogram2dcontour"
           }
          ],
          "mesh3d": [
           {
            "colorbar": {
             "outlinewidth": 0,
             "ticks": ""
            },
            "type": "mesh3d"
           }
          ],
          "parcoords": [
           {
            "line": {
             "colorbar": {
              "outlinewidth": 0,
              "ticks": ""
             }
            },
            "type": "parcoords"
           }
          ],
          "pie": [
           {
            "automargin": true,
            "type": "pie"
           }
          ],
          "scatter": [
           {
            "marker": {
             "colorbar": {
              "outlinewidth": 0,
              "ticks": ""
             }
            },
            "type": "scatter"
           }
          ],
          "scatter3d": [
           {
            "line": {
             "colorbar": {
              "outlinewidth": 0,
              "ticks": ""
             }
            },
            "marker": {
             "colorbar": {
              "outlinewidth": 0,
              "ticks": ""
             }
            },
            "type": "scatter3d"
           }
          ],
          "scattercarpet": [
           {
            "marker": {
             "colorbar": {
              "outlinewidth": 0,
              "ticks": ""
             }
            },
            "type": "scattercarpet"
           }
          ],
          "scattergeo": [
           {
            "marker": {
             "colorbar": {
              "outlinewidth": 0,
              "ticks": ""
             }
            },
            "type": "scattergeo"
           }
          ],
          "scattergl": [
           {
            "marker": {
             "colorbar": {
              "outlinewidth": 0,
              "ticks": ""
             }
            },
            "type": "scattergl"
           }
          ],
          "scattermapbox": [
           {
            "marker": {
             "colorbar": {
              "outlinewidth": 0,
              "ticks": ""
             }
            },
            "type": "scattermapbox"
           }
          ],
          "scatterpolar": [
           {
            "marker": {
             "colorbar": {
              "outlinewidth": 0,
              "ticks": ""
             }
            },
            "type": "scatterpolar"
           }
          ],
          "scatterpolargl": [
           {
            "marker": {
             "colorbar": {
              "outlinewidth": 0,
              "ticks": ""
             }
            },
            "type": "scatterpolargl"
           }
          ],
          "scatterternary": [
           {
            "marker": {
             "colorbar": {
              "outlinewidth": 0,
              "ticks": ""
             }
            },
            "type": "scatterternary"
           }
          ],
          "surface": [
           {
            "colorbar": {
             "outlinewidth": 0,
             "ticks": ""
            },
            "colorscale": [
             [
              0,
              "#0d0887"
             ],
             [
              0.1111111111111111,
              "#46039f"
             ],
             [
              0.2222222222222222,
              "#7201a8"
             ],
             [
              0.3333333333333333,
              "#9c179e"
             ],
             [
              0.4444444444444444,
              "#bd3786"
             ],
             [
              0.5555555555555556,
              "#d8576b"
             ],
             [
              0.6666666666666666,
              "#ed7953"
             ],
             [
              0.7777777777777778,
              "#fb9f3a"
             ],
             [
              0.8888888888888888,
              "#fdca26"
             ],
             [
              1,
              "#f0f921"
             ]
            ],
            "type": "surface"
           }
          ],
          "table": [
           {
            "cells": {
             "fill": {
              "color": "#EBF0F8"
             },
             "line": {
              "color": "white"
             }
            },
            "header": {
             "fill": {
              "color": "#C8D4E3"
             },
             "line": {
              "color": "white"
             }
            },
            "type": "table"
           }
          ]
         },
         "layout": {
          "annotationdefaults": {
           "arrowcolor": "#2a3f5f",
           "arrowhead": 0,
           "arrowwidth": 1
          },
          "coloraxis": {
           "colorbar": {
            "outlinewidth": 0,
            "ticks": ""
           }
          },
          "colorscale": {
           "diverging": [
            [
             0,
             "#8e0152"
            ],
            [
             0.1,
             "#c51b7d"
            ],
            [
             0.2,
             "#de77ae"
            ],
            [
             0.3,
             "#f1b6da"
            ],
            [
             0.4,
             "#fde0ef"
            ],
            [
             0.5,
             "#f7f7f7"
            ],
            [
             0.6,
             "#e6f5d0"
            ],
            [
             0.7,
             "#b8e186"
            ],
            [
             0.8,
             "#7fbc41"
            ],
            [
             0.9,
             "#4d9221"
            ],
            [
             1,
             "#276419"
            ]
           ],
           "sequential": [
            [
             0,
             "#0d0887"
            ],
            [
             0.1111111111111111,
             "#46039f"
            ],
            [
             0.2222222222222222,
             "#7201a8"
            ],
            [
             0.3333333333333333,
             "#9c179e"
            ],
            [
             0.4444444444444444,
             "#bd3786"
            ],
            [
             0.5555555555555556,
             "#d8576b"
            ],
            [
             0.6666666666666666,
             "#ed7953"
            ],
            [
             0.7777777777777778,
             "#fb9f3a"
            ],
            [
             0.8888888888888888,
             "#fdca26"
            ],
            [
             1,
             "#f0f921"
            ]
           ],
           "sequentialminus": [
            [
             0,
             "#0d0887"
            ],
            [
             0.1111111111111111,
             "#46039f"
            ],
            [
             0.2222222222222222,
             "#7201a8"
            ],
            [
             0.3333333333333333,
             "#9c179e"
            ],
            [
             0.4444444444444444,
             "#bd3786"
            ],
            [
             0.5555555555555556,
             "#d8576b"
            ],
            [
             0.6666666666666666,
             "#ed7953"
            ],
            [
             0.7777777777777778,
             "#fb9f3a"
            ],
            [
             0.8888888888888888,
             "#fdca26"
            ],
            [
             1,
             "#f0f921"
            ]
           ]
          },
          "colorway": [
           "#636efa",
           "#EF553B",
           "#00cc96",
           "#ab63fa",
           "#FFA15A",
           "#19d3f3",
           "#FF6692",
           "#B6E880",
           "#FF97FF",
           "#FECB52"
          ],
          "font": {
           "color": "#2a3f5f"
          },
          "geo": {
           "bgcolor": "white",
           "lakecolor": "white",
           "landcolor": "#E5ECF6",
           "showlakes": true,
           "showland": true,
           "subunitcolor": "white"
          },
          "hoverlabel": {
           "align": "left"
          },
          "hovermode": "closest",
          "mapbox": {
           "style": "light"
          },
          "paper_bgcolor": "white",
          "plot_bgcolor": "#E5ECF6",
          "polar": {
           "angularaxis": {
            "gridcolor": "white",
            "linecolor": "white",
            "ticks": ""
           },
           "bgcolor": "#E5ECF6",
           "radialaxis": {
            "gridcolor": "white",
            "linecolor": "white",
            "ticks": ""
           }
          },
          "scene": {
           "xaxis": {
            "backgroundcolor": "#E5ECF6",
            "gridcolor": "white",
            "gridwidth": 2,
            "linecolor": "white",
            "showbackground": true,
            "ticks": "",
            "zerolinecolor": "white"
           },
           "yaxis": {
            "backgroundcolor": "#E5ECF6",
            "gridcolor": "white",
            "gridwidth": 2,
            "linecolor": "white",
            "showbackground": true,
            "ticks": "",
            "zerolinecolor": "white"
           },
           "zaxis": {
            "backgroundcolor": "#E5ECF6",
            "gridcolor": "white",
            "gridwidth": 2,
            "linecolor": "white",
            "showbackground": true,
            "ticks": "",
            "zerolinecolor": "white"
           }
          },
          "shapedefaults": {
           "line": {
            "color": "#2a3f5f"
           }
          },
          "ternary": {
           "aaxis": {
            "gridcolor": "white",
            "linecolor": "white",
            "ticks": ""
           },
           "baxis": {
            "gridcolor": "white",
            "linecolor": "white",
            "ticks": ""
           },
           "bgcolor": "#E5ECF6",
           "caxis": {
            "gridcolor": "white",
            "linecolor": "white",
            "ticks": ""
           }
          },
          "title": {
           "x": 0.05
          },
          "xaxis": {
           "automargin": true,
           "gridcolor": "white",
           "linecolor": "white",
           "ticks": "",
           "title": {
            "standoff": 15
           },
           "zerolinecolor": "white",
           "zerolinewidth": 2
          },
          "yaxis": {
           "automargin": true,
           "gridcolor": "white",
           "linecolor": "white",
           "ticks": "",
           "title": {
            "standoff": 15
           },
           "zerolinecolor": "white",
           "zerolinewidth": 2
          }
         }
        },
        "title": {
         "text": "Monthly average TAT(days)"
        },
        "xaxis": {
         "anchor": "y",
         "domain": [
          0,
          1
         ],
         "title": {
          "text": "month_year"
         }
        },
        "yaxis": {
         "anchor": "x",
         "domain": [
          0,
          1
         ],
         "title": {
          "text": "TAT(days)"
         }
        }
       }
      },
      "text/html": [
       "<div>                            <div id=\"2183daae-a601-4dda-8051-3990230d6299\" class=\"plotly-graph-div\" style=\"height:525px; width:100%;\"></div>            <script type=\"text/javascript\">                require([\"plotly\"], function(Plotly) {                    window.PLOTLYENV=window.PLOTLYENV || {};                                    if (document.getElementById(\"2183daae-a601-4dda-8051-3990230d6299\")) {                    Plotly.newPlot(                        \"2183daae-a601-4dda-8051-3990230d6299\",                        [{\"hovertemplate\": \"month_year=%{x}<br>TAT(days)=%{text}<extra></extra>\", \"legendgroup\": \"\", \"line\": {\"color\": \"#636efa\", \"dash\": \"solid\"}, \"mode\": \"lines+markers+text\", \"name\": \"\", \"orientation\": \"v\", \"showlegend\": false, \"text\": [14.0, 11.0, 11.0, 10.0], \"textposition\": \"top center\", \"type\": \"scatter\", \"x\": [\"2021-06-01T00:00:00\", \"2021-07-01T00:00:00\", \"2021-08-01T00:00:00\", \"2021-09-01T00:00:00\"], \"xaxis\": \"x\", \"y\": [14, 11, 11, 10], \"yaxis\": \"y\"}],                        {\"legend\": {\"tracegroupgap\": 0}, \"template\": {\"data\": {\"bar\": [{\"error_x\": {\"color\": \"#2a3f5f\"}, \"error_y\": {\"color\": \"#2a3f5f\"}, \"marker\": {\"line\": {\"color\": \"#E5ECF6\", \"width\": 0.5}}, \"type\": \"bar\"}], \"barpolar\": [{\"marker\": {\"line\": {\"color\": \"#E5ECF6\", \"width\": 0.5}}, \"type\": \"barpolar\"}], \"carpet\": [{\"aaxis\": {\"endlinecolor\": \"#2a3f5f\", \"gridcolor\": \"white\", \"linecolor\": \"white\", \"minorgridcolor\": \"white\", \"startlinecolor\": \"#2a3f5f\"}, \"baxis\": {\"endlinecolor\": \"#2a3f5f\", \"gridcolor\": \"white\", \"linecolor\": \"white\", \"minorgridcolor\": \"white\", \"startlinecolor\": \"#2a3f5f\"}, \"type\": \"carpet\"}], \"choropleth\": [{\"colorbar\": {\"outlinewidth\": 0, \"ticks\": \"\"}, \"type\": \"choropleth\"}], \"contour\": [{\"colorbar\": {\"outlinewidth\": 0, \"ticks\": \"\"}, \"colorscale\": [[0.0, \"#0d0887\"], [0.1111111111111111, \"#46039f\"], [0.2222222222222222, \"#7201a8\"], [0.3333333333333333, \"#9c179e\"], [0.4444444444444444, \"#bd3786\"], [0.5555555555555556, \"#d8576b\"], [0.6666666666666666, \"#ed7953\"], [0.7777777777777778, \"#fb9f3a\"], [0.8888888888888888, \"#fdca26\"], [1.0, \"#f0f921\"]], \"type\": \"contour\"}], \"contourcarpet\": [{\"colorbar\": {\"outlinewidth\": 0, \"ticks\": \"\"}, \"type\": \"contourcarpet\"}], \"heatmap\": [{\"colorbar\": {\"outlinewidth\": 0, \"ticks\": \"\"}, \"colorscale\": [[0.0, \"#0d0887\"], [0.1111111111111111, \"#46039f\"], [0.2222222222222222, \"#7201a8\"], [0.3333333333333333, \"#9c179e\"], [0.4444444444444444, \"#bd3786\"], [0.5555555555555556, \"#d8576b\"], [0.6666666666666666, \"#ed7953\"], [0.7777777777777778, \"#fb9f3a\"], [0.8888888888888888, \"#fdca26\"], [1.0, \"#f0f921\"]], \"type\": \"heatmap\"}], \"heatmapgl\": [{\"colorbar\": {\"outlinewidth\": 0, \"ticks\": \"\"}, \"colorscale\": [[0.0, \"#0d0887\"], [0.1111111111111111, \"#46039f\"], [0.2222222222222222, \"#7201a8\"], [0.3333333333333333, \"#9c179e\"], [0.4444444444444444, \"#bd3786\"], [0.5555555555555556, \"#d8576b\"], [0.6666666666666666, \"#ed7953\"], [0.7777777777777778, \"#fb9f3a\"], [0.8888888888888888, \"#fdca26\"], [1.0, \"#f0f921\"]], \"type\": \"heatmapgl\"}], \"histogram\": [{\"marker\": {\"colorbar\": {\"outlinewidth\": 0, \"ticks\": \"\"}}, \"type\": \"histogram\"}], \"histogram2d\": [{\"colorbar\": {\"outlinewidth\": 0, \"ticks\": \"\"}, \"colorscale\": [[0.0, \"#0d0887\"], [0.1111111111111111, \"#46039f\"], [0.2222222222222222, \"#7201a8\"], [0.3333333333333333, \"#9c179e\"], [0.4444444444444444, \"#bd3786\"], [0.5555555555555556, \"#d8576b\"], [0.6666666666666666, \"#ed7953\"], [0.7777777777777778, \"#fb9f3a\"], [0.8888888888888888, \"#fdca26\"], [1.0, \"#f0f921\"]], \"type\": \"histogram2d\"}], \"histogram2dcontour\": [{\"colorbar\": {\"outlinewidth\": 0, \"ticks\": \"\"}, \"colorscale\": [[0.0, \"#0d0887\"], [0.1111111111111111, \"#46039f\"], [0.2222222222222222, \"#7201a8\"], [0.3333333333333333, \"#9c179e\"], [0.4444444444444444, \"#bd3786\"], [0.5555555555555556, \"#d8576b\"], [0.6666666666666666, \"#ed7953\"], [0.7777777777777778, \"#fb9f3a\"], [0.8888888888888888, \"#fdca26\"], [1.0, \"#f0f921\"]], \"type\": \"histogram2dcontour\"}], \"mesh3d\": [{\"colorbar\": {\"outlinewidth\": 0, \"ticks\": \"\"}, \"type\": \"mesh3d\"}], \"parcoords\": [{\"line\": {\"colorbar\": {\"outlinewidth\": 0, \"ticks\": \"\"}}, \"type\": \"parcoords\"}], \"pie\": [{\"automargin\": true, \"type\": \"pie\"}], \"scatter\": [{\"marker\": {\"colorbar\": {\"outlinewidth\": 0, \"ticks\": \"\"}}, \"type\": \"scatter\"}], \"scatter3d\": [{\"line\": {\"colorbar\": {\"outlinewidth\": 0, \"ticks\": \"\"}}, \"marker\": {\"colorbar\": {\"outlinewidth\": 0, \"ticks\": \"\"}}, \"type\": \"scatter3d\"}], \"scattercarpet\": [{\"marker\": {\"colorbar\": {\"outlinewidth\": 0, \"ticks\": \"\"}}, \"type\": \"scattercarpet\"}], \"scattergeo\": [{\"marker\": {\"colorbar\": {\"outlinewidth\": 0, \"ticks\": \"\"}}, \"type\": \"scattergeo\"}], \"scattergl\": [{\"marker\": {\"colorbar\": {\"outlinewidth\": 0, \"ticks\": \"\"}}, \"type\": \"scattergl\"}], \"scattermapbox\": [{\"marker\": {\"colorbar\": {\"outlinewidth\": 0, \"ticks\": \"\"}}, \"type\": \"scattermapbox\"}], \"scatterpolar\": [{\"marker\": {\"colorbar\": {\"outlinewidth\": 0, \"ticks\": \"\"}}, \"type\": \"scatterpolar\"}], \"scatterpolargl\": [{\"marker\": {\"colorbar\": {\"outlinewidth\": 0, \"ticks\": \"\"}}, \"type\": \"scatterpolargl\"}], \"scatterternary\": [{\"marker\": {\"colorbar\": {\"outlinewidth\": 0, \"ticks\": \"\"}}, \"type\": \"scatterternary\"}], \"surface\": [{\"colorbar\": {\"outlinewidth\": 0, \"ticks\": \"\"}, \"colorscale\": [[0.0, \"#0d0887\"], [0.1111111111111111, \"#46039f\"], [0.2222222222222222, \"#7201a8\"], [0.3333333333333333, \"#9c179e\"], [0.4444444444444444, \"#bd3786\"], [0.5555555555555556, \"#d8576b\"], [0.6666666666666666, \"#ed7953\"], [0.7777777777777778, \"#fb9f3a\"], [0.8888888888888888, \"#fdca26\"], [1.0, \"#f0f921\"]], \"type\": \"surface\"}], \"table\": [{\"cells\": {\"fill\": {\"color\": \"#EBF0F8\"}, \"line\": {\"color\": \"white\"}}, \"header\": {\"fill\": {\"color\": \"#C8D4E3\"}, \"line\": {\"color\": \"white\"}}, \"type\": \"table\"}]}, \"layout\": {\"annotationdefaults\": {\"arrowcolor\": \"#2a3f5f\", \"arrowhead\": 0, \"arrowwidth\": 1}, \"coloraxis\": {\"colorbar\": {\"outlinewidth\": 0, \"ticks\": \"\"}}, \"colorscale\": {\"diverging\": [[0, \"#8e0152\"], [0.1, \"#c51b7d\"], [0.2, \"#de77ae\"], [0.3, \"#f1b6da\"], [0.4, \"#fde0ef\"], [0.5, \"#f7f7f7\"], [0.6, \"#e6f5d0\"], [0.7, \"#b8e186\"], [0.8, \"#7fbc41\"], [0.9, \"#4d9221\"], [1, \"#276419\"]], \"sequential\": [[0.0, \"#0d0887\"], [0.1111111111111111, \"#46039f\"], [0.2222222222222222, \"#7201a8\"], [0.3333333333333333, \"#9c179e\"], [0.4444444444444444, \"#bd3786\"], [0.5555555555555556, \"#d8576b\"], [0.6666666666666666, \"#ed7953\"], [0.7777777777777778, \"#fb9f3a\"], [0.8888888888888888, \"#fdca26\"], [1.0, \"#f0f921\"]], \"sequentialminus\": [[0.0, \"#0d0887\"], [0.1111111111111111, \"#46039f\"], [0.2222222222222222, \"#7201a8\"], [0.3333333333333333, \"#9c179e\"], [0.4444444444444444, \"#bd3786\"], [0.5555555555555556, \"#d8576b\"], [0.6666666666666666, \"#ed7953\"], [0.7777777777777778, \"#fb9f3a\"], [0.8888888888888888, \"#fdca26\"], [1.0, \"#f0f921\"]]}, \"colorway\": [\"#636efa\", \"#EF553B\", \"#00cc96\", \"#ab63fa\", \"#FFA15A\", \"#19d3f3\", \"#FF6692\", \"#B6E880\", \"#FF97FF\", \"#FECB52\"], \"font\": {\"color\": \"#2a3f5f\"}, \"geo\": {\"bgcolor\": \"white\", \"lakecolor\": \"white\", \"landcolor\": \"#E5ECF6\", \"showlakes\": true, \"showland\": true, \"subunitcolor\": \"white\"}, \"hoverlabel\": {\"align\": \"left\"}, \"hovermode\": \"closest\", \"mapbox\": {\"style\": \"light\"}, \"paper_bgcolor\": \"white\", \"plot_bgcolor\": \"#E5ECF6\", \"polar\": {\"angularaxis\": {\"gridcolor\": \"white\", \"linecolor\": \"white\", \"ticks\": \"\"}, \"bgcolor\": \"#E5ECF6\", \"radialaxis\": {\"gridcolor\": \"white\", \"linecolor\": \"white\", \"ticks\": \"\"}}, \"scene\": {\"xaxis\": {\"backgroundcolor\": \"#E5ECF6\", \"gridcolor\": \"white\", \"gridwidth\": 2, \"linecolor\": \"white\", \"showbackground\": true, \"ticks\": \"\", \"zerolinecolor\": \"white\"}, \"yaxis\": {\"backgroundcolor\": \"#E5ECF6\", \"gridcolor\": \"white\", \"gridwidth\": 2, \"linecolor\": \"white\", \"showbackground\": true, \"ticks\": \"\", \"zerolinecolor\": \"white\"}, \"zaxis\": {\"backgroundcolor\": \"#E5ECF6\", \"gridcolor\": \"white\", \"gridwidth\": 2, \"linecolor\": \"white\", \"showbackground\": true, \"ticks\": \"\", \"zerolinecolor\": \"white\"}}, \"shapedefaults\": {\"line\": {\"color\": \"#2a3f5f\"}}, \"ternary\": {\"aaxis\": {\"gridcolor\": \"white\", \"linecolor\": \"white\", \"ticks\": \"\"}, \"baxis\": {\"gridcolor\": \"white\", \"linecolor\": \"white\", \"ticks\": \"\"}, \"bgcolor\": \"#E5ECF6\", \"caxis\": {\"gridcolor\": \"white\", \"linecolor\": \"white\", \"ticks\": \"\"}}, \"title\": {\"x\": 0.05}, \"xaxis\": {\"automargin\": true, \"gridcolor\": \"white\", \"linecolor\": \"white\", \"ticks\": \"\", \"title\": {\"standoff\": 15}, \"zerolinecolor\": \"white\", \"zerolinewidth\": 2}, \"yaxis\": {\"automargin\": true, \"gridcolor\": \"white\", \"linecolor\": \"white\", \"ticks\": \"\", \"title\": {\"standoff\": 15}, \"zerolinecolor\": \"white\", \"zerolinewidth\": 2}}}, \"title\": {\"text\": \"Monthly average TAT(days)\"}, \"xaxis\": {\"anchor\": \"y\", \"domain\": [0.0, 1.0], \"title\": {\"text\": \"month_year\"}}, \"yaxis\": {\"anchor\": \"x\", \"domain\": [0.0, 1.0], \"title\": {\"text\": \"TAT(days)\"}}},                        {\"responsive\": true}                    ).then(function(){\n",
       "                            \n",
       "var gd = document.getElementById('2183daae-a601-4dda-8051-3990230d6299');\n",
       "var x = new MutationObserver(function (mutations, observer) {{\n",
       "        var display = window.getComputedStyle(gd).display;\n",
       "        if (!display || display === 'none') {{\n",
       "            console.log([gd, 'removed!']);\n",
       "            Plotly.purge(gd);\n",
       "            observer.disconnect();\n",
       "        }}\n",
       "}});\n",
       "\n",
       "// Listen for the removal of the full notebook cells\n",
       "var notebookContainer = gd.closest('#notebook-container');\n",
       "if (notebookContainer) {{\n",
       "    x.observe(notebookContainer, {childList: true});\n",
       "}}\n",
       "\n",
       "// Listen for the clearing of the current output cell\n",
       "var outputEl = gd.closest('.output');\n",
       "if (outputEl) {{\n",
       "    x.observe(outputEl, {childList: true});\n",
       "}}\n",
       "\n",
       "                        })                };                });            </script>        </div>"
      ]
     },
     "metadata": {},
     "output_type": "display_data"
    }
   ],
   "source": [
    "# \";\" remove <matplotlib.axes._subplots.AxesSubplot at 0x204f3872460> above the graph.\n",
    "# program_avg_TAT.plot(x='month',y='TAT(days)');\n",
    "\n",
    "\n",
    "fig=px.line(program_avg_TAT,x='month_year',y='TAT(days)',title='Monthly average TAT(days)',text='TAT(days)',)\n",
    "#           color_continuous_scale=[\"green\", \"yellow\", \"red\"])\n",
    "fig.update_traces(textposition=\"top center\")\n",
    "# fig.update_layout(uniformtext_minsize=9, uniformtext_mode='hide')\n",
    "# fig.update_xaxes(tickangle=45)\n",
    "fig.show()\n",
    "# program_avg_TAT.iplot()"
   ]
  },
  {
   "cell_type": "markdown",
   "metadata": {},
   "source": [
    "#### Correlation"
   ]
  },
  {
   "cell_type": "code",
   "execution_count": 50,
   "metadata": {
    "ExecuteTime": {
     "end_time": "2021-09-29T10:37:51.290876Z",
     "start_time": "2021-09-29T10:37:50.632281Z"
    }
   },
   "outputs": [
    {
     "data": {
      "image/png": "[encoded data removed]",
      "text/plain": [
       "<Figure size 1152x432 with 2 Axes>"
      ]
     },
     "metadata": {
      "needs_background": "light"
     },
     "output_type": "display_data"
    }
   ],
   "source": [
    "# plotting correlation heatmap\n",
    "plt.figure(figsize=(16, 6))\n",
    "\n",
    "dataplot = sns.heatmap(time.corr(),  annot=True,vmin=1, vmax=-1,);\n",
    "dataplot.set_title('Correlation Heatmap', fontdict={'fontsize':18}, pad=12);"
   ]
  },
  {
   "cell_type": "markdown",
   "metadata": {},
   "source": [
    "#### Linear relationships"
   ]
  },
  {
   "cell_type": "code",
   "execution_count": 51,
   "metadata": {
    "ExecuteTime": {
     "end_time": "2021-09-29T10:37:52.695011Z",
     "start_time": "2021-09-29T10:37:51.294873Z"
    }
   },
   "outputs": [
    {
     "data": {
      "image/png": "[encoded data removed]",
      "text/plain": [
       "<Figure size 756x360 with 3 Axes>"
      ]
     },
     "metadata": {
      "needs_background": "light"
     },
     "output_type": "display_data"
    }
   ],
   "source": [
    "sns.pairplot(time,x_vars=['Collection to Receipt','Receipt To Processing','Processing To Dispatch'],y_vars=\"Collection to Dispatch\", height=5,aspect=0.7,kind='reg');"
   ]
  },
  {
   "cell_type": "code",
   "execution_count": 52,
   "metadata": {
    "ExecuteTime": {
     "end_time": "2021-09-29T10:37:52.711002Z",
     "start_time": "2021-09-29T10:37:52.699009Z"
    }
   },
   "outputs": [],
   "source": [
    "all_results_tat=all_results_tat.copy()\n",
    "all_results_tat2=all_results_tat.copy()\n"
   ]
  },
  {
   "cell_type": "code",
   "execution_count": 53,
   "metadata": {
    "ExecuteTime": {
     "end_time": "2021-09-29T10:37:52.836925Z",
     "start_time": "2021-09-29T10:37:52.716998Z"
    }
   },
   "outputs": [],
   "source": [
    "initial_PCR_df=all_results_tat.loc[all_results_tat['PCR Type'] == 'Initial PCR (6 week or first contact)']\n"
   ]
  },
  {
   "cell_type": "code",
   "execution_count": 54,
   "metadata": {
    "ExecuteTime": {
     "end_time": "2021-09-29T10:37:52.947858Z",
     "start_time": "2021-09-29T10:37:52.839922Z"
    }
   },
   "outputs": [],
   "source": [
    "initial_PCR_df=initial_PCR_df.copy()\n",
    "initial_PCR_df['TAT(days)'] = initial_PCR_df['TAT(days)'].apply(lambda x : x if x > 0 else 0)\n"
   ]
  },
  {
   "cell_type": "code",
   "execution_count": 55,
   "metadata": {
    "ExecuteTime": {
     "end_time": "2021-09-29T10:37:53.122748Z",
     "start_time": "2021-09-29T10:37:52.950854Z"
    }
   },
   "outputs": [],
   "source": [
    "all_results_tat=initial_PCR_df.loc[(all_results_tat['TAT(days)']!=0)]\n",
    "\n",
    "initial_PCRs=len(all_results_tat['PCR Type'])"
   ]
  },
  {
   "cell_type": "code",
   "execution_count": 56,
   "metadata": {
    "ExecuteTime": {
     "end_time": "2021-09-29T10:37:53.298641Z",
     "start_time": "2021-09-29T10:37:53.125746Z"
    }
   },
   "outputs": [],
   "source": [
    "less_than_2_days=all_results_tat[(all_results_tat['TAT(days)']<=2)]\n",
    "less_than_2_days\n",
    "less_than_2_days=int(less_than_2_days['TAT(days)'].count())\n",
    "# less_than_2_days\n",
    "\n",
    "\n",
    "two_to_7_days=all_results_tat[(all_results_tat['TAT(days)']>2 )& (all_results_tat['TAT(days)']<=7)]\n",
    "two_to_7_days=int(two_to_7_days['TAT(days)'].count())\n",
    "# two_to_7_days\n",
    "\n",
    "seven_to_14_days=all_results_tat[(all_results_tat['TAT(days)']>7 )& (all_results_tat['TAT(days)']<=14)]\n",
    "seven_to_14_days=int(seven_to_14_days['TAT(days)'].count())\n",
    "# seven_to_14_days\n",
    "\n",
    "fourteen_to_30_days=all_results_tat[(all_results_tat['TAT(days)']>14 )& (all_results_tat['TAT(days)']<=30)]\n",
    "fourteen_to_30_days=int(fourteen_to_30_days['TAT(days)'].count())\n",
    "# fourteen_to_30_days\n",
    "\n",
    "above_30_days=all_results_tat[(all_results_tat['TAT(days)']>30 )]\n",
    "above_30_days=int(above_30_days['TAT(days)'].count())\n",
    "# above_30_days"
   ]
  },
  {
   "cell_type": "code",
   "execution_count": 57,
   "metadata": {
    "ExecuteTime": {
     "end_time": "2021-09-29T10:37:53.426561Z",
     "start_time": "2021-09-29T10:37:53.300639Z"
    }
   },
   "outputs": [],
   "source": [
    "data = {'Initial EID test done':[initial_PCRs],\n",
    "        'TAT < 2 days':[less_than_2_days],'TAT 2-7 days':[two_to_7_days],\n",
    "        'TAT 7-14 days':[seven_to_14_days],'TAT 14-30 days':[fourteen_to_30_days],'TAT >30 days':[above_30_days],}\n",
    " \n",
    "# Create DataFrame\n",
    "tat_df = pd.DataFrame(data)\n",
    "tat_df=tat_df.T.reset_index()\n",
    "tat_df.columns=['Turn Around Time (TAT)','values']\n",
    "tat_df['%']=round(tat_df['values']/tat_df['values'].max()*100).astype(int).astype(str)+\"%\"\n",
    "tat_df['percentage']=tat_df['values'].astype(str)+\" (\"+tat_df['%']+\")\"\n",
    "# tat_df"
   ]
  },
  {
   "cell_type": "code",
   "execution_count": 58,
   "metadata": {
    "ExecuteTime": {
     "end_time": "2021-09-29T10:37:53.634434Z",
     "start_time": "2021-09-29T10:37:53.429559Z"
    }
   },
   "outputs": [
    {
     "data": {
      "application/vnd.plotly.v1+json": {
       "config": {
        "plotlyServerURL": "https://plot.ly"
       },
       "data": [
        {
         "alignmentgroup": "True",
         "hovertemplate": "Turn Around Time (TAT)=%{x}<br>values=%{y}<br>percentage=%{text}<extra></extra>",
         "legendgroup": "",
         "marker": {
          "color": "#636efa"
         },
         "name": "",
         "offsetgroup": "",
         "orientation": "v",
         "showlegend": false,
         "text": [
          "414 (100%)",
          "19 (5%)",
          "48 (12%)",
          "181 (44%)",
          "131 (32%)",
          "35 (8%)"
         ],
         "textposition": "outside",
         "type": "bar",
         "x": [
          "Initial EID test done",
          "TAT < 2 days",
          "TAT 2-7 days",
          "TAT 7-14 days",
          "TAT 14-30 days",
          "TAT >30 days"
         ],
         "xaxis": "x",
         "y": [
          414,
          19,
          48,
          181,
          131,
          35
         ],
         "yaxis": "y"
        }
       ],
       "layout": {
        "barmode": "relative",
        "legend": {
         "tracegroupgap": 0
        },
        "template": {
         "data": {
          "bar": [
           {
            "error_x": {
             "color": "#2a3f5f"
            },
            "error_y": {
             "color": "#2a3f5f"
            },
            "marker": {
             "line": {
              "color": "#E5ECF6",
              "width": 0.5
             }
            },
            "type": "bar"
           }
          ],
          "barpolar": [
           {
            "marker": {
             "line": {
              "color": "#E5ECF6",
              "width": 0.5
             }
            },
            "type": "barpolar"
           }
          ],
          "carpet": [
           {
            "aaxis": {
             "endlinecolor": "#2a3f5f",
             "gridcolor": "white",
             "linecolor": "white",
             "minorgridcolor": "white",
             "startlinecolor": "#2a3f5f"
            },
            "baxis": {
             "endlinecolor": "#2a3f5f",
             "gridcolor": "white",
             "linecolor": "white",
             "minorgridcolor": "white",
             "startlinecolor": "#2a3f5f"
            },
            "type": "carpet"
           }
          ],
          "choropleth": [
           {
            "colorbar": {
             "outlinewidth": 0,
             "ticks": ""
            },
            "type": "choropleth"
           }
          ],
          "contour": [
           {
            "colorbar": {
             "outlinewidth": 0,
             "ticks": ""
            },
            "colorscale": [
             [
              0,
              "#0d0887"
             ],
             [
              0.1111111111111111,
              "#46039f"
             ],
             [
              0.2222222222222222,
              "#7201a8"
             ],
             [
              0.3333333333333333,
              "#9c179e"
             ],
             [
              0.4444444444444444,
              "#bd3786"
             ],
             [
              0.5555555555555556,
              "#d8576b"
             ],
             [
              0.6666666666666666,
              "#ed7953"
             ],
             [
              0.7777777777777778,
              "#fb9f3a"
             ],
             [
              0.8888888888888888,
              "#fdca26"
             ],
             [
              1,
              "#f0f921"
             ]
            ],
            "type": "contour"
           }
          ],
          "contourcarpet": [
           {
            "colorbar": {
             "outlinewidth": 0,
             "ticks": ""
            },
            "type": "contourcarpet"
           }
          ],
          "heatmap": [
           {
            "colorbar": {
             "outlinewidth": 0,
             "ticks": ""
            },
            "colorscale": [
             [
              0,
              "#0d0887"
             ],
             [
              0.1111111111111111,
              "#46039f"
             ],
             [
              0.2222222222222222,
              "#7201a8"
             ],
             [
              0.3333333333333333,
              "#9c179e"
             ],
             [
              0.4444444444444444,
              "#bd3786"
             ],
             [
              0.5555555555555556,
              "#d8576b"
             ],
             [
              0.6666666666666666,
              "#ed7953"
             ],
             [
              0.7777777777777778,
              "#fb9f3a"
             ],
             [
              0.8888888888888888,
              "#fdca26"
             ],
             [
              1,
              "#f0f921"
             ]
            ],
            "type": "heatmap"
           }
          ],
          "heatmapgl": [
           {
            "colorbar": {
             "outlinewidth": 0,
             "ticks": ""
            },
            "colorscale": [
             [
              0,
              "#0d0887"
             ],
             [
              0.1111111111111111,
              "#46039f"
             ],
             [
              0.2222222222222222,
              "#7201a8"
             ],
             [
              0.3333333333333333,
              "#9c179e"
             ],
             [
              0.4444444444444444,
              "#bd3786"
             ],
             [
              0.5555555555555556,
              "#d8576b"
             ],
             [
              0.6666666666666666,
              "#ed7953"
             ],
             [
              0.7777777777777778,
              "#fb9f3a"
             ],
             [
              0.8888888888888888,
              "#fdca26"
             ],
             [
              1,
              "#f0f921"
             ]
            ],
            "type": "heatmapgl"
           }
          ],
          "histogram": [
           {
            "marker": {
             "colorbar": {
              "outlinewidth": 0,
              "ticks": ""
             }
            },
            "type": "histogram"
           }
          ],
          "histogram2d": [
           {
            "colorbar": {
             "outlinewidth": 0,
             "ticks": ""
            },
            "colorscale": [
             [
              0,
              "#0d0887"
             ],
             [
              0.1111111111111111,
              "#46039f"
             ],
             [
              0.2222222222222222,
              "#7201a8"
             ],
             [
              0.3333333333333333,
              "#9c179e"
             ],
             [
              0.4444444444444444,
              "#bd3786"
             ],
             [
              0.5555555555555556,
              "#d8576b"
             ],
             [
              0.6666666666666666,
              "#ed7953"
             ],
             [
              0.7777777777777778,
              "#fb9f3a"
             ],
             [
              0.8888888888888888,
              "#fdca26"
             ],
             [
              1,
              "#f0f921"
             ]
            ],
            "type": "histogram2d"
           }
          ],
          "histogram2dcontour": [
           {
            "colorbar": {
             "outlinewidth": 0,
             "ticks": ""
            },
            "colorscale": [
             [
              0,
              "#0d0887"
             ],
             [
              0.1111111111111111,
              "#46039f"
             ],
             [
              0.2222222222222222,
              "#7201a8"
             ],
             [
              0.3333333333333333,
              "#9c179e"
             ],
             [
              0.4444444444444444,
              "#bd3786"
             ],
             [
              0.5555555555555556,
              "#d8576b"
             ],
             [
              0.6666666666666666,
              "#ed7953"
             ],
             [
              0.7777777777777778,
              "#fb9f3a"
             ],
             [
              0.8888888888888888,
              "#fdca26"
             ],
             [
              1,
              "#f0f921"
             ]
            ],
            "type": "histogram2dcontour"
           }
          ],
          "mesh3d": [
           {
            "colorbar": {
             "outlinewidth": 0,
             "ticks": ""
            },
            "type": "mesh3d"
           }
          ],
          "parcoords": [
           {
            "line": {
             "colorbar": {
              "outlinewidth": 0,
              "ticks": ""
             }
            },
            "type": "parcoords"
           }
          ],
          "pie": [
           {
            "automargin": true,
            "type": "pie"
           }
          ],
          "scatter": [
           {
            "marker": {
             "colorbar": {
              "outlinewidth": 0,
              "ticks": ""
             }
            },
            "type": "scatter"
           }
          ],
          "scatter3d": [
           {
            "line": {
             "colorbar": {
              "outlinewidth": 0,
              "ticks": ""
             }
            },
            "marker": {
             "colorbar": {
              "outlinewidth": 0,
              "ticks": ""
             }
            },
            "type": "scatter3d"
           }
          ],
          "scattercarpet": [
           {
            "marker": {
             "colorbar": {
              "outlinewidth": 0,
              "ticks": ""
             }
            },
            "type": "scattercarpet"
           }
          ],
          "scattergeo": [
           {
            "marker": {
             "colorbar": {
              "outlinewidth": 0,
              "ticks": ""
             }
            },
            "type": "scattergeo"
           }
          ],
          "scattergl": [
           {
            "marker": {
             "colorbar": {
              "outlinewidth": 0,
              "ticks": ""
             }
            },
            "type": "scattergl"
           }
          ],
          "scattermapbox": [
           {
            "marker": {
             "colorbar": {
              "outlinewidth": 0,
              "ticks": ""
             }
            },
            "type": "scattermapbox"
           }
          ],
          "scatterpolar": [
           {
            "marker": {
             "colorbar": {
              "outlinewidth": 0,
              "ticks": ""
             }
            },
            "type": "scatterpolar"
           }
          ],
          "scatterpolargl": [
           {
            "marker": {
             "colorbar": {
              "outlinewidth": 0,
              "ticks": ""
             }
            },
            "type": "scatterpolargl"
           }
          ],
          "scatterternary": [
           {
            "marker": {
             "colorbar": {
              "outlinewidth": 0,
              "ticks": ""
             }
            },
            "type": "scatterternary"
           }
          ],
          "surface": [
           {
            "colorbar": {
             "outlinewidth": 0,
             "ticks": ""
            },
            "colorscale": [
             [
              0,
              "#0d0887"
             ],
             [
              0.1111111111111111,
              "#46039f"
             ],
             [
              0.2222222222222222,
              "#7201a8"
             ],
             [
              0.3333333333333333,
              "#9c179e"
             ],
             [
              0.4444444444444444,
              "#bd3786"
             ],
             [
              0.5555555555555556,
              "#d8576b"
             ],
             [
              0.6666666666666666,
              "#ed7953"
             ],
             [
              0.7777777777777778,
              "#fb9f3a"
             ],
             [
              0.8888888888888888,
              "#fdca26"
             ],
             [
              1,
              "#f0f921"
             ]
            ],
            "type": "surface"
           }
          ],
          "table": [
           {
            "cells": {
             "fill": {
              "color": "#EBF0F8"
             },
             "line": {
              "color": "white"
             }
            },
            "header": {
             "fill": {
              "color": "#C8D4E3"
             },
             "line": {
              "color": "white"
             }
            },
            "type": "table"
           }
          ]
         },
         "layout": {
          "annotationdefaults": {
           "arrowcolor": "#2a3f5f",
           "arrowhead": 0,
           "arrowwidth": 1
          },
          "coloraxis": {
           "colorbar": {
            "outlinewidth": 0,
            "ticks": ""
           }
          },
          "colorscale": {
           "diverging": [
            [
             0,
             "#8e0152"
            ],
            [
             0.1,
             "#c51b7d"
            ],
            [
             0.2,
             "#de77ae"
            ],
            [
             0.3,
             "#f1b6da"
            ],
            [
             0.4,
             "#fde0ef"
            ],
            [
             0.5,
             "#f7f7f7"
            ],
            [
             0.6,
             "#e6f5d0"
            ],
            [
             0.7,
             "#b8e186"
            ],
            [
             0.8,
             "#7fbc41"
            ],
            [
             0.9,
             "#4d9221"
            ],
            [
             1,
             "#276419"
            ]
           ],
           "sequential": [
            [
             0,
             "#0d0887"
            ],
            [
             0.1111111111111111,
             "#46039f"
            ],
            [
             0.2222222222222222,
             "#7201a8"
            ],
            [
             0.3333333333333333,
             "#9c179e"
            ],
            [
             0.4444444444444444,
             "#bd3786"
            ],
            [
             0.5555555555555556,
             "#d8576b"
            ],
            [
             0.6666666666666666,
             "#ed7953"
            ],
            [
             0.7777777777777778,
             "#fb9f3a"
            ],
            [
             0.8888888888888888,
             "#fdca26"
            ],
            [
             1,
             "#f0f921"
            ]
           ],
           "sequentialminus": [
            [
             0,
             "#0d0887"
            ],
            [
             0.1111111111111111,
             "#46039f"
            ],
            [
             0.2222222222222222,
             "#7201a8"
            ],
            [
             0.3333333333333333,
             "#9c179e"
            ],
            [
             0.4444444444444444,
             "#bd3786"
            ],
            [
             0.5555555555555556,
             "#d8576b"
            ],
            [
             0.6666666666666666,
             "#ed7953"
            ],
            [
             0.7777777777777778,
             "#fb9f3a"
            ],
            [
             0.8888888888888888,
             "#fdca26"
            ],
            [
             1,
             "#f0f921"
            ]
           ]
          },
          "colorway": [
           "#636efa",
           "#EF553B",
           "#00cc96",
           "#ab63fa",
           "#FFA15A",
           "#19d3f3",
           "#FF6692",
           "#B6E880",
           "#FF97FF",
           "#FECB52"
          ],
          "font": {
           "color": "#2a3f5f"
          },
          "geo": {
           "bgcolor": "white",
           "lakecolor": "white",
           "landcolor": "#E5ECF6",
           "showlakes": true,
           "showland": true,
           "subunitcolor": "white"
          },
          "hoverlabel": {
           "align": "left"
          },
          "hovermode": "closest",
          "mapbox": {
           "style": "light"
          },
          "paper_bgcolor": "white",
          "plot_bgcolor": "#E5ECF6",
          "polar": {
           "angularaxis": {
            "gridcolor": "white",
            "linecolor": "white",
            "ticks": ""
           },
           "bgcolor": "#E5ECF6",
           "radialaxis": {
            "gridcolor": "white",
            "linecolor": "white",
            "ticks": ""
           }
          },
          "scene": {
           "xaxis": {
            "backgroundcolor": "#E5ECF6",
            "gridcolor": "white",
            "gridwidth": 2,
            "linecolor": "white",
            "showbackground": true,
            "ticks": "",
            "zerolinecolor": "white"
           },
           "yaxis": {
            "backgroundcolor": "#E5ECF6",
            "gridcolor": "white",
            "gridwidth": 2,
            "linecolor": "white",
            "showbackground": true,
            "ticks": "",
            "zerolinecolor": "white"
           },
           "zaxis": {
            "backgroundcolor": "#E5ECF6",
            "gridcolor": "white",
            "gridwidth": 2,
            "linecolor": "white",
            "showbackground": true,
            "ticks": "",
            "zerolinecolor": "white"
           }
          },
          "shapedefaults": {
           "line": {
            "color": "#2a3f5f"
           }
          },
          "ternary": {
           "aaxis": {
            "gridcolor": "white",
            "linecolor": "white",
            "ticks": ""
           },
           "baxis": {
            "gridcolor": "white",
            "linecolor": "white",
            "ticks": ""
           },
           "bgcolor": "#E5ECF6",
           "caxis": {
            "gridcolor": "white",
            "linecolor": "white",
            "ticks": ""
           }
          },
          "title": {
           "x": 0.05
          },
          "xaxis": {
           "automargin": true,
           "gridcolor": "white",
           "linecolor": "white",
           "ticks": "",
           "title": {
            "standoff": 15
           },
           "zerolinecolor": "white",
           "zerolinewidth": 2
          },
          "yaxis": {
           "automargin": true,
           "gridcolor": "white",
           "linecolor": "white",
           "ticks": "",
           "title": {
            "standoff": 15
           },
           "zerolinecolor": "white",
           "zerolinewidth": 2
          }
         }
        },
        "title": {
         "text": "<b>INITIAL PCRs TURN AROUND TIME DURING THE REVIEW PERIOD</b>"
        },
        "xaxis": {
         "anchor": "y",
         "domain": [
          0,
          1
         ],
         "title": {
          "text": "Turn Around Time (TAT)"
         }
        },
        "yaxis": {
         "anchor": "x",
         "domain": [
          0,
          1
         ],
         "title": {
          "text": "values"
         }
        }
       }
      },
      "text/html": [
       "<div>                            <div id=\"7096b97a-410e-4404-9126-6ddda5b14b82\" class=\"plotly-graph-div\" style=\"height:525px; width:100%;\"></div>            <script type=\"text/javascript\">                require([\"plotly\"], function(Plotly) {                    window.PLOTLYENV=window.PLOTLYENV || {};                                    if (document.getElementById(\"7096b97a-410e-4404-9126-6ddda5b14b82\")) {                    Plotly.newPlot(                        \"7096b97a-410e-4404-9126-6ddda5b14b82\",                        [{\"alignmentgroup\": \"True\", \"hovertemplate\": \"Turn Around Time (TAT)=%{x}<br>values=%{y}<br>percentage=%{text}<extra></extra>\", \"legendgroup\": \"\", \"marker\": {\"color\": \"#636efa\"}, \"name\": \"\", \"offsetgroup\": \"\", \"orientation\": \"v\", \"showlegend\": false, \"text\": [\"414 (100%)\", \"19 (5%)\", \"48 (12%)\", \"181 (44%)\", \"131 (32%)\", \"35 (8%)\"], \"textposition\": \"outside\", \"type\": \"bar\", \"x\": [\"Initial EID test done\", \"TAT < 2 days\", \"TAT 2-7 days\", \"TAT 7-14 days\", \"TAT 14-30 days\", \"TAT >30 days\"], \"xaxis\": \"x\", \"y\": [414, 19, 48, 181, 131, 35], \"yaxis\": \"y\"}],                        {\"barmode\": \"relative\", \"legend\": {\"tracegroupgap\": 0}, \"template\": {\"data\": {\"bar\": [{\"error_x\": {\"color\": \"#2a3f5f\"}, \"error_y\": {\"color\": \"#2a3f5f\"}, \"marker\": {\"line\": {\"color\": \"#E5ECF6\", \"width\": 0.5}}, \"type\": \"bar\"}], \"barpolar\": [{\"marker\": {\"line\": {\"color\": \"#E5ECF6\", \"width\": 0.5}}, \"type\": \"barpolar\"}], \"carpet\": [{\"aaxis\": {\"endlinecolor\": \"#2a3f5f\", \"gridcolor\": \"white\", \"linecolor\": \"white\", \"minorgridcolor\": \"white\", \"startlinecolor\": \"#2a3f5f\"}, \"baxis\": {\"endlinecolor\": \"#2a3f5f\", \"gridcolor\": \"white\", \"linecolor\": \"white\", \"minorgridcolor\": \"white\", \"startlinecolor\": \"#2a3f5f\"}, \"type\": \"carpet\"}], \"choropleth\": [{\"colorbar\": {\"outlinewidth\": 0, \"ticks\": \"\"}, \"type\": \"choropleth\"}], \"contour\": [{\"colorbar\": {\"outlinewidth\": 0, \"ticks\": \"\"}, \"colorscale\": [[0.0, \"#0d0887\"], [0.1111111111111111, \"#46039f\"], [0.2222222222222222, \"#7201a8\"], [0.3333333333333333, \"#9c179e\"], [0.4444444444444444, \"#bd3786\"], [0.5555555555555556, \"#d8576b\"], [0.6666666666666666, \"#ed7953\"], [0.7777777777777778, \"#fb9f3a\"], [0.8888888888888888, \"#fdca26\"], [1.0, \"#f0f921\"]], \"type\": \"contour\"}], \"contourcarpet\": [{\"colorbar\": {\"outlinewidth\": 0, \"ticks\": \"\"}, \"type\": \"contourcarpet\"}], \"heatmap\": [{\"colorbar\": {\"outlinewidth\": 0, \"ticks\": \"\"}, \"colorscale\": [[0.0, \"#0d0887\"], [0.1111111111111111, \"#46039f\"], [0.2222222222222222, \"#7201a8\"], [0.3333333333333333, \"#9c179e\"], [0.4444444444444444, \"#bd3786\"], [0.5555555555555556, \"#d8576b\"], [0.6666666666666666, \"#ed7953\"], [0.7777777777777778, \"#fb9f3a\"], [0.8888888888888888, \"#fdca26\"], [1.0, \"#f0f921\"]], \"type\": \"heatmap\"}], \"heatmapgl\": [{\"colorbar\": {\"outlinewidth\": 0, \"ticks\": \"\"}, \"colorscale\": [[0.0, \"#0d0887\"], [0.1111111111111111, \"#46039f\"], [0.2222222222222222, \"#7201a8\"], [0.3333333333333333, \"#9c179e\"], [0.4444444444444444, \"#bd3786\"], [0.5555555555555556, \"#d8576b\"], [0.6666666666666666, \"#ed7953\"], [0.7777777777777778, \"#fb9f3a\"], [0.8888888888888888, \"#fdca26\"], [1.0, \"#f0f921\"]], \"type\": \"heatmapgl\"}], \"histogram\": [{\"marker\": {\"colorbar\": {\"outlinewidth\": 0, \"ticks\": \"\"}}, \"type\": \"histogram\"}], \"histogram2d\": [{\"colorbar\": {\"outlinewidth\": 0, \"ticks\": \"\"}, \"colorscale\": [[0.0, \"#0d0887\"], [0.1111111111111111, \"#46039f\"], [0.2222222222222222, \"#7201a8\"], [0.3333333333333333, \"#9c179e\"], [0.4444444444444444, \"#bd3786\"], [0.5555555555555556, \"#d8576b\"], [0.6666666666666666, \"#ed7953\"], [0.7777777777777778, \"#fb9f3a\"], [0.8888888888888888, \"#fdca26\"], [1.0, \"#f0f921\"]], \"type\": \"histogram2d\"}], \"histogram2dcontour\": [{\"colorbar\": {\"outlinewidth\": 0, \"ticks\": \"\"}, \"colorscale\": [[0.0, \"#0d0887\"], [0.1111111111111111, \"#46039f\"], [0.2222222222222222, \"#7201a8\"], [0.3333333333333333, \"#9c179e\"], [0.4444444444444444, \"#bd3786\"], [0.5555555555555556, \"#d8576b\"], [0.6666666666666666, \"#ed7953\"], [0.7777777777777778, \"#fb9f3a\"], [0.8888888888888888, \"#fdca26\"], [1.0, \"#f0f921\"]], \"type\": \"histogram2dcontour\"}], \"mesh3d\": [{\"colorbar\": {\"outlinewidth\": 0, \"ticks\": \"\"}, \"type\": \"mesh3d\"}], \"parcoords\": [{\"line\": {\"colorbar\": {\"outlinewidth\": 0, \"ticks\": \"\"}}, \"type\": \"parcoords\"}], \"pie\": [{\"automargin\": true, \"type\": \"pie\"}], \"scatter\": [{\"marker\": {\"colorbar\": {\"outlinewidth\": 0, \"ticks\": \"\"}}, \"type\": \"scatter\"}], \"scatter3d\": [{\"line\": {\"colorbar\": {\"outlinewidth\": 0, \"ticks\": \"\"}}, \"marker\": {\"colorbar\": {\"outlinewidth\": 0, \"ticks\": \"\"}}, \"type\": \"scatter3d\"}], \"scattercarpet\": [{\"marker\": {\"colorbar\": {\"outlinewidth\": 0, \"ticks\": \"\"}}, \"type\": \"scattercarpet\"}], \"scattergeo\": [{\"marker\": {\"colorbar\": {\"outlinewidth\": 0, \"ticks\": \"\"}}, \"type\": \"scattergeo\"}], \"scattergl\": [{\"marker\": {\"colorbar\": {\"outlinewidth\": 0, \"ticks\": \"\"}}, \"type\": \"scattergl\"}], \"scattermapbox\": [{\"marker\": {\"colorbar\": {\"outlinewidth\": 0, \"ticks\": \"\"}}, \"type\": \"scattermapbox\"}], \"scatterpolar\": [{\"marker\": {\"colorbar\": {\"outlinewidth\": 0, \"ticks\": \"\"}}, \"type\": \"scatterpolar\"}], \"scatterpolargl\": [{\"marker\": {\"colorbar\": {\"outlinewidth\": 0, \"ticks\": \"\"}}, \"type\": \"scatterpolargl\"}], \"scatterternary\": [{\"marker\": {\"colorbar\": {\"outlinewidth\": 0, \"ticks\": \"\"}}, \"type\": \"scatterternary\"}], \"surface\": [{\"colorbar\": {\"outlinewidth\": 0, \"ticks\": \"\"}, \"colorscale\": [[0.0, \"#0d0887\"], [0.1111111111111111, \"#46039f\"], [0.2222222222222222, \"#7201a8\"], [0.3333333333333333, \"#9c179e\"], [0.4444444444444444, \"#bd3786\"], [0.5555555555555556, \"#d8576b\"], [0.6666666666666666, \"#ed7953\"], [0.7777777777777778, \"#fb9f3a\"], [0.8888888888888888, \"#fdca26\"], [1.0, \"#f0f921\"]], \"type\": \"surface\"}], \"table\": [{\"cells\": {\"fill\": {\"color\": \"#EBF0F8\"}, \"line\": {\"color\": \"white\"}}, \"header\": {\"fill\": {\"color\": \"#C8D4E3\"}, \"line\": {\"color\": \"white\"}}, \"type\": \"table\"}]}, \"layout\": {\"annotationdefaults\": {\"arrowcolor\": \"#2a3f5f\", \"arrowhead\": 0, \"arrowwidth\": 1}, \"coloraxis\": {\"colorbar\": {\"outlinewidth\": 0, \"ticks\": \"\"}}, \"colorscale\": {\"diverging\": [[0, \"#8e0152\"], [0.1, \"#c51b7d\"], [0.2, \"#de77ae\"], [0.3, \"#f1b6da\"], [0.4, \"#fde0ef\"], [0.5, \"#f7f7f7\"], [0.6, \"#e6f5d0\"], [0.7, \"#b8e186\"], [0.8, \"#7fbc41\"], [0.9, \"#4d9221\"], [1, \"#276419\"]], \"sequential\": [[0.0, \"#0d0887\"], [0.1111111111111111, \"#46039f\"], [0.2222222222222222, \"#7201a8\"], [0.3333333333333333, \"#9c179e\"], [0.4444444444444444, \"#bd3786\"], [0.5555555555555556, \"#d8576b\"], [0.6666666666666666, \"#ed7953\"], [0.7777777777777778, \"#fb9f3a\"], [0.8888888888888888, \"#fdca26\"], [1.0, \"#f0f921\"]], \"sequentialminus\": [[0.0, \"#0d0887\"], [0.1111111111111111, \"#46039f\"], [0.2222222222222222, \"#7201a8\"], [0.3333333333333333, \"#9c179e\"], [0.4444444444444444, \"#bd3786\"], [0.5555555555555556, \"#d8576b\"], [0.6666666666666666, \"#ed7953\"], [0.7777777777777778, \"#fb9f3a\"], [0.8888888888888888, \"#fdca26\"], [1.0, \"#f0f921\"]]}, \"colorway\": [\"#636efa\", \"#EF553B\", \"#00cc96\", \"#ab63fa\", \"#FFA15A\", \"#19d3f3\", \"#FF6692\", \"#B6E880\", \"#FF97FF\", \"#FECB52\"], \"font\": {\"color\": \"#2a3f5f\"}, \"geo\": {\"bgcolor\": \"white\", \"lakecolor\": \"white\", \"landcolor\": \"#E5ECF6\", \"showlakes\": true, \"showland\": true, \"subunitcolor\": \"white\"}, \"hoverlabel\": {\"align\": \"left\"}, \"hovermode\": \"closest\", \"mapbox\": {\"style\": \"light\"}, \"paper_bgcolor\": \"white\", \"plot_bgcolor\": \"#E5ECF6\", \"polar\": {\"angularaxis\": {\"gridcolor\": \"white\", \"linecolor\": \"white\", \"ticks\": \"\"}, \"bgcolor\": \"#E5ECF6\", \"radialaxis\": {\"gridcolor\": \"white\", \"linecolor\": \"white\", \"ticks\": \"\"}}, \"scene\": {\"xaxis\": {\"backgroundcolor\": \"#E5ECF6\", \"gridcolor\": \"white\", \"gridwidth\": 2, \"linecolor\": \"white\", \"showbackground\": true, \"ticks\": \"\", \"zerolinecolor\": \"white\"}, \"yaxis\": {\"backgroundcolor\": \"#E5ECF6\", \"gridcolor\": \"white\", \"gridwidth\": 2, \"linecolor\": \"white\", \"showbackground\": true, \"ticks\": \"\", \"zerolinecolor\": \"white\"}, \"zaxis\": {\"backgroundcolor\": \"#E5ECF6\", \"gridcolor\": \"white\", \"gridwidth\": 2, \"linecolor\": \"white\", \"showbackground\": true, \"ticks\": \"\", \"zerolinecolor\": \"white\"}}, \"shapedefaults\": {\"line\": {\"color\": \"#2a3f5f\"}}, \"ternary\": {\"aaxis\": {\"gridcolor\": \"white\", \"linecolor\": \"white\", \"ticks\": \"\"}, \"baxis\": {\"gridcolor\": \"white\", \"linecolor\": \"white\", \"ticks\": \"\"}, \"bgcolor\": \"#E5ECF6\", \"caxis\": {\"gridcolor\": \"white\", \"linecolor\": \"white\", \"ticks\": \"\"}}, \"title\": {\"x\": 0.05}, \"xaxis\": {\"automargin\": true, \"gridcolor\": \"white\", \"linecolor\": \"white\", \"ticks\": \"\", \"title\": {\"standoff\": 15}, \"zerolinecolor\": \"white\", \"zerolinewidth\": 2}, \"yaxis\": {\"automargin\": true, \"gridcolor\": \"white\", \"linecolor\": \"white\", \"ticks\": \"\", \"title\": {\"standoff\": 15}, \"zerolinecolor\": \"white\", \"zerolinewidth\": 2}}}, \"title\": {\"text\": \"<b>INITIAL PCRs TURN AROUND TIME DURING THE REVIEW PERIOD</b>\"}, \"xaxis\": {\"anchor\": \"y\", \"domain\": [0.0, 1.0], \"title\": {\"text\": \"Turn Around Time (TAT)\"}}, \"yaxis\": {\"anchor\": \"x\", \"domain\": [0.0, 1.0], \"title\": {\"text\": \"values\"}}},                        {\"responsive\": true}                    ).then(function(){\n",
       "                            \n",
       "var gd = document.getElementById('7096b97a-410e-4404-9126-6ddda5b14b82');\n",
       "var x = new MutationObserver(function (mutations, observer) {{\n",
       "        var display = window.getComputedStyle(gd).display;\n",
       "        if (!display || display === 'none') {{\n",
       "            console.log([gd, 'removed!']);\n",
       "            Plotly.purge(gd);\n",
       "            observer.disconnect();\n",
       "        }}\n",
       "}});\n",
       "\n",
       "// Listen for the removal of the full notebook cells\n",
       "var notebookContainer = gd.closest('#notebook-container');\n",
       "if (notebookContainer) {{\n",
       "    x.observe(notebookContainer, {childList: true});\n",
       "}}\n",
       "\n",
       "// Listen for the clearing of the current output cell\n",
       "var outputEl = gd.closest('.output');\n",
       "if (outputEl) {{\n",
       "    x.observe(outputEl, {childList: true});\n",
       "}}\n",
       "\n",
       "                        })                };                });            </script>        </div>"
      ]
     },
     "metadata": {},
     "output_type": "display_data"
    }
   ],
   "source": [
    "fig=px.bar(tat_df,x='Turn Around Time (TAT)',y='values',title='<b>INITIAL PCRs TURN AROUND TIME DURING THE REVIEW PERIOD</b>',\n",
    "           text='percentage',)\n",
    "#           color_continuous_scale=[\"green\", \"yellow\", \"red\"])\n",
    "fig.update_traces( textposition='outside')\n",
    "# fig.update_layout(uniformtext_minsize=9, uniformtext_mode='hide')\n",
    "# fig.update_xaxes(tickangle=45)\n",
    "fig.show()"
   ]
  },
  {
   "cell_type": "code",
   "execution_count": 59,
   "metadata": {
    "ExecuteTime": {
     "end_time": "2021-09-29T10:37:53.746365Z",
     "start_time": "2021-09-29T10:37:53.637432Z"
    }
   },
   "outputs": [],
   "source": [
    "less_than_2_days=all_results_tat2[(all_results_tat2['TAT(days)']<=2)]\n",
    "less_than_2_days\n",
    "less_than_2_days=int(less_than_2_days['TAT(days)'].count())\n",
    "# less_than_2_days\n",
    "\n",
    "\n",
    "two_to_7_days=all_results_tat2[(all_results_tat2['TAT(days)']>2 )& (all_results_tat2['TAT(days)']<=7)]\n",
    "two_to_7_days=int(two_to_7_days['TAT(days)'].count())\n",
    "# two_to_7_days\n",
    "\n",
    "seven_to_14_days=all_results_tat2[(all_results_tat2['TAT(days)']>7 )& (all_results_tat2['TAT(days)']<=14)]\n",
    "seven_to_14_days=int(seven_to_14_days['TAT(days)'].count())\n",
    "# seven_to_14_days\n",
    "\n",
    "fourteen_to_30_days=all_results_tat2[(all_results_tat2['TAT(days)']>14 )& (all_results_tat2['TAT(days)']<=30)]\n",
    "fourteen_to_30_days=int(fourteen_to_30_days['TAT(days)'].count())\n",
    "# fourteen_to_30_days\n",
    "\n",
    "above_30_days=all_results_tat2[(all_results_tat2['TAT(days)']>30 )]\n",
    "above_30_days=int(above_30_days['TAT(days)'].count())\n",
    "# above_30_days"
   ]
  },
  {
   "cell_type": "code",
   "execution_count": 60,
   "metadata": {
    "ExecuteTime": {
     "end_time": "2021-09-29T10:37:53.890275Z",
     "start_time": "2021-09-29T10:37:53.750361Z"
    }
   },
   "outputs": [],
   "source": [
    "data = {'EID tests done':[pcr_done],\n",
    "        'TAT < 2 days':[less_than_2_days],'TAT 2-7 days':[two_to_7_days],\n",
    "        'TAT 7-14 days':[seven_to_14_days],'TAT 14-30 days':[fourteen_to_30_days],'TAT >30 days':[above_30_days],}\n",
    " \n",
    "# Create DataFrame\n",
    "tat_df = pd.DataFrame(data)\n",
    "tat_df=tat_df.T.reset_index()\n",
    "tat_df.columns=['Turn Around Time (TAT)','values']\n",
    "tat_df['%']=round(tat_df['values']/tat_df['values'].max()*100).astype(int).astype(str)+\"%\"\n",
    "tat_df['percentage']=tat_df['values'].astype(str)+\" (\"+tat_df['%']+\")\"\n",
    "# tat_df"
   ]
  },
  {
   "cell_type": "code",
   "execution_count": 61,
   "metadata": {
    "ExecuteTime": {
     "end_time": "2021-09-29T10:37:54.192091Z",
     "start_time": "2021-09-29T10:37:53.893274Z"
    }
   },
   "outputs": [
    {
     "data": {
      "application/vnd.plotly.v1+json": {
       "config": {
        "plotlyServerURL": "https://plot.ly"
       },
       "data": [
        {
         "alignmentgroup": "True",
         "hovertemplate": "Turn Around Time (TAT)=%{x}<br>values=%{y}<br>percentage=%{text}<extra></extra>",
         "legendgroup": "",
         "marker": {
          "color": "#636efa"
         },
         "name": "",
         "offsetgroup": "",
         "orientation": "v",
         "showlegend": false,
         "text": [
          "971 (100%)",
          "0 (0%)",
          "144 (15%)",
          "418 (43%)",
          "306 (32%)",
          "87 (9%)"
         ],
         "textposition": "outside",
         "type": "bar",
         "x": [
          "EID tests done",
          "TAT < 2 days",
          "TAT 2-7 days",
          "TAT 7-14 days",
          "TAT 14-30 days",
          "TAT >30 days"
         ],
         "xaxis": "x",
         "y": [
          971,
          0,
          144,
          418,
          306,
          87
         ],
         "yaxis": "y"
        }
       ],
       "layout": {
        "barmode": "relative",
        "legend": {
         "tracegroupgap": 0
        },
        "template": {
         "data": {
          "bar": [
           {
            "error_x": {
             "color": "#2a3f5f"
            },
            "error_y": {
             "color": "#2a3f5f"
            },
            "marker": {
             "line": {
              "color": "#E5ECF6",
              "width": 0.5
             }
            },
            "type": "bar"
           }
          ],
          "barpolar": [
           {
            "marker": {
             "line": {
              "color": "#E5ECF6",
              "width": 0.5
             }
            },
            "type": "barpolar"
           }
          ],
          "carpet": [
           {
            "aaxis": {
             "endlinecolor": "#2a3f5f",
             "gridcolor": "white",
             "linecolor": "white",
             "minorgridcolor": "white",
             "startlinecolor": "#2a3f5f"
            },
            "baxis": {
             "endlinecolor": "#2a3f5f",
             "gridcolor": "white",
             "linecolor": "white",
             "minorgridcolor": "white",
             "startlinecolor": "#2a3f5f"
            },
            "type": "carpet"
           }
          ],
          "choropleth": [
           {
            "colorbar": {
             "outlinewidth": 0,
             "ticks": ""
            },
            "type": "choropleth"
           }
          ],
          "contour": [
           {
            "colorbar": {
             "outlinewidth": 0,
             "ticks": ""
            },
            "colorscale": [
             [
              0,
              "#0d0887"
             ],
             [
              0.1111111111111111,
              "#46039f"
             ],
             [
              0.2222222222222222,
              "#7201a8"
             ],
             [
              0.3333333333333333,
              "#9c179e"
             ],
             [
              0.4444444444444444,
              "#bd3786"
             ],
             [
              0.5555555555555556,
              "#d8576b"
             ],
             [
              0.6666666666666666,
              "#ed7953"
             ],
             [
              0.7777777777777778,
              "#fb9f3a"
             ],
             [
              0.8888888888888888,
              "#fdca26"
             ],
             [
              1,
              "#f0f921"
             ]
            ],
            "type": "contour"
           }
          ],
          "contourcarpet": [
           {
            "colorbar": {
             "outlinewidth": 0,
             "ticks": ""
            },
            "type": "contourcarpet"
           }
          ],
          "heatmap": [
           {
            "colorbar": {
             "outlinewidth": 0,
             "ticks": ""
            },
            "colorscale": [
             [
              0,
              "#0d0887"
             ],
             [
              0.1111111111111111,
              "#46039f"
             ],
             [
              0.2222222222222222,
              "#7201a8"
             ],
             [
              0.3333333333333333,
              "#9c179e"
             ],
             [
              0.4444444444444444,
              "#bd3786"
             ],
             [
              0.5555555555555556,
              "#d8576b"
             ],
             [
              0.6666666666666666,
              "#ed7953"
             ],
             [
              0.7777777777777778,
              "#fb9f3a"
             ],
             [
              0.8888888888888888,
              "#fdca26"
             ],
             [
              1,
              "#f0f921"
             ]
            ],
            "type": "heatmap"
           }
          ],
          "heatmapgl": [
           {
            "colorbar": {
             "outlinewidth": 0,
             "ticks": ""
            },
            "colorscale": [
             [
              0,
              "#0d0887"
             ],
             [
              0.1111111111111111,
              "#46039f"
             ],
             [
              0.2222222222222222,
              "#7201a8"
             ],
             [
              0.3333333333333333,
              "#9c179e"
             ],
             [
              0.4444444444444444,
              "#bd3786"
             ],
             [
              0.5555555555555556,
              "#d8576b"
             ],
             [
              0.6666666666666666,
              "#ed7953"
             ],
             [
              0.7777777777777778,
              "#fb9f3a"
             ],
             [
              0.8888888888888888,
              "#fdca26"
             ],
             [
              1,
              "#f0f921"
             ]
            ],
            "type": "heatmapgl"
           }
          ],
          "histogram": [
           {
            "marker": {
             "colorbar": {
              "outlinewidth": 0,
              "ticks": ""
             }
            },
            "type": "histogram"
           }
          ],
          "histogram2d": [
           {
            "colorbar": {
             "outlinewidth": 0,
             "ticks": ""
            },
            "colorscale": [
             [
              0,
              "#0d0887"
             ],
             [
              0.1111111111111111,
              "#46039f"
             ],
             [
              0.2222222222222222,
              "#7201a8"
             ],
             [
              0.3333333333333333,
              "#9c179e"
             ],
             [
              0.4444444444444444,
              "#bd3786"
             ],
             [
              0.5555555555555556,
              "#d8576b"
             ],
             [
              0.6666666666666666,
              "#ed7953"
             ],
             [
              0.7777777777777778,
              "#fb9f3a"
             ],
             [
              0.8888888888888888,
              "#fdca26"
             ],
             [
              1,
              "#f0f921"
             ]
            ],
            "type": "histogram2d"
           }
          ],
          "histogram2dcontour": [
           {
            "colorbar": {
             "outlinewidth": 0,
             "ticks": ""
            },
            "colorscale": [
             [
              0,
              "#0d0887"
             ],
             [
              0.1111111111111111,
              "#46039f"
             ],
             [
              0.2222222222222222,
              "#7201a8"
             ],
             [
              0.3333333333333333,
              "#9c179e"
             ],
             [
              0.4444444444444444,
              "#bd3786"
             ],
             [
              0.5555555555555556,
              "#d8576b"
             ],
             [
              0.6666666666666666,
              "#ed7953"
             ],
             [
              0.7777777777777778,
              "#fb9f3a"
             ],
             [
              0.8888888888888888,
              "#fdca26"
             ],
             [
              1,
              "#f0f921"
             ]
            ],
            "type": "histogram2dcontour"
           }
          ],
          "mesh3d": [
           {
            "colorbar": {
             "outlinewidth": 0,
             "ticks": ""
            },
            "type": "mesh3d"
           }
          ],
          "parcoords": [
           {
            "line": {
             "colorbar": {
              "outlinewidth": 0,
              "ticks": ""
             }
            },
            "type": "parcoords"
           }
          ],
          "pie": [
           {
            "automargin": true,
            "type": "pie"
           }
          ],
          "scatter": [
           {
            "marker": {
             "colorbar": {
              "outlinewidth": 0,
              "ticks": ""
             }
            },
            "type": "scatter"
           }
          ],
          "scatter3d": [
           {
            "line": {
             "colorbar": {
              "outlinewidth": 0,
              "ticks": ""
             }
            },
            "marker": {
             "colorbar": {
              "outlinewidth": 0,
              "ticks": ""
             }
            },
            "type": "scatter3d"
           }
          ],
          "scattercarpet": [
           {
            "marker": {
             "colorbar": {
              "outlinewidth": 0,
              "ticks": ""
             }
            },
            "type": "scattercarpet"
           }
          ],
          "scattergeo": [
           {
            "marker": {
             "colorbar": {
              "outlinewidth": 0,
              "ticks": ""
             }
            },
            "type": "scattergeo"
           }
          ],
          "scattergl": [
           {
            "marker": {
             "colorbar": {
              "outlinewidth": 0,
              "ticks": ""
             }
            },
            "type": "scattergl"
           }
          ],
          "scattermapbox": [
           {
            "marker": {
             "colorbar": {
              "outlinewidth": 0,
              "ticks": ""
             }
            },
            "type": "scattermapbox"
           }
          ],
          "scatterpolar": [
           {
            "marker": {
             "colorbar": {
              "outlinewidth": 0,
              "ticks": ""
             }
            },
            "type": "scatterpolar"
           }
          ],
          "scatterpolargl": [
           {
            "marker": {
             "colorbar": {
              "outlinewidth": 0,
              "ticks": ""
             }
            },
            "type": "scatterpolargl"
           }
          ],
          "scatterternary": [
           {
            "marker": {
             "colorbar": {
              "outlinewidth": 0,
              "ticks": ""
             }
            },
            "type": "scatterternary"
           }
          ],
          "surface": [
           {
            "colorbar": {
             "outlinewidth": 0,
             "ticks": ""
            },
            "colorscale": [
             [
              0,
              "#0d0887"
             ],
             [
              0.1111111111111111,
              "#46039f"
             ],
             [
              0.2222222222222222,
              "#7201a8"
             ],
             [
              0.3333333333333333,
              "#9c179e"
             ],
             [
              0.4444444444444444,
              "#bd3786"
             ],
             [
              0.5555555555555556,
              "#d8576b"
             ],
             [
              0.6666666666666666,
              "#ed7953"
             ],
             [
              0.7777777777777778,
              "#fb9f3a"
             ],
             [
              0.8888888888888888,
              "#fdca26"
             ],
             [
              1,
              "#f0f921"
             ]
            ],
            "type": "surface"
           }
          ],
          "table": [
           {
            "cells": {
             "fill": {
              "color": "#EBF0F8"
             },
             "line": {
              "color": "white"
             }
            },
            "header": {
             "fill": {
              "color": "#C8D4E3"
             },
             "line": {
              "color": "white"
             }
            },
            "type": "table"
           }
          ]
         },
         "layout": {
          "annotationdefaults": {
           "arrowcolor": "#2a3f5f",
           "arrowhead": 0,
           "arrowwidth": 1
          },
          "coloraxis": {
           "colorbar": {
            "outlinewidth": 0,
            "ticks": ""
           }
          },
          "colorscale": {
           "diverging": [
            [
             0,
             "#8e0152"
            ],
            [
             0.1,
             "#c51b7d"
            ],
            [
             0.2,
             "#de77ae"
            ],
            [
             0.3,
             "#f1b6da"
            ],
            [
             0.4,
             "#fde0ef"
            ],
            [
             0.5,
             "#f7f7f7"
            ],
            [
             0.6,
             "#e6f5d0"
            ],
            [
             0.7,
             "#b8e186"
            ],
            [
             0.8,
             "#7fbc41"
            ],
            [
             0.9,
             "#4d9221"
            ],
            [
             1,
             "#276419"
            ]
           ],
           "sequential": [
            [
             0,
             "#0d0887"
            ],
            [
             0.1111111111111111,
             "#46039f"
            ],
            [
             0.2222222222222222,
             "#7201a8"
            ],
            [
             0.3333333333333333,
             "#9c179e"
            ],
            [
             0.4444444444444444,
             "#bd3786"
            ],
            [
             0.5555555555555556,
             "#d8576b"
            ],
            [
             0.6666666666666666,
             "#ed7953"
            ],
            [
             0.7777777777777778,
             "#fb9f3a"
            ],
            [
             0.8888888888888888,
             "#fdca26"
            ],
            [
             1,
             "#f0f921"
            ]
           ],
           "sequentialminus": [
            [
             0,
             "#0d0887"
            ],
            [
             0.1111111111111111,
             "#46039f"
            ],
            [
             0.2222222222222222,
             "#7201a8"
            ],
            [
             0.3333333333333333,
             "#9c179e"
            ],
            [
             0.4444444444444444,
             "#bd3786"
            ],
            [
             0.5555555555555556,
             "#d8576b"
            ],
            [
             0.6666666666666666,
             "#ed7953"
            ],
            [
             0.7777777777777778,
             "#fb9f3a"
            ],
            [
             0.8888888888888888,
             "#fdca26"
            ],
            [
             1,
             "#f0f921"
            ]
           ]
          },
          "colorway": [
           "#636efa",
           "#EF553B",
           "#00cc96",
           "#ab63fa",
           "#FFA15A",
           "#19d3f3",
           "#FF6692",
           "#B6E880",
           "#FF97FF",
           "#FECB52"
          ],
          "font": {
           "color": "#2a3f5f"
          },
          "geo": {
           "bgcolor": "white",
           "lakecolor": "white",
           "landcolor": "#E5ECF6",
           "showlakes": true,
           "showland": true,
           "subunitcolor": "white"
          },
          "hoverlabel": {
           "align": "left"
          },
          "hovermode": "closest",
          "mapbox": {
           "style": "light"
          },
          "paper_bgcolor": "white",
          "plot_bgcolor": "#E5ECF6",
          "polar": {
           "angularaxis": {
            "gridcolor": "white",
            "linecolor": "white",
            "ticks": ""
           },
           "bgcolor": "#E5ECF6",
           "radialaxis": {
            "gridcolor": "white",
            "linecolor": "white",
            "ticks": ""
           }
          },
          "scene": {
           "xaxis": {
            "backgroundcolor": "#E5ECF6",
            "gridcolor": "white",
            "gridwidth": 2,
            "linecolor": "white",
            "showbackground": true,
            "ticks": "",
            "zerolinecolor": "white"
           },
           "yaxis": {
            "backgroundcolor": "#E5ECF6",
            "gridcolor": "white",
            "gridwidth": 2,
            "linecolor": "white",
            "showbackground": true,
            "ticks": "",
            "zerolinecolor": "white"
           },
           "zaxis": {
            "backgroundcolor": "#E5ECF6",
            "gridcolor": "white",
            "gridwidth": 2,
            "linecolor": "white",
            "showbackground": true,
            "ticks": "",
            "zerolinecolor": "white"
           }
          },
          "shapedefaults": {
           "line": {
            "color": "#2a3f5f"
           }
          },
          "ternary": {
           "aaxis": {
            "gridcolor": "white",
            "linecolor": "white",
            "ticks": ""
           },
           "baxis": {
            "gridcolor": "white",
            "linecolor": "white",
            "ticks": ""
           },
           "bgcolor": "#E5ECF6",
           "caxis": {
            "gridcolor": "white",
            "linecolor": "white",
            "ticks": ""
           }
          },
          "title": {
           "x": 0.05
          },
          "xaxis": {
           "automargin": true,
           "gridcolor": "white",
           "linecolor": "white",
           "ticks": "",
           "title": {
            "standoff": 15
           },
           "zerolinecolor": "white",
           "zerolinewidth": 2
          },
          "yaxis": {
           "automargin": true,
           "gridcolor": "white",
           "linecolor": "white",
           "ticks": "",
           "title": {
            "standoff": 15
           },
           "zerolinecolor": "white",
           "zerolinewidth": 2
          }
         }
        },
        "title": {
         "text": "<b>TURN AROUND TIME (ALL PCR) DURING THE REVIEW PERIOD</b>"
        },
        "xaxis": {
         "anchor": "y",
         "domain": [
          0,
          1
         ],
         "title": {
          "text": "Turn Around Time (TAT)"
         }
        },
        "yaxis": {
         "anchor": "x",
         "domain": [
          0,
          1
         ],
         "title": {
          "text": "values"
         }
        }
       }
      },
      "text/html": [
       "<div>                            <div id=\"16eb2527-a2f3-4801-bf48-13db46a6ae57\" class=\"plotly-graph-div\" style=\"height:525px; width:100%;\"></div>            <script type=\"text/javascript\">                require([\"plotly\"], function(Plotly) {                    window.PLOTLYENV=window.PLOTLYENV || {};                                    if (document.getElementById(\"16eb2527-a2f3-4801-bf48-13db46a6ae57\")) {                    Plotly.newPlot(                        \"16eb2527-a2f3-4801-bf48-13db46a6ae57\",                        [{\"alignmentgroup\": \"True\", \"hovertemplate\": \"Turn Around Time (TAT)=%{x}<br>values=%{y}<br>percentage=%{text}<extra></extra>\", \"legendgroup\": \"\", \"marker\": {\"color\": \"#636efa\"}, \"name\": \"\", \"offsetgroup\": \"\", \"orientation\": \"v\", \"showlegend\": false, \"text\": [\"971 (100%)\", \"0 (0%)\", \"144 (15%)\", \"418 (43%)\", \"306 (32%)\", \"87 (9%)\"], \"textposition\": \"outside\", \"type\": \"bar\", \"x\": [\"EID tests done\", \"TAT < 2 days\", \"TAT 2-7 days\", \"TAT 7-14 days\", \"TAT 14-30 days\", \"TAT >30 days\"], \"xaxis\": \"x\", \"y\": [971, 0, 144, 418, 306, 87], \"yaxis\": \"y\"}],                        {\"barmode\": \"relative\", \"legend\": {\"tracegroupgap\": 0}, \"template\": {\"data\": {\"bar\": [{\"error_x\": {\"color\": \"#2a3f5f\"}, \"error_y\": {\"color\": \"#2a3f5f\"}, \"marker\": {\"line\": {\"color\": \"#E5ECF6\", \"width\": 0.5}}, \"type\": \"bar\"}], \"barpolar\": [{\"marker\": {\"line\": {\"color\": \"#E5ECF6\", \"width\": 0.5}}, \"type\": \"barpolar\"}], \"carpet\": [{\"aaxis\": {\"endlinecolor\": \"#2a3f5f\", \"gridcolor\": \"white\", \"linecolor\": \"white\", \"minorgridcolor\": \"white\", \"startlinecolor\": \"#2a3f5f\"}, \"baxis\": {\"endlinecolor\": \"#2a3f5f\", \"gridcolor\": \"white\", \"linecolor\": \"white\", \"minorgridcolor\": \"white\", \"startlinecolor\": \"#2a3f5f\"}, \"type\": \"carpet\"}], \"choropleth\": [{\"colorbar\": {\"outlinewidth\": 0, \"ticks\": \"\"}, \"type\": \"choropleth\"}], \"contour\": [{\"colorbar\": {\"outlinewidth\": 0, \"ticks\": \"\"}, \"colorscale\": [[0.0, \"#0d0887\"], [0.1111111111111111, \"#46039f\"], [0.2222222222222222, \"#7201a8\"], [0.3333333333333333, \"#9c179e\"], [0.4444444444444444, \"#bd3786\"], [0.5555555555555556, \"#d8576b\"], [0.6666666666666666, \"#ed7953\"], [0.7777777777777778, \"#fb9f3a\"], [0.8888888888888888, \"#fdca26\"], [1.0, \"#f0f921\"]], \"type\": \"contour\"}], \"contourcarpet\": [{\"colorbar\": {\"outlinewidth\": 0, \"ticks\": \"\"}, \"type\": \"contourcarpet\"}], \"heatmap\": [{\"colorbar\": {\"outlinewidth\": 0, \"ticks\": \"\"}, \"colorscale\": [[0.0, \"#0d0887\"], [0.1111111111111111, \"#46039f\"], [0.2222222222222222, \"#7201a8\"], [0.3333333333333333, \"#9c179e\"], [0.4444444444444444, \"#bd3786\"], [0.5555555555555556, \"#d8576b\"], [0.6666666666666666, \"#ed7953\"], [0.7777777777777778, \"#fb9f3a\"], [0.8888888888888888, \"#fdca26\"], [1.0, \"#f0f921\"]], \"type\": \"heatmap\"}], \"heatmapgl\": [{\"colorbar\": {\"outlinewidth\": 0, \"ticks\": \"\"}, \"colorscale\": [[0.0, \"#0d0887\"], [0.1111111111111111, \"#46039f\"], [0.2222222222222222, \"#7201a8\"], [0.3333333333333333, \"#9c179e\"], [0.4444444444444444, \"#bd3786\"], [0.5555555555555556, \"#d8576b\"], [0.6666666666666666, \"#ed7953\"], [0.7777777777777778, \"#fb9f3a\"], [0.8888888888888888, \"#fdca26\"], [1.0, \"#f0f921\"]], \"type\": \"heatmapgl\"}], \"histogram\": [{\"marker\": {\"colorbar\": {\"outlinewidth\": 0, \"ticks\": \"\"}}, \"type\": \"histogram\"}], \"histogram2d\": [{\"colorbar\": {\"outlinewidth\": 0, \"ticks\": \"\"}, \"colorscale\": [[0.0, \"#0d0887\"], [0.1111111111111111, \"#46039f\"], [0.2222222222222222, \"#7201a8\"], [0.3333333333333333, \"#9c179e\"], [0.4444444444444444, \"#bd3786\"], [0.5555555555555556, \"#d8576b\"], [0.6666666666666666, \"#ed7953\"], [0.7777777777777778, \"#fb9f3a\"], [0.8888888888888888, \"#fdca26\"], [1.0, \"#f0f921\"]], \"type\": \"histogram2d\"}], \"histogram2dcontour\": [{\"colorbar\": {\"outlinewidth\": 0, \"ticks\": \"\"}, \"colorscale\": [[0.0, \"#0d0887\"], [0.1111111111111111, \"#46039f\"], [0.2222222222222222, \"#7201a8\"], [0.3333333333333333, \"#9c179e\"], [0.4444444444444444, \"#bd3786\"], [0.5555555555555556, \"#d8576b\"], [0.6666666666666666, \"#ed7953\"], [0.7777777777777778, \"#fb9f3a\"], [0.8888888888888888, \"#fdca26\"], [1.0, \"#f0f921\"]], \"type\": \"histogram2dcontour\"}], \"mesh3d\": [{\"colorbar\": {\"outlinewidth\": 0, \"ticks\": \"\"}, \"type\": \"mesh3d\"}], \"parcoords\": [{\"line\": {\"colorbar\": {\"outlinewidth\": 0, \"ticks\": \"\"}}, \"type\": \"parcoords\"}], \"pie\": [{\"automargin\": true, \"type\": \"pie\"}], \"scatter\": [{\"marker\": {\"colorbar\": {\"outlinewidth\": 0, \"ticks\": \"\"}}, \"type\": \"scatter\"}], \"scatter3d\": [{\"line\": {\"colorbar\": {\"outlinewidth\": 0, \"ticks\": \"\"}}, \"marker\": {\"colorbar\": {\"outlinewidth\": 0, \"ticks\": \"\"}}, \"type\": \"scatter3d\"}], \"scattercarpet\": [{\"marker\": {\"colorbar\": {\"outlinewidth\": 0, \"ticks\": \"\"}}, \"type\": \"scattercarpet\"}], \"scattergeo\": [{\"marker\": {\"colorbar\": {\"outlinewidth\": 0, \"ticks\": \"\"}}, \"type\": \"scattergeo\"}], \"scattergl\": [{\"marker\": {\"colorbar\": {\"outlinewidth\": 0, \"ticks\": \"\"}}, \"type\": \"scattergl\"}], \"scattermapbox\": [{\"marker\": {\"colorbar\": {\"outlinewidth\": 0, \"ticks\": \"\"}}, \"type\": \"scattermapbox\"}], \"scatterpolar\": [{\"marker\": {\"colorbar\": {\"outlinewidth\": 0, \"ticks\": \"\"}}, \"type\": \"scatterpolar\"}], \"scatterpolargl\": [{\"marker\": {\"colorbar\": {\"outlinewidth\": 0, \"ticks\": \"\"}}, \"type\": \"scatterpolargl\"}], \"scatterternary\": [{\"marker\": {\"colorbar\": {\"outlinewidth\": 0, \"ticks\": \"\"}}, \"type\": \"scatterternary\"}], \"surface\": [{\"colorbar\": {\"outlinewidth\": 0, \"ticks\": \"\"}, \"colorscale\": [[0.0, \"#0d0887\"], [0.1111111111111111, \"#46039f\"], [0.2222222222222222, \"#7201a8\"], [0.3333333333333333, \"#9c179e\"], [0.4444444444444444, \"#bd3786\"], [0.5555555555555556, \"#d8576b\"], [0.6666666666666666, \"#ed7953\"], [0.7777777777777778, \"#fb9f3a\"], [0.8888888888888888, \"#fdca26\"], [1.0, \"#f0f921\"]], \"type\": \"surface\"}], \"table\": [{\"cells\": {\"fill\": {\"color\": \"#EBF0F8\"}, \"line\": {\"color\": \"white\"}}, \"header\": {\"fill\": {\"color\": \"#C8D4E3\"}, \"line\": {\"color\": \"white\"}}, \"type\": \"table\"}]}, \"layout\": {\"annotationdefaults\": {\"arrowcolor\": \"#2a3f5f\", \"arrowhead\": 0, \"arrowwidth\": 1}, \"coloraxis\": {\"colorbar\": {\"outlinewidth\": 0, \"ticks\": \"\"}}, \"colorscale\": {\"diverging\": [[0, \"#8e0152\"], [0.1, \"#c51b7d\"], [0.2, \"#de77ae\"], [0.3, \"#f1b6da\"], [0.4, \"#fde0ef\"], [0.5, \"#f7f7f7\"], [0.6, \"#e6f5d0\"], [0.7, \"#b8e186\"], [0.8, \"#7fbc41\"], [0.9, \"#4d9221\"], [1, \"#276419\"]], \"sequential\": [[0.0, \"#0d0887\"], [0.1111111111111111, \"#46039f\"], [0.2222222222222222, \"#7201a8\"], [0.3333333333333333, \"#9c179e\"], [0.4444444444444444, \"#bd3786\"], [0.5555555555555556, \"#d8576b\"], [0.6666666666666666, \"#ed7953\"], [0.7777777777777778, \"#fb9f3a\"], [0.8888888888888888, \"#fdca26\"], [1.0, \"#f0f921\"]], \"sequentialminus\": [[0.0, \"#0d0887\"], [0.1111111111111111, \"#46039f\"], [0.2222222222222222, \"#7201a8\"], [0.3333333333333333, \"#9c179e\"], [0.4444444444444444, \"#bd3786\"], [0.5555555555555556, \"#d8576b\"], [0.6666666666666666, \"#ed7953\"], [0.7777777777777778, \"#fb9f3a\"], [0.8888888888888888, \"#fdca26\"], [1.0, \"#f0f921\"]]}, \"colorway\": [\"#636efa\", \"#EF553B\", \"#00cc96\", \"#ab63fa\", \"#FFA15A\", \"#19d3f3\", \"#FF6692\", \"#B6E880\", \"#FF97FF\", \"#FECB52\"], \"font\": {\"color\": \"#2a3f5f\"}, \"geo\": {\"bgcolor\": \"white\", \"lakecolor\": \"white\", \"landcolor\": \"#E5ECF6\", \"showlakes\": true, \"showland\": true, \"subunitcolor\": \"white\"}, \"hoverlabel\": {\"align\": \"left\"}, \"hovermode\": \"closest\", \"mapbox\": {\"style\": \"light\"}, \"paper_bgcolor\": \"white\", \"plot_bgcolor\": \"#E5ECF6\", \"polar\": {\"angularaxis\": {\"gridcolor\": \"white\", \"linecolor\": \"white\", \"ticks\": \"\"}, \"bgcolor\": \"#E5ECF6\", \"radialaxis\": {\"gridcolor\": \"white\", \"linecolor\": \"white\", \"ticks\": \"\"}}, \"scene\": {\"xaxis\": {\"backgroundcolor\": \"#E5ECF6\", \"gridcolor\": \"white\", \"gridwidth\": 2, \"linecolor\": \"white\", \"showbackground\": true, \"ticks\": \"\", \"zerolinecolor\": \"white\"}, \"yaxis\": {\"backgroundcolor\": \"#E5ECF6\", \"gridcolor\": \"white\", \"gridwidth\": 2, \"linecolor\": \"white\", \"showbackground\": true, \"ticks\": \"\", \"zerolinecolor\": \"white\"}, \"zaxis\": {\"backgroundcolor\": \"#E5ECF6\", \"gridcolor\": \"white\", \"gridwidth\": 2, \"linecolor\": \"white\", \"showbackground\": true, \"ticks\": \"\", \"zerolinecolor\": \"white\"}}, \"shapedefaults\": {\"line\": {\"color\": \"#2a3f5f\"}}, \"ternary\": {\"aaxis\": {\"gridcolor\": \"white\", \"linecolor\": \"white\", \"ticks\": \"\"}, \"baxis\": {\"gridcolor\": \"white\", \"linecolor\": \"white\", \"ticks\": \"\"}, \"bgcolor\": \"#E5ECF6\", \"caxis\": {\"gridcolor\": \"white\", \"linecolor\": \"white\", \"ticks\": \"\"}}, \"title\": {\"x\": 0.05}, \"xaxis\": {\"automargin\": true, \"gridcolor\": \"white\", \"linecolor\": \"white\", \"ticks\": \"\", \"title\": {\"standoff\": 15}, \"zerolinecolor\": \"white\", \"zerolinewidth\": 2}, \"yaxis\": {\"automargin\": true, \"gridcolor\": \"white\", \"linecolor\": \"white\", \"ticks\": \"\", \"title\": {\"standoff\": 15}, \"zerolinecolor\": \"white\", \"zerolinewidth\": 2}}}, \"title\": {\"text\": \"<b>TURN AROUND TIME (ALL PCR) DURING THE REVIEW PERIOD</b>\"}, \"xaxis\": {\"anchor\": \"y\", \"domain\": [0.0, 1.0], \"title\": {\"text\": \"Turn Around Time (TAT)\"}}, \"yaxis\": {\"anchor\": \"x\", \"domain\": [0.0, 1.0], \"title\": {\"text\": \"values\"}}},                        {\"responsive\": true}                    ).then(function(){\n",
       "                            \n",
       "var gd = document.getElementById('16eb2527-a2f3-4801-bf48-13db46a6ae57');\n",
       "var x = new MutationObserver(function (mutations, observer) {{\n",
       "        var display = window.getComputedStyle(gd).display;\n",
       "        if (!display || display === 'none') {{\n",
       "            console.log([gd, 'removed!']);\n",
       "            Plotly.purge(gd);\n",
       "            observer.disconnect();\n",
       "        }}\n",
       "}});\n",
       "\n",
       "// Listen for the removal of the full notebook cells\n",
       "var notebookContainer = gd.closest('#notebook-container');\n",
       "if (notebookContainer) {{\n",
       "    x.observe(notebookContainer, {childList: true});\n",
       "}}\n",
       "\n",
       "// Listen for the clearing of the current output cell\n",
       "var outputEl = gd.closest('.output');\n",
       "if (outputEl) {{\n",
       "    x.observe(outputEl, {childList: true});\n",
       "}}\n",
       "\n",
       "                        })                };                });            </script>        </div>"
      ]
     },
     "metadata": {},
     "output_type": "display_data"
    }
   ],
   "source": [
    "fig=px.bar(tat_df,x='Turn Around Time (TAT)',y='values',title='<b>TURN AROUND TIME (ALL PCR) DURING THE REVIEW PERIOD</b>',\n",
    "           text='percentage',)\n",
    "#           color_continuous_scale=[\"green\", \"yellow\", \"red\"])\n",
    "fig.update_traces( textposition='outside')\n",
    "# fig.update_layout(uniformtext_minsize=9, uniformtext_mode='hide')\n",
    "# fig.update_xaxes(tickangle=45)\n",
    "fig.show()"
   ]
  },
  {
   "cell_type": "code",
   "execution_count": 62,
   "metadata": {
    "ExecuteTime": {
     "end_time": "2021-09-29T10:37:54.286032Z",
     "start_time": "2021-09-29T10:37:54.197090Z"
    },
    "scrolled": false
   },
   "outputs": [],
   "source": [
    "# px.scatter(time,x='Processing To Dispatch',y='collection to receipt',trendline=\"ols\",\n",
    "#            color='collection to receipt',\n",
    "#            title='Processing vs days spent for NASCOP to receive samples',\n",
    "#            opacity=0.65,trendline_color_override='green',hover_data=[\"Facilty\"])"
   ]
  },
  {
   "cell_type": "code",
   "execution_count": 63,
   "metadata": {
    "ExecuteTime": {
     "end_time": "2021-09-29T10:37:54.411953Z",
     "start_time": "2021-09-29T10:37:54.290030Z"
    },
    "scrolled": false
   },
   "outputs": [],
   "source": [
    "# px.scatter(time,x='Collection to Dispatch',y='collection to receipt',\n",
    "#            trendline=\"ols\",color=\"collection to receipt\",\n",
    "#            title='TAT(days) vs days spent for NASCOP to receive samples',\n",
    "#            opacity=0.65,trendline_color_override='red',hover_data=[\"Facilty\"])"
   ]
  },
  {
   "cell_type": "code",
   "execution_count": 64,
   "metadata": {
    "ExecuteTime": {
     "end_time": "2021-09-29T10:37:54.581851Z",
     "start_time": "2021-09-29T10:37:54.414954Z"
    },
    "scrolled": false
   },
   "outputs": [],
   "source": [
    "# px.scatter(time,x='Collection to Dispatch',y='Processing To Dispatch', trendline=\"ols\",title='collection to dispatch vs Processing To Dispatch',opacity=0.65,trendline_color_override='red',\n",
    "#           color='Processing To Dispatch',hover_data=[\"Facilty\"])"
   ]
  },
  {
   "cell_type": "code",
   "execution_count": null,
   "metadata": {},
   "outputs": [],
   "source": []
  }
 ],
 "metadata": {
  "hide_input": false,
  "kernelspec": {
   "display_name": "Python 3",
   "language": "python",
   "name": "python3"
  },
  "language_info": {
   "codemirror_mode": {
    "name": "ipython",
    "version": 3
   },
   "file_extension": ".py",
   "mimetype": "text/x-python",
   "name": "python",
   "nbconvert_exporter": "python",
   "pygments_lexer": "ipython3",
   "version": "3.8.11"
  }
 },
 "nbformat": 4,
 "nbformat_minor": 4
}
