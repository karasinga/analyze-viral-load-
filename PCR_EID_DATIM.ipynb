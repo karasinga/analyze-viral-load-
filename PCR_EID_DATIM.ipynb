{
 "cells": [
  {
   "cell_type": "markdown",
   "metadata": {},
   "source": [
    "# Read csv downloaded from NASCOP  to summarize it for DATIM and for our consumption:"
   ]
  },
  {
   "cell_type": "code",
   "execution_count": 1,
   "metadata": {
    "ExecuteTime": {
     "end_time": "2021-09-16T18:17:56.463422Z",
     "start_time": "2021-09-16T18:17:46.461454Z"
    }
   },
   "outputs": [
    {
     "data": {
      "text/html": [
       "        <script type=\"text/javascript\">\n",
       "        window.PlotlyConfig = {MathJaxConfig: 'local'};\n",
       "        if (window.MathJax) {MathJax.Hub.Config({SVG: {font: \"STIX-Web\"}});}\n",
       "        if (typeof require !== 'undefined') {\n",
       "        require.undef(\"plotly\");\n",
       "        requirejs.config({\n",
       "            paths: {\n",
       "                'plotly': ['https://cdn.plot.ly/plotly-latest.min']\n",
       "            }\n",
       "        });\n",
       "        require(['plotly'], function(Plotly) {\n",
       "            window._Plotly = Plotly;\n",
       "        });\n",
       "        }\n",
       "        </script>\n",
       "        "
      ]
     },
     "metadata": {},
     "output_type": "display_data"
    },
    {
     "name": "stdout",
     "output_type": "stream",
     "text": [
      "Wall time: 9.98 s\n"
     ]
    }
   ],
   "source": [
    "%%time\n",
    "# import pandas\n",
    "import pandas as pd\n",
    "import numpy as np\n",
    "import matplotlib.pylab as plt\n",
    "import plotly.express as px\n",
    "import calendar\n",
    "\n",
    "from plotly.subplots import make_subplots\n",
    "import plotly.graph_objects as go\n",
    "\n",
    "# plt.style.use('fivethirtyeight')\n",
    "import seaborn as sns\n",
    "from io import StringIO\n",
    "%matplotlib inline\n",
    "\n",
    "from plotly.offline import download_plotlyjs, init_notebook_mode, plot,iplot\n",
    "init_notebook_mode(connected=True)\n",
    "\n",
    "from collections import defaultdict\n",
    "from IPython.display import display\n",
    "pd.options.display.max_rows = None\n",
    "pd.options.display.max_columns = None\n",
    "\n",
    "# read dataframe from the directory\n",
    "# df=pd.read_csv('UON CRISSP EID TEST OUTCOMES FOR  IN 01OCT2020  31DEC2020.csv',index_col=None)\n",
    "df=pd.read_csv('UON CRISSP EID TEST OUTCOMES FOR  IN 01OCT2020  16SEP2021.csv',index_col=None)\n",
    "# df=df[df['County']==\"Kiambu\"]\n",
    "df=df[df['County']==\"Kirinyaga\"]\n",
    "# df=df[df['Sub-County']==\"Kirinyaga Central\"]\n",
    "# df=df[df['Sub-County']==\"Kirinyaga East\"]\n",
    "# df=df[df['Sub-County']==\"Kirinyaga North\"]\n",
    "# df=df[df['Sub-County']==\"Kirinyaga South\"]\n",
    "# df=df[df['Sub-County']==\"Kirinyaga North/Mwea West\"]"
   ]
  },
  {
   "cell_type": "code",
   "execution_count": 2,
   "metadata": {
    "ExecuteTime": {
     "end_time": "2021-09-16T18:17:56.495401Z",
     "start_time": "2021-09-16T18:17:56.470416Z"
    }
   },
   "outputs": [
    {
     "data": {
      "text/html": [
       "<script>\n",
       "code_show=true; \n",
       "function code_toggle() {\n",
       " if (code_show){\n",
       " $('div.input').hide();\n",
       " } else {\n",
       " $('div.input').show();\n",
       " }\n",
       " code_show = !code_show\n",
       "} \n",
       "$( document ).ready(code_toggle);\n",
       "</script>\n"
      ],
      "text/plain": [
       "<IPython.core.display.HTML object>"
      ]
     },
     "execution_count": 2,
     "metadata": {},
     "output_type": "execute_result"
    }
   ],
   "source": [
    "from IPython.display import HTML\n",
    ",\n",
    "HTML('''<script>\n",
    "code_show=true; \n",
    "function code_toggle() {\n",
    " if (code_show){\n",
    " $('div.input').hide();\n",
    " } else {\n",
    " $('div.input').show();\n",
    " }\n",
    " code_show = !code_show\n",
    "} \n",
    "$( document ).ready(code_toggle);\n",
    "</script>\n",
    "''')"
   ]
  },
  {
   "cell_type": "code",
   "execution_count": 3,
   "metadata": {
    "ExecuteTime": {
     "end_time": "2021-09-16T18:17:56.655301Z",
     "start_time": "2021-09-16T18:17:56.502396Z"
    }
   },
   "outputs": [],
   "source": [
    "def get_results(df):\n",
    "    \"\"\"Displays answer in form of a \"\"\"  \n",
    "    \n",
    "    # get unique values in 'PCR type' column\n",
    "    pcr_types=[] # store unique value from above in a list\n",
    "    for pcr_type in df['PCR Type']: \n",
    "        df=df[df['PCR Type']==pcr_type]\n",
    "        pcr_types.append(pcr_type)\n",
    "        \n",
    "    # count values in the pcr type list\n",
    "    results = defaultdict(int)\n",
    "    for pcr_type in pcr_types:\n",
    "        results[pcr_type] += 1 \n",
    "        \n",
    "    #convert dictionary to a dataframe       \n",
    "    num=pd.DataFrame(results.items(),columns=['PCR type','Count'],index=None )\n",
    "    \n",
    "    return num   "
   ]
  },
  {
   "cell_type": "code",
   "execution_count": 4,
   "metadata": {
    "ExecuteTime": {
     "end_time": "2021-09-16T18:17:56.780227Z",
     "start_time": "2021-09-16T18:17:56.659299Z"
    }
   },
   "outputs": [],
   "source": [
    "def age_buckets(x):\n",
    "    \"\"\"convert age to age ranges\"\"\"\n",
    "    if x == 2: \n",
    "        return '< 2' \n",
    "    elif x == 12: \n",
    "        return '2-12' "
   ]
  },
  {
   "cell_type": "markdown",
   "metadata": {},
   "source": [
    "#####  PMTCT_EID Disaggregated by Infant Test Results\n",
    "use table below to fill DATIM report"
   ]
  },
  {
   "cell_type": "code",
   "execution_count": 5,
   "metadata": {
    "ExecuteTime": {
     "end_time": "2021-09-16T18:17:56.923141Z",
     "start_time": "2021-09-16T18:17:56.784223Z"
    }
   },
   "outputs": [],
   "source": [
    "# change df to datim\n",
    "summary_PCR_done=df\n",
    "\n",
    "# Replace <2 with 2 and 2-12 with 12\n",
    "summary_PCR_done.loc[summary_PCR_done['Age (Months)'] < 2, 'Age (Months)'] = 2\n",
    "summary_PCR_done.loc[(summary_PCR_done['Age (Months)'] >2) & (summary_PCR_done['Age (Months)'] <12), 'Age (Months)'] = 12\n",
    "\n",
    "# Filter all rows for which the children age is greater than >12. Not need in the report\n",
    "summary_PCR_done.drop(summary_PCR_done[summary_PCR_done['Age (Months)'] > 12].index, inplace = True)\n",
    "summary_PCR_done=summary_PCR_done[summary_PCR_done['PCR Type'] != 'Confirmatory PCR and Baseline VL']\n",
    "# summary_PCR_done"
   ]
  },
  {
   "cell_type": "code",
   "execution_count": 6,
   "metadata": {
    "ExecuteTime": {
     "end_time": "2021-09-16T18:17:57.003087Z",
     "start_time": "2021-09-16T18:17:56.927135Z"
    },
    "scrolled": false
   },
   "outputs": [],
   "source": [
    "# add a column of count to the dataframe\n",
    "summary_PCR_done=summary_PCR_done.copy()\n",
    "summary_PCR_done['Counts']=1\n",
    "\n",
    "summary_PCR_done['Age'] = summary_PCR_done['Age (Months)'].apply(age_buckets)\n",
    "\n",
    "# group dataframe by Facilty',\"Result\" and'Age (Months)'\n",
    "facilities=summary_PCR_done.groupby(['County','Facilty','Result','Age']).sum()['Counts'].reset_index()\n",
    "# facilities\n",
    "# ages\n",
    "\n",
    "# #convert summary into a dataframe \n",
    "# pd.DataFrame(summary_PCR_done,columns=['Count'])"
   ]
  },
  {
   "cell_type": "code",
   "execution_count": 7,
   "metadata": {
    "ExecuteTime": {
     "end_time": "2021-09-16T18:17:57.176981Z",
     "start_time": "2021-09-16T18:17:57.007085Z"
    }
   },
   "outputs": [],
   "source": [
    "df2=summary_PCR_done.groupby([\"Sub-County\",'Result','Age']).sum()['Counts'].reset_index()\n",
    "subcounties=df2.pivot_table(index=['Sub-County', 'Age'], columns=\"Result\").reset_index()"
   ]
  },
  {
   "cell_type": "code",
   "execution_count": 8,
   "metadata": {
    "ExecuteTime": {
     "end_time": "2021-09-16T18:17:57.286912Z",
     "start_time": "2021-09-16T18:17:57.181978Z"
    }
   },
   "outputs": [],
   "source": [
    "def convert_pivot_to_dataframe(subcounties):\n",
    "    \"\"\"convert pivot table to dataframe\"\"\"  \n",
    "    subcounties.columns = subcounties.columns.droplevel(0) #remove amount\n",
    "    subcounties = subcounties.reset_index()                #index to columns\n",
    "    return subcounties\n",
    "    \n",
    "# subcounties"
   ]
  },
  {
   "cell_type": "code",
   "execution_count": 9,
   "metadata": {
    "ExecuteTime": {
     "end_time": "2021-09-16T18:17:57.552854Z",
     "start_time": "2021-09-16T18:17:57.295910Z"
    },
    "scrolled": false
   },
   "outputs": [
    {
     "data": {
      "text/html": [
       "<div>\n",
       "<style scoped>\n",
       "    .dataframe tbody tr th:only-of-type {\n",
       "        vertical-align: middle;\n",
       "    }\n",
       "\n",
       "    .dataframe tbody tr th {\n",
       "        vertical-align: top;\n",
       "    }\n",
       "\n",
       "    .dataframe thead th {\n",
       "        text-align: right;\n",
       "    }\n",
       "</style>\n",
       "<table border=\"1\" class=\"dataframe\">\n",
       "  <thead>\n",
       "    <tr style=\"text-align: right;\">\n",
       "      <th></th>\n",
       "      <th>Sub-Counties</th>\n",
       "      <th>Months Initial PCR done</th>\n",
       "      <th>Negative</th>\n",
       "      <th>Positive</th>\n",
       "      <th>Total</th>\n",
       "    </tr>\n",
       "  </thead>\n",
       "  <tbody>\n",
       "    <tr>\n",
       "      <th>0</th>\n",
       "      <td>Kirinyaga Central</td>\n",
       "      <td>2-12</td>\n",
       "      <td>119</td>\n",
       "      <td>0</td>\n",
       "      <td>119</td>\n",
       "    </tr>\n",
       "    <tr>\n",
       "      <th>1</th>\n",
       "      <td>Kirinyaga Central</td>\n",
       "      <td>&lt; 2</td>\n",
       "      <td>78</td>\n",
       "      <td>2</td>\n",
       "      <td>80</td>\n",
       "    </tr>\n",
       "    <tr>\n",
       "      <th>2</th>\n",
       "      <td>Kirinyaga East</td>\n",
       "      <td>2-12</td>\n",
       "      <td>30</td>\n",
       "      <td>0</td>\n",
       "      <td>30</td>\n",
       "    </tr>\n",
       "    <tr>\n",
       "      <th>3</th>\n",
       "      <td>Kirinyaga East</td>\n",
       "      <td>&lt; 2</td>\n",
       "      <td>18</td>\n",
       "      <td>1</td>\n",
       "      <td>19</td>\n",
       "    </tr>\n",
       "    <tr>\n",
       "      <th>4</th>\n",
       "      <td>Kirinyaga North</td>\n",
       "      <td>2-12</td>\n",
       "      <td>59</td>\n",
       "      <td>0</td>\n",
       "      <td>59</td>\n",
       "    </tr>\n",
       "    <tr>\n",
       "      <th>5</th>\n",
       "      <td>Kirinyaga North</td>\n",
       "      <td>&lt; 2</td>\n",
       "      <td>28</td>\n",
       "      <td>2</td>\n",
       "      <td>30</td>\n",
       "    </tr>\n",
       "    <tr>\n",
       "      <th>6</th>\n",
       "      <td>Kirinyaga North/Mwea West</td>\n",
       "      <td>2-12</td>\n",
       "      <td>73</td>\n",
       "      <td>2</td>\n",
       "      <td>75</td>\n",
       "    </tr>\n",
       "    <tr>\n",
       "      <th>7</th>\n",
       "      <td>Kirinyaga North/Mwea West</td>\n",
       "      <td>&lt; 2</td>\n",
       "      <td>33</td>\n",
       "      <td>0</td>\n",
       "      <td>33</td>\n",
       "    </tr>\n",
       "    <tr>\n",
       "      <th>8</th>\n",
       "      <td>Kirinyaga South</td>\n",
       "      <td>2-12</td>\n",
       "      <td>142</td>\n",
       "      <td>0</td>\n",
       "      <td>142</td>\n",
       "    </tr>\n",
       "    <tr>\n",
       "      <th>9</th>\n",
       "      <td>Kirinyaga South</td>\n",
       "      <td>&lt; 2</td>\n",
       "      <td>63</td>\n",
       "      <td>0</td>\n",
       "      <td>63</td>\n",
       "    </tr>\n",
       "  </tbody>\n",
       "</table>\n",
       "</div>"
      ],
      "text/plain": [
       "                Sub-Counties Months Initial PCR done  Negative  Positive  \\\n",
       "0          Kirinyaga Central                    2-12       119         0   \n",
       "1          Kirinyaga Central                     < 2        78         2   \n",
       "2             Kirinyaga East                    2-12        30         0   \n",
       "3             Kirinyaga East                     < 2        18         1   \n",
       "4            Kirinyaga North                    2-12        59         0   \n",
       "5            Kirinyaga North                     < 2        28         2   \n",
       "6  Kirinyaga North/Mwea West                    2-12        73         2   \n",
       "7  Kirinyaga North/Mwea West                     < 2        33         0   \n",
       "8            Kirinyaga South                    2-12       142         0   \n",
       "9            Kirinyaga South                     < 2        63         0   \n",
       "\n",
       "   Total  \n",
       "0    119  \n",
       "1     80  \n",
       "2     30  \n",
       "3     19  \n",
       "4     59  \n",
       "5     30  \n",
       "6     75  \n",
       "7     33  \n",
       "8    142  \n",
       "9     63  "
      ]
     },
     "execution_count": 9,
     "metadata": {},
     "output_type": "execute_result"
    }
   ],
   "source": [
    "subcounties=convert_pivot_to_dataframe(subcounties)\n",
    "\n",
    "subcounties.columns=[\"index\",\"Sub-Counties\",\"Months Initial PCR done\",\"Negative\",\"Positive\"]\n",
    "del subcounties['index']\n",
    "subcounties=subcounties.fillna(0)\n",
    "subcounties[\"Total\"]=subcounties[\"Negative\"]+subcounties[\"Positive\"]\n",
    "pcr_done=subcounties['Total'].sum().astype(int)\n",
    "positive_sample=subcounties['Positive'].sum().astype(int)\n",
    "negative_sample=subcounties['Negative'].sum().astype(int)\n",
    "subcounties['Total']=subcounties['Total'].astype(int)\n",
    "subcounties['Positive']=subcounties['Positive'].astype(int)\n",
    "subcounties['Negative']=subcounties['Negative'].astype(int)\n",
    "subcounties"
   ]
  },
  {
   "cell_type": "code",
   "execution_count": 10,
   "metadata": {
    "ExecuteTime": {
     "end_time": "2021-09-16T18:17:57.773812Z",
     "start_time": "2021-09-16T18:17:57.562847Z"
    }
   },
   "outputs": [
    {
     "data": {
      "text/html": [
       "<div>\n",
       "<style scoped>\n",
       "    .dataframe tbody tr th:only-of-type {\n",
       "        vertical-align: middle;\n",
       "    }\n",
       "\n",
       "    .dataframe tbody tr th {\n",
       "        vertical-align: top;\n",
       "    }\n",
       "\n",
       "    .dataframe thead th {\n",
       "        text-align: right;\n",
       "    }\n",
       "</style>\n",
       "<table border=\"1\" class=\"dataframe\">\n",
       "  <thead>\n",
       "    <tr style=\"text-align: right;\">\n",
       "      <th></th>\n",
       "      <th>Sub-Counties</th>\n",
       "      <th>Positive</th>\n",
       "      <th>Negative</th>\n",
       "      <th>Total</th>\n",
       "      <th>mtct rate</th>\n",
       "    </tr>\n",
       "  </thead>\n",
       "  <tbody>\n",
       "    <tr>\n",
       "      <th>1</th>\n",
       "      <td>Kirinyaga East</td>\n",
       "      <td>1</td>\n",
       "      <td>48</td>\n",
       "      <td>49</td>\n",
       "      <td>2.0</td>\n",
       "    </tr>\n",
       "    <tr>\n",
       "      <th>2</th>\n",
       "      <td>Kirinyaga North</td>\n",
       "      <td>2</td>\n",
       "      <td>87</td>\n",
       "      <td>89</td>\n",
       "      <td>2.2</td>\n",
       "    </tr>\n",
       "    <tr>\n",
       "      <th>3</th>\n",
       "      <td>Kirinyaga North/Mwea West</td>\n",
       "      <td>2</td>\n",
       "      <td>106</td>\n",
       "      <td>108</td>\n",
       "      <td>1.9</td>\n",
       "    </tr>\n",
       "    <tr>\n",
       "      <th>0</th>\n",
       "      <td>Kirinyaga Central</td>\n",
       "      <td>2</td>\n",
       "      <td>197</td>\n",
       "      <td>199</td>\n",
       "      <td>1.0</td>\n",
       "    </tr>\n",
       "    <tr>\n",
       "      <th>4</th>\n",
       "      <td>Kirinyaga South</td>\n",
       "      <td>0</td>\n",
       "      <td>205</td>\n",
       "      <td>205</td>\n",
       "      <td>0.0</td>\n",
       "    </tr>\n",
       "  </tbody>\n",
       "</table>\n",
       "</div>"
      ],
      "text/plain": [
       "                Sub-Counties  Positive  Negative  Total  mtct rate\n",
       "1             Kirinyaga East         1        48     49        2.0\n",
       "2            Kirinyaga North         2        87     89        2.2\n",
       "3  Kirinyaga North/Mwea West         2       106    108        1.9\n",
       "0          Kirinyaga Central         2       197    199        1.0\n",
       "4            Kirinyaga South         0       205    205        0.0"
      ]
     },
     "execution_count": 10,
     "metadata": {},
     "output_type": "execute_result"
    }
   ],
   "source": [
    "negative=subcounties.groupby(\"Sub-Counties\").sum()['Negative'].reset_index()\n",
    "positives=subcounties.groupby(\"Sub-Counties\").sum()[['Positive','Negative']].reset_index().sort_values(\"Negative\")\n",
    "positives['Total']=positives['Positive']+positives['Negative']\n",
    "\n",
    "\n",
    "positives['Total']=positives['Total'].astype(int)\n",
    "positives['Positive']=positives['Positive'].astype(int)\n",
    "positives['Negative']=positives['Negative'].astype(int)\n",
    "positives['mtct rate']=round(positives['Positive']/positives['Total']*100,1)\n",
    "positives"
   ]
  },
  {
   "cell_type": "code",
   "execution_count": 11,
   "metadata": {
    "ExecuteTime": {
     "end_time": "2021-09-16T18:17:57.917722Z",
     "start_time": "2021-09-16T18:17:57.784806Z"
    }
   },
   "outputs": [
    {
     "data": {
      "text/html": [
       "<div>\n",
       "<style scoped>\n",
       "    .dataframe tbody tr th:only-of-type {\n",
       "        vertical-align: middle;\n",
       "    }\n",
       "\n",
       "    .dataframe tbody tr th {\n",
       "        vertical-align: top;\n",
       "    }\n",
       "\n",
       "    .dataframe thead th {\n",
       "        text-align: right;\n",
       "    }\n",
       "</style>\n",
       "<table border=\"1\" class=\"dataframe\">\n",
       "  <thead>\n",
       "    <tr style=\"text-align: right;\">\n",
       "      <th></th>\n",
       "      <th>Sub-Counties</th>\n",
       "      <th>Positive</th>\n",
       "      <th>Negative</th>\n",
       "      <th>Total</th>\n",
       "      <th>mtct rate</th>\n",
       "    </tr>\n",
       "  </thead>\n",
       "  <tbody>\n",
       "    <tr>\n",
       "      <th>1</th>\n",
       "      <td>Kirinyaga East</td>\n",
       "      <td>1</td>\n",
       "      <td>48</td>\n",
       "      <td>49</td>\n",
       "      <td>2.0</td>\n",
       "    </tr>\n",
       "    <tr>\n",
       "      <th>2</th>\n",
       "      <td>Kirinyaga North</td>\n",
       "      <td>2</td>\n",
       "      <td>87</td>\n",
       "      <td>89</td>\n",
       "      <td>2.2</td>\n",
       "    </tr>\n",
       "    <tr>\n",
       "      <th>3</th>\n",
       "      <td>Kirinyaga North/Mwea West</td>\n",
       "      <td>2</td>\n",
       "      <td>106</td>\n",
       "      <td>108</td>\n",
       "      <td>1.9</td>\n",
       "    </tr>\n",
       "    <tr>\n",
       "      <th>0</th>\n",
       "      <td>Kirinyaga Central</td>\n",
       "      <td>2</td>\n",
       "      <td>197</td>\n",
       "      <td>199</td>\n",
       "      <td>1.0</td>\n",
       "    </tr>\n",
       "    <tr>\n",
       "      <th>4</th>\n",
       "      <td>Kirinyaga South</td>\n",
       "      <td>0</td>\n",
       "      <td>205</td>\n",
       "      <td>205</td>\n",
       "      <td>0.0</td>\n",
       "    </tr>\n",
       "  </tbody>\n",
       "</table>\n",
       "</div>"
      ],
      "text/plain": [
       "                Sub-Counties  Positive  Negative  Total  mtct rate\n",
       "1             Kirinyaga East         1        48     49        2.0\n",
       "2            Kirinyaga North         2        87     89        2.2\n",
       "3  Kirinyaga North/Mwea West         2       106    108        1.9\n",
       "0          Kirinyaga Central         2       197    199        1.0\n",
       "4            Kirinyaga South         0       205    205        0.0"
      ]
     },
     "execution_count": 11,
     "metadata": {},
     "output_type": "execute_result"
    }
   ],
   "source": [
    "positives"
   ]
  },
  {
   "cell_type": "code",
   "execution_count": 12,
   "metadata": {
    "ExecuteTime": {
     "end_time": "2021-09-16T18:17:58.747223Z",
     "start_time": "2021-09-16T18:17:57.928717Z"
    }
   },
   "outputs": [
    {
     "data": {
      "application/vnd.plotly.v1+json": {
       "config": {
        "plotlyServerURL": "https://plot.ly"
       },
       "data": [
        {
         "name": "Negative",
         "text": [
          48,
          87,
          106,
          197,
          205
         ],
         "textposition": "outside",
         "type": "bar",
         "x": [
          "Kirinyaga East",
          "Kirinyaga North",
          "Kirinyaga North/Mwea West",
          "Kirinyaga Central",
          "Kirinyaga South"
         ],
         "xaxis": "x",
         "y": [
          48,
          87,
          106,
          197,
          205
         ],
         "yaxis": "y"
        },
        {
         "name": "Positive",
         "text": [
          1,
          2,
          2,
          2,
          0
         ],
         "textposition": "outside",
         "type": "bar",
         "x": [
          "Kirinyaga East",
          "Kirinyaga North",
          "Kirinyaga North/Mwea West",
          "Kirinyaga Central",
          "Kirinyaga South"
         ],
         "xaxis": "x",
         "y": [
          1,
          2,
          2,
          2,
          0
         ],
         "yaxis": "y"
        },
        {
         "mode": "lines+markers+text",
         "name": "mtct rate %",
         "text": [
          2,
          2.2,
          1.9,
          1,
          0
         ],
         "textfont": {
          "color": "RED",
          "family": "sans serif",
          "size": 18
         },
         "textposition": "top center",
         "type": "scatter",
         "x": [
          "Kirinyaga East",
          "Kirinyaga North",
          "Kirinyaga North/Mwea West",
          "Kirinyaga Central",
          "Kirinyaga South"
         ],
         "xaxis": "x",
         "y": [
          2,
          2.2,
          1.9,
          1,
          0
         ],
         "yaxis": "y2"
        }
       ],
       "layout": {
        "template": {
         "data": {
          "bar": [
           {
            "error_x": {
             "color": "#2a3f5f"
            },
            "error_y": {
             "color": "#2a3f5f"
            },
            "marker": {
             "line": {
              "color": "#E5ECF6",
              "width": 0.5
             }
            },
            "type": "bar"
           }
          ],
          "barpolar": [
           {
            "marker": {
             "line": {
              "color": "#E5ECF6",
              "width": 0.5
             }
            },
            "type": "barpolar"
           }
          ],
          "carpet": [
           {
            "aaxis": {
             "endlinecolor": "#2a3f5f",
             "gridcolor": "white",
             "linecolor": "white",
             "minorgridcolor": "white",
             "startlinecolor": "#2a3f5f"
            },
            "baxis": {
             "endlinecolor": "#2a3f5f",
             "gridcolor": "white",
             "linecolor": "white",
             "minorgridcolor": "white",
             "startlinecolor": "#2a3f5f"
            },
            "type": "carpet"
           }
          ],
          "choropleth": [
           {
            "colorbar": {
             "outlinewidth": 0,
             "ticks": ""
            },
            "type": "choropleth"
           }
          ],
          "contour": [
           {
            "colorbar": {
             "outlinewidth": 0,
             "ticks": ""
            },
            "colorscale": [
             [
              0,
              "#0d0887"
             ],
             [
              0.1111111111111111,
              "#46039f"
             ],
             [
              0.2222222222222222,
              "#7201a8"
             ],
             [
              0.3333333333333333,
              "#9c179e"
             ],
             [
              0.4444444444444444,
              "#bd3786"
             ],
             [
              0.5555555555555556,
              "#d8576b"
             ],
             [
              0.6666666666666666,
              "#ed7953"
             ],
             [
              0.7777777777777778,
              "#fb9f3a"
             ],
             [
              0.8888888888888888,
              "#fdca26"
             ],
             [
              1,
              "#f0f921"
             ]
            ],
            "type": "contour"
           }
          ],
          "contourcarpet": [
           {
            "colorbar": {
             "outlinewidth": 0,
             "ticks": ""
            },
            "type": "contourcarpet"
           }
          ],
          "heatmap": [
           {
            "colorbar": {
             "outlinewidth": 0,
             "ticks": ""
            },
            "colorscale": [
             [
              0,
              "#0d0887"
             ],
             [
              0.1111111111111111,
              "#46039f"
             ],
             [
              0.2222222222222222,
              "#7201a8"
             ],
             [
              0.3333333333333333,
              "#9c179e"
             ],
             [
              0.4444444444444444,
              "#bd3786"
             ],
             [
              0.5555555555555556,
              "#d8576b"
             ],
             [
              0.6666666666666666,
              "#ed7953"
             ],
             [
              0.7777777777777778,
              "#fb9f3a"
             ],
             [
              0.8888888888888888,
              "#fdca26"
             ],
             [
              1,
              "#f0f921"
             ]
            ],
            "type": "heatmap"
           }
          ],
          "heatmapgl": [
           {
            "colorbar": {
             "outlinewidth": 0,
             "ticks": ""
            },
            "colorscale": [
             [
              0,
              "#0d0887"
             ],
             [
              0.1111111111111111,
              "#46039f"
             ],
             [
              0.2222222222222222,
              "#7201a8"
             ],
             [
              0.3333333333333333,
              "#9c179e"
             ],
             [
              0.4444444444444444,
              "#bd3786"
             ],
             [
              0.5555555555555556,
              "#d8576b"
             ],
             [
              0.6666666666666666,
              "#ed7953"
             ],
             [
              0.7777777777777778,
              "#fb9f3a"
             ],
             [
              0.8888888888888888,
              "#fdca26"
             ],
             [
              1,
              "#f0f921"
             ]
            ],
            "type": "heatmapgl"
           }
          ],
          "histogram": [
           {
            "marker": {
             "colorbar": {
              "outlinewidth": 0,
              "ticks": ""
             }
            },
            "type": "histogram"
           }
          ],
          "histogram2d": [
           {
            "colorbar": {
             "outlinewidth": 0,
             "ticks": ""
            },
            "colorscale": [
             [
              0,
              "#0d0887"
             ],
             [
              0.1111111111111111,
              "#46039f"
             ],
             [
              0.2222222222222222,
              "#7201a8"
             ],
             [
              0.3333333333333333,
              "#9c179e"
             ],
             [
              0.4444444444444444,
              "#bd3786"
             ],
             [
              0.5555555555555556,
              "#d8576b"
             ],
             [
              0.6666666666666666,
              "#ed7953"
             ],
             [
              0.7777777777777778,
              "#fb9f3a"
             ],
             [
              0.8888888888888888,
              "#fdca26"
             ],
             [
              1,
              "#f0f921"
             ]
            ],
            "type": "histogram2d"
           }
          ],
          "histogram2dcontour": [
           {
            "colorbar": {
             "outlinewidth": 0,
             "ticks": ""
            },
            "colorscale": [
             [
              0,
              "#0d0887"
             ],
             [
              0.1111111111111111,
              "#46039f"
             ],
             [
              0.2222222222222222,
              "#7201a8"
             ],
             [
              0.3333333333333333,
              "#9c179e"
             ],
             [
              0.4444444444444444,
              "#bd3786"
             ],
             [
              0.5555555555555556,
              "#d8576b"
             ],
             [
              0.6666666666666666,
              "#ed7953"
             ],
             [
              0.7777777777777778,
              "#fb9f3a"
             ],
             [
              0.8888888888888888,
              "#fdca26"
             ],
             [
              1,
              "#f0f921"
             ]
            ],
            "type": "histogram2dcontour"
           }
          ],
          "mesh3d": [
           {
            "colorbar": {
             "outlinewidth": 0,
             "ticks": ""
            },
            "type": "mesh3d"
           }
          ],
          "parcoords": [
           {
            "line": {
             "colorbar": {
              "outlinewidth": 0,
              "ticks": ""
             }
            },
            "type": "parcoords"
           }
          ],
          "pie": [
           {
            "automargin": true,
            "type": "pie"
           }
          ],
          "scatter": [
           {
            "marker": {
             "colorbar": {
              "outlinewidth": 0,
              "ticks": ""
             }
            },
            "type": "scatter"
           }
          ],
          "scatter3d": [
           {
            "line": {
             "colorbar": {
              "outlinewidth": 0,
              "ticks": ""
             }
            },
            "marker": {
             "colorbar": {
              "outlinewidth": 0,
              "ticks": ""
             }
            },
            "type": "scatter3d"
           }
          ],
          "scattercarpet": [
           {
            "marker": {
             "colorbar": {
              "outlinewidth": 0,
              "ticks": ""
             }
            },
            "type": "scattercarpet"
           }
          ],
          "scattergeo": [
           {
            "marker": {
             "colorbar": {
              "outlinewidth": 0,
              "ticks": ""
             }
            },
            "type": "scattergeo"
           }
          ],
          "scattergl": [
           {
            "marker": {
             "colorbar": {
              "outlinewidth": 0,
              "ticks": ""
             }
            },
            "type": "scattergl"
           }
          ],
          "scattermapbox": [
           {
            "marker": {
             "colorbar": {
              "outlinewidth": 0,
              "ticks": ""
             }
            },
            "type": "scattermapbox"
           }
          ],
          "scatterpolar": [
           {
            "marker": {
             "colorbar": {
              "outlinewidth": 0,
              "ticks": ""
             }
            },
            "type": "scatterpolar"
           }
          ],
          "scatterpolargl": [
           {
            "marker": {
             "colorbar": {
              "outlinewidth": 0,
              "ticks": ""
             }
            },
            "type": "scatterpolargl"
           }
          ],
          "scatterternary": [
           {
            "marker": {
             "colorbar": {
              "outlinewidth": 0,
              "ticks": ""
             }
            },
            "type": "scatterternary"
           }
          ],
          "surface": [
           {
            "colorbar": {
             "outlinewidth": 0,
             "ticks": ""
            },
            "colorscale": [
             [
              0,
              "#0d0887"
             ],
             [
              0.1111111111111111,
              "#46039f"
             ],
             [
              0.2222222222222222,
              "#7201a8"
             ],
             [
              0.3333333333333333,
              "#9c179e"
             ],
             [
              0.4444444444444444,
              "#bd3786"
             ],
             [
              0.5555555555555556,
              "#d8576b"
             ],
             [
              0.6666666666666666,
              "#ed7953"
             ],
             [
              0.7777777777777778,
              "#fb9f3a"
             ],
             [
              0.8888888888888888,
              "#fdca26"
             ],
             [
              1,
              "#f0f921"
             ]
            ],
            "type": "surface"
           }
          ],
          "table": [
           {
            "cells": {
             "fill": {
              "color": "#EBF0F8"
             },
             "line": {
              "color": "white"
             }
            },
            "header": {
             "fill": {
              "color": "#C8D4E3"
             },
             "line": {
              "color": "white"
             }
            },
            "type": "table"
           }
          ]
         },
         "layout": {
          "annotationdefaults": {
           "arrowcolor": "#2a3f5f",
           "arrowhead": 0,
           "arrowwidth": 1
          },
          "coloraxis": {
           "colorbar": {
            "outlinewidth": 0,
            "ticks": ""
           }
          },
          "colorscale": {
           "diverging": [
            [
             0,
             "#8e0152"
            ],
            [
             0.1,
             "#c51b7d"
            ],
            [
             0.2,
             "#de77ae"
            ],
            [
             0.3,
             "#f1b6da"
            ],
            [
             0.4,
             "#fde0ef"
            ],
            [
             0.5,
             "#f7f7f7"
            ],
            [
             0.6,
             "#e6f5d0"
            ],
            [
             0.7,
             "#b8e186"
            ],
            [
             0.8,
             "#7fbc41"
            ],
            [
             0.9,
             "#4d9221"
            ],
            [
             1,
             "#276419"
            ]
           ],
           "sequential": [
            [
             0,
             "#0d0887"
            ],
            [
             0.1111111111111111,
             "#46039f"
            ],
            [
             0.2222222222222222,
             "#7201a8"
            ],
            [
             0.3333333333333333,
             "#9c179e"
            ],
            [
             0.4444444444444444,
             "#bd3786"
            ],
            [
             0.5555555555555556,
             "#d8576b"
            ],
            [
             0.6666666666666666,
             "#ed7953"
            ],
            [
             0.7777777777777778,
             "#fb9f3a"
            ],
            [
             0.8888888888888888,
             "#fdca26"
            ],
            [
             1,
             "#f0f921"
            ]
           ],
           "sequentialminus": [
            [
             0,
             "#0d0887"
            ],
            [
             0.1111111111111111,
             "#46039f"
            ],
            [
             0.2222222222222222,
             "#7201a8"
            ],
            [
             0.3333333333333333,
             "#9c179e"
            ],
            [
             0.4444444444444444,
             "#bd3786"
            ],
            [
             0.5555555555555556,
             "#d8576b"
            ],
            [
             0.6666666666666666,
             "#ed7953"
            ],
            [
             0.7777777777777778,
             "#fb9f3a"
            ],
            [
             0.8888888888888888,
             "#fdca26"
            ],
            [
             1,
             "#f0f921"
            ]
           ]
          },
          "colorway": [
           "#636efa",
           "#EF553B",
           "#00cc96",
           "#ab63fa",
           "#FFA15A",
           "#19d3f3",
           "#FF6692",
           "#B6E880",
           "#FF97FF",
           "#FECB52"
          ],
          "font": {
           "color": "#2a3f5f"
          },
          "geo": {
           "bgcolor": "white",
           "lakecolor": "white",
           "landcolor": "#E5ECF6",
           "showlakes": true,
           "showland": true,
           "subunitcolor": "white"
          },
          "hoverlabel": {
           "align": "left"
          },
          "hovermode": "closest",
          "mapbox": {
           "style": "light"
          },
          "paper_bgcolor": "white",
          "plot_bgcolor": "#E5ECF6",
          "polar": {
           "angularaxis": {
            "gridcolor": "white",
            "linecolor": "white",
            "ticks": ""
           },
           "bgcolor": "#E5ECF6",
           "radialaxis": {
            "gridcolor": "white",
            "linecolor": "white",
            "ticks": ""
           }
          },
          "scene": {
           "xaxis": {
            "backgroundcolor": "#E5ECF6",
            "gridcolor": "white",
            "gridwidth": 2,
            "linecolor": "white",
            "showbackground": true,
            "ticks": "",
            "zerolinecolor": "white"
           },
           "yaxis": {
            "backgroundcolor": "#E5ECF6",
            "gridcolor": "white",
            "gridwidth": 2,
            "linecolor": "white",
            "showbackground": true,
            "ticks": "",
            "zerolinecolor": "white"
           },
           "zaxis": {
            "backgroundcolor": "#E5ECF6",
            "gridcolor": "white",
            "gridwidth": 2,
            "linecolor": "white",
            "showbackground": true,
            "ticks": "",
            "zerolinecolor": "white"
           }
          },
          "shapedefaults": {
           "line": {
            "color": "#2a3f5f"
           }
          },
          "ternary": {
           "aaxis": {
            "gridcolor": "white",
            "linecolor": "white",
            "ticks": ""
           },
           "baxis": {
            "gridcolor": "white",
            "linecolor": "white",
            "ticks": ""
           },
           "bgcolor": "#E5ECF6",
           "caxis": {
            "gridcolor": "white",
            "linecolor": "white",
            "ticks": ""
           }
          },
          "title": {
           "x": 0.05
          },
          "xaxis": {
           "automargin": true,
           "gridcolor": "white",
           "linecolor": "white",
           "ticks": "",
           "title": {
            "standoff": 15
           },
           "zerolinecolor": "white",
           "zerolinewidth": 2
          },
          "yaxis": {
           "automargin": true,
           "gridcolor": "white",
           "linecolor": "white",
           "ticks": "",
           "title": {
            "standoff": 15
           },
           "zerolinecolor": "white",
           "zerolinewidth": 2
          }
         }
        },
        "title": {
         "text": "<b>Number of PCR done per Sub-county N= 650 Positive: 7  Negative : 643<b>"
        },
        "xaxis": {
         "anchor": "y",
         "domain": [
          0,
          0.94
         ],
         "title": {
          "text": "<b>SUB-COUNTIES<b>"
         }
        },
        "yaxis": {
         "anchor": "x",
         "domain": [
          0,
          1
         ],
         "title": {
          "text": "<b>PCR DONE</b> "
         }
        },
        "yaxis2": {
         "anchor": "x",
         "overlaying": "y",
         "side": "right",
         "title": {
          "text": "<b>mtct rate</b>"
         }
        }
       }
      },
      "text/html": [
       "<div>                            <div id=\"50ba6b8b-5fc0-40be-842f-73fffe3acefd\" class=\"plotly-graph-div\" style=\"height:525px; width:100%;\"></div>            <script type=\"text/javascript\">                require([\"plotly\"], function(Plotly) {                    window.PLOTLYENV=window.PLOTLYENV || {};                                    if (document.getElementById(\"50ba6b8b-5fc0-40be-842f-73fffe3acefd\")) {                    Plotly.newPlot(                        \"50ba6b8b-5fc0-40be-842f-73fffe3acefd\",                        [{\"name\": \"Negative\", \"text\": [48.0, 87.0, 106.0, 197.0, 205.0], \"textposition\": \"outside\", \"type\": \"bar\", \"x\": [\"Kirinyaga East\", \"Kirinyaga North\", \"Kirinyaga North/Mwea West\", \"Kirinyaga Central\", \"Kirinyaga South\"], \"xaxis\": \"x\", \"y\": [48, 87, 106, 197, 205], \"yaxis\": \"y\"}, {\"name\": \"Positive\", \"text\": [1.0, 2.0, 2.0, 2.0, 0.0], \"textposition\": \"outside\", \"type\": \"bar\", \"x\": [\"Kirinyaga East\", \"Kirinyaga North\", \"Kirinyaga North/Mwea West\", \"Kirinyaga Central\", \"Kirinyaga South\"], \"xaxis\": \"x\", \"y\": [1, 2, 2, 2, 0], \"yaxis\": \"y\"}, {\"mode\": \"lines+markers+text\", \"name\": \"mtct rate %\", \"text\": [2.0, 2.2, 1.9, 1.0, 0.0], \"textfont\": {\"color\": \"RED\", \"family\": \"sans serif\", \"size\": 18}, \"textposition\": \"top center\", \"type\": \"scatter\", \"x\": [\"Kirinyaga East\", \"Kirinyaga North\", \"Kirinyaga North/Mwea West\", \"Kirinyaga Central\", \"Kirinyaga South\"], \"xaxis\": \"x\", \"y\": [2.0, 2.2, 1.9, 1.0, 0.0], \"yaxis\": \"y2\"}],                        {\"template\": {\"data\": {\"bar\": [{\"error_x\": {\"color\": \"#2a3f5f\"}, \"error_y\": {\"color\": \"#2a3f5f\"}, \"marker\": {\"line\": {\"color\": \"#E5ECF6\", \"width\": 0.5}}, \"type\": \"bar\"}], \"barpolar\": [{\"marker\": {\"line\": {\"color\": \"#E5ECF6\", \"width\": 0.5}}, \"type\": \"barpolar\"}], \"carpet\": [{\"aaxis\": {\"endlinecolor\": \"#2a3f5f\", \"gridcolor\": \"white\", \"linecolor\": \"white\", \"minorgridcolor\": \"white\", \"startlinecolor\": \"#2a3f5f\"}, \"baxis\": {\"endlinecolor\": \"#2a3f5f\", \"gridcolor\": \"white\", \"linecolor\": \"white\", \"minorgridcolor\": \"white\", \"startlinecolor\": \"#2a3f5f\"}, \"type\": \"carpet\"}], \"choropleth\": [{\"colorbar\": {\"outlinewidth\": 0, \"ticks\": \"\"}, \"type\": \"choropleth\"}], \"contour\": [{\"colorbar\": {\"outlinewidth\": 0, \"ticks\": \"\"}, \"colorscale\": [[0.0, \"#0d0887\"], [0.1111111111111111, \"#46039f\"], [0.2222222222222222, \"#7201a8\"], [0.3333333333333333, \"#9c179e\"], [0.4444444444444444, \"#bd3786\"], [0.5555555555555556, \"#d8576b\"], [0.6666666666666666, \"#ed7953\"], [0.7777777777777778, \"#fb9f3a\"], [0.8888888888888888, \"#fdca26\"], [1.0, \"#f0f921\"]], \"type\": \"contour\"}], \"contourcarpet\": [{\"colorbar\": {\"outlinewidth\": 0, \"ticks\": \"\"}, \"type\": \"contourcarpet\"}], \"heatmap\": [{\"colorbar\": {\"outlinewidth\": 0, \"ticks\": \"\"}, \"colorscale\": [[0.0, \"#0d0887\"], [0.1111111111111111, \"#46039f\"], [0.2222222222222222, \"#7201a8\"], [0.3333333333333333, \"#9c179e\"], [0.4444444444444444, \"#bd3786\"], [0.5555555555555556, \"#d8576b\"], [0.6666666666666666, \"#ed7953\"], [0.7777777777777778, \"#fb9f3a\"], [0.8888888888888888, \"#fdca26\"], [1.0, \"#f0f921\"]], \"type\": \"heatmap\"}], \"heatmapgl\": [{\"colorbar\": {\"outlinewidth\": 0, \"ticks\": \"\"}, \"colorscale\": [[0.0, \"#0d0887\"], [0.1111111111111111, \"#46039f\"], [0.2222222222222222, \"#7201a8\"], [0.3333333333333333, \"#9c179e\"], [0.4444444444444444, \"#bd3786\"], [0.5555555555555556, \"#d8576b\"], [0.6666666666666666, \"#ed7953\"], [0.7777777777777778, \"#fb9f3a\"], [0.8888888888888888, \"#fdca26\"], [1.0, \"#f0f921\"]], \"type\": \"heatmapgl\"}], \"histogram\": [{\"marker\": {\"colorbar\": {\"outlinewidth\": 0, \"ticks\": \"\"}}, \"type\": \"histogram\"}], \"histogram2d\": [{\"colorbar\": {\"outlinewidth\": 0, \"ticks\": \"\"}, \"colorscale\": [[0.0, \"#0d0887\"], [0.1111111111111111, \"#46039f\"], [0.2222222222222222, \"#7201a8\"], [0.3333333333333333, \"#9c179e\"], [0.4444444444444444, \"#bd3786\"], [0.5555555555555556, \"#d8576b\"], [0.6666666666666666, \"#ed7953\"], [0.7777777777777778, \"#fb9f3a\"], [0.8888888888888888, \"#fdca26\"], [1.0, \"#f0f921\"]], \"type\": \"histogram2d\"}], \"histogram2dcontour\": [{\"colorbar\": {\"outlinewidth\": 0, \"ticks\": \"\"}, \"colorscale\": [[0.0, \"#0d0887\"], [0.1111111111111111, \"#46039f\"], [0.2222222222222222, \"#7201a8\"], [0.3333333333333333, \"#9c179e\"], [0.4444444444444444, \"#bd3786\"], [0.5555555555555556, \"#d8576b\"], [0.6666666666666666, \"#ed7953\"], [0.7777777777777778, \"#fb9f3a\"], [0.8888888888888888, \"#fdca26\"], [1.0, \"#f0f921\"]], \"type\": \"histogram2dcontour\"}], \"mesh3d\": [{\"colorbar\": {\"outlinewidth\": 0, \"ticks\": \"\"}, \"type\": \"mesh3d\"}], \"parcoords\": [{\"line\": {\"colorbar\": {\"outlinewidth\": 0, \"ticks\": \"\"}}, \"type\": \"parcoords\"}], \"pie\": [{\"automargin\": true, \"type\": \"pie\"}], \"scatter\": [{\"marker\": {\"colorbar\": {\"outlinewidth\": 0, \"ticks\": \"\"}}, \"type\": \"scatter\"}], \"scatter3d\": [{\"line\": {\"colorbar\": {\"outlinewidth\": 0, \"ticks\": \"\"}}, \"marker\": {\"colorbar\": {\"outlinewidth\": 0, \"ticks\": \"\"}}, \"type\": \"scatter3d\"}], \"scattercarpet\": [{\"marker\": {\"colorbar\": {\"outlinewidth\": 0, \"ticks\": \"\"}}, \"type\": \"scattercarpet\"}], \"scattergeo\": [{\"marker\": {\"colorbar\": {\"outlinewidth\": 0, \"ticks\": \"\"}}, \"type\": \"scattergeo\"}], \"scattergl\": [{\"marker\": {\"colorbar\": {\"outlinewidth\": 0, \"ticks\": \"\"}}, \"type\": \"scattergl\"}], \"scattermapbox\": [{\"marker\": {\"colorbar\": {\"outlinewidth\": 0, \"ticks\": \"\"}}, \"type\": \"scattermapbox\"}], \"scatterpolar\": [{\"marker\": {\"colorbar\": {\"outlinewidth\": 0, \"ticks\": \"\"}}, \"type\": \"scatterpolar\"}], \"scatterpolargl\": [{\"marker\": {\"colorbar\": {\"outlinewidth\": 0, \"ticks\": \"\"}}, \"type\": \"scatterpolargl\"}], \"scatterternary\": [{\"marker\": {\"colorbar\": {\"outlinewidth\": 0, \"ticks\": \"\"}}, \"type\": \"scatterternary\"}], \"surface\": [{\"colorbar\": {\"outlinewidth\": 0, \"ticks\": \"\"}, \"colorscale\": [[0.0, \"#0d0887\"], [0.1111111111111111, \"#46039f\"], [0.2222222222222222, \"#7201a8\"], [0.3333333333333333, \"#9c179e\"], [0.4444444444444444, \"#bd3786\"], [0.5555555555555556, \"#d8576b\"], [0.6666666666666666, \"#ed7953\"], [0.7777777777777778, \"#fb9f3a\"], [0.8888888888888888, \"#fdca26\"], [1.0, \"#f0f921\"]], \"type\": \"surface\"}], \"table\": [{\"cells\": {\"fill\": {\"color\": \"#EBF0F8\"}, \"line\": {\"color\": \"white\"}}, \"header\": {\"fill\": {\"color\": \"#C8D4E3\"}, \"line\": {\"color\": \"white\"}}, \"type\": \"table\"}]}, \"layout\": {\"annotationdefaults\": {\"arrowcolor\": \"#2a3f5f\", \"arrowhead\": 0, \"arrowwidth\": 1}, \"coloraxis\": {\"colorbar\": {\"outlinewidth\": 0, \"ticks\": \"\"}}, \"colorscale\": {\"diverging\": [[0, \"#8e0152\"], [0.1, \"#c51b7d\"], [0.2, \"#de77ae\"], [0.3, \"#f1b6da\"], [0.4, \"#fde0ef\"], [0.5, \"#f7f7f7\"], [0.6, \"#e6f5d0\"], [0.7, \"#b8e186\"], [0.8, \"#7fbc41\"], [0.9, \"#4d9221\"], [1, \"#276419\"]], \"sequential\": [[0.0, \"#0d0887\"], [0.1111111111111111, \"#46039f\"], [0.2222222222222222, \"#7201a8\"], [0.3333333333333333, \"#9c179e\"], [0.4444444444444444, \"#bd3786\"], [0.5555555555555556, \"#d8576b\"], [0.6666666666666666, \"#ed7953\"], [0.7777777777777778, \"#fb9f3a\"], [0.8888888888888888, \"#fdca26\"], [1.0, \"#f0f921\"]], \"sequentialminus\": [[0.0, \"#0d0887\"], [0.1111111111111111, \"#46039f\"], [0.2222222222222222, \"#7201a8\"], [0.3333333333333333, \"#9c179e\"], [0.4444444444444444, \"#bd3786\"], [0.5555555555555556, \"#d8576b\"], [0.6666666666666666, \"#ed7953\"], [0.7777777777777778, \"#fb9f3a\"], [0.8888888888888888, \"#fdca26\"], [1.0, \"#f0f921\"]]}, \"colorway\": [\"#636efa\", \"#EF553B\", \"#00cc96\", \"#ab63fa\", \"#FFA15A\", \"#19d3f3\", \"#FF6692\", \"#B6E880\", \"#FF97FF\", \"#FECB52\"], \"font\": {\"color\": \"#2a3f5f\"}, \"geo\": {\"bgcolor\": \"white\", \"lakecolor\": \"white\", \"landcolor\": \"#E5ECF6\", \"showlakes\": true, \"showland\": true, \"subunitcolor\": \"white\"}, \"hoverlabel\": {\"align\": \"left\"}, \"hovermode\": \"closest\", \"mapbox\": {\"style\": \"light\"}, \"paper_bgcolor\": \"white\", \"plot_bgcolor\": \"#E5ECF6\", \"polar\": {\"angularaxis\": {\"gridcolor\": \"white\", \"linecolor\": \"white\", \"ticks\": \"\"}, \"bgcolor\": \"#E5ECF6\", \"radialaxis\": {\"gridcolor\": \"white\", \"linecolor\": \"white\", \"ticks\": \"\"}}, \"scene\": {\"xaxis\": {\"backgroundcolor\": \"#E5ECF6\", \"gridcolor\": \"white\", \"gridwidth\": 2, \"linecolor\": \"white\", \"showbackground\": true, \"ticks\": \"\", \"zerolinecolor\": \"white\"}, \"yaxis\": {\"backgroundcolor\": \"#E5ECF6\", \"gridcolor\": \"white\", \"gridwidth\": 2, \"linecolor\": \"white\", \"showbackground\": true, \"ticks\": \"\", \"zerolinecolor\": \"white\"}, \"zaxis\": {\"backgroundcolor\": \"#E5ECF6\", \"gridcolor\": \"white\", \"gridwidth\": 2, \"linecolor\": \"white\", \"showbackground\": true, \"ticks\": \"\", \"zerolinecolor\": \"white\"}}, \"shapedefaults\": {\"line\": {\"color\": \"#2a3f5f\"}}, \"ternary\": {\"aaxis\": {\"gridcolor\": \"white\", \"linecolor\": \"white\", \"ticks\": \"\"}, \"baxis\": {\"gridcolor\": \"white\", \"linecolor\": \"white\", \"ticks\": \"\"}, \"bgcolor\": \"#E5ECF6\", \"caxis\": {\"gridcolor\": \"white\", \"linecolor\": \"white\", \"ticks\": \"\"}}, \"title\": {\"x\": 0.05}, \"xaxis\": {\"automargin\": true, \"gridcolor\": \"white\", \"linecolor\": \"white\", \"ticks\": \"\", \"title\": {\"standoff\": 15}, \"zerolinecolor\": \"white\", \"zerolinewidth\": 2}, \"yaxis\": {\"automargin\": true, \"gridcolor\": \"white\", \"linecolor\": \"white\", \"ticks\": \"\", \"title\": {\"standoff\": 15}, \"zerolinecolor\": \"white\", \"zerolinewidth\": 2}}}, \"title\": {\"text\": \"<b>Number of PCR done per Sub-county N= 650 Positive: 7  Negative : 643<b>\"}, \"xaxis\": {\"anchor\": \"y\", \"domain\": [0.0, 0.94], \"title\": {\"text\": \"<b>SUB-COUNTIES<b>\"}}, \"yaxis\": {\"anchor\": \"x\", \"domain\": [0.0, 1.0], \"title\": {\"text\": \"<b>PCR DONE</b> \"}}, \"yaxis2\": {\"anchor\": \"x\", \"overlaying\": \"y\", \"side\": \"right\", \"title\": {\"text\": \"<b>mtct rate</b>\"}}},                        {\"responsive\": true}                    ).then(function(){\n",
       "                            \n",
       "var gd = document.getElementById('50ba6b8b-5fc0-40be-842f-73fffe3acefd');\n",
       "var x = new MutationObserver(function (mutations, observer) {{\n",
       "        var display = window.getComputedStyle(gd).display;\n",
       "        if (!display || display === 'none') {{\n",
       "            console.log([gd, 'removed!']);\n",
       "            Plotly.purge(gd);\n",
       "            observer.disconnect();\n",
       "        }}\n",
       "}});\n",
       "\n",
       "// Listen for the removal of the full notebook cells\n",
       "var notebookContainer = gd.closest('#notebook-container');\n",
       "if (notebookContainer) {{\n",
       "    x.observe(notebookContainer, {childList: true});\n",
       "}}\n",
       "\n",
       "// Listen for the clearing of the current output cell\n",
       "var outputEl = gd.closest('.output');\n",
       "if (outputEl) {{\n",
       "    x.observe(outputEl, {childList: true});\n",
       "}}\n",
       "\n",
       "                        })                };                });            </script>        </div>"
      ]
     },
     "metadata": {},
     "output_type": "display_data"
    }
   ],
   "source": [
    "\n",
    "# positives=positives.sort_values('TX_CURR')\n",
    "positives\n",
    "# fig=px.bar(positives,x='Sub-Counties',y=['tx curr target','Negative ','Positive'],title=F\"TX CURR BY SUB-COUNTIES N={total_curr}\"\n",
    "#            f\"    Positive: {Positive}  Negative : {Negative }\",hover_data=['tx curr target','TX_CURR','Sub-Counties','achievement %'],\n",
    "#            labels={'tx curr target':'TX_CURR TARGET','TX_CURR':'Current TX_CURR'},barmode='group')\n",
    "\n",
    "# texts=[positives['Negative '],positives['Positive']]\n",
    "# for i, t in enumerate(texts):\n",
    "#     fig.data[i].text = t\n",
    "#     fig.data[i].textposition = 'outside'\n",
    "# Create figure with secondary y-axis\n",
    "fig = make_subplots(specs=[[{\"secondary_y\": True}]])\n",
    "\n",
    "# Add traces\n",
    "fig.add_trace(\n",
    "    go.Bar(x=positives['Sub-Counties'],\n",
    "           y=positives['Negative'], name=\"Negative\", text=positives['Negative'], textposition='outside'),\n",
    "    secondary_y=False,\n",
    ")\n",
    "fig.add_trace(\n",
    "go.Bar(x=positives['Sub-Counties'],\n",
    "       y=positives['Positive'], name=\"Positive\", text=positives['Positive'], textposition='outside'),\n",
    "secondary_y=False,\n",
    ")\n",
    "\n",
    "fig.add_trace(\n",
    "    go.Scatter(x=positives['Sub-Counties'],\n",
    "               y=positives['mtct rate'], name=\"mtct rate %\", text=positives['mtct rate'], textposition='top center', mode=\"lines+markers+text\",\n",
    "              textfont_size=18,textfont=dict(\n",
    "                                                family=\"sans serif\",\n",
    "                                                size=22,\n",
    "                                                color=\"RED\")),\n",
    "    secondary_y=True,\n",
    ")\n",
    "\n",
    "\n",
    "# Add figure title\n",
    "fig.update_layout(\n",
    "    title_text=f\"<b>Number of PCR done per Sub-county N= {pcr_done} Positive: {positive_sample}  Negative : {negative_sample }<b>\"\n",
    ")\n",
    "\n",
    "# Set x-axis title\n",
    "fig.update_xaxes(title_text=\"<b>SUB-COUNTIES<b>\")\n",
    "\n",
    "# Set y-axes titles\n",
    "fig.update_yaxes(title_text=\"<b>PCR DONE</b> \", secondary_y=False)\n",
    "fig.update_yaxes(title_text=\"<b>mtct rate</b>\", secondary_y=True)\n",
    "\n",
    "fig.show()"
   ]
  },
  {
   "cell_type": "code",
   "execution_count": 13,
   "metadata": {
    "ExecuteTime": {
     "end_time": "2021-09-16T18:17:58.889125Z",
     "start_time": "2021-09-16T18:17:58.758206Z"
    },
    "scrolled": false
   },
   "outputs": [
    {
     "data": {
      "text/html": [
       "<div>\n",
       "<style scoped>\n",
       "    .dataframe tbody tr th:only-of-type {\n",
       "        vertical-align: middle;\n",
       "    }\n",
       "\n",
       "    .dataframe tbody tr th {\n",
       "        vertical-align: top;\n",
       "    }\n",
       "\n",
       "    .dataframe thead th {\n",
       "        text-align: right;\n",
       "    }\n",
       "</style>\n",
       "<table border=\"1\" class=\"dataframe\">\n",
       "  <thead>\n",
       "    <tr style=\"text-align: right;\">\n",
       "      <th></th>\n",
       "      <th>County</th>\n",
       "      <th>Facility</th>\n",
       "      <th>Months Initial PCR done</th>\n",
       "      <th>Negative</th>\n",
       "      <th>Positive</th>\n",
       "      <th>Total PCRs done</th>\n",
       "    </tr>\n",
       "  </thead>\n",
       "  <tbody>\n",
       "    <tr>\n",
       "      <th>0</th>\n",
       "      <td>Kirinyaga</td>\n",
       "      <td>Baricho Health Centre</td>\n",
       "      <td>2-12</td>\n",
       "      <td>16</td>\n",
       "      <td>1</td>\n",
       "      <td>17</td>\n",
       "    </tr>\n",
       "    <tr>\n",
       "      <th>1</th>\n",
       "      <td>Kirinyaga</td>\n",
       "      <td>Baricho Health Centre</td>\n",
       "      <td>&lt; 2</td>\n",
       "      <td>7</td>\n",
       "      <td>0</td>\n",
       "      <td>7</td>\n",
       "    </tr>\n",
       "    <tr>\n",
       "      <th>2</th>\n",
       "      <td>Kirinyaga</td>\n",
       "      <td>Difathas Health Centre</td>\n",
       "      <td>2-12</td>\n",
       "      <td>13</td>\n",
       "      <td>0</td>\n",
       "      <td>13</td>\n",
       "    </tr>\n",
       "    <tr>\n",
       "      <th>3</th>\n",
       "      <td>Kirinyaga</td>\n",
       "      <td>Difathas Health Centre</td>\n",
       "      <td>&lt; 2</td>\n",
       "      <td>9</td>\n",
       "      <td>0</td>\n",
       "      <td>9</td>\n",
       "    </tr>\n",
       "    <tr>\n",
       "      <th>4</th>\n",
       "      <td>Kirinyaga</td>\n",
       "      <td>Gathambi Dispensary</td>\n",
       "      <td>2-12</td>\n",
       "      <td>4</td>\n",
       "      <td>0</td>\n",
       "      <td>4</td>\n",
       "    </tr>\n",
       "    <tr>\n",
       "      <th>5</th>\n",
       "      <td>Kirinyaga</td>\n",
       "      <td>Gathambi Dispensary</td>\n",
       "      <td>&lt; 2</td>\n",
       "      <td>3</td>\n",
       "      <td>0</td>\n",
       "      <td>3</td>\n",
       "    </tr>\n",
       "    <tr>\n",
       "      <th>6</th>\n",
       "      <td>Kirinyaga</td>\n",
       "      <td>Gathigiriri Dispensary</td>\n",
       "      <td>2-12</td>\n",
       "      <td>7</td>\n",
       "      <td>0</td>\n",
       "      <td>7</td>\n",
       "    </tr>\n",
       "    <tr>\n",
       "      <th>7</th>\n",
       "      <td>Kirinyaga</td>\n",
       "      <td>Gathigiriri Dispensary</td>\n",
       "      <td>&lt; 2</td>\n",
       "      <td>5</td>\n",
       "      <td>0</td>\n",
       "      <td>5</td>\n",
       "    </tr>\n",
       "    <tr>\n",
       "      <th>8</th>\n",
       "      <td>Kirinyaga</td>\n",
       "      <td>Gatwe Dispensary</td>\n",
       "      <td>&lt; 2</td>\n",
       "      <td>3</td>\n",
       "      <td>0</td>\n",
       "      <td>3</td>\n",
       "    </tr>\n",
       "    <tr>\n",
       "      <th>9</th>\n",
       "      <td>Kirinyaga</td>\n",
       "      <td>Kabare Health Centre</td>\n",
       "      <td>2-12</td>\n",
       "      <td>6</td>\n",
       "      <td>0</td>\n",
       "      <td>6</td>\n",
       "    </tr>\n",
       "    <tr>\n",
       "      <th>10</th>\n",
       "      <td>Kirinyaga</td>\n",
       "      <td>Kabare Health Centre</td>\n",
       "      <td>&lt; 2</td>\n",
       "      <td>2</td>\n",
       "      <td>0</td>\n",
       "      <td>2</td>\n",
       "    </tr>\n",
       "    <tr>\n",
       "      <th>11</th>\n",
       "      <td>Kirinyaga</td>\n",
       "      <td>Kagumo Health Centre</td>\n",
       "      <td>2-12</td>\n",
       "      <td>16</td>\n",
       "      <td>0</td>\n",
       "      <td>16</td>\n",
       "    </tr>\n",
       "    <tr>\n",
       "      <th>12</th>\n",
       "      <td>Kirinyaga</td>\n",
       "      <td>Kagumo Health Centre</td>\n",
       "      <td>&lt; 2</td>\n",
       "      <td>13</td>\n",
       "      <td>0</td>\n",
       "      <td>13</td>\n",
       "    </tr>\n",
       "    <tr>\n",
       "      <th>13</th>\n",
       "      <td>Kirinyaga</td>\n",
       "      <td>Kandongu Dispensary</td>\n",
       "      <td>2-12</td>\n",
       "      <td>5</td>\n",
       "      <td>0</td>\n",
       "      <td>5</td>\n",
       "    </tr>\n",
       "    <tr>\n",
       "      <th>14</th>\n",
       "      <td>Kirinyaga</td>\n",
       "      <td>Kandongu Dispensary</td>\n",
       "      <td>&lt; 2</td>\n",
       "      <td>1</td>\n",
       "      <td>0</td>\n",
       "      <td>1</td>\n",
       "    </tr>\n",
       "    <tr>\n",
       "      <th>15</th>\n",
       "      <td>Kirinyaga</td>\n",
       "      <td>Kangaita Health Centre</td>\n",
       "      <td>2-12</td>\n",
       "      <td>5</td>\n",
       "      <td>0</td>\n",
       "      <td>5</td>\n",
       "    </tr>\n",
       "    <tr>\n",
       "      <th>16</th>\n",
       "      <td>Kirinyaga</td>\n",
       "      <td>Kangaita Health Centre</td>\n",
       "      <td>&lt; 2</td>\n",
       "      <td>3</td>\n",
       "      <td>0</td>\n",
       "      <td>3</td>\n",
       "    </tr>\n",
       "    <tr>\n",
       "      <th>17</th>\n",
       "      <td>Kirinyaga</td>\n",
       "      <td>Kangaru Dispensary (Kirinyaga)</td>\n",
       "      <td>2-12</td>\n",
       "      <td>10</td>\n",
       "      <td>1</td>\n",
       "      <td>11</td>\n",
       "    </tr>\n",
       "    <tr>\n",
       "      <th>18</th>\n",
       "      <td>Kirinyaga</td>\n",
       "      <td>Kangaru Dispensary (Kirinyaga)</td>\n",
       "      <td>&lt; 2</td>\n",
       "      <td>3</td>\n",
       "      <td>0</td>\n",
       "      <td>3</td>\n",
       "    </tr>\n",
       "    <tr>\n",
       "      <th>19</th>\n",
       "      <td>Kirinyaga</td>\n",
       "      <td>Kangu Dispensary</td>\n",
       "      <td>2-12</td>\n",
       "      <td>8</td>\n",
       "      <td>0</td>\n",
       "      <td>8</td>\n",
       "    </tr>\n",
       "    <tr>\n",
       "      <th>20</th>\n",
       "      <td>Kirinyaga</td>\n",
       "      <td>Kangu Dispensary</td>\n",
       "      <td>&lt; 2</td>\n",
       "      <td>5</td>\n",
       "      <td>0</td>\n",
       "      <td>5</td>\n",
       "    </tr>\n",
       "    <tr>\n",
       "      <th>21</th>\n",
       "      <td>Kirinyaga</td>\n",
       "      <td>Karumandi Dispensary</td>\n",
       "      <td>2-12</td>\n",
       "      <td>2</td>\n",
       "      <td>0</td>\n",
       "      <td>2</td>\n",
       "    </tr>\n",
       "    <tr>\n",
       "      <th>22</th>\n",
       "      <td>Kirinyaga</td>\n",
       "      <td>Karumandi Dispensary</td>\n",
       "      <td>&lt; 2</td>\n",
       "      <td>2</td>\n",
       "      <td>0</td>\n",
       "      <td>2</td>\n",
       "    </tr>\n",
       "    <tr>\n",
       "      <th>23</th>\n",
       "      <td>Kirinyaga</td>\n",
       "      <td>Kerugoya District Hospital</td>\n",
       "      <td>2-12</td>\n",
       "      <td>78</td>\n",
       "      <td>0</td>\n",
       "      <td>78</td>\n",
       "    </tr>\n",
       "    <tr>\n",
       "      <th>24</th>\n",
       "      <td>Kirinyaga</td>\n",
       "      <td>Kerugoya District Hospital</td>\n",
       "      <td>&lt; 2</td>\n",
       "      <td>46</td>\n",
       "      <td>2</td>\n",
       "      <td>48</td>\n",
       "    </tr>\n",
       "    <tr>\n",
       "      <th>25</th>\n",
       "      <td>Kirinyaga</td>\n",
       "      <td>Kiamutugu Health Centre</td>\n",
       "      <td>2-12</td>\n",
       "      <td>4</td>\n",
       "      <td>0</td>\n",
       "      <td>4</td>\n",
       "    </tr>\n",
       "    <tr>\n",
       "      <th>26</th>\n",
       "      <td>Kirinyaga</td>\n",
       "      <td>Kiamutugu Health Centre</td>\n",
       "      <td>&lt; 2</td>\n",
       "      <td>7</td>\n",
       "      <td>0</td>\n",
       "      <td>7</td>\n",
       "    </tr>\n",
       "    <tr>\n",
       "      <th>27</th>\n",
       "      <td>Kirinyaga</td>\n",
       "      <td>Kiangai Dispensary</td>\n",
       "      <td>2-12</td>\n",
       "      <td>3</td>\n",
       "      <td>0</td>\n",
       "      <td>3</td>\n",
       "    </tr>\n",
       "    <tr>\n",
       "      <th>28</th>\n",
       "      <td>Kirinyaga</td>\n",
       "      <td>Kiangai Dispensary</td>\n",
       "      <td>&lt; 2</td>\n",
       "      <td>3</td>\n",
       "      <td>0</td>\n",
       "      <td>3</td>\n",
       "    </tr>\n",
       "    <tr>\n",
       "      <th>29</th>\n",
       "      <td>Kirinyaga</td>\n",
       "      <td>Kianyaga Sub-District Hospital</td>\n",
       "      <td>2-12</td>\n",
       "      <td>18</td>\n",
       "      <td>0</td>\n",
       "      <td>18</td>\n",
       "    </tr>\n",
       "    <tr>\n",
       "      <th>30</th>\n",
       "      <td>Kirinyaga</td>\n",
       "      <td>Kianyaga Sub-District Hospital</td>\n",
       "      <td>&lt; 2</td>\n",
       "      <td>7</td>\n",
       "      <td>1</td>\n",
       "      <td>8</td>\n",
       "    </tr>\n",
       "    <tr>\n",
       "      <th>31</th>\n",
       "      <td>Kirinyaga</td>\n",
       "      <td>Kibirigwi Dispensary</td>\n",
       "      <td>2-12</td>\n",
       "      <td>5</td>\n",
       "      <td>0</td>\n",
       "      <td>5</td>\n",
       "    </tr>\n",
       "    <tr>\n",
       "      <th>32</th>\n",
       "      <td>Kirinyaga</td>\n",
       "      <td>Kibirigwi Dispensary</td>\n",
       "      <td>&lt; 2</td>\n",
       "      <td>3</td>\n",
       "      <td>0</td>\n",
       "      <td>3</td>\n",
       "    </tr>\n",
       "    <tr>\n",
       "      <th>33</th>\n",
       "      <td>Kirinyaga</td>\n",
       "      <td>Kimbimbi Sub-District Hospital</td>\n",
       "      <td>2-12</td>\n",
       "      <td>71</td>\n",
       "      <td>0</td>\n",
       "      <td>71</td>\n",
       "    </tr>\n",
       "    <tr>\n",
       "      <th>34</th>\n",
       "      <td>Kirinyaga</td>\n",
       "      <td>Kimbimbi Sub-District Hospital</td>\n",
       "      <td>&lt; 2</td>\n",
       "      <td>32</td>\n",
       "      <td>0</td>\n",
       "      <td>32</td>\n",
       "    </tr>\n",
       "    <tr>\n",
       "      <th>35</th>\n",
       "      <td>Kirinyaga</td>\n",
       "      <td>Kiumbu Health Centre</td>\n",
       "      <td>2-12</td>\n",
       "      <td>16</td>\n",
       "      <td>0</td>\n",
       "      <td>16</td>\n",
       "    </tr>\n",
       "    <tr>\n",
       "      <th>36</th>\n",
       "      <td>Kirinyaga</td>\n",
       "      <td>Kiumbu Health Centre</td>\n",
       "      <td>&lt; 2</td>\n",
       "      <td>2</td>\n",
       "      <td>0</td>\n",
       "      <td>2</td>\n",
       "    </tr>\n",
       "    <tr>\n",
       "      <th>37</th>\n",
       "      <td>Kirinyaga</td>\n",
       "      <td>Kutus Dispensary</td>\n",
       "      <td>2-12</td>\n",
       "      <td>14</td>\n",
       "      <td>0</td>\n",
       "      <td>14</td>\n",
       "    </tr>\n",
       "    <tr>\n",
       "      <th>38</th>\n",
       "      <td>Kirinyaga</td>\n",
       "      <td>Kutus Dispensary</td>\n",
       "      <td>&lt; 2</td>\n",
       "      <td>7</td>\n",
       "      <td>0</td>\n",
       "      <td>7</td>\n",
       "    </tr>\n",
       "    <tr>\n",
       "      <th>39</th>\n",
       "      <td>Kirinyaga</td>\n",
       "      <td>Mt. Kenya (ACK) Hospital</td>\n",
       "      <td>2-12</td>\n",
       "      <td>17</td>\n",
       "      <td>0</td>\n",
       "      <td>17</td>\n",
       "    </tr>\n",
       "    <tr>\n",
       "      <th>40</th>\n",
       "      <td>Kirinyaga</td>\n",
       "      <td>Mt. Kenya (ACK) Hospital</td>\n",
       "      <td>&lt; 2</td>\n",
       "      <td>10</td>\n",
       "      <td>0</td>\n",
       "      <td>10</td>\n",
       "    </tr>\n",
       "    <tr>\n",
       "      <th>41</th>\n",
       "      <td>Kirinyaga</td>\n",
       "      <td>Murinduko Health Centre</td>\n",
       "      <td>2-12</td>\n",
       "      <td>13</td>\n",
       "      <td>0</td>\n",
       "      <td>13</td>\n",
       "    </tr>\n",
       "    <tr>\n",
       "      <th>42</th>\n",
       "      <td>Kirinyaga</td>\n",
       "      <td>Murinduko Health Centre</td>\n",
       "      <td>&lt; 2</td>\n",
       "      <td>3</td>\n",
       "      <td>0</td>\n",
       "      <td>3</td>\n",
       "    </tr>\n",
       "    <tr>\n",
       "      <th>43</th>\n",
       "      <td>Kirinyaga</td>\n",
       "      <td>Mutithi Health Centre</td>\n",
       "      <td>2-12</td>\n",
       "      <td>26</td>\n",
       "      <td>0</td>\n",
       "      <td>26</td>\n",
       "    </tr>\n",
       "    <tr>\n",
       "      <th>44</th>\n",
       "      <td>Kirinyaga</td>\n",
       "      <td>Mutithi Health Centre</td>\n",
       "      <td>&lt; 2</td>\n",
       "      <td>13</td>\n",
       "      <td>1</td>\n",
       "      <td>14</td>\n",
       "    </tr>\n",
       "    <tr>\n",
       "      <th>45</th>\n",
       "      <td>Kirinyaga</td>\n",
       "      <td>Njegas Dispensary</td>\n",
       "      <td>2-12</td>\n",
       "      <td>1</td>\n",
       "      <td>0</td>\n",
       "      <td>1</td>\n",
       "    </tr>\n",
       "    <tr>\n",
       "      <th>46</th>\n",
       "      <td>Kirinyaga</td>\n",
       "      <td>Rukanga Dispensary</td>\n",
       "      <td>2-12</td>\n",
       "      <td>6</td>\n",
       "      <td>0</td>\n",
       "      <td>6</td>\n",
       "    </tr>\n",
       "    <tr>\n",
       "      <th>47</th>\n",
       "      <td>Kirinyaga</td>\n",
       "      <td>Rukanga Dispensary</td>\n",
       "      <td>&lt; 2</td>\n",
       "      <td>0</td>\n",
       "      <td>1</td>\n",
       "      <td>1</td>\n",
       "    </tr>\n",
       "    <tr>\n",
       "      <th>48</th>\n",
       "      <td>Kirinyaga</td>\n",
       "      <td>Sagana Rural Health Demonstration Centre</td>\n",
       "      <td>2-12</td>\n",
       "      <td>35</td>\n",
       "      <td>0</td>\n",
       "      <td>35</td>\n",
       "    </tr>\n",
       "    <tr>\n",
       "      <th>49</th>\n",
       "      <td>Kirinyaga</td>\n",
       "      <td>Sagana Rural Health Demonstration Centre</td>\n",
       "      <td>&lt; 2</td>\n",
       "      <td>14</td>\n",
       "      <td>0</td>\n",
       "      <td>14</td>\n",
       "    </tr>\n",
       "    <tr>\n",
       "      <th>50</th>\n",
       "      <td>Kirinyaga</td>\n",
       "      <td>Thiba Dispensary</td>\n",
       "      <td>2-12</td>\n",
       "      <td>21</td>\n",
       "      <td>0</td>\n",
       "      <td>21</td>\n",
       "    </tr>\n",
       "    <tr>\n",
       "      <th>51</th>\n",
       "      <td>Kirinyaga</td>\n",
       "      <td>Thiba Dispensary</td>\n",
       "      <td>&lt; 2</td>\n",
       "      <td>14</td>\n",
       "      <td>0</td>\n",
       "      <td>14</td>\n",
       "    </tr>\n",
       "    <tr>\n",
       "      <th>52</th>\n",
       "      <td>Kirinyaga</td>\n",
       "      <td>Ucheru Community Health Centre</td>\n",
       "      <td>2-12</td>\n",
       "      <td>3</td>\n",
       "      <td>0</td>\n",
       "      <td>3</td>\n",
       "    </tr>\n",
       "    <tr>\n",
       "      <th>53</th>\n",
       "      <td>Kirinyaga</td>\n",
       "      <td>Ucheru Community Health Centre</td>\n",
       "      <td>&lt; 2</td>\n",
       "      <td>3</td>\n",
       "      <td>0</td>\n",
       "      <td>3</td>\n",
       "    </tr>\n",
       "  </tbody>\n",
       "</table>\n",
       "</div>"
      ],
      "text/plain": [
       "       County                                  Facility  \\\n",
       "0   Kirinyaga                     Baricho Health Centre   \n",
       "1   Kirinyaga                     Baricho Health Centre   \n",
       "2   Kirinyaga                    Difathas Health Centre   \n",
       "3   Kirinyaga                    Difathas Health Centre   \n",
       "4   Kirinyaga                       Gathambi Dispensary   \n",
       "5   Kirinyaga                       Gathambi Dispensary   \n",
       "6   Kirinyaga                    Gathigiriri Dispensary   \n",
       "7   Kirinyaga                    Gathigiriri Dispensary   \n",
       "8   Kirinyaga                          Gatwe Dispensary   \n",
       "9   Kirinyaga                      Kabare Health Centre   \n",
       "10  Kirinyaga                      Kabare Health Centre   \n",
       "11  Kirinyaga                      Kagumo Health Centre   \n",
       "12  Kirinyaga                      Kagumo Health Centre   \n",
       "13  Kirinyaga                       Kandongu Dispensary   \n",
       "14  Kirinyaga                       Kandongu Dispensary   \n",
       "15  Kirinyaga                    Kangaita Health Centre   \n",
       "16  Kirinyaga                    Kangaita Health Centre   \n",
       "17  Kirinyaga            Kangaru Dispensary (Kirinyaga)   \n",
       "18  Kirinyaga            Kangaru Dispensary (Kirinyaga)   \n",
       "19  Kirinyaga                          Kangu Dispensary   \n",
       "20  Kirinyaga                          Kangu Dispensary   \n",
       "21  Kirinyaga                      Karumandi Dispensary   \n",
       "22  Kirinyaga                      Karumandi Dispensary   \n",
       "23  Kirinyaga                Kerugoya District Hospital   \n",
       "24  Kirinyaga                Kerugoya District Hospital   \n",
       "25  Kirinyaga                   Kiamutugu Health Centre   \n",
       "26  Kirinyaga                   Kiamutugu Health Centre   \n",
       "27  Kirinyaga                        Kiangai Dispensary   \n",
       "28  Kirinyaga                        Kiangai Dispensary   \n",
       "29  Kirinyaga            Kianyaga Sub-District Hospital   \n",
       "30  Kirinyaga            Kianyaga Sub-District Hospital   \n",
       "31  Kirinyaga                      Kibirigwi Dispensary   \n",
       "32  Kirinyaga                      Kibirigwi Dispensary   \n",
       "33  Kirinyaga            Kimbimbi Sub-District Hospital   \n",
       "34  Kirinyaga            Kimbimbi Sub-District Hospital   \n",
       "35  Kirinyaga                      Kiumbu Health Centre   \n",
       "36  Kirinyaga                      Kiumbu Health Centre   \n",
       "37  Kirinyaga                          Kutus Dispensary   \n",
       "38  Kirinyaga                          Kutus Dispensary   \n",
       "39  Kirinyaga                  Mt. Kenya (ACK) Hospital   \n",
       "40  Kirinyaga                  Mt. Kenya (ACK) Hospital   \n",
       "41  Kirinyaga                   Murinduko Health Centre   \n",
       "42  Kirinyaga                   Murinduko Health Centre   \n",
       "43  Kirinyaga                     Mutithi Health Centre   \n",
       "44  Kirinyaga                     Mutithi Health Centre   \n",
       "45  Kirinyaga                         Njegas Dispensary   \n",
       "46  Kirinyaga                        Rukanga Dispensary   \n",
       "47  Kirinyaga                        Rukanga Dispensary   \n",
       "48  Kirinyaga  Sagana Rural Health Demonstration Centre   \n",
       "49  Kirinyaga  Sagana Rural Health Demonstration Centre   \n",
       "50  Kirinyaga                          Thiba Dispensary   \n",
       "51  Kirinyaga                          Thiba Dispensary   \n",
       "52  Kirinyaga            Ucheru Community Health Centre   \n",
       "53  Kirinyaga            Ucheru Community Health Centre   \n",
       "\n",
       "   Months Initial PCR done  Negative  Positive  Total PCRs done  \n",
       "0                     2-12        16         1               17  \n",
       "1                      < 2         7         0                7  \n",
       "2                     2-12        13         0               13  \n",
       "3                      < 2         9         0                9  \n",
       "4                     2-12         4         0                4  \n",
       "5                      < 2         3         0                3  \n",
       "6                     2-12         7         0                7  \n",
       "7                      < 2         5         0                5  \n",
       "8                      < 2         3         0                3  \n",
       "9                     2-12         6         0                6  \n",
       "10                     < 2         2         0                2  \n",
       "11                    2-12        16         0               16  \n",
       "12                     < 2        13         0               13  \n",
       "13                    2-12         5         0                5  \n",
       "14                     < 2         1         0                1  \n",
       "15                    2-12         5         0                5  \n",
       "16                     < 2         3         0                3  \n",
       "17                    2-12        10         1               11  \n",
       "18                     < 2         3         0                3  \n",
       "19                    2-12         8         0                8  \n",
       "20                     < 2         5         0                5  \n",
       "21                    2-12         2         0                2  \n",
       "22                     < 2         2         0                2  \n",
       "23                    2-12        78         0               78  \n",
       "24                     < 2        46         2               48  \n",
       "25                    2-12         4         0                4  \n",
       "26                     < 2         7         0                7  \n",
       "27                    2-12         3         0                3  \n",
       "28                     < 2         3         0                3  \n",
       "29                    2-12        18         0               18  \n",
       "30                     < 2         7         1                8  \n",
       "31                    2-12         5         0                5  \n",
       "32                     < 2         3         0                3  \n",
       "33                    2-12        71         0               71  \n",
       "34                     < 2        32         0               32  \n",
       "35                    2-12        16         0               16  \n",
       "36                     < 2         2         0                2  \n",
       "37                    2-12        14         0               14  \n",
       "38                     < 2         7         0                7  \n",
       "39                    2-12        17         0               17  \n",
       "40                     < 2        10         0               10  \n",
       "41                    2-12        13         0               13  \n",
       "42                     < 2         3         0                3  \n",
       "43                    2-12        26         0               26  \n",
       "44                     < 2        13         1               14  \n",
       "45                    2-12         1         0                1  \n",
       "46                    2-12         6         0                6  \n",
       "47                     < 2         0         1                1  \n",
       "48                    2-12        35         0               35  \n",
       "49                     < 2        14         0               14  \n",
       "50                    2-12        21         0               21  \n",
       "51                     < 2        14         0               14  \n",
       "52                    2-12         3         0                3  \n",
       "53                     < 2         3         0                3  "
      ]
     },
     "execution_count": 13,
     "metadata": {},
     "output_type": "execute_result"
    }
   ],
   "source": [
    "facilities=facilities.pivot_table(index=[\"County\",'Facilty', 'Age'], columns=\"Result\").reset_index()\n",
    "\n",
    "facilities=convert_pivot_to_dataframe(facilities)\n",
    "\n",
    "facilities.columns=[\"index\",\"County\",\"Facility\",\"Months Initial PCR done\",\"Negative\",\"Positive\"]\n",
    "del facilities['index']\n",
    "facilities=facilities.fillna(0)\n",
    "facilities[\"Total PCRs done\"]=facilities[\"Negative\"]+facilities[\"Positive\"]\n",
    "\n",
    "facilities[\"Total PCRs done\"]=facilities[\"Total PCRs done\"].astype(int)\n",
    "facilities[\"Positive\"]=facilities[\"Positive\"].astype(int)\n",
    "facilities[\"Negative\"]=facilities[\"Negative\"].astype(int)\n",
    "facilities"
   ]
  },
  {
   "cell_type": "code",
   "execution_count": 14,
   "metadata": {
    "ExecuteTime": {
     "end_time": "2021-09-16T18:17:59.033033Z",
     "start_time": "2021-09-16T18:17:58.893123Z"
    }
   },
   "outputs": [],
   "source": [
    "facilities_pos=facilities[facilities['Positive']!=0]\n",
    "\n",
    "facilities_pos=facilities_pos.copy()\n",
    "facilities_pos['facilities'] = facilities_pos['Facility'].str.split().str[0]\n",
    "del facilities_pos['Facility']\n",
    "\n",
    "sorted_columns=['County', 'facilities','Months Initial PCR done', 'Negative', 'Positive',\n",
    "       'Total PCRs done']\n",
    "\n",
    "facilities_pos = facilities_pos.reindex(sorted_columns, axis=1)\n",
    "facilities_pos=facilities_pos.groupby(['facilities','Months Initial PCR done']).sum()['Positive'].reset_index()\n",
    "facilities_pos=facilities_pos.sort_values(\"Positive\")\n",
    "facilities_pos=facilities_pos.pivot(index=\"facilities\",columns=\"Months Initial PCR done\")\n",
    "facilities_pos=convert_pivot_to_dataframe(facilities_pos)\n",
    "facilities_pos=facilities_pos.fillna(0)\n",
    "\n",
    "\n",
    "if ('< 2' and '2-12') in facilities_pos.columns:\n",
    "    facilities_pos['2-12']=facilities_pos['2-12'].astype(int)\n",
    "    facilities_pos['< 2']=facilities_pos['< 2'].astype(int)\n",
    "    less_2_months=facilities_pos[\"< 2\"].sum()\n",
    "    two_to_twelve_months=facilities_pos[\"2-12\"].sum()\n",
    "    facilities_pos['total']=facilities_pos['< 2']+facilities_pos['2-12']\n",
    "    total=facilities_pos['total'].sum()\n",
    "    \n",
    "elif '2-12' not in facilities_pos.columns:\n",
    "#     facilities_pos['2-12']=facilities_pos['2-12'].astype(int)\n",
    "    facilities_pos['< 2']=facilities_pos['< 2'].astype(int)\n",
    "    less_2_months=facilities_pos[\"< 2\"].sum()\n",
    "    two_to_twelve_months=0\n",
    "    facilities_pos['total']=facilities_pos['< 2']\n",
    "    total=facilities_pos['total'].sum()\n",
    "else:\n",
    "    facilities_pos['2-12']=facilities_pos['2-12'].astype(int)\n",
    "#     facilities_pos['< 2']=facilities_pos['< 2'].astype(int)\n",
    "    less_2_months=0\n",
    "    two_to_twelve_months=facilities_pos[\"2-12\"].sum()\n",
    "    facilities_pos['total']=facilities_pos['2-12']\n",
    "    total=facilities_pos['total'].sum()\n",
    "    \n",
    "\n",
    "# facilities_pos"
   ]
  },
  {
   "cell_type": "code",
   "execution_count": 15,
   "metadata": {
    "ExecuteTime": {
     "end_time": "2021-09-16T18:18:00.738132Z",
     "start_time": "2021-09-16T18:17:59.040031Z"
    }
   },
   "outputs": [
    {
     "data": {
      "application/vnd.plotly.v1+json": {
       "config": {
        "plotlyServerURL": "https://plot.ly"
       },
       "data": [
        {
         "alignmentgroup": "True",
         "hovertemplate": "variable=< 2<br>facilities=%{x}<br>value=%{y}<extra></extra>",
         "legendgroup": "< 2",
         "marker": {
          "color": "#636efa"
         },
         "name": "< 2",
         "offsetgroup": "< 2",
         "orientation": "v",
         "showlegend": true,
         "text": [
          0,
          0,
          2,
          1,
          1,
          1
         ],
         "textposition": "outside",
         "type": "bar",
         "x": [
          "Baricho",
          "Kangaru",
          "Kerugoya",
          "Kianyaga",
          "Mutithi",
          "Rukanga"
         ],
         "xaxis": "x",
         "y": [
          0,
          0,
          2,
          1,
          1,
          1
         ],
         "yaxis": "y"
        },
        {
         "alignmentgroup": "True",
         "hovertemplate": "variable=2-12<br>facilities=%{x}<br>value=%{y}<extra></extra>",
         "legendgroup": "2-12",
         "marker": {
          "color": "#EF553B"
         },
         "name": "2-12",
         "offsetgroup": "2-12",
         "orientation": "v",
         "showlegend": true,
         "text": [
          1,
          1,
          0,
          0,
          0,
          0
         ],
         "textposition": "outside",
         "type": "bar",
         "x": [
          "Baricho",
          "Kangaru",
          "Kerugoya",
          "Kianyaga",
          "Mutithi",
          "Rukanga"
         ],
         "xaxis": "x",
         "y": [
          1,
          1,
          0,
          0,
          0,
          0
         ],
         "yaxis": "y"
        }
       ],
       "layout": {
        "barmode": "group",
        "legend": {
         "title": {
          "text": "variable"
         },
         "tracegroupgap": 0
        },
        "template": {
         "data": {
          "bar": [
           {
            "error_x": {
             "color": "#2a3f5f"
            },
            "error_y": {
             "color": "#2a3f5f"
            },
            "marker": {
             "line": {
              "color": "#E5ECF6",
              "width": 0.5
             }
            },
            "type": "bar"
           }
          ],
          "barpolar": [
           {
            "marker": {
             "line": {
              "color": "#E5ECF6",
              "width": 0.5
             }
            },
            "type": "barpolar"
           }
          ],
          "carpet": [
           {
            "aaxis": {
             "endlinecolor": "#2a3f5f",
             "gridcolor": "white",
             "linecolor": "white",
             "minorgridcolor": "white",
             "startlinecolor": "#2a3f5f"
            },
            "baxis": {
             "endlinecolor": "#2a3f5f",
             "gridcolor": "white",
             "linecolor": "white",
             "minorgridcolor": "white",
             "startlinecolor": "#2a3f5f"
            },
            "type": "carpet"
           }
          ],
          "choropleth": [
           {
            "colorbar": {
             "outlinewidth": 0,
             "ticks": ""
            },
            "type": "choropleth"
           }
          ],
          "contour": [
           {
            "colorbar": {
             "outlinewidth": 0,
             "ticks": ""
            },
            "colorscale": [
             [
              0,
              "#0d0887"
             ],
             [
              0.1111111111111111,
              "#46039f"
             ],
             [
              0.2222222222222222,
              "#7201a8"
             ],
             [
              0.3333333333333333,
              "#9c179e"
             ],
             [
              0.4444444444444444,
              "#bd3786"
             ],
             [
              0.5555555555555556,
              "#d8576b"
             ],
             [
              0.6666666666666666,
              "#ed7953"
             ],
             [
              0.7777777777777778,
              "#fb9f3a"
             ],
             [
              0.8888888888888888,
              "#fdca26"
             ],
             [
              1,
              "#f0f921"
             ]
            ],
            "type": "contour"
           }
          ],
          "contourcarpet": [
           {
            "colorbar": {
             "outlinewidth": 0,
             "ticks": ""
            },
            "type": "contourcarpet"
           }
          ],
          "heatmap": [
           {
            "colorbar": {
             "outlinewidth": 0,
             "ticks": ""
            },
            "colorscale": [
             [
              0,
              "#0d0887"
             ],
             [
              0.1111111111111111,
              "#46039f"
             ],
             [
              0.2222222222222222,
              "#7201a8"
             ],
             [
              0.3333333333333333,
              "#9c179e"
             ],
             [
              0.4444444444444444,
              "#bd3786"
             ],
             [
              0.5555555555555556,
              "#d8576b"
             ],
             [
              0.6666666666666666,
              "#ed7953"
             ],
             [
              0.7777777777777778,
              "#fb9f3a"
             ],
             [
              0.8888888888888888,
              "#fdca26"
             ],
             [
              1,
              "#f0f921"
             ]
            ],
            "type": "heatmap"
           }
          ],
          "heatmapgl": [
           {
            "colorbar": {
             "outlinewidth": 0,
             "ticks": ""
            },
            "colorscale": [
             [
              0,
              "#0d0887"
             ],
             [
              0.1111111111111111,
              "#46039f"
             ],
             [
              0.2222222222222222,
              "#7201a8"
             ],
             [
              0.3333333333333333,
              "#9c179e"
             ],
             [
              0.4444444444444444,
              "#bd3786"
             ],
             [
              0.5555555555555556,
              "#d8576b"
             ],
             [
              0.6666666666666666,
              "#ed7953"
             ],
             [
              0.7777777777777778,
              "#fb9f3a"
             ],
             [
              0.8888888888888888,
              "#fdca26"
             ],
             [
              1,
              "#f0f921"
             ]
            ],
            "type": "heatmapgl"
           }
          ],
          "histogram": [
           {
            "marker": {
             "colorbar": {
              "outlinewidth": 0,
              "ticks": ""
             }
            },
            "type": "histogram"
           }
          ],
          "histogram2d": [
           {
            "colorbar": {
             "outlinewidth": 0,
             "ticks": ""
            },
            "colorscale": [
             [
              0,
              "#0d0887"
             ],
             [
              0.1111111111111111,
              "#46039f"
             ],
             [
              0.2222222222222222,
              "#7201a8"
             ],
             [
              0.3333333333333333,
              "#9c179e"
             ],
             [
              0.4444444444444444,
              "#bd3786"
             ],
             [
              0.5555555555555556,
              "#d8576b"
             ],
             [
              0.6666666666666666,
              "#ed7953"
             ],
             [
              0.7777777777777778,
              "#fb9f3a"
             ],
             [
              0.8888888888888888,
              "#fdca26"
             ],
             [
              1,
              "#f0f921"
             ]
            ],
            "type": "histogram2d"
           }
          ],
          "histogram2dcontour": [
           {
            "colorbar": {
             "outlinewidth": 0,
             "ticks": ""
            },
            "colorscale": [
             [
              0,
              "#0d0887"
             ],
             [
              0.1111111111111111,
              "#46039f"
             ],
             [
              0.2222222222222222,
              "#7201a8"
             ],
             [
              0.3333333333333333,
              "#9c179e"
             ],
             [
              0.4444444444444444,
              "#bd3786"
             ],
             [
              0.5555555555555556,
              "#d8576b"
             ],
             [
              0.6666666666666666,
              "#ed7953"
             ],
             [
              0.7777777777777778,
              "#fb9f3a"
             ],
             [
              0.8888888888888888,
              "#fdca26"
             ],
             [
              1,
              "#f0f921"
             ]
            ],
            "type": "histogram2dcontour"
           }
          ],
          "mesh3d": [
           {
            "colorbar": {
             "outlinewidth": 0,
             "ticks": ""
            },
            "type": "mesh3d"
           }
          ],
          "parcoords": [
           {
            "line": {
             "colorbar": {
              "outlinewidth": 0,
              "ticks": ""
             }
            },
            "type": "parcoords"
           }
          ],
          "pie": [
           {
            "automargin": true,
            "type": "pie"
           }
          ],
          "scatter": [
           {
            "marker": {
             "colorbar": {
              "outlinewidth": 0,
              "ticks": ""
             }
            },
            "type": "scatter"
           }
          ],
          "scatter3d": [
           {
            "line": {
             "colorbar": {
              "outlinewidth": 0,
              "ticks": ""
             }
            },
            "marker": {
             "colorbar": {
              "outlinewidth": 0,
              "ticks": ""
             }
            },
            "type": "scatter3d"
           }
          ],
          "scattercarpet": [
           {
            "marker": {
             "colorbar": {
              "outlinewidth": 0,
              "ticks": ""
             }
            },
            "type": "scattercarpet"
           }
          ],
          "scattergeo": [
           {
            "marker": {
             "colorbar": {
              "outlinewidth": 0,
              "ticks": ""
             }
            },
            "type": "scattergeo"
           }
          ],
          "scattergl": [
           {
            "marker": {
             "colorbar": {
              "outlinewidth": 0,
              "ticks": ""
             }
            },
            "type": "scattergl"
           }
          ],
          "scattermapbox": [
           {
            "marker": {
             "colorbar": {
              "outlinewidth": 0,
              "ticks": ""
             }
            },
            "type": "scattermapbox"
           }
          ],
          "scatterpolar": [
           {
            "marker": {
             "colorbar": {
              "outlinewidth": 0,
              "ticks": ""
             }
            },
            "type": "scatterpolar"
           }
          ],
          "scatterpolargl": [
           {
            "marker": {
             "colorbar": {
              "outlinewidth": 0,
              "ticks": ""
             }
            },
            "type": "scatterpolargl"
           }
          ],
          "scatterternary": [
           {
            "marker": {
             "colorbar": {
              "outlinewidth": 0,
              "ticks": ""
             }
            },
            "type": "scatterternary"
           }
          ],
          "surface": [
           {
            "colorbar": {
             "outlinewidth": 0,
             "ticks": ""
            },
            "colorscale": [
             [
              0,
              "#0d0887"
             ],
             [
              0.1111111111111111,
              "#46039f"
             ],
             [
              0.2222222222222222,
              "#7201a8"
             ],
             [
              0.3333333333333333,
              "#9c179e"
             ],
             [
              0.4444444444444444,
              "#bd3786"
             ],
             [
              0.5555555555555556,
              "#d8576b"
             ],
             [
              0.6666666666666666,
              "#ed7953"
             ],
             [
              0.7777777777777778,
              "#fb9f3a"
             ],
             [
              0.8888888888888888,
              "#fdca26"
             ],
             [
              1,
              "#f0f921"
             ]
            ],
            "type": "surface"
           }
          ],
          "table": [
           {
            "cells": {
             "fill": {
              "color": "#EBF0F8"
             },
             "line": {
              "color": "white"
             }
            },
            "header": {
             "fill": {
              "color": "#C8D4E3"
             },
             "line": {
              "color": "white"
             }
            },
            "type": "table"
           }
          ]
         },
         "layout": {
          "annotationdefaults": {
           "arrowcolor": "#2a3f5f",
           "arrowhead": 0,
           "arrowwidth": 1
          },
          "coloraxis": {
           "colorbar": {
            "outlinewidth": 0,
            "ticks": ""
           }
          },
          "colorscale": {
           "diverging": [
            [
             0,
             "#8e0152"
            ],
            [
             0.1,
             "#c51b7d"
            ],
            [
             0.2,
             "#de77ae"
            ],
            [
             0.3,
             "#f1b6da"
            ],
            [
             0.4,
             "#fde0ef"
            ],
            [
             0.5,
             "#f7f7f7"
            ],
            [
             0.6,
             "#e6f5d0"
            ],
            [
             0.7,
             "#b8e186"
            ],
            [
             0.8,
             "#7fbc41"
            ],
            [
             0.9,
             "#4d9221"
            ],
            [
             1,
             "#276419"
            ]
           ],
           "sequential": [
            [
             0,
             "#0d0887"
            ],
            [
             0.1111111111111111,
             "#46039f"
            ],
            [
             0.2222222222222222,
             "#7201a8"
            ],
            [
             0.3333333333333333,
             "#9c179e"
            ],
            [
             0.4444444444444444,
             "#bd3786"
            ],
            [
             0.5555555555555556,
             "#d8576b"
            ],
            [
             0.6666666666666666,
             "#ed7953"
            ],
            [
             0.7777777777777778,
             "#fb9f3a"
            ],
            [
             0.8888888888888888,
             "#fdca26"
            ],
            [
             1,
             "#f0f921"
            ]
           ],
           "sequentialminus": [
            [
             0,
             "#0d0887"
            ],
            [
             0.1111111111111111,
             "#46039f"
            ],
            [
             0.2222222222222222,
             "#7201a8"
            ],
            [
             0.3333333333333333,
             "#9c179e"
            ],
            [
             0.4444444444444444,
             "#bd3786"
            ],
            [
             0.5555555555555556,
             "#d8576b"
            ],
            [
             0.6666666666666666,
             "#ed7953"
            ],
            [
             0.7777777777777778,
             "#fb9f3a"
            ],
            [
             0.8888888888888888,
             "#fdca26"
            ],
            [
             1,
             "#f0f921"
            ]
           ]
          },
          "colorway": [
           "#636efa",
           "#EF553B",
           "#00cc96",
           "#ab63fa",
           "#FFA15A",
           "#19d3f3",
           "#FF6692",
           "#B6E880",
           "#FF97FF",
           "#FECB52"
          ],
          "font": {
           "color": "#2a3f5f"
          },
          "geo": {
           "bgcolor": "white",
           "lakecolor": "white",
           "landcolor": "#E5ECF6",
           "showlakes": true,
           "showland": true,
           "subunitcolor": "white"
          },
          "hoverlabel": {
           "align": "left"
          },
          "hovermode": "closest",
          "mapbox": {
           "style": "light"
          },
          "paper_bgcolor": "white",
          "plot_bgcolor": "#E5ECF6",
          "polar": {
           "angularaxis": {
            "gridcolor": "white",
            "linecolor": "white",
            "ticks": ""
           },
           "bgcolor": "#E5ECF6",
           "radialaxis": {
            "gridcolor": "white",
            "linecolor": "white",
            "ticks": ""
           }
          },
          "scene": {
           "xaxis": {
            "backgroundcolor": "#E5ECF6",
            "gridcolor": "white",
            "gridwidth": 2,
            "linecolor": "white",
            "showbackground": true,
            "ticks": "",
            "zerolinecolor": "white"
           },
           "yaxis": {
            "backgroundcolor": "#E5ECF6",
            "gridcolor": "white",
            "gridwidth": 2,
            "linecolor": "white",
            "showbackground": true,
            "ticks": "",
            "zerolinecolor": "white"
           },
           "zaxis": {
            "backgroundcolor": "#E5ECF6",
            "gridcolor": "white",
            "gridwidth": 2,
            "linecolor": "white",
            "showbackground": true,
            "ticks": "",
            "zerolinecolor": "white"
           }
          },
          "shapedefaults": {
           "line": {
            "color": "#2a3f5f"
           }
          },
          "ternary": {
           "aaxis": {
            "gridcolor": "white",
            "linecolor": "white",
            "ticks": ""
           },
           "baxis": {
            "gridcolor": "white",
            "linecolor": "white",
            "ticks": ""
           },
           "bgcolor": "#E5ECF6",
           "caxis": {
            "gridcolor": "white",
            "linecolor": "white",
            "ticks": ""
           }
          },
          "title": {
           "x": 0.05
          },
          "xaxis": {
           "automargin": true,
           "gridcolor": "white",
           "linecolor": "white",
           "ticks": "",
           "title": {
            "standoff": 15
           },
           "zerolinecolor": "white",
           "zerolinewidth": 2
          },
          "yaxis": {
           "automargin": true,
           "gridcolor": "white",
           "linecolor": "white",
           "ticks": "",
           "title": {
            "standoff": 15
           },
           "zerolinecolor": "white",
           "zerolinewidth": 2
          }
         }
        },
        "title": {
         "text": "<b>NUMBER OF POSITIVE SAMPLES DURING THE REVIEW PERIOD N=7   < 2 months: 5 (71%)  2-12 months: 2 (29%)<b>"
        },
        "uniformtext": {
         "minsize": 14,
         "mode": "hide"
        },
        "xaxis": {
         "anchor": "y",
         "domain": [
          0,
          1
         ],
         "title": {
          "text": "<b>Facilities<b>"
         }
        },
        "yaxis": {
         "anchor": "x",
         "domain": [
          0,
          1
         ],
         "title": {
          "text": "<b>Positive PCRs</b> "
         }
        }
       }
      },
      "text/html": [
       "<div>                            <div id=\"6fbc0a80-b2c7-457b-b1aa-497b9559c8bf\" class=\"plotly-graph-div\" style=\"height:525px; width:100%;\"></div>            <script type=\"text/javascript\">                require([\"plotly\"], function(Plotly) {                    window.PLOTLYENV=window.PLOTLYENV || {};                                    if (document.getElementById(\"6fbc0a80-b2c7-457b-b1aa-497b9559c8bf\")) {                    Plotly.newPlot(                        \"6fbc0a80-b2c7-457b-b1aa-497b9559c8bf\",                        [{\"alignmentgroup\": \"True\", \"hovertemplate\": \"variable=< 2<br>facilities=%{x}<br>value=%{y}<extra></extra>\", \"legendgroup\": \"< 2\", \"marker\": {\"color\": \"#636efa\"}, \"name\": \"< 2\", \"offsetgroup\": \"< 2\", \"orientation\": \"v\", \"showlegend\": true, \"text\": [0.0, 0.0, 2.0, 1.0, 1.0, 1.0], \"textposition\": \"outside\", \"type\": \"bar\", \"x\": [\"Baricho\", \"Kangaru\", \"Kerugoya\", \"Kianyaga\", \"Mutithi\", \"Rukanga\"], \"xaxis\": \"x\", \"y\": [0, 0, 2, 1, 1, 1], \"yaxis\": \"y\"}, {\"alignmentgroup\": \"True\", \"hovertemplate\": \"variable=2-12<br>facilities=%{x}<br>value=%{y}<extra></extra>\", \"legendgroup\": \"2-12\", \"marker\": {\"color\": \"#EF553B\"}, \"name\": \"2-12\", \"offsetgroup\": \"2-12\", \"orientation\": \"v\", \"showlegend\": true, \"text\": [1.0, 1.0, 0.0, 0.0, 0.0, 0.0], \"textposition\": \"outside\", \"type\": \"bar\", \"x\": [\"Baricho\", \"Kangaru\", \"Kerugoya\", \"Kianyaga\", \"Mutithi\", \"Rukanga\"], \"xaxis\": \"x\", \"y\": [1, 1, 0, 0, 0, 0], \"yaxis\": \"y\"}],                        {\"barmode\": \"group\", \"legend\": {\"title\": {\"text\": \"variable\"}, \"tracegroupgap\": 0}, \"template\": {\"data\": {\"bar\": [{\"error_x\": {\"color\": \"#2a3f5f\"}, \"error_y\": {\"color\": \"#2a3f5f\"}, \"marker\": {\"line\": {\"color\": \"#E5ECF6\", \"width\": 0.5}}, \"type\": \"bar\"}], \"barpolar\": [{\"marker\": {\"line\": {\"color\": \"#E5ECF6\", \"width\": 0.5}}, \"type\": \"barpolar\"}], \"carpet\": [{\"aaxis\": {\"endlinecolor\": \"#2a3f5f\", \"gridcolor\": \"white\", \"linecolor\": \"white\", \"minorgridcolor\": \"white\", \"startlinecolor\": \"#2a3f5f\"}, \"baxis\": {\"endlinecolor\": \"#2a3f5f\", \"gridcolor\": \"white\", \"linecolor\": \"white\", \"minorgridcolor\": \"white\", \"startlinecolor\": \"#2a3f5f\"}, \"type\": \"carpet\"}], \"choropleth\": [{\"colorbar\": {\"outlinewidth\": 0, \"ticks\": \"\"}, \"type\": \"choropleth\"}], \"contour\": [{\"colorbar\": {\"outlinewidth\": 0, \"ticks\": \"\"}, \"colorscale\": [[0.0, \"#0d0887\"], [0.1111111111111111, \"#46039f\"], [0.2222222222222222, \"#7201a8\"], [0.3333333333333333, \"#9c179e\"], [0.4444444444444444, \"#bd3786\"], [0.5555555555555556, \"#d8576b\"], [0.6666666666666666, \"#ed7953\"], [0.7777777777777778, \"#fb9f3a\"], [0.8888888888888888, \"#fdca26\"], [1.0, \"#f0f921\"]], \"type\": \"contour\"}], \"contourcarpet\": [{\"colorbar\": {\"outlinewidth\": 0, \"ticks\": \"\"}, \"type\": \"contourcarpet\"}], \"heatmap\": [{\"colorbar\": {\"outlinewidth\": 0, \"ticks\": \"\"}, \"colorscale\": [[0.0, \"#0d0887\"], [0.1111111111111111, \"#46039f\"], [0.2222222222222222, \"#7201a8\"], [0.3333333333333333, \"#9c179e\"], [0.4444444444444444, \"#bd3786\"], [0.5555555555555556, \"#d8576b\"], [0.6666666666666666, \"#ed7953\"], [0.7777777777777778, \"#fb9f3a\"], [0.8888888888888888, \"#fdca26\"], [1.0, \"#f0f921\"]], \"type\": \"heatmap\"}], \"heatmapgl\": [{\"colorbar\": {\"outlinewidth\": 0, \"ticks\": \"\"}, \"colorscale\": [[0.0, \"#0d0887\"], [0.1111111111111111, \"#46039f\"], [0.2222222222222222, \"#7201a8\"], [0.3333333333333333, \"#9c179e\"], [0.4444444444444444, \"#bd3786\"], [0.5555555555555556, \"#d8576b\"], [0.6666666666666666, \"#ed7953\"], [0.7777777777777778, \"#fb9f3a\"], [0.8888888888888888, \"#fdca26\"], [1.0, \"#f0f921\"]], \"type\": \"heatmapgl\"}], \"histogram\": [{\"marker\": {\"colorbar\": {\"outlinewidth\": 0, \"ticks\": \"\"}}, \"type\": \"histogram\"}], \"histogram2d\": [{\"colorbar\": {\"outlinewidth\": 0, \"ticks\": \"\"}, \"colorscale\": [[0.0, \"#0d0887\"], [0.1111111111111111, \"#46039f\"], [0.2222222222222222, \"#7201a8\"], [0.3333333333333333, \"#9c179e\"], [0.4444444444444444, \"#bd3786\"], [0.5555555555555556, \"#d8576b\"], [0.6666666666666666, \"#ed7953\"], [0.7777777777777778, \"#fb9f3a\"], [0.8888888888888888, \"#fdca26\"], [1.0, \"#f0f921\"]], \"type\": \"histogram2d\"}], \"histogram2dcontour\": [{\"colorbar\": {\"outlinewidth\": 0, \"ticks\": \"\"}, \"colorscale\": [[0.0, \"#0d0887\"], [0.1111111111111111, \"#46039f\"], [0.2222222222222222, \"#7201a8\"], [0.3333333333333333, \"#9c179e\"], [0.4444444444444444, \"#bd3786\"], [0.5555555555555556, \"#d8576b\"], [0.6666666666666666, \"#ed7953\"], [0.7777777777777778, \"#fb9f3a\"], [0.8888888888888888, \"#fdca26\"], [1.0, \"#f0f921\"]], \"type\": \"histogram2dcontour\"}], \"mesh3d\": [{\"colorbar\": {\"outlinewidth\": 0, \"ticks\": \"\"}, \"type\": \"mesh3d\"}], \"parcoords\": [{\"line\": {\"colorbar\": {\"outlinewidth\": 0, \"ticks\": \"\"}}, \"type\": \"parcoords\"}], \"pie\": [{\"automargin\": true, \"type\": \"pie\"}], \"scatter\": [{\"marker\": {\"colorbar\": {\"outlinewidth\": 0, \"ticks\": \"\"}}, \"type\": \"scatter\"}], \"scatter3d\": [{\"line\": {\"colorbar\": {\"outlinewidth\": 0, \"ticks\": \"\"}}, \"marker\": {\"colorbar\": {\"outlinewidth\": 0, \"ticks\": \"\"}}, \"type\": \"scatter3d\"}], \"scattercarpet\": [{\"marker\": {\"colorbar\": {\"outlinewidth\": 0, \"ticks\": \"\"}}, \"type\": \"scattercarpet\"}], \"scattergeo\": [{\"marker\": {\"colorbar\": {\"outlinewidth\": 0, \"ticks\": \"\"}}, \"type\": \"scattergeo\"}], \"scattergl\": [{\"marker\": {\"colorbar\": {\"outlinewidth\": 0, \"ticks\": \"\"}}, \"type\": \"scattergl\"}], \"scattermapbox\": [{\"marker\": {\"colorbar\": {\"outlinewidth\": 0, \"ticks\": \"\"}}, \"type\": \"scattermapbox\"}], \"scatterpolar\": [{\"marker\": {\"colorbar\": {\"outlinewidth\": 0, \"ticks\": \"\"}}, \"type\": \"scatterpolar\"}], \"scatterpolargl\": [{\"marker\": {\"colorbar\": {\"outlinewidth\": 0, \"ticks\": \"\"}}, \"type\": \"scatterpolargl\"}], \"scatterternary\": [{\"marker\": {\"colorbar\": {\"outlinewidth\": 0, \"ticks\": \"\"}}, \"type\": \"scatterternary\"}], \"surface\": [{\"colorbar\": {\"outlinewidth\": 0, \"ticks\": \"\"}, \"colorscale\": [[0.0, \"#0d0887\"], [0.1111111111111111, \"#46039f\"], [0.2222222222222222, \"#7201a8\"], [0.3333333333333333, \"#9c179e\"], [0.4444444444444444, \"#bd3786\"], [0.5555555555555556, \"#d8576b\"], [0.6666666666666666, \"#ed7953\"], [0.7777777777777778, \"#fb9f3a\"], [0.8888888888888888, \"#fdca26\"], [1.0, \"#f0f921\"]], \"type\": \"surface\"}], \"table\": [{\"cells\": {\"fill\": {\"color\": \"#EBF0F8\"}, \"line\": {\"color\": \"white\"}}, \"header\": {\"fill\": {\"color\": \"#C8D4E3\"}, \"line\": {\"color\": \"white\"}}, \"type\": \"table\"}]}, \"layout\": {\"annotationdefaults\": {\"arrowcolor\": \"#2a3f5f\", \"arrowhead\": 0, \"arrowwidth\": 1}, \"coloraxis\": {\"colorbar\": {\"outlinewidth\": 0, \"ticks\": \"\"}}, \"colorscale\": {\"diverging\": [[0, \"#8e0152\"], [0.1, \"#c51b7d\"], [0.2, \"#de77ae\"], [0.3, \"#f1b6da\"], [0.4, \"#fde0ef\"], [0.5, \"#f7f7f7\"], [0.6, \"#e6f5d0\"], [0.7, \"#b8e186\"], [0.8, \"#7fbc41\"], [0.9, \"#4d9221\"], [1, \"#276419\"]], \"sequential\": [[0.0, \"#0d0887\"], [0.1111111111111111, \"#46039f\"], [0.2222222222222222, \"#7201a8\"], [0.3333333333333333, \"#9c179e\"], [0.4444444444444444, \"#bd3786\"], [0.5555555555555556, \"#d8576b\"], [0.6666666666666666, \"#ed7953\"], [0.7777777777777778, \"#fb9f3a\"], [0.8888888888888888, \"#fdca26\"], [1.0, \"#f0f921\"]], \"sequentialminus\": [[0.0, \"#0d0887\"], [0.1111111111111111, \"#46039f\"], [0.2222222222222222, \"#7201a8\"], [0.3333333333333333, \"#9c179e\"], [0.4444444444444444, \"#bd3786\"], [0.5555555555555556, \"#d8576b\"], [0.6666666666666666, \"#ed7953\"], [0.7777777777777778, \"#fb9f3a\"], [0.8888888888888888, \"#fdca26\"], [1.0, \"#f0f921\"]]}, \"colorway\": [\"#636efa\", \"#EF553B\", \"#00cc96\", \"#ab63fa\", \"#FFA15A\", \"#19d3f3\", \"#FF6692\", \"#B6E880\", \"#FF97FF\", \"#FECB52\"], \"font\": {\"color\": \"#2a3f5f\"}, \"geo\": {\"bgcolor\": \"white\", \"lakecolor\": \"white\", \"landcolor\": \"#E5ECF6\", \"showlakes\": true, \"showland\": true, \"subunitcolor\": \"white\"}, \"hoverlabel\": {\"align\": \"left\"}, \"hovermode\": \"closest\", \"mapbox\": {\"style\": \"light\"}, \"paper_bgcolor\": \"white\", \"plot_bgcolor\": \"#E5ECF6\", \"polar\": {\"angularaxis\": {\"gridcolor\": \"white\", \"linecolor\": \"white\", \"ticks\": \"\"}, \"bgcolor\": \"#E5ECF6\", \"radialaxis\": {\"gridcolor\": \"white\", \"linecolor\": \"white\", \"ticks\": \"\"}}, \"scene\": {\"xaxis\": {\"backgroundcolor\": \"#E5ECF6\", \"gridcolor\": \"white\", \"gridwidth\": 2, \"linecolor\": \"white\", \"showbackground\": true, \"ticks\": \"\", \"zerolinecolor\": \"white\"}, \"yaxis\": {\"backgroundcolor\": \"#E5ECF6\", \"gridcolor\": \"white\", \"gridwidth\": 2, \"linecolor\": \"white\", \"showbackground\": true, \"ticks\": \"\", \"zerolinecolor\": \"white\"}, \"zaxis\": {\"backgroundcolor\": \"#E5ECF6\", \"gridcolor\": \"white\", \"gridwidth\": 2, \"linecolor\": \"white\", \"showbackground\": true, \"ticks\": \"\", \"zerolinecolor\": \"white\"}}, \"shapedefaults\": {\"line\": {\"color\": \"#2a3f5f\"}}, \"ternary\": {\"aaxis\": {\"gridcolor\": \"white\", \"linecolor\": \"white\", \"ticks\": \"\"}, \"baxis\": {\"gridcolor\": \"white\", \"linecolor\": \"white\", \"ticks\": \"\"}, \"bgcolor\": \"#E5ECF6\", \"caxis\": {\"gridcolor\": \"white\", \"linecolor\": \"white\", \"ticks\": \"\"}}, \"title\": {\"x\": 0.05}, \"xaxis\": {\"automargin\": true, \"gridcolor\": \"white\", \"linecolor\": \"white\", \"ticks\": \"\", \"title\": {\"standoff\": 15}, \"zerolinecolor\": \"white\", \"zerolinewidth\": 2}, \"yaxis\": {\"automargin\": true, \"gridcolor\": \"white\", \"linecolor\": \"white\", \"ticks\": \"\", \"title\": {\"standoff\": 15}, \"zerolinecolor\": \"white\", \"zerolinewidth\": 2}}}, \"title\": {\"text\": \"<b>NUMBER OF POSITIVE SAMPLES DURING THE REVIEW PERIOD N=7   < 2 months: 5 (71%)  2-12 months: 2 (29%)<b>\"}, \"uniformtext\": {\"minsize\": 14, \"mode\": \"hide\"}, \"xaxis\": {\"anchor\": \"y\", \"domain\": [0.0, 1.0], \"title\": {\"text\": \"<b>Facilities<b>\"}}, \"yaxis\": {\"anchor\": \"x\", \"domain\": [0.0, 1.0], \"title\": {\"text\": \"<b>Positive PCRs</b> \"}}},                        {\"responsive\": true}                    ).then(function(){\n",
       "                            \n",
       "var gd = document.getElementById('6fbc0a80-b2c7-457b-b1aa-497b9559c8bf');\n",
       "var x = new MutationObserver(function (mutations, observer) {{\n",
       "        var display = window.getComputedStyle(gd).display;\n",
       "        if (!display || display === 'none') {{\n",
       "            console.log([gd, 'removed!']);\n",
       "            Plotly.purge(gd);\n",
       "            observer.disconnect();\n",
       "        }}\n",
       "}});\n",
       "\n",
       "// Listen for the removal of the full notebook cells\n",
       "var notebookContainer = gd.closest('#notebook-container');\n",
       "if (notebookContainer) {{\n",
       "    x.observe(notebookContainer, {childList: true});\n",
       "}}\n",
       "\n",
       "// Listen for the clearing of the current output cell\n",
       "var outputEl = gd.closest('.output');\n",
       "if (outputEl) {{\n",
       "    x.observe(outputEl, {childList: true});\n",
       "}}\n",
       "\n",
       "                        })                };                });            </script>        </div>"
      ]
     },
     "metadata": {},
     "output_type": "display_data"
    }
   ],
   "source": [
    "fig=px.bar(facilities_pos,x='facilities',y=['< 2','2-12'],title=\"<b>NUMBER OF POSITIVE SAMPLES DURING THE REVIEW PERIOD\"\n",
    "           f\" N={total}   < 2 months: {less_2_months} ({round(less_2_months/(less_2_months+two_to_twelve_months)*100,)}%)  2-12 months: {two_to_twelve_months} ({round(two_to_twelve_months/(less_2_months+two_to_twelve_months)*100,)}%)<b>\",\n",
    "           barmode='group')\n",
    "\n",
    "texts=[facilities_pos['< 2'],facilities_pos['2-12']]\n",
    "for i, t in enumerate(texts):\n",
    "    fig.data[i].text = t\n",
    "    fig.data[i].textposition = 'outside'\n",
    "fig.update_layout(uniformtext_minsize=14, uniformtext_mode='hide')\n",
    "\n",
    "# Set x-axis title\n",
    "fig.update_xaxes(title_text=\"<b>Facilities<b>\")\n",
    "\n",
    "# Set y-axes titles\n",
    "fig.update_yaxes(title_text=\"<b>Positive PCRs</b> \", secondary_y=False)\n",
    "# fig.update_yaxes(title_text=\"<b>CONTRIBUTION TO HUB TX_CURR</b>\", secondary_y=True)\n",
    "\n",
    "fig.show()"
   ]
  },
  {
   "cell_type": "markdown",
   "metadata": {},
   "source": [
    "##### MTCT RATE"
   ]
  },
  {
   "cell_type": "code",
   "execution_count": 16,
   "metadata": {
    "ExecuteTime": {
     "end_time": "2021-09-16T18:18:00.769113Z",
     "start_time": "2021-09-16T18:18:00.743129Z"
    }
   },
   "outputs": [
    {
     "name": "stdout",
     "output_type": "stream",
     "text": [
      "mtct_rate was 1.52 %\n"
     ]
    }
   ],
   "source": [
    "positives=len(df[(df[\"Result\"]=='Positive') & (df['PCR Type'] !=\"Confirmatory PCR and Baseline VL)\")])\n",
    "negatives=len(df[df[\"Result\"]=='Negative'])\n",
    "mtct_rate=round(positives/(negatives+positives)*100,2)\n",
    "print(f\"mtct_rate was {mtct_rate} %\")"
   ]
  },
  {
   "cell_type": "code",
   "execution_count": 17,
   "metadata": {
    "ExecuteTime": {
     "end_time": "2021-09-16T18:18:00.880045Z",
     "start_time": "2021-09-16T18:18:00.772110Z"
    }
   },
   "outputs": [
    {
     "name": "stdout",
     "output_type": "stream",
     "text": [
      "Initial PCRs (6 week or first contact) done were 215. \n"
     ]
    }
   ],
   "source": [
    "initial_PCR=df[(df['Age (Months)'] <=2) & (df['PCR Type'] == 'Initial PCR (6 week or first contact)')]\n",
    "initial_PCRs=len(initial_PCR['PCR Type'])\n",
    "print(f\"Initial PCRs (6 week or first contact) done were {initial_PCRs}. \")"
   ]
  },
  {
   "cell_type": "code",
   "execution_count": 18,
   "metadata": {
    "ExecuteTime": {
     "end_time": "2021-09-16T18:18:01.006651Z",
     "start_time": "2021-09-16T18:18:00.885044Z"
    }
   },
   "outputs": [
    {
     "name": "stdout",
     "output_type": "stream",
     "text": [
      "2nd PCR (6 months) done were 241. \n"
     ]
    }
   ],
   "source": [
    "second_PCR=df[(df['PCR Type'] == '2nd PCR (6 months)')]\n",
    "print(f\"2nd PCR (6 months) done were {len(second_PCR['PCR Type'])}. \")"
   ]
  },
  {
   "cell_type": "code",
   "execution_count": 19,
   "metadata": {
    "ExecuteTime": {
     "end_time": "2021-09-16T18:18:01.195553Z",
     "start_time": "2021-09-16T18:18:01.015638Z"
    }
   },
   "outputs": [
    {
     "name": "stdout",
     "output_type": "stream",
     "text": [
      "3rd PCR (12 months) done were 129. \n"
     ]
    }
   ],
   "source": [
    "third_PCR=df[(df['PCR Type'] == '3rd PCR (12 months)')]\n",
    "print(f\"3rd PCR (12 months) done were {len(third_PCR['PCR Type'])}. \")"
   ]
  },
  {
   "cell_type": "code",
   "execution_count": 20,
   "metadata": {
    "ExecuteTime": {
     "end_time": "2021-09-16T18:18:01.311533Z",
     "start_time": "2021-09-16T18:18:01.205509Z"
    }
   },
   "outputs": [],
   "source": [
    "# confirmatory_PCRs=df[(df['Age (Months)'] >2) & (df['Age (Months)'] <=12) &(df['Result'] == 'Positive') &\n",
    "#        (df['PCR Type'] == 'Confirmatory PCR and Baseline VL')]\n",
    "# confirmatory_PCRs"
   ]
  },
  {
   "cell_type": "markdown",
   "metadata": {},
   "source": [
    "##### Less than 2 month and negative"
   ]
  },
  {
   "cell_type": "code",
   "execution_count": 21,
   "metadata": {
    "ExecuteTime": {
     "end_time": "2021-09-16T18:18:02.098946Z",
     "start_time": "2021-09-16T18:18:01.324523Z"
    }
   },
   "outputs": [
    {
     "data": {
      "text/html": [
       "<div>\n",
       "<style scoped>\n",
       "    .dataframe tbody tr th:only-of-type {\n",
       "        vertical-align: middle;\n",
       "    }\n",
       "\n",
       "    .dataframe tbody tr th {\n",
       "        vertical-align: top;\n",
       "    }\n",
       "\n",
       "    .dataframe thead th {\n",
       "        text-align: right;\n",
       "    }\n",
       "</style>\n",
       "<table border=\"1\" class=\"dataframe\">\n",
       "  <thead>\n",
       "    <tr style=\"text-align: right;\">\n",
       "      <th></th>\n",
       "      <th>PCR type</th>\n",
       "      <th>Count</th>\n",
       "    </tr>\n",
       "  </thead>\n",
       "  <tbody>\n",
       "    <tr>\n",
       "      <th>0</th>\n",
       "      <td>Initial PCR (6 week or first contact)</td>\n",
       "      <td>210</td>\n",
       "    </tr>\n",
       "    <tr>\n",
       "      <th>1</th>\n",
       "      <td>3rd PCR (12 months)</td>\n",
       "      <td>7</td>\n",
       "    </tr>\n",
       "    <tr>\n",
       "      <th>2</th>\n",
       "      <td>2nd PCR (6 months)</td>\n",
       "      <td>2</td>\n",
       "    </tr>\n",
       "    <tr>\n",
       "      <th>3</th>\n",
       "      <td>No Data</td>\n",
       "      <td>1</td>\n",
       "    </tr>\n",
       "  </tbody>\n",
       "</table>\n",
       "</div>"
      ],
      "text/plain": [
       "                                PCR type  Count\n",
       "0  Initial PCR (6 week or first contact)    210\n",
       "1                    3rd PCR (12 months)      7\n",
       "2                     2nd PCR (6 months)      2\n",
       "3                                No Data      1"
      ]
     },
     "execution_count": 21,
     "metadata": {},
     "output_type": "execute_result"
    }
   ],
   "source": [
    "df2=df[(df['Age (Months)'] <=2) & (df['Result'] == 'Negative')]\n",
    "get_results(df2)"
   ]
  },
  {
   "cell_type": "markdown",
   "metadata": {},
   "source": [
    "##### Less than 2 month and positives"
   ]
  },
  {
   "cell_type": "code",
   "execution_count": 22,
   "metadata": {
    "ExecuteTime": {
     "end_time": "2021-09-16T18:18:02.146931Z",
     "start_time": "2021-09-16T18:18:02.102940Z"
    }
   },
   "outputs": [
    {
     "data": {
      "text/html": [
       "<div>\n",
       "<style scoped>\n",
       "    .dataframe tbody tr th:only-of-type {\n",
       "        vertical-align: middle;\n",
       "    }\n",
       "\n",
       "    .dataframe tbody tr th {\n",
       "        vertical-align: top;\n",
       "    }\n",
       "\n",
       "    .dataframe thead th {\n",
       "        text-align: right;\n",
       "    }\n",
       "</style>\n",
       "<table border=\"1\" class=\"dataframe\">\n",
       "  <thead>\n",
       "    <tr style=\"text-align: right;\">\n",
       "      <th></th>\n",
       "      <th>PCR type</th>\n",
       "      <th>Count</th>\n",
       "    </tr>\n",
       "  </thead>\n",
       "  <tbody>\n",
       "    <tr>\n",
       "      <th>0</th>\n",
       "      <td>Initial PCR (6 week or first contact)</td>\n",
       "      <td>5</td>\n",
       "    </tr>\n",
       "  </tbody>\n",
       "</table>\n",
       "</div>"
      ],
      "text/plain": [
       "                                PCR type  Count\n",
       "0  Initial PCR (6 week or first contact)      5"
      ]
     },
     "execution_count": 22,
     "metadata": {},
     "output_type": "execute_result"
    }
   ],
   "source": [
    "df1=df[(df['Age (Months)'] <=2) & (df['Result'] ==\"Positive\")]\n",
    "get_results(df1)  "
   ]
  },
  {
   "cell_type": "markdown",
   "metadata": {},
   "source": [
    "##### > 2 month and <=12months and Positive"
   ]
  },
  {
   "cell_type": "code",
   "execution_count": 23,
   "metadata": {
    "ExecuteTime": {
     "end_time": "2021-09-16T18:18:02.348791Z",
     "start_time": "2021-09-16T18:18:02.149912Z"
    }
   },
   "outputs": [
    {
     "data": {
      "text/html": [
       "<div>\n",
       "<style scoped>\n",
       "    .dataframe tbody tr th:only-of-type {\n",
       "        vertical-align: middle;\n",
       "    }\n",
       "\n",
       "    .dataframe tbody tr th {\n",
       "        vertical-align: top;\n",
       "    }\n",
       "\n",
       "    .dataframe thead th {\n",
       "        text-align: right;\n",
       "    }\n",
       "</style>\n",
       "<table border=\"1\" class=\"dataframe\">\n",
       "  <thead>\n",
       "    <tr style=\"text-align: right;\">\n",
       "      <th></th>\n",
       "      <th>PCR type</th>\n",
       "      <th>Count</th>\n",
       "    </tr>\n",
       "  </thead>\n",
       "  <tbody>\n",
       "    <tr>\n",
       "      <th>0</th>\n",
       "      <td>3rd PCR (12 months)</td>\n",
       "      <td>2</td>\n",
       "    </tr>\n",
       "  </tbody>\n",
       "</table>\n",
       "</div>"
      ],
      "text/plain": [
       "              PCR type  Count\n",
       "0  3rd PCR (12 months)      2"
      ]
     },
     "execution_count": 23,
     "metadata": {},
     "output_type": "execute_result"
    }
   ],
   "source": [
    "df3=df[(df['Age (Months)'] >2) & (df['Age (Months)'] <=12) &(df['Result'] == 'Positive') & \n",
    "       (df['PCR Type'] != 'Confirmatory PCR and Baseline VL')]\n",
    "get_results(df3)"
   ]
  },
  {
   "cell_type": "markdown",
   "metadata": {},
   "source": [
    "##### > 2 month and <=12months and Negative"
   ]
  },
  {
   "cell_type": "code",
   "execution_count": 24,
   "metadata": {
    "ExecuteTime": {
     "end_time": "2021-09-16T18:18:03.302256Z",
     "start_time": "2021-09-16T18:18:02.359791Z"
    }
   },
   "outputs": [
    {
     "data": {
      "text/html": [
       "<div>\n",
       "<style scoped>\n",
       "    .dataframe tbody tr th:only-of-type {\n",
       "        vertical-align: middle;\n",
       "    }\n",
       "\n",
       "    .dataframe tbody tr th {\n",
       "        vertical-align: top;\n",
       "    }\n",
       "\n",
       "    .dataframe thead th {\n",
       "        text-align: right;\n",
       "    }\n",
       "</style>\n",
       "<table border=\"1\" class=\"dataframe\">\n",
       "  <thead>\n",
       "    <tr style=\"text-align: right;\">\n",
       "      <th></th>\n",
       "      <th>PCR type</th>\n",
       "      <th>Count</th>\n",
       "    </tr>\n",
       "  </thead>\n",
       "  <tbody>\n",
       "    <tr>\n",
       "      <th>0</th>\n",
       "      <td>Initial PCR (6 week or first contact)</td>\n",
       "      <td>63</td>\n",
       "    </tr>\n",
       "    <tr>\n",
       "      <th>1</th>\n",
       "      <td>2nd PCR (6 months)</td>\n",
       "      <td>239</td>\n",
       "    </tr>\n",
       "    <tr>\n",
       "      <th>2</th>\n",
       "      <td>3rd PCR (12 months)</td>\n",
       "      <td>120</td>\n",
       "    </tr>\n",
       "    <tr>\n",
       "      <th>3</th>\n",
       "      <td>Confirmatory PCR and Baseline VL</td>\n",
       "      <td>1</td>\n",
       "    </tr>\n",
       "    <tr>\n",
       "      <th>4</th>\n",
       "      <td>Discrepant PCR(tie breaker)</td>\n",
       "      <td>1</td>\n",
       "    </tr>\n",
       "  </tbody>\n",
       "</table>\n",
       "</div>"
      ],
      "text/plain": [
       "                                PCR type  Count\n",
       "0  Initial PCR (6 week or first contact)     63\n",
       "1                     2nd PCR (6 months)    239\n",
       "2                    3rd PCR (12 months)    120\n",
       "3       Confirmatory PCR and Baseline VL      1\n",
       "4            Discrepant PCR(tie breaker)      1"
      ]
     },
     "execution_count": 24,
     "metadata": {},
     "output_type": "execute_result"
    }
   ],
   "source": [
    "df4=df[(df['Age (Months)'] >2) & (df['Age (Months)'] <=12) &(df['Result'] == 'Negative')]\n",
    "get_results(df4)"
   ]
  },
  {
   "cell_type": "markdown",
   "metadata": {},
   "source": [
    "##### PCR positive during normal follow up <1yr"
   ]
  },
  {
   "cell_type": "code",
   "execution_count": 25,
   "metadata": {
    "ExecuteTime": {
     "end_time": "2021-09-16T18:18:03.334238Z",
     "start_time": "2021-09-16T18:18:03.306253Z"
    }
   },
   "outputs": [
    {
     "data": {
      "text/html": [
       "<div>\n",
       "<style scoped>\n",
       "    .dataframe tbody tr th:only-of-type {\n",
       "        vertical-align: middle;\n",
       "    }\n",
       "\n",
       "    .dataframe tbody tr th {\n",
       "        vertical-align: top;\n",
       "    }\n",
       "\n",
       "    .dataframe thead th {\n",
       "        text-align: right;\n",
       "    }\n",
       "</style>\n",
       "<table border=\"1\" class=\"dataframe\">\n",
       "  <thead>\n",
       "    <tr style=\"text-align: right;\">\n",
       "      <th></th>\n",
       "      <th>PCR type</th>\n",
       "      <th>Count</th>\n",
       "    </tr>\n",
       "  </thead>\n",
       "  <tbody>\n",
       "    <tr>\n",
       "      <th>0</th>\n",
       "      <td>3rd PCR (12 months)</td>\n",
       "      <td>2</td>\n",
       "    </tr>\n",
       "  </tbody>\n",
       "</table>\n",
       "</div>"
      ],
      "text/plain": [
       "              PCR type  Count\n",
       "0  3rd PCR (12 months)      2"
      ]
     },
     "execution_count": 25,
     "metadata": {},
     "output_type": "execute_result"
    }
   ],
   "source": [
    "df6=df[(df['Age (Months)'] >2) & (df['Age (Months)'] <=12) & (df['Result'] == 'Positive') & \n",
    "       (df['PCR Type'] != 'Initial PCR (6 week or first contact)') & (df['PCR Type'] != 'Confirmatory PCR and Baseline VL')]\n",
    "get_results(df6)"
   ]
  },
  {
   "cell_type": "markdown",
   "metadata": {},
   "source": [
    "##### PCR positive > 12 months"
   ]
  },
  {
   "cell_type": "code",
   "execution_count": 26,
   "metadata": {
    "ExecuteTime": {
     "end_time": "2021-09-16T18:18:03.520932Z",
     "start_time": "2021-09-16T18:18:03.339233Z"
    }
   },
   "outputs": [
    {
     "data": {
      "text/html": [
       "<div>\n",
       "<style scoped>\n",
       "    .dataframe tbody tr th:only-of-type {\n",
       "        vertical-align: middle;\n",
       "    }\n",
       "\n",
       "    .dataframe tbody tr th {\n",
       "        vertical-align: top;\n",
       "    }\n",
       "\n",
       "    .dataframe thead th {\n",
       "        text-align: right;\n",
       "    }\n",
       "</style>\n",
       "<table border=\"1\" class=\"dataframe\">\n",
       "  <thead>\n",
       "    <tr style=\"text-align: right;\">\n",
       "      <th></th>\n",
       "      <th>PCR type</th>\n",
       "      <th>Count</th>\n",
       "    </tr>\n",
       "  </thead>\n",
       "  <tbody>\n",
       "  </tbody>\n",
       "</table>\n",
       "</div>"
      ],
      "text/plain": [
       "Empty DataFrame\n",
       "Columns: [PCR type, Count]\n",
       "Index: []"
      ]
     },
     "execution_count": 26,
     "metadata": {},
     "output_type": "execute_result"
    }
   ],
   "source": [
    "df8=df[(df['Age (Months)'] >12) & (df['Result'] == 'Positive')& (df['PCR Type'] != 'Confirmatory PCR and Baseline VL')]\n",
    "get_results(df8)"
   ]
  },
  {
   "cell_type": "markdown",
   "metadata": {},
   "source": [
    "##### Facilities with PCR positive during normal follow up (both <1 and >1yr)"
   ]
  },
  {
   "cell_type": "code",
   "execution_count": 27,
   "metadata": {
    "ExecuteTime": {
     "end_time": "2021-09-16T18:18:03.632445Z",
     "start_time": "2021-09-16T18:18:03.558901Z"
    }
   },
   "outputs": [
    {
     "name": "stdout",
     "output_type": "stream",
     "text": [
      "Baricho Health Centre\n",
      "Kangaru Dispensary (Kirinyaga)\n"
     ]
    }
   ],
   "source": [
    "followup_positives = pd.concat([df6,df8])\n",
    "for facility in sorted(followup_positives['Facilty'].unique()):\n",
    "    print(facility)"
   ]
  },
  {
   "cell_type": "code",
   "execution_count": 28,
   "metadata": {
    "ExecuteTime": {
     "end_time": "2021-09-16T18:18:03.901944Z",
     "start_time": "2021-09-16T18:18:03.643438Z"
    }
   },
   "outputs": [
    {
     "data": {
      "text/html": [
       "<div>\n",
       "<style scoped>\n",
       "    .dataframe tbody tr th:only-of-type {\n",
       "        vertical-align: middle;\n",
       "    }\n",
       "\n",
       "    .dataframe tbody tr th {\n",
       "        vertical-align: top;\n",
       "    }\n",
       "\n",
       "    .dataframe thead th {\n",
       "        text-align: right;\n",
       "    }\n",
       "</style>\n",
       "<table border=\"1\" class=\"dataframe\">\n",
       "  <thead>\n",
       "    <tr style=\"text-align: right;\">\n",
       "      <th></th>\n",
       "      <th>System ID</th>\n",
       "      <th>Sample ID</th>\n",
       "      <th>Batch</th>\n",
       "      <th>Lab Tested In</th>\n",
       "      <th>County</th>\n",
       "      <th>Sub-County</th>\n",
       "      <th>Partner</th>\n",
       "      <th>Facilty</th>\n",
       "      <th>Facility Code</th>\n",
       "      <th>Gender</th>\n",
       "      <th>DOB</th>\n",
       "      <th>Age (Months)</th>\n",
       "      <th>PCR Type</th>\n",
       "      <th>Enrollment CCC No</th>\n",
       "      <th>Date Collected</th>\n",
       "      <th>Date Received</th>\n",
       "      <th>Date Tested</th>\n",
       "      <th>Date Dispatched</th>\n",
       "      <th>Infant Prophylaxis</th>\n",
       "      <th>Received Status</th>\n",
       "      <th>Lab Comment</th>\n",
       "      <th>Reason for Repeat</th>\n",
       "      <th>Spots</th>\n",
       "      <th>Feeding</th>\n",
       "      <th>Entry Point</th>\n",
       "      <th>Result</th>\n",
       "      <th>PMTCT Intervention</th>\n",
       "      <th>Mother Result</th>\n",
       "      <th>Mother Age</th>\n",
       "      <th>Mother CCC No</th>\n",
       "      <th>Mother Last VL</th>\n",
       "    </tr>\n",
       "  </thead>\n",
       "  <tbody>\n",
       "    <tr>\n",
       "      <th>0</th>\n",
       "      <td>2449388</td>\n",
       "      <td>10049-2020-007</td>\n",
       "      <td>12776.0</td>\n",
       "      <td>Kenyatta National Hospial Lab, Nairobi</td>\n",
       "      <td>Kirinyaga</td>\n",
       "      <td>Kirinyaga North/Mwea West</td>\n",
       "      <td>UON CRISSP+</td>\n",
       "      <td>Baricho Health Centre</td>\n",
       "      <td>10049</td>\n",
       "      <td>Female</td>\n",
       "      <td>2020-02-17</td>\n",
       "      <td>12.0</td>\n",
       "      <td>3rd PCR (12 months)</td>\n",
       "      <td>1004900457</td>\n",
       "      <td>2021-02-17</td>\n",
       "      <td>2021-02-24</td>\n",
       "      <td>2021-05-19</td>\n",
       "      <td>2021-05-19</td>\n",
       "      <td>Others</td>\n",
       "      <td>Accepted</td>\n",
       "      <td>NaN</td>\n",
       "      <td>NaN</td>\n",
       "      <td>4.0</td>\n",
       "      <td>MBF</td>\n",
       "      <td>MCH/PMTCT</td>\n",
       "      <td>Positive</td>\n",
       "      <td>PM12:TDF+3TC+DTG</td>\n",
       "      <td>NaN</td>\n",
       "      <td>24.0</td>\n",
       "      <td>10049000391</td>\n",
       "      <td>33</td>\n",
       "    </tr>\n",
       "    <tr>\n",
       "      <th>1</th>\n",
       "      <td>2409208</td>\n",
       "      <td>10647-2020-001</td>\n",
       "      <td>11521.0</td>\n",
       "      <td>Kenyatta National Hospial Lab, Nairobi</td>\n",
       "      <td>Kirinyaga</td>\n",
       "      <td>Kirinyaga North/Mwea West</td>\n",
       "      <td>UON CRISSP+</td>\n",
       "      <td>Kangaru Dispensary (Kirinyaga)</td>\n",
       "      <td>10468</td>\n",
       "      <td>Female</td>\n",
       "      <td>2019-11-22</td>\n",
       "      <td>12.0</td>\n",
       "      <td>3rd PCR (12 months)</td>\n",
       "      <td>1046800215</td>\n",
       "      <td>2020-11-13</td>\n",
       "      <td>2020-11-23</td>\n",
       "      <td>2020-11-25</td>\n",
       "      <td>2020-12-04</td>\n",
       "      <td>AZT for 6 weeks + NVP for &gt;12 weeks</td>\n",
       "      <td>Accepted</td>\n",
       "      <td>NaN</td>\n",
       "      <td>NaN</td>\n",
       "      <td>4.0</td>\n",
       "      <td>NBF</td>\n",
       "      <td>MCH/PMTCT</td>\n",
       "      <td>Positive</td>\n",
       "      <td>PM12:TDF+3TC+DTG</td>\n",
       "      <td>Positive</td>\n",
       "      <td>39.0</td>\n",
       "      <td>NaN</td>\n",
       "      <td>LDL</td>\n",
       "    </tr>\n",
       "  </tbody>\n",
       "</table>\n",
       "</div>"
      ],
      "text/plain": [
       "   System ID       Sample ID    Batch                           Lab Tested In  \\\n",
       "0    2449388  10049-2020-007  12776.0  Kenyatta National Hospial Lab, Nairobi   \n",
       "1    2409208  10647-2020-001  11521.0  Kenyatta National Hospial Lab, Nairobi   \n",
       "\n",
       "      County                 Sub-County      Partner  \\\n",
       "0  Kirinyaga  Kirinyaga North/Mwea West  UON CRISSP+   \n",
       "1  Kirinyaga  Kirinyaga North/Mwea West  UON CRISSP+   \n",
       "\n",
       "                          Facilty  Facility Code  Gender         DOB  \\\n",
       "0           Baricho Health Centre          10049  Female  2020-02-17   \n",
       "1  Kangaru Dispensary (Kirinyaga)          10468  Female  2019-11-22   \n",
       "\n",
       "   Age (Months)             PCR Type Enrollment CCC No Date Collected  \\\n",
       "0          12.0  3rd PCR (12 months)        1004900457     2021-02-17   \n",
       "1          12.0  3rd PCR (12 months)        1046800215     2020-11-13   \n",
       "\n",
       "  Date Received Date Tested Date Dispatched  \\\n",
       "0    2021-02-24  2021-05-19      2021-05-19   \n",
       "1    2020-11-23  2020-11-25      2020-12-04   \n",
       "\n",
       "                     Infant Prophylaxis Received Status  Lab Comment  \\\n",
       "0                                Others        Accepted          NaN   \n",
       "1  AZT for 6 weeks + NVP for >12 weeks         Accepted          NaN   \n",
       "\n",
       "   Reason for Repeat  Spots Feeding Entry Point    Result PMTCT Intervention  \\\n",
       "0                NaN    4.0     MBF   MCH/PMTCT  Positive   PM12:TDF+3TC+DTG   \n",
       "1                NaN    4.0     NBF   MCH/PMTCT  Positive   PM12:TDF+3TC+DTG   \n",
       "\n",
       "  Mother Result  Mother Age Mother CCC No Mother Last VL  \n",
       "0           NaN        24.0   10049000391             33  \n",
       "1      Positive        39.0           NaN            LDL  "
      ]
     },
     "execution_count": 28,
     "metadata": {},
     "output_type": "execute_result"
    }
   ],
   "source": [
    "followup_positives.reset_index(drop=True, inplace=True)\n",
    "followup_positives"
   ]
  },
  {
   "cell_type": "markdown",
   "metadata": {},
   "source": [
    "##### Facilities with positive PCR"
   ]
  },
  {
   "cell_type": "code",
   "execution_count": 29,
   "metadata": {
    "ExecuteTime": {
     "end_time": "2021-09-16T18:18:04.107187Z",
     "start_time": "2021-09-16T18:18:03.905938Z"
    }
   },
   "outputs": [
    {
     "name": "stdout",
     "output_type": "stream",
     "text": [
      "Baricho Health Centre\n",
      "Kangaru Dispensary (Kirinyaga)\n",
      "Kerugoya District Hospital\n",
      "Kianyaga Sub-District Hospital\n",
      "Mutithi Health Centre\n",
      "Rukanga Dispensary\n"
     ]
    }
   ],
   "source": [
    "total_positives = pd.concat([df1, df3,df8])\n",
    "for facility in sorted(total_positives['Facilty'].unique()):\n",
    "    print(facility)\n"
   ]
  },
  {
   "cell_type": "code",
   "execution_count": 30,
   "metadata": {
    "ExecuteTime": {
     "end_time": "2021-09-16T18:18:04.680722Z",
     "start_time": "2021-09-16T18:18:04.117186Z"
    }
   },
   "outputs": [
    {
     "data": {
      "text/html": [
       "<div>\n",
       "<style scoped>\n",
       "    .dataframe tbody tr th:only-of-type {\n",
       "        vertical-align: middle;\n",
       "    }\n",
       "\n",
       "    .dataframe tbody tr th {\n",
       "        vertical-align: top;\n",
       "    }\n",
       "\n",
       "    .dataframe thead th {\n",
       "        text-align: right;\n",
       "    }\n",
       "</style>\n",
       "<table border=\"1\" class=\"dataframe\">\n",
       "  <thead>\n",
       "    <tr style=\"text-align: right;\">\n",
       "      <th></th>\n",
       "      <th>System ID</th>\n",
       "      <th>Sample ID</th>\n",
       "      <th>Batch</th>\n",
       "      <th>Lab Tested In</th>\n",
       "      <th>County</th>\n",
       "      <th>Sub-County</th>\n",
       "      <th>Partner</th>\n",
       "      <th>Facilty</th>\n",
       "      <th>Facility Code</th>\n",
       "      <th>Gender</th>\n",
       "      <th>DOB</th>\n",
       "      <th>Age (Months)</th>\n",
       "      <th>PCR Type</th>\n",
       "      <th>Enrollment CCC No</th>\n",
       "      <th>Date Collected</th>\n",
       "      <th>Date Received</th>\n",
       "      <th>Date Tested</th>\n",
       "      <th>Date Dispatched</th>\n",
       "      <th>Infant Prophylaxis</th>\n",
       "      <th>Received Status</th>\n",
       "      <th>Lab Comment</th>\n",
       "      <th>Reason for Repeat</th>\n",
       "      <th>Spots</th>\n",
       "      <th>Feeding</th>\n",
       "      <th>Entry Point</th>\n",
       "      <th>Result</th>\n",
       "      <th>PMTCT Intervention</th>\n",
       "      <th>Mother Result</th>\n",
       "      <th>Mother Age</th>\n",
       "      <th>Mother CCC No</th>\n",
       "      <th>Mother Last VL</th>\n",
       "    </tr>\n",
       "  </thead>\n",
       "  <tbody>\n",
       "    <tr>\n",
       "      <th>1993</th>\n",
       "      <td>2425878</td>\n",
       "      <td>10520-2020-0039</td>\n",
       "      <td>11978.0</td>\n",
       "      <td>Kenyatta National Hospial Lab, Nairobi</td>\n",
       "      <td>Kirinyaga</td>\n",
       "      <td>Kirinyaga Central</td>\n",
       "      <td>UON CRISSP+</td>\n",
       "      <td>Kerugoya District Hospital</td>\n",
       "      <td>10520</td>\n",
       "      <td>Female</td>\n",
       "      <td>2020-11-12</td>\n",
       "      <td>2.0</td>\n",
       "      <td>Initial PCR (6 week or first contact)</td>\n",
       "      <td>1052004755</td>\n",
       "      <td>2020-12-28</td>\n",
       "      <td>2020-12-31</td>\n",
       "      <td>2021-01-28</td>\n",
       "      <td>2021-01-28</td>\n",
       "      <td>AZT for 6 weeks + NVP for &gt;12 weeks</td>\n",
       "      <td>Accepted</td>\n",
       "      <td>NaN</td>\n",
       "      <td>NaN</td>\n",
       "      <td>4.0</td>\n",
       "      <td>EBF</td>\n",
       "      <td>MCH/PMTCT</td>\n",
       "      <td>Positive</td>\n",
       "      <td>PM12:TDF+3TC+DTG</td>\n",
       "      <td>NaN</td>\n",
       "      <td>32.0</td>\n",
       "      <td>67</td>\n",
       "      <td>LDL</td>\n",
       "    </tr>\n",
       "    <tr>\n",
       "      <th>1994</th>\n",
       "      <td>2425879</td>\n",
       "      <td>10520-2020-0040</td>\n",
       "      <td>11978.0</td>\n",
       "      <td>Kenyatta National Hospial Lab, Nairobi</td>\n",
       "      <td>Kirinyaga</td>\n",
       "      <td>Kirinyaga Central</td>\n",
       "      <td>UON CRISSP+</td>\n",
       "      <td>Kerugoya District Hospital</td>\n",
       "      <td>10520</td>\n",
       "      <td>Female</td>\n",
       "      <td>2020-11-14</td>\n",
       "      <td>2.0</td>\n",
       "      <td>Initial PCR (6 week or first contact)</td>\n",
       "      <td>1052004758</td>\n",
       "      <td>2020-12-28</td>\n",
       "      <td>2020-12-31</td>\n",
       "      <td>2021-01-28</td>\n",
       "      <td>2021-01-28</td>\n",
       "      <td>AZT for 6 weeks + NVP for &gt;12 weeks</td>\n",
       "      <td>Accepted</td>\n",
       "      <td>NaN</td>\n",
       "      <td>NaN</td>\n",
       "      <td>4.0</td>\n",
       "      <td>EBF</td>\n",
       "      <td>MCH/PMTCT</td>\n",
       "      <td>Positive</td>\n",
       "      <td>PM12:TDF+3TC+DTG</td>\n",
       "      <td>NaN</td>\n",
       "      <td>37.0</td>\n",
       "      <td>4719</td>\n",
       "      <td>NaN</td>\n",
       "    </tr>\n",
       "    <tr>\n",
       "      <th>2116</th>\n",
       "      <td>2405412</td>\n",
       "      <td>10565-2020-013</td>\n",
       "      <td>11411.0</td>\n",
       "      <td>Kenyatta National Hospial Lab, Nairobi</td>\n",
       "      <td>Kirinyaga</td>\n",
       "      <td>Kirinyaga East</td>\n",
       "      <td>UON CRISSP+</td>\n",
       "      <td>Kianyaga Sub-District Hospital</td>\n",
       "      <td>10565</td>\n",
       "      <td>Male</td>\n",
       "      <td>2020-09-19</td>\n",
       "      <td>2.0</td>\n",
       "      <td>Initial PCR (6 week or first contact)</td>\n",
       "      <td>1056500857</td>\n",
       "      <td>2020-11-09</td>\n",
       "      <td>2020-11-13</td>\n",
       "      <td>2020-11-23</td>\n",
       "      <td>2020-11-24</td>\n",
       "      <td>None</td>\n",
       "      <td>Accepted</td>\n",
       "      <td>NaN</td>\n",
       "      <td>NaN</td>\n",
       "      <td>4.0</td>\n",
       "      <td>EBF</td>\n",
       "      <td>MCH/PMTCT</td>\n",
       "      <td>Positive</td>\n",
       "      <td>PM13 : None</td>\n",
       "      <td>Positive</td>\n",
       "      <td>27.0</td>\n",
       "      <td>NaN</td>\n",
       "      <td>NaN</td>\n",
       "    </tr>\n",
       "    <tr>\n",
       "      <th>2407</th>\n",
       "      <td>2469131</td>\n",
       "      <td>10798-2021-007</td>\n",
       "      <td>13928.0</td>\n",
       "      <td>Kenyatta National Hospial Lab, Nairobi</td>\n",
       "      <td>Kirinyaga</td>\n",
       "      <td>Kirinyaga North</td>\n",
       "      <td>UON CRISSP+</td>\n",
       "      <td>Mutithi Health Centre</td>\n",
       "      <td>10798</td>\n",
       "      <td>Male</td>\n",
       "      <td>2021-05-03</td>\n",
       "      <td>2.0</td>\n",
       "      <td>Initial PCR (6 week or first contact)</td>\n",
       "      <td>1079800390</td>\n",
       "      <td>2021-06-17</td>\n",
       "      <td>2021-06-18</td>\n",
       "      <td>2021-06-25</td>\n",
       "      <td>2021-06-29</td>\n",
       "      <td>AZT for 6 weeks + NVP for &gt;12 weeks</td>\n",
       "      <td>Accepted</td>\n",
       "      <td>NaN</td>\n",
       "      <td>NaN</td>\n",
       "      <td>5.0</td>\n",
       "      <td>EBF</td>\n",
       "      <td>MCH/PMTCT</td>\n",
       "      <td>Positive</td>\n",
       "      <td>No Data</td>\n",
       "      <td>Negative</td>\n",
       "      <td>21.0</td>\n",
       "      <td>NaN</td>\n",
       "      <td>NaN</td>\n",
       "    </tr>\n",
       "    <tr>\n",
       "      <th>2420</th>\n",
       "      <td>2403940</td>\n",
       "      <td>10975-2020-0003</td>\n",
       "      <td>11071.0</td>\n",
       "      <td>Kenyatta National Hospial Lab, Nairobi</td>\n",
       "      <td>Kirinyaga</td>\n",
       "      <td>Kirinyaga North</td>\n",
       "      <td>UON CRISSP+</td>\n",
       "      <td>Rukanga Dispensary</td>\n",
       "      <td>10975</td>\n",
       "      <td>Male</td>\n",
       "      <td>2020-08-26</td>\n",
       "      <td>2.0</td>\n",
       "      <td>Initial PCR (6 week or first contact)</td>\n",
       "      <td>1097500050</td>\n",
       "      <td>2020-10-13</td>\n",
       "      <td>2020-10-19</td>\n",
       "      <td>2020-10-28</td>\n",
       "      <td>2020-10-28</td>\n",
       "      <td>AZT for 6 weeks + NVP for &gt;12 weeks</td>\n",
       "      <td>Accepted</td>\n",
       "      <td>NaN</td>\n",
       "      <td>NaN</td>\n",
       "      <td>4.0</td>\n",
       "      <td>MBF</td>\n",
       "      <td>MCH/PMTCT</td>\n",
       "      <td>Positive</td>\n",
       "      <td>PM12:TDF+3TC+DTG</td>\n",
       "      <td>Positive</td>\n",
       "      <td>23.0</td>\n",
       "      <td>NaN</td>\n",
       "      <td>NaN</td>\n",
       "    </tr>\n",
       "    <tr>\n",
       "      <th>1777</th>\n",
       "      <td>2449388</td>\n",
       "      <td>10049-2020-007</td>\n",
       "      <td>12776.0</td>\n",
       "      <td>Kenyatta National Hospial Lab, Nairobi</td>\n",
       "      <td>Kirinyaga</td>\n",
       "      <td>Kirinyaga North/Mwea West</td>\n",
       "      <td>UON CRISSP+</td>\n",
       "      <td>Baricho Health Centre</td>\n",
       "      <td>10049</td>\n",
       "      <td>Female</td>\n",
       "      <td>2020-02-17</td>\n",
       "      <td>12.0</td>\n",
       "      <td>3rd PCR (12 months)</td>\n",
       "      <td>1004900457</td>\n",
       "      <td>2021-02-17</td>\n",
       "      <td>2021-02-24</td>\n",
       "      <td>2021-05-19</td>\n",
       "      <td>2021-05-19</td>\n",
       "      <td>Others</td>\n",
       "      <td>Accepted</td>\n",
       "      <td>NaN</td>\n",
       "      <td>NaN</td>\n",
       "      <td>4.0</td>\n",
       "      <td>MBF</td>\n",
       "      <td>MCH/PMTCT</td>\n",
       "      <td>Positive</td>\n",
       "      <td>PM12:TDF+3TC+DTG</td>\n",
       "      <td>NaN</td>\n",
       "      <td>24.0</td>\n",
       "      <td>10049000391</td>\n",
       "      <td>33</td>\n",
       "    </tr>\n",
       "    <tr>\n",
       "      <th>1919</th>\n",
       "      <td>2409208</td>\n",
       "      <td>10647-2020-001</td>\n",
       "      <td>11521.0</td>\n",
       "      <td>Kenyatta National Hospial Lab, Nairobi</td>\n",
       "      <td>Kirinyaga</td>\n",
       "      <td>Kirinyaga North/Mwea West</td>\n",
       "      <td>UON CRISSP+</td>\n",
       "      <td>Kangaru Dispensary (Kirinyaga)</td>\n",
       "      <td>10468</td>\n",
       "      <td>Female</td>\n",
       "      <td>2019-11-22</td>\n",
       "      <td>12.0</td>\n",
       "      <td>3rd PCR (12 months)</td>\n",
       "      <td>1046800215</td>\n",
       "      <td>2020-11-13</td>\n",
       "      <td>2020-11-23</td>\n",
       "      <td>2020-11-25</td>\n",
       "      <td>2020-12-04</td>\n",
       "      <td>AZT for 6 weeks + NVP for &gt;12 weeks</td>\n",
       "      <td>Accepted</td>\n",
       "      <td>NaN</td>\n",
       "      <td>NaN</td>\n",
       "      <td>4.0</td>\n",
       "      <td>NBF</td>\n",
       "      <td>MCH/PMTCT</td>\n",
       "      <td>Positive</td>\n",
       "      <td>PM12:TDF+3TC+DTG</td>\n",
       "      <td>Positive</td>\n",
       "      <td>39.0</td>\n",
       "      <td>NaN</td>\n",
       "      <td>LDL</td>\n",
       "    </tr>\n",
       "  </tbody>\n",
       "</table>\n",
       "</div>"
      ],
      "text/plain": [
       "      System ID        Sample ID    Batch  \\\n",
       "1993    2425878  10520-2020-0039  11978.0   \n",
       "1994    2425879  10520-2020-0040  11978.0   \n",
       "2116    2405412   10565-2020-013  11411.0   \n",
       "2407    2469131   10798-2021-007  13928.0   \n",
       "2420    2403940  10975-2020-0003  11071.0   \n",
       "1777    2449388   10049-2020-007  12776.0   \n",
       "1919    2409208   10647-2020-001  11521.0   \n",
       "\n",
       "                               Lab Tested In     County  \\\n",
       "1993  Kenyatta National Hospial Lab, Nairobi  Kirinyaga   \n",
       "1994  Kenyatta National Hospial Lab, Nairobi  Kirinyaga   \n",
       "2116  Kenyatta National Hospial Lab, Nairobi  Kirinyaga   \n",
       "2407  Kenyatta National Hospial Lab, Nairobi  Kirinyaga   \n",
       "2420  Kenyatta National Hospial Lab, Nairobi  Kirinyaga   \n",
       "1777  Kenyatta National Hospial Lab, Nairobi  Kirinyaga   \n",
       "1919  Kenyatta National Hospial Lab, Nairobi  Kirinyaga   \n",
       "\n",
       "                     Sub-County      Partner                         Facilty  \\\n",
       "1993          Kirinyaga Central  UON CRISSP+      Kerugoya District Hospital   \n",
       "1994          Kirinyaga Central  UON CRISSP+      Kerugoya District Hospital   \n",
       "2116             Kirinyaga East  UON CRISSP+  Kianyaga Sub-District Hospital   \n",
       "2407            Kirinyaga North  UON CRISSP+           Mutithi Health Centre   \n",
       "2420            Kirinyaga North  UON CRISSP+              Rukanga Dispensary   \n",
       "1777  Kirinyaga North/Mwea West  UON CRISSP+           Baricho Health Centre   \n",
       "1919  Kirinyaga North/Mwea West  UON CRISSP+  Kangaru Dispensary (Kirinyaga)   \n",
       "\n",
       "      Facility Code  Gender         DOB  Age (Months)  \\\n",
       "1993          10520  Female  2020-11-12           2.0   \n",
       "1994          10520  Female  2020-11-14           2.0   \n",
       "2116          10565    Male  2020-09-19           2.0   \n",
       "2407          10798    Male  2021-05-03           2.0   \n",
       "2420          10975    Male  2020-08-26           2.0   \n",
       "1777          10049  Female  2020-02-17          12.0   \n",
       "1919          10468  Female  2019-11-22          12.0   \n",
       "\n",
       "                                   PCR Type Enrollment CCC No Date Collected  \\\n",
       "1993  Initial PCR (6 week or first contact)        1052004755     2020-12-28   \n",
       "1994  Initial PCR (6 week or first contact)        1052004758     2020-12-28   \n",
       "2116  Initial PCR (6 week or first contact)        1056500857     2020-11-09   \n",
       "2407  Initial PCR (6 week or first contact)        1079800390     2021-06-17   \n",
       "2420  Initial PCR (6 week or first contact)        1097500050     2020-10-13   \n",
       "1777                    3rd PCR (12 months)        1004900457     2021-02-17   \n",
       "1919                    3rd PCR (12 months)        1046800215     2020-11-13   \n",
       "\n",
       "     Date Received Date Tested Date Dispatched  \\\n",
       "1993    2020-12-31  2021-01-28      2021-01-28   \n",
       "1994    2020-12-31  2021-01-28      2021-01-28   \n",
       "2116    2020-11-13  2020-11-23      2020-11-24   \n",
       "2407    2021-06-18  2021-06-25      2021-06-29   \n",
       "2420    2020-10-19  2020-10-28      2020-10-28   \n",
       "1777    2021-02-24  2021-05-19      2021-05-19   \n",
       "1919    2020-11-23  2020-11-25      2020-12-04   \n",
       "\n",
       "                        Infant Prophylaxis Received Status  Lab Comment  \\\n",
       "1993  AZT for 6 weeks + NVP for >12 weeks         Accepted          NaN   \n",
       "1994  AZT for 6 weeks + NVP for >12 weeks         Accepted          NaN   \n",
       "2116                                  None        Accepted          NaN   \n",
       "2407  AZT for 6 weeks + NVP for >12 weeks         Accepted          NaN   \n",
       "2420  AZT for 6 weeks + NVP for >12 weeks         Accepted          NaN   \n",
       "1777                                Others        Accepted          NaN   \n",
       "1919  AZT for 6 weeks + NVP for >12 weeks         Accepted          NaN   \n",
       "\n",
       "      Reason for Repeat  Spots Feeding Entry Point    Result  \\\n",
       "1993                NaN    4.0     EBF   MCH/PMTCT  Positive   \n",
       "1994                NaN    4.0     EBF   MCH/PMTCT  Positive   \n",
       "2116                NaN    4.0     EBF   MCH/PMTCT  Positive   \n",
       "2407                NaN    5.0     EBF   MCH/PMTCT  Positive   \n",
       "2420                NaN    4.0     MBF   MCH/PMTCT  Positive   \n",
       "1777                NaN    4.0     MBF   MCH/PMTCT  Positive   \n",
       "1919                NaN    4.0     NBF   MCH/PMTCT  Positive   \n",
       "\n",
       "     PMTCT Intervention Mother Result  Mother Age Mother CCC No Mother Last VL  \n",
       "1993   PM12:TDF+3TC+DTG           NaN        32.0            67            LDL  \n",
       "1994   PM12:TDF+3TC+DTG           NaN        37.0          4719            NaN  \n",
       "2116        PM13 : None      Positive        27.0           NaN            NaN  \n",
       "2407            No Data      Negative        21.0           NaN            NaN  \n",
       "2420   PM12:TDF+3TC+DTG      Positive        23.0           NaN            NaN  \n",
       "1777   PM12:TDF+3TC+DTG           NaN        24.0   10049000391             33  \n",
       "1919   PM12:TDF+3TC+DTG      Positive        39.0           NaN            LDL  "
      ]
     },
     "execution_count": 30,
     "metadata": {},
     "output_type": "execute_result"
    }
   ],
   "source": [
    "total_positives.sort_values('County')\n",
    "total_positives"
   ]
  },
  {
   "cell_type": "markdown",
   "metadata": {},
   "source": [
    "##### Available details for children with positive PCR "
   ]
  },
  {
   "cell_type": "code",
   "execution_count": 31,
   "metadata": {
    "ExecuteTime": {
     "end_time": "2021-09-16T18:18:04.850613Z",
     "start_time": "2021-09-16T18:18:04.687712Z"
    }
   },
   "outputs": [
    {
     "data": {
      "text/html": [
       "<div>\n",
       "<style scoped>\n",
       "    .dataframe tbody tr th:only-of-type {\n",
       "        vertical-align: middle;\n",
       "    }\n",
       "\n",
       "    .dataframe tbody tr th {\n",
       "        vertical-align: top;\n",
       "    }\n",
       "\n",
       "    .dataframe thead th {\n",
       "        text-align: right;\n",
       "    }\n",
       "</style>\n",
       "<table border=\"1\" class=\"dataframe\">\n",
       "  <thead>\n",
       "    <tr style=\"text-align: right;\">\n",
       "      <th></th>\n",
       "      <th>County</th>\n",
       "      <th>Facilty</th>\n",
       "      <th>Gender</th>\n",
       "      <th>DOB</th>\n",
       "      <th>Age</th>\n",
       "      <th>Feeding</th>\n",
       "      <th>Date Collected</th>\n",
       "      <th>Date Tested</th>\n",
       "      <th>Infant Prophylaxis</th>\n",
       "    </tr>\n",
       "  </thead>\n",
       "  <tbody>\n",
       "    <tr>\n",
       "      <th>0</th>\n",
       "      <td>Kirinyaga</td>\n",
       "      <td>Kerugoya District Hospital</td>\n",
       "      <td>Female</td>\n",
       "      <td>2020-11-12</td>\n",
       "      <td>&lt; 2</td>\n",
       "      <td>EBF</td>\n",
       "      <td>2020-12-28</td>\n",
       "      <td>2021-01-28</td>\n",
       "      <td>AZT for 6 weeks + NVP for &gt;12 weeks</td>\n",
       "    </tr>\n",
       "    <tr>\n",
       "      <th>1</th>\n",
       "      <td>Kirinyaga</td>\n",
       "      <td>Kerugoya District Hospital</td>\n",
       "      <td>Female</td>\n",
       "      <td>2020-11-14</td>\n",
       "      <td>&lt; 2</td>\n",
       "      <td>EBF</td>\n",
       "      <td>2020-12-28</td>\n",
       "      <td>2021-01-28</td>\n",
       "      <td>AZT for 6 weeks + NVP for &gt;12 weeks</td>\n",
       "    </tr>\n",
       "    <tr>\n",
       "      <th>2</th>\n",
       "      <td>Kirinyaga</td>\n",
       "      <td>Kianyaga Sub-District Hospital</td>\n",
       "      <td>Male</td>\n",
       "      <td>2020-09-19</td>\n",
       "      <td>&lt; 2</td>\n",
       "      <td>EBF</td>\n",
       "      <td>2020-11-09</td>\n",
       "      <td>2020-11-23</td>\n",
       "      <td>None</td>\n",
       "    </tr>\n",
       "    <tr>\n",
       "      <th>3</th>\n",
       "      <td>Kirinyaga</td>\n",
       "      <td>Mutithi Health Centre</td>\n",
       "      <td>Male</td>\n",
       "      <td>2021-05-03</td>\n",
       "      <td>&lt; 2</td>\n",
       "      <td>EBF</td>\n",
       "      <td>2021-06-17</td>\n",
       "      <td>2021-06-25</td>\n",
       "      <td>AZT for 6 weeks + NVP for &gt;12 weeks</td>\n",
       "    </tr>\n",
       "    <tr>\n",
       "      <th>4</th>\n",
       "      <td>Kirinyaga</td>\n",
       "      <td>Rukanga Dispensary</td>\n",
       "      <td>Male</td>\n",
       "      <td>2020-08-26</td>\n",
       "      <td>&lt; 2</td>\n",
       "      <td>MBF</td>\n",
       "      <td>2020-10-13</td>\n",
       "      <td>2020-10-28</td>\n",
       "      <td>AZT for 6 weeks + NVP for &gt;12 weeks</td>\n",
       "    </tr>\n",
       "    <tr>\n",
       "      <th>5</th>\n",
       "      <td>Kirinyaga</td>\n",
       "      <td>Baricho Health Centre</td>\n",
       "      <td>Female</td>\n",
       "      <td>2020-02-17</td>\n",
       "      <td>2-12</td>\n",
       "      <td>MBF</td>\n",
       "      <td>2021-02-17</td>\n",
       "      <td>2021-05-19</td>\n",
       "      <td>Others</td>\n",
       "    </tr>\n",
       "    <tr>\n",
       "      <th>6</th>\n",
       "      <td>Kirinyaga</td>\n",
       "      <td>Kangaru Dispensary (Kirinyaga)</td>\n",
       "      <td>Female</td>\n",
       "      <td>2019-11-22</td>\n",
       "      <td>2-12</td>\n",
       "      <td>NBF</td>\n",
       "      <td>2020-11-13</td>\n",
       "      <td>2020-11-25</td>\n",
       "      <td>AZT for 6 weeks + NVP for &gt;12 weeks</td>\n",
       "    </tr>\n",
       "  </tbody>\n",
       "</table>\n",
       "</div>"
      ],
      "text/plain": [
       "      County                         Facilty  Gender         DOB   Age  \\\n",
       "0  Kirinyaga      Kerugoya District Hospital  Female  2020-11-12   < 2   \n",
       "1  Kirinyaga      Kerugoya District Hospital  Female  2020-11-14   < 2   \n",
       "2  Kirinyaga  Kianyaga Sub-District Hospital    Male  2020-09-19   < 2   \n",
       "3  Kirinyaga           Mutithi Health Centre    Male  2021-05-03   < 2   \n",
       "4  Kirinyaga              Rukanga Dispensary    Male  2020-08-26   < 2   \n",
       "5  Kirinyaga           Baricho Health Centre  Female  2020-02-17  2-12   \n",
       "6  Kirinyaga  Kangaru Dispensary (Kirinyaga)  Female  2019-11-22  2-12   \n",
       "\n",
       "  Feeding Date Collected Date Tested                    Infant Prophylaxis  \n",
       "0     EBF     2020-12-28  2021-01-28  AZT for 6 weeks + NVP for >12 weeks   \n",
       "1     EBF     2020-12-28  2021-01-28  AZT for 6 weeks + NVP for >12 weeks   \n",
       "2     EBF     2020-11-09  2020-11-23                                  None  \n",
       "3     EBF     2021-06-17  2021-06-25  AZT for 6 weeks + NVP for >12 weeks   \n",
       "4     MBF     2020-10-13  2020-10-28  AZT for 6 weeks + NVP for >12 weeks   \n",
       "5     MBF     2021-02-17  2021-05-19                                Others  \n",
       "6     NBF     2020-11-13  2020-11-25  AZT for 6 weeks + NVP for >12 weeks   "
      ]
     },
     "execution_count": 31,
     "metadata": {},
     "output_type": "execute_result"
    }
   ],
   "source": [
    "total_positives['Age'] = total_positives['Age (Months)'].apply(age_buckets)\n",
    "available_children_info=total_positives[[\"County\",\"Facilty\",\"Gender\",\"DOB\",\"Age\",\"Feeding\",\"Date Collected\",\"Date Tested\",\n",
    "                                         \"Infant Prophylaxis\"]]\n",
    "available_children_info.reset_index(drop=True, inplace=True)\n",
    "available_children_info"
   ]
  },
  {
   "cell_type": "markdown",
   "metadata": {},
   "source": [
    "##### Available details for mothers with positive PCR babies"
   ]
  },
  {
   "cell_type": "code",
   "execution_count": 32,
   "metadata": {
    "ExecuteTime": {
     "end_time": "2021-09-16T18:18:05.163769Z",
     "start_time": "2021-09-16T18:18:04.854608Z"
    }
   },
   "outputs": [
    {
     "data": {
      "text/html": [
       "<div>\n",
       "<style scoped>\n",
       "    .dataframe tbody tr th:only-of-type {\n",
       "        vertical-align: middle;\n",
       "    }\n",
       "\n",
       "    .dataframe tbody tr th {\n",
       "        vertical-align: top;\n",
       "    }\n",
       "\n",
       "    .dataframe thead th {\n",
       "        text-align: right;\n",
       "    }\n",
       "</style>\n",
       "<table border=\"1\" class=\"dataframe\">\n",
       "  <thead>\n",
       "    <tr style=\"text-align: right;\">\n",
       "      <th></th>\n",
       "      <th>Facilty</th>\n",
       "      <th>Entry Point</th>\n",
       "      <th>PMTCT Intervention</th>\n",
       "      <th>Mother Age</th>\n",
       "      <th>Mother Last VL</th>\n",
       "      <th>Mother CCC No</th>\n",
       "    </tr>\n",
       "  </thead>\n",
       "  <tbody>\n",
       "    <tr>\n",
       "      <th>0</th>\n",
       "      <td>Kerugoya District Hospital</td>\n",
       "      <td>MCH/PMTCT</td>\n",
       "      <td>PM12:TDF+3TC+DTG</td>\n",
       "      <td>32.0</td>\n",
       "      <td>LDL</td>\n",
       "      <td>67</td>\n",
       "    </tr>\n",
       "    <tr>\n",
       "      <th>1</th>\n",
       "      <td>Kerugoya District Hospital</td>\n",
       "      <td>MCH/PMTCT</td>\n",
       "      <td>PM12:TDF+3TC+DTG</td>\n",
       "      <td>37.0</td>\n",
       "      <td>0</td>\n",
       "      <td>4719</td>\n",
       "    </tr>\n",
       "    <tr>\n",
       "      <th>2</th>\n",
       "      <td>Kianyaga Sub-District Hospital</td>\n",
       "      <td>MCH/PMTCT</td>\n",
       "      <td>PM13 : None</td>\n",
       "      <td>27.0</td>\n",
       "      <td>0</td>\n",
       "      <td>0</td>\n",
       "    </tr>\n",
       "    <tr>\n",
       "      <th>3</th>\n",
       "      <td>Mutithi Health Centre</td>\n",
       "      <td>MCH/PMTCT</td>\n",
       "      <td>No Data</td>\n",
       "      <td>21.0</td>\n",
       "      <td>0</td>\n",
       "      <td>0</td>\n",
       "    </tr>\n",
       "    <tr>\n",
       "      <th>4</th>\n",
       "      <td>Rukanga Dispensary</td>\n",
       "      <td>MCH/PMTCT</td>\n",
       "      <td>PM12:TDF+3TC+DTG</td>\n",
       "      <td>23.0</td>\n",
       "      <td>0</td>\n",
       "      <td>0</td>\n",
       "    </tr>\n",
       "    <tr>\n",
       "      <th>5</th>\n",
       "      <td>Baricho Health Centre</td>\n",
       "      <td>MCH/PMTCT</td>\n",
       "      <td>PM12:TDF+3TC+DTG</td>\n",
       "      <td>24.0</td>\n",
       "      <td>33</td>\n",
       "      <td>10049000391</td>\n",
       "    </tr>\n",
       "    <tr>\n",
       "      <th>6</th>\n",
       "      <td>Kangaru Dispensary (Kirinyaga)</td>\n",
       "      <td>MCH/PMTCT</td>\n",
       "      <td>PM12:TDF+3TC+DTG</td>\n",
       "      <td>39.0</td>\n",
       "      <td>LDL</td>\n",
       "      <td>0</td>\n",
       "    </tr>\n",
       "  </tbody>\n",
       "</table>\n",
       "</div>"
      ],
      "text/plain": [
       "                          Facilty Entry Point PMTCT Intervention  Mother Age  \\\n",
       "0      Kerugoya District Hospital   MCH/PMTCT   PM12:TDF+3TC+DTG        32.0   \n",
       "1      Kerugoya District Hospital   MCH/PMTCT   PM12:TDF+3TC+DTG        37.0   \n",
       "2  Kianyaga Sub-District Hospital   MCH/PMTCT        PM13 : None        27.0   \n",
       "3           Mutithi Health Centre   MCH/PMTCT            No Data        21.0   \n",
       "4              Rukanga Dispensary   MCH/PMTCT   PM12:TDF+3TC+DTG        23.0   \n",
       "5           Baricho Health Centre   MCH/PMTCT   PM12:TDF+3TC+DTG        24.0   \n",
       "6  Kangaru Dispensary (Kirinyaga)   MCH/PMTCT   PM12:TDF+3TC+DTG        39.0   \n",
       "\n",
       "  Mother Last VL Mother CCC No  \n",
       "0            LDL            67  \n",
       "1              0          4719  \n",
       "2              0             0  \n",
       "3              0             0  \n",
       "4              0             0  \n",
       "5             33   10049000391  \n",
       "6            LDL             0  "
      ]
     },
     "execution_count": 32,
     "metadata": {},
     "output_type": "execute_result"
    }
   ],
   "source": [
    "available_maternal_info=total_positives[[\"Facilty\",\"Entry Point\",\"PMTCT Intervention\",\"Mother Age\",\"Mother Last VL\",\n",
    "                                         \"Mother CCC No\"]]\n",
    "available_maternal_info.reset_index(drop=True, inplace=True)\n",
    "available_maternal_info.fillna(0)"
   ]
  },
  {
   "cell_type": "markdown",
   "metadata": {},
   "source": [
    "##### Subcounties with positive PCR"
   ]
  },
  {
   "cell_type": "code",
   "execution_count": 33,
   "metadata": {
    "ExecuteTime": {
     "end_time": "2021-09-16T18:18:05.274494Z",
     "start_time": "2021-09-16T18:18:05.169767Z"
    }
   },
   "outputs": [
    {
     "name": "stdout",
     "output_type": "stream",
     "text": [
      "Kirinyaga Central\n",
      "Kirinyaga East\n",
      "Kirinyaga North\n",
      "Kirinyaga North/Mwea West\n"
     ]
    }
   ],
   "source": [
    "for subcounty in total_positives['Sub-County'].unique():\n",
    "    print(subcounty)"
   ]
  },
  {
   "cell_type": "markdown",
   "metadata": {},
   "source": [
    "##### Confirmatory PCRs"
   ]
  },
  {
   "cell_type": "code",
   "execution_count": 34,
   "metadata": {
    "ExecuteTime": {
     "end_time": "2021-09-16T18:18:05.432605Z",
     "start_time": "2021-09-16T18:18:05.280444Z"
    }
   },
   "outputs": [
    {
     "data": {
      "text/html": [
       "<div>\n",
       "<style scoped>\n",
       "    .dataframe tbody tr th:only-of-type {\n",
       "        vertical-align: middle;\n",
       "    }\n",
       "\n",
       "    .dataframe tbody tr th {\n",
       "        vertical-align: top;\n",
       "    }\n",
       "\n",
       "    .dataframe thead th {\n",
       "        text-align: right;\n",
       "    }\n",
       "</style>\n",
       "<table border=\"1\" class=\"dataframe\">\n",
       "  <thead>\n",
       "    <tr style=\"text-align: right;\">\n",
       "      <th></th>\n",
       "      <th>PCR type</th>\n",
       "      <th>Count</th>\n",
       "    </tr>\n",
       "  </thead>\n",
       "  <tbody>\n",
       "    <tr>\n",
       "      <th>0</th>\n",
       "      <td>Confirmatory PCR and Baseline VL</td>\n",
       "      <td>3</td>\n",
       "    </tr>\n",
       "  </tbody>\n",
       "</table>\n",
       "</div>"
      ],
      "text/plain": [
       "                           PCR type  Count\n",
       "0  Confirmatory PCR and Baseline VL      3"
      ]
     },
     "execution_count": 34,
     "metadata": {},
     "output_type": "execute_result"
    }
   ],
   "source": [
    "df7=df[(df['Age (Months)'] >2) & (df['Age (Months)'] <=12) &(df['Result'] == 'Positive') &\n",
    "       (df['PCR Type'] == 'Confirmatory PCR and Baseline VL')]\n",
    "get_results(df7)"
   ]
  },
  {
   "cell_type": "markdown",
   "metadata": {},
   "source": [
    "##### Total number initial PCR done after 2 months of age"
   ]
  },
  {
   "cell_type": "code",
   "execution_count": 35,
   "metadata": {
    "ExecuteTime": {
     "end_time": "2021-09-16T18:18:05.670454Z",
     "start_time": "2021-09-16T18:18:05.443592Z"
    }
   },
   "outputs": [
    {
     "data": {
      "text/html": [
       "<div>\n",
       "<style scoped>\n",
       "    .dataframe tbody tr th:only-of-type {\n",
       "        vertical-align: middle;\n",
       "    }\n",
       "\n",
       "    .dataframe tbody tr th {\n",
       "        vertical-align: top;\n",
       "    }\n",
       "\n",
       "    .dataframe thead th {\n",
       "        text-align: right;\n",
       "    }\n",
       "</style>\n",
       "<table border=\"1\" class=\"dataframe\">\n",
       "  <thead>\n",
       "    <tr style=\"text-align: right;\">\n",
       "      <th></th>\n",
       "      <th>PCR type</th>\n",
       "      <th>Count</th>\n",
       "    </tr>\n",
       "  </thead>\n",
       "  <tbody>\n",
       "    <tr>\n",
       "      <th>0</th>\n",
       "      <td>Initial PCR (6 week or first contact)</td>\n",
       "      <td>63</td>\n",
       "    </tr>\n",
       "  </tbody>\n",
       "</table>\n",
       "</div>"
      ],
      "text/plain": [
       "                                PCR type  Count\n",
       "0  Initial PCR (6 week or first contact)     63"
      ]
     },
     "execution_count": 35,
     "metadata": {},
     "output_type": "execute_result"
    }
   ],
   "source": [
    "df5=df[(df['Age (Months)'] >2) & (df['PCR Type'] ==\"Initial PCR (6 week or first contact)\")]\n",
    "get_results(df5)"
   ]
  },
  {
   "cell_type": "markdown",
   "metadata": {},
   "source": [
    "##### Facilities with initial PCR after 2 months"
   ]
  },
  {
   "cell_type": "code",
   "execution_count": 36,
   "metadata": {
    "ExecuteTime": {
     "end_time": "2021-09-16T18:18:05.750402Z",
     "start_time": "2021-09-16T18:18:05.676448Z"
    }
   },
   "outputs": [
    {
     "data": {
      "text/html": [
       "<div>\n",
       "<style scoped>\n",
       "    .dataframe tbody tr th:only-of-type {\n",
       "        vertical-align: middle;\n",
       "    }\n",
       "\n",
       "    .dataframe tbody tr th {\n",
       "        vertical-align: top;\n",
       "    }\n",
       "\n",
       "    .dataframe thead th {\n",
       "        text-align: right;\n",
       "    }\n",
       "</style>\n",
       "<table border=\"1\" class=\"dataframe\">\n",
       "  <thead>\n",
       "    <tr style=\"text-align: right;\">\n",
       "      <th>col_0</th>\n",
       "      <th>Facilty</th>\n",
       "      <th>Count</th>\n",
       "    </tr>\n",
       "  </thead>\n",
       "  <tbody>\n",
       "    <tr>\n",
       "      <th>9</th>\n",
       "      <td>Kerugoya District Hospital</td>\n",
       "      <td>11</td>\n",
       "    </tr>\n",
       "    <tr>\n",
       "      <th>12</th>\n",
       "      <td>Kimbimbi Sub-District Hospital</td>\n",
       "      <td>9</td>\n",
       "    </tr>\n",
       "    <tr>\n",
       "      <th>13</th>\n",
       "      <td>Kiumbu Health Centre</td>\n",
       "      <td>8</td>\n",
       "    </tr>\n",
       "    <tr>\n",
       "      <th>18</th>\n",
       "      <td>Sagana Rural Health Demonstration Centre</td>\n",
       "      <td>6</td>\n",
       "    </tr>\n",
       "    <tr>\n",
       "      <th>0</th>\n",
       "      <td>Baricho Health Centre</td>\n",
       "      <td>4</td>\n",
       "    </tr>\n",
       "    <tr>\n",
       "      <th>19</th>\n",
       "      <td>Thiba Dispensary</td>\n",
       "      <td>3</td>\n",
       "    </tr>\n",
       "    <tr>\n",
       "      <th>17</th>\n",
       "      <td>Rukanga Dispensary</td>\n",
       "      <td>3</td>\n",
       "    </tr>\n",
       "    <tr>\n",
       "      <th>5</th>\n",
       "      <td>Kagumo Health Centre</td>\n",
       "      <td>2</td>\n",
       "    </tr>\n",
       "    <tr>\n",
       "      <th>6</th>\n",
       "      <td>Kandongu Dispensary</td>\n",
       "      <td>2</td>\n",
       "    </tr>\n",
       "    <tr>\n",
       "      <th>7</th>\n",
       "      <td>Kangaru Dispensary (Kirinyaga)</td>\n",
       "      <td>2</td>\n",
       "    </tr>\n",
       "    <tr>\n",
       "      <th>15</th>\n",
       "      <td>Murinduko Health Centre</td>\n",
       "      <td>2</td>\n",
       "    </tr>\n",
       "    <tr>\n",
       "      <th>14</th>\n",
       "      <td>Mt. Kenya (ACK) Hospital</td>\n",
       "      <td>2</td>\n",
       "    </tr>\n",
       "    <tr>\n",
       "      <th>16</th>\n",
       "      <td>Mutithi Health Centre</td>\n",
       "      <td>1</td>\n",
       "    </tr>\n",
       "    <tr>\n",
       "      <th>10</th>\n",
       "      <td>Kiamutugu Health Centre</td>\n",
       "      <td>1</td>\n",
       "    </tr>\n",
       "    <tr>\n",
       "      <th>11</th>\n",
       "      <td>Kibirigwi Dispensary</td>\n",
       "      <td>1</td>\n",
       "    </tr>\n",
       "    <tr>\n",
       "      <th>1</th>\n",
       "      <td>Difathas Health Centre</td>\n",
       "      <td>1</td>\n",
       "    </tr>\n",
       "    <tr>\n",
       "      <th>8</th>\n",
       "      <td>Kangu Dispensary</td>\n",
       "      <td>1</td>\n",
       "    </tr>\n",
       "    <tr>\n",
       "      <th>4</th>\n",
       "      <td>Kabare Health Centre</td>\n",
       "      <td>1</td>\n",
       "    </tr>\n",
       "    <tr>\n",
       "      <th>3</th>\n",
       "      <td>Gathigiriri Dispensary</td>\n",
       "      <td>1</td>\n",
       "    </tr>\n",
       "    <tr>\n",
       "      <th>2</th>\n",
       "      <td>Gathambi Dispensary</td>\n",
       "      <td>1</td>\n",
       "    </tr>\n",
       "    <tr>\n",
       "      <th>20</th>\n",
       "      <td>Ucheru Community Health Centre</td>\n",
       "      <td>1</td>\n",
       "    </tr>\n",
       "  </tbody>\n",
       "</table>\n",
       "</div>"
      ],
      "text/plain": [
       "col_0                                   Facilty  Count\n",
       "9                    Kerugoya District Hospital     11\n",
       "12               Kimbimbi Sub-District Hospital      9\n",
       "13                         Kiumbu Health Centre      8\n",
       "18     Sagana Rural Health Demonstration Centre      6\n",
       "0                         Baricho Health Centre      4\n",
       "19                             Thiba Dispensary      3\n",
       "17                           Rukanga Dispensary      3\n",
       "5                          Kagumo Health Centre      2\n",
       "6                           Kandongu Dispensary      2\n",
       "7                Kangaru Dispensary (Kirinyaga)      2\n",
       "15                      Murinduko Health Centre      2\n",
       "14                     Mt. Kenya (ACK) Hospital      2\n",
       "16                        Mutithi Health Centre      1\n",
       "10                      Kiamutugu Health Centre      1\n",
       "11                         Kibirigwi Dispensary      1\n",
       "1                        Difathas Health Centre      1\n",
       "8                              Kangu Dispensary      1\n",
       "4                          Kabare Health Centre      1\n",
       "3                        Gathigiriri Dispensary      1\n",
       "2                           Gathambi Dispensary      1\n",
       "20               Ucheru Community Health Centre      1"
      ]
     },
     "execution_count": 36,
     "metadata": {},
     "output_type": "execute_result"
    }
   ],
   "source": [
    "initial_pcr_less2months=pd.crosstab(df5['Facilty'], columns='Count').reset_index()\n",
    "initial_pcr_less2months\n",
    "initial_pcr_less2months.sort_values('Count',ascending=False)"
   ]
  },
  {
   "cell_type": "markdown",
   "metadata": {},
   "source": [
    "##### PCR Turn Around Time (collection to dispatch)\n",
    "- These are business days. Weekends have been excluded"
   ]
  },
  {
   "cell_type": "code",
   "execution_count": 37,
   "metadata": {
    "ExecuteTime": {
     "end_time": "2021-09-16T18:18:05.828771Z",
     "start_time": "2021-09-16T18:18:05.755397Z"
    }
   },
   "outputs": [
    {
     "data": {
      "text/plain": [
       "(656, 31)"
      ]
     },
     "execution_count": 37,
     "metadata": {},
     "output_type": "execute_result"
    }
   ],
   "source": [
    "df.shape"
   ]
  },
  {
   "cell_type": "code",
   "execution_count": 38,
   "metadata": {
    "ExecuteTime": {
     "end_time": "2021-09-16T18:18:06.001210Z",
     "start_time": "2021-09-16T18:18:05.831752Z"
    },
    "scrolled": false
   },
   "outputs": [],
   "source": [
    "# convert columns containing date to date data type\n",
    "df.loc[:,'Date Dispatched'] = pd.to_datetime(df['Date Dispatched'])\n",
    "df.loc[:,'Date Collected'] = pd.to_datetime(df['Date Collected'])\n",
    "df.loc[:,'Date Received'] = pd.to_datetime(df['Date Received'])\n",
    "df.loc[:,'Date Tested'] = pd.to_datetime(df['Date Tested'])\n",
    "\n",
    "# collected_not_null = pd.notnull(df['Date Collected'])\n",
    "\n",
    "\n",
    "# df['Date Dispatched'] = df['Date Dispatched'].values.astype('datetime64[D]')\n",
    "# df['Date Collected'] = df['Date Collected'].values.astype('datetime64[D]')\n",
    "# df['Date Received'] = df['Date Received'].values.astype('datetime64[D]')\n",
    "# df['Date Tested'] = df['Date Tested'].values.astype('datetime64[D]')\n",
    "\n",
    "# date1 = pd.to_datetime(date1,format=\"%d/%m/%Y\").date()\n",
    "# date2 = pd.to_datetime(date2,format=\"%d/%m/%Y\").date()\n",
    "\n",
    "# days = np.busday_count( date1 , date2)\n",
    "# df['Date Collected'] = df['Date Collected'].dt.strftime('%Y-%m-%d')\n",
    "# df['Date Dispatched'] = df['Date Dispatched'].dt.strftime('%Y-%m-%d')\n",
    "\n",
    "\n",
    "# add TAT column\n",
    "df['TAT(days)']=df['Date Dispatched']-df['Date Collected']\n",
    "\n",
    "# Remove days in TAT column\n",
    "df['TAT(days)']=df['TAT(days)'].astype('timedelta64[D]')\n",
    "all_results_tat=df.copy()\n",
    "# find the average of TAT grouped by facilities\n",
    "turn_around_time=round(df.groupby(['Facilty']).mean()['TAT(days)'],)\n",
    "df[df[\"Facilty\"]==\"Baricho Health Centre\"]\n",
    "turn_around_time\n",
    "\n",
    "df.head()\n",
    "# convert results into a dataframe and sort TAT column Z-A\n",
    "tat=pd.DataFrame(turn_around_time).sort_values('TAT(days)',ascending=False).reset_index()\n",
    "# tat.head()\n",
    "# df.head()"
   ]
  },
  {
   "cell_type": "code",
   "execution_count": 39,
   "metadata": {
    "ExecuteTime": {
     "end_time": "2021-09-16T18:18:06.064126Z",
     "start_time": "2021-09-16T18:18:06.011158Z"
    }
   },
   "outputs": [],
   "source": [
    "def convert_to_business_days(tat):\n",
    "    tat.columns=['Facilty','TAT(days)']\n",
    "    original_columns=tat.columns\n",
    "    tat['weeks']=round(tat['TAT(days)']/7,)\n",
    "    tat['multiplier']=2\n",
    "    tat['weekends days']=tat['weeks']*tat['multiplier']\n",
    "    tat['business days']=tat['TAT(days)']-tat['weekends days']\n",
    "    final_column=[]\n",
    "    for column in original_columns:\n",
    "        final_column.append(column)\n",
    "\n",
    "    added_columns=['weeks','multiplier','weekends days',\"business days\"]\n",
    "    final_column.extend(added_columns)\n",
    "    # tat.columns=\n",
    "    # tat\n",
    "    final_column\n",
    "    tat = tat.set_axis(final_column, axis=1, inplace=False)\n",
    "    tat=tat[['Facilty','business days']]\n",
    "    tat.columns=['Facility','TAT']\n",
    "    tat['TAT']=tat['TAT'].astype(int)\n",
    "    return tat"
   ]
  },
  {
   "cell_type": "code",
   "execution_count": 40,
   "metadata": {
    "ExecuteTime": {
     "end_time": "2021-09-16T18:18:06.330482Z",
     "start_time": "2021-09-16T18:18:06.070121Z"
    }
   },
   "outputs": [
    {
     "name": "stdout",
     "output_type": "stream",
     "text": [
      "Calculated, check below\n",
      "===================================================================================================\n"
     ]
    }
   ],
   "source": [
    "convert_to_business_days(tat)\n",
    "print(\"Calculated, check below\\n===================================================================================================\")"
   ]
  },
  {
   "cell_type": "markdown",
   "metadata": {},
   "source": [
    "#### Average Collection to NASCOP receipt (Sending samples)"
   ]
  },
  {
   "cell_type": "code",
   "execution_count": 41,
   "metadata": {
    "ExecuteTime": {
     "end_time": "2021-09-16T18:18:06.488439Z",
     "start_time": "2021-09-16T18:18:06.336439Z"
    },
    "scrolled": false
   },
   "outputs": [
    {
     "name": "stdout",
     "output_type": "stream",
     "text": [
      "Calculated, check below\n",
      "===================================================================================================\n"
     ]
    }
   ],
   "source": [
    "# add TAT column\n",
    "df['days spent for NASCOP to receive samples']=df['Date Received']-df['Date Collected']\n",
    "\n",
    "# Remove days in TAT column\n",
    "df['days spent for NASCOP to receive samples']=df['days spent for NASCOP to receive samples'].astype('timedelta64[D]')\n",
    "\n",
    "# find the average of TAT grouped by facilities\n",
    "turn_around_time=round(df.groupby(['Facilty']).mean()['days spent for NASCOP to receive samples'],)\n",
    "\n",
    "# convert results into a dataframe and sort TAT column Z-A\n",
    "sending=pd.DataFrame(turn_around_time).sort_values('days spent for NASCOP to receive samples',ascending=False).reset_index()\n",
    "convert_to_business_days(sending)\n",
    "print(\"Calculated, check below\\n===================================================================================================\")"
   ]
  },
  {
   "cell_type": "markdown",
   "metadata": {},
   "source": [
    "#### Processing at NASCOP (Receipt to dispatch)"
   ]
  },
  {
   "cell_type": "code",
   "execution_count": 42,
   "metadata": {
    "ExecuteTime": {
     "end_time": "2021-09-16T18:18:06.600356Z",
     "start_time": "2021-09-16T18:18:06.499415Z"
    },
    "scrolled": true
   },
   "outputs": [
    {
     "name": "stdout",
     "output_type": "stream",
     "text": [
      "Calculated, check below\n",
      "===================================================================================================\n"
     ]
    }
   ],
   "source": [
    "# add TAT column\n",
    "df['Processing To Dispatch']=df['Date Dispatched']-df['Date Tested']\n",
    "\n",
    "# Remove days in TAT column\n",
    "df['Processing To Dispatch']=df['Processing To Dispatch'].astype('timedelta64[D]')\n",
    "\n",
    "# find the average of TAT grouped by facilities\n",
    "turn_around_time=round(df.groupby(['Facilty']).mean()['Processing To Dispatch'],)\n",
    "\n",
    "# convert results into a dataframe and sort TAT column Z-A\n",
    "processing=pd.DataFrame(turn_around_time).sort_values('Processing To Dispatch',ascending=False).reset_index()\n",
    "convert_to_business_days(processing)\n",
    "print(\"Calculated, check below\\n===================================================================================================\")"
   ]
  },
  {
   "cell_type": "code",
   "execution_count": null,
   "metadata": {},
   "outputs": [],
   "source": []
  },
  {
   "cell_type": "markdown",
   "metadata": {},
   "source": [
    "#### receipt to processing"
   ]
  },
  {
   "cell_type": "code",
   "execution_count": 43,
   "metadata": {
    "ExecuteTime": {
     "end_time": "2021-09-16T18:18:06.724747Z",
     "start_time": "2021-09-16T18:18:06.604348Z"
    }
   },
   "outputs": [
    {
     "name": "stdout",
     "output_type": "stream",
     "text": [
      "Calculated, check below\n",
      "===================================================================================================\n"
     ]
    }
   ],
   "source": [
    "# add TAT column\n",
    "df['Receipt To Processing']=df['Date Tested']-df['Date Received']\n",
    "\n",
    "# Remove days in TAT column\n",
    "df['Receipt To Processing']=df['Receipt To Processing'].astype('timedelta64[D]')\n",
    "\n",
    "# find the average of TAT grouped by facilities\n",
    "turn_around_time=round(df.groupby(['Facilty']).mean()['Receipt To Processing'],)\n",
    "\n",
    "# convert results into a dataframe and sort TAT column Z-A\n",
    "receipt_processing=pd.DataFrame(turn_around_time).sort_values('Receipt To Processing',ascending=False).reset_index()\n",
    "convert_to_business_days(receipt_processing)\n",
    "print(\"Calculated, check below\\n===================================================================================================\")"
   ]
  },
  {
   "cell_type": "code",
   "execution_count": 44,
   "metadata": {
    "ExecuteTime": {
     "end_time": "2021-09-16T18:18:06.850205Z",
     "start_time": "2021-09-16T18:18:06.731743Z"
    }
   },
   "outputs": [],
   "source": [
    "sending=sending[['Facilty','business days']]\n",
    "sending.columns=['Facility','collection to receipt']\n",
    "sending.head()\n",
    "\n",
    "processing.head()\n",
    "processing=processing[['Facilty','business days']]\n",
    "processing.columns=['Facility','Processing To Dispatch']\n",
    "\n",
    "receipt_processing.head()\n",
    "receipt_processing=receipt_processing[['Facilty','business days']]\n",
    "receipt_processing.columns=['Facility','Receipt To Processing']\n",
    "# processing.head()\n",
    "\n",
    "tat=tat[['Facilty','business days']]\n",
    "tat.columns=['Facility','Collection to Dispatch']\n",
    "# tat.head()"
   ]
  },
  {
   "cell_type": "code",
   "execution_count": 45,
   "metadata": {
    "ExecuteTime": {
     "end_time": "2021-09-16T18:18:07.039690Z",
     "start_time": "2021-09-16T18:18:06.858175Z"
    }
   },
   "outputs": [],
   "source": [
    "time= pd.merge(sending,receipt_processing, on='Facility', how='outer')\n",
    "time= pd.merge(time,processing, on='Facility', how='outer')\n",
    "time= pd.merge(time,tat, on='Facility', how='outer')\n",
    "# time"
   ]
  },
  {
   "cell_type": "code",
   "execution_count": 46,
   "metadata": {
    "ExecuteTime": {
     "end_time": "2021-09-16T18:18:07.402706Z",
     "start_time": "2021-09-16T18:18:07.050673Z"
    }
   },
   "outputs": [
    {
     "data": {
      "text/html": [
       "<div>\n",
       "<style scoped>\n",
       "    .dataframe tbody tr th:only-of-type {\n",
       "        vertical-align: middle;\n",
       "    }\n",
       "\n",
       "    .dataframe tbody tr th {\n",
       "        vertical-align: top;\n",
       "    }\n",
       "\n",
       "    .dataframe thead th {\n",
       "        text-align: right;\n",
       "    }\n",
       "</style>\n",
       "<table border=\"1\" class=\"dataframe\">\n",
       "  <thead>\n",
       "    <tr style=\"text-align: right;\">\n",
       "      <th></th>\n",
       "      <th>Facility</th>\n",
       "      <th>Collection to Receipt</th>\n",
       "      <th>Receipt To Processing</th>\n",
       "      <th>Processing To Dispatch</th>\n",
       "      <th>Collection to Dispatch</th>\n",
       "    </tr>\n",
       "  </thead>\n",
       "  <tbody>\n",
       "    <tr>\n",
       "      <th>27</th>\n",
       "      <td>Mt. Kenya</td>\n",
       "      <td>13.0</td>\n",
       "      <td>12.0</td>\n",
       "      <td>2.0</td>\n",
       "      <td>28.0</td>\n",
       "    </tr>\n",
       "    <tr>\n",
       "      <th>11</th>\n",
       "      <td>Kibirigwi</td>\n",
       "      <td>3.0</td>\n",
       "      <td>23.0</td>\n",
       "      <td>2.0</td>\n",
       "      <td>28.0</td>\n",
       "    </tr>\n",
       "    <tr>\n",
       "      <th>4</th>\n",
       "      <td>Thiba</td>\n",
       "      <td>7.0</td>\n",
       "      <td>20.0</td>\n",
       "      <td>1.0</td>\n",
       "      <td>28.0</td>\n",
       "    </tr>\n",
       "    <tr>\n",
       "      <th>5</th>\n",
       "      <td>Kimbimbi</td>\n",
       "      <td>7.0</td>\n",
       "      <td>17.0</td>\n",
       "      <td>3.0</td>\n",
       "      <td>28.0</td>\n",
       "    </tr>\n",
       "    <tr>\n",
       "      <th>2</th>\n",
       "      <td>Gathambi</td>\n",
       "      <td>8.0</td>\n",
       "      <td>18.0</td>\n",
       "      <td>2.0</td>\n",
       "      <td>27.0</td>\n",
       "    </tr>\n",
       "    <tr>\n",
       "      <th>22</th>\n",
       "      <td>Kangaita</td>\n",
       "      <td>3.0</td>\n",
       "      <td>22.0</td>\n",
       "      <td>1.0</td>\n",
       "      <td>25.0</td>\n",
       "    </tr>\n",
       "    <tr>\n",
       "      <th>0</th>\n",
       "      <td>Sagana</td>\n",
       "      <td>9.0</td>\n",
       "      <td>13.0</td>\n",
       "      <td>3.0</td>\n",
       "      <td>25.0</td>\n",
       "    </tr>\n",
       "    <tr>\n",
       "      <th>12</th>\n",
       "      <td>Baricho</td>\n",
       "      <td>3.0</td>\n",
       "      <td>20.0</td>\n",
       "      <td>2.0</td>\n",
       "      <td>24.0</td>\n",
       "    </tr>\n",
       "    <tr>\n",
       "      <th>7</th>\n",
       "      <td>Kianyaga</td>\n",
       "      <td>5.0</td>\n",
       "      <td>16.0</td>\n",
       "      <td>2.0</td>\n",
       "      <td>23.0</td>\n",
       "    </tr>\n",
       "    <tr>\n",
       "      <th>19</th>\n",
       "      <td>Kabare</td>\n",
       "      <td>2.0</td>\n",
       "      <td>17.0</td>\n",
       "      <td>2.0</td>\n",
       "      <td>23.0</td>\n",
       "    </tr>\n",
       "    <tr>\n",
       "      <th>25</th>\n",
       "      <td>Murinduko</td>\n",
       "      <td>2.0</td>\n",
       "      <td>20.0</td>\n",
       "      <td>2.0</td>\n",
       "      <td>23.0</td>\n",
       "    </tr>\n",
       "    <tr>\n",
       "      <th>1</th>\n",
       "      <td>Ucheru</td>\n",
       "      <td>8.0</td>\n",
       "      <td>14.0</td>\n",
       "      <td>1.0</td>\n",
       "      <td>23.0</td>\n",
       "    </tr>\n",
       "    <tr>\n",
       "      <th>16</th>\n",
       "      <td>Kiumbu</td>\n",
       "      <td>2.0</td>\n",
       "      <td>17.0</td>\n",
       "      <td>2.0</td>\n",
       "      <td>23.0</td>\n",
       "    </tr>\n",
       "    <tr>\n",
       "      <th>26</th>\n",
       "      <td>Kiangai</td>\n",
       "      <td>2.0</td>\n",
       "      <td>20.0</td>\n",
       "      <td>2.0</td>\n",
       "      <td>22.0</td>\n",
       "    </tr>\n",
       "    <tr>\n",
       "      <th>24</th>\n",
       "      <td>Kandongu</td>\n",
       "      <td>2.0</td>\n",
       "      <td>17.0</td>\n",
       "      <td>3.0</td>\n",
       "      <td>22.0</td>\n",
       "    </tr>\n",
       "    <tr>\n",
       "      <th>3</th>\n",
       "      <td>Kiamutugu</td>\n",
       "      <td>7.0</td>\n",
       "      <td>15.0</td>\n",
       "      <td>1.0</td>\n",
       "      <td>22.0</td>\n",
       "    </tr>\n",
       "    <tr>\n",
       "      <th>18</th>\n",
       "      <td>Mutithi</td>\n",
       "      <td>2.0</td>\n",
       "      <td>17.0</td>\n",
       "      <td>2.0</td>\n",
       "      <td>22.0</td>\n",
       "    </tr>\n",
       "    <tr>\n",
       "      <th>10</th>\n",
       "      <td>Difathas</td>\n",
       "      <td>4.0</td>\n",
       "      <td>13.0</td>\n",
       "      <td>2.0</td>\n",
       "      <td>20.0</td>\n",
       "    </tr>\n",
       "    <tr>\n",
       "      <th>23</th>\n",
       "      <td>Gatwe</td>\n",
       "      <td>3.0</td>\n",
       "      <td>17.0</td>\n",
       "      <td>1.0</td>\n",
       "      <td>19.0</td>\n",
       "    </tr>\n",
       "    <tr>\n",
       "      <th>17</th>\n",
       "      <td>Kutus</td>\n",
       "      <td>2.0</td>\n",
       "      <td>15.0</td>\n",
       "      <td>2.0</td>\n",
       "      <td>19.0</td>\n",
       "    </tr>\n",
       "    <tr>\n",
       "      <th>13</th>\n",
       "      <td>Kagumo</td>\n",
       "      <td>3.0</td>\n",
       "      <td>14.0</td>\n",
       "      <td>2.0</td>\n",
       "      <td>19.0</td>\n",
       "    </tr>\n",
       "    <tr>\n",
       "      <th>15</th>\n",
       "      <td>Kangu</td>\n",
       "      <td>2.0</td>\n",
       "      <td>14.0</td>\n",
       "      <td>2.0</td>\n",
       "      <td>18.0</td>\n",
       "    </tr>\n",
       "    <tr>\n",
       "      <th>14</th>\n",
       "      <td>Gathigiriri</td>\n",
       "      <td>3.0</td>\n",
       "      <td>14.0</td>\n",
       "      <td>1.0</td>\n",
       "      <td>18.0</td>\n",
       "    </tr>\n",
       "    <tr>\n",
       "      <th>21</th>\n",
       "      <td>Kerugoya</td>\n",
       "      <td>3.0</td>\n",
       "      <td>14.0</td>\n",
       "      <td>2.0</td>\n",
       "      <td>17.0</td>\n",
       "    </tr>\n",
       "    <tr>\n",
       "      <th>6</th>\n",
       "      <td>Kangaru</td>\n",
       "      <td>6.0</td>\n",
       "      <td>9.0</td>\n",
       "      <td>1.0</td>\n",
       "      <td>16.0</td>\n",
       "    </tr>\n",
       "    <tr>\n",
       "      <th>9</th>\n",
       "      <td>Njegas</td>\n",
       "      <td>4.0</td>\n",
       "      <td>7.0</td>\n",
       "      <td>0.0</td>\n",
       "      <td>13.0</td>\n",
       "    </tr>\n",
       "    <tr>\n",
       "      <th>20</th>\n",
       "      <td>Rukanga</td>\n",
       "      <td>2.0</td>\n",
       "      <td>8.0</td>\n",
       "      <td>0.0</td>\n",
       "      <td>10.0</td>\n",
       "    </tr>\n",
       "    <tr>\n",
       "      <th>8</th>\n",
       "      <td>Karumandi</td>\n",
       "      <td>5.0</td>\n",
       "      <td>4.0</td>\n",
       "      <td>0.0</td>\n",
       "      <td>9.0</td>\n",
       "    </tr>\n",
       "  </tbody>\n",
       "</table>\n",
       "</div>"
      ],
      "text/plain": [
       "       Facility  Collection to Receipt  Receipt To Processing  \\\n",
       "27    Mt. Kenya                   13.0                   12.0   \n",
       "11    Kibirigwi                    3.0                   23.0   \n",
       "4         Thiba                    7.0                   20.0   \n",
       "5      Kimbimbi                    7.0                   17.0   \n",
       "2      Gathambi                    8.0                   18.0   \n",
       "22     Kangaita                    3.0                   22.0   \n",
       "0        Sagana                    9.0                   13.0   \n",
       "12      Baricho                    3.0                   20.0   \n",
       "7      Kianyaga                    5.0                   16.0   \n",
       "19       Kabare                    2.0                   17.0   \n",
       "25    Murinduko                    2.0                   20.0   \n",
       "1        Ucheru                    8.0                   14.0   \n",
       "16       Kiumbu                    2.0                   17.0   \n",
       "26      Kiangai                    2.0                   20.0   \n",
       "24     Kandongu                    2.0                   17.0   \n",
       "3     Kiamutugu                    7.0                   15.0   \n",
       "18      Mutithi                    2.0                   17.0   \n",
       "10     Difathas                    4.0                   13.0   \n",
       "23        Gatwe                    3.0                   17.0   \n",
       "17        Kutus                    2.0                   15.0   \n",
       "13       Kagumo                    3.0                   14.0   \n",
       "15        Kangu                    2.0                   14.0   \n",
       "14  Gathigiriri                    3.0                   14.0   \n",
       "21     Kerugoya                    3.0                   14.0   \n",
       "6       Kangaru                    6.0                    9.0   \n",
       "9        Njegas                    4.0                    7.0   \n",
       "20      Rukanga                    2.0                    8.0   \n",
       "8     Karumandi                    5.0                    4.0   \n",
       "\n",
       "    Processing To Dispatch  Collection to Dispatch  \n",
       "27                     2.0                    28.0  \n",
       "11                     2.0                    28.0  \n",
       "4                      1.0                    28.0  \n",
       "5                      3.0                    28.0  \n",
       "2                      2.0                    27.0  \n",
       "22                     1.0                    25.0  \n",
       "0                      3.0                    25.0  \n",
       "12                     2.0                    24.0  \n",
       "7                      2.0                    23.0  \n",
       "19                     2.0                    23.0  \n",
       "25                     2.0                    23.0  \n",
       "1                      1.0                    23.0  \n",
       "16                     2.0                    23.0  \n",
       "26                     2.0                    22.0  \n",
       "24                     3.0                    22.0  \n",
       "3                      1.0                    22.0  \n",
       "18                     2.0                    22.0  \n",
       "10                     2.0                    20.0  \n",
       "23                     1.0                    19.0  \n",
       "17                     2.0                    19.0  \n",
       "13                     2.0                    19.0  \n",
       "15                     2.0                    18.0  \n",
       "14                     1.0                    18.0  \n",
       "21                     2.0                    17.0  \n",
       "6                      1.0                    16.0  \n",
       "9                      0.0                    13.0  \n",
       "20                     0.0                    10.0  \n",
       "8                      0.0                     9.0  "
      ]
     },
     "execution_count": 46,
     "metadata": {},
     "output_type": "execute_result"
    }
   ],
   "source": [
    "time['facilities'] = time['Facility'].str.split().str[0]\n",
    "time['ZipLen'] = time['facilities'].astype(str).map(len)\n",
    "converted_facility_names=time.loc[time['ZipLen']<=3]\n",
    "non_converted_facility_names=time.loc[time['ZipLen']>3]\n",
    "\n",
    "non_converted_facility_names=non_converted_facility_names.copy()\n",
    "non_converted_facility_names['facilities1'] = non_converted_facility_names['Facility'].str.split().str[0]\n",
    "\n",
    "\n",
    "converted_facility_names=converted_facility_names.copy()\n",
    "converted_facility_names['facilities1'] = converted_facility_names['Facility'].str.split().str[0] +\" \"+ converted_facility_names['Facility'].str.split().str[1]\n",
    "\n",
    "time = non_converted_facility_names.append(converted_facility_names, ignore_index=True)\n",
    "del time['Facility']\n",
    "del time['ZipLen']\n",
    "del time['facilities']\n",
    "sorted_columns=[\"facilities1\",\"collection to receipt\",\"Receipt To Processing\",\"Processing To Dispatch\",\"Collection to Dispatch\"]\n",
    "time = time.reindex(sorted_columns, axis=1)\n",
    "time = time.rename({'facilities1': 'Facility','collection to receipt':'Collection to Receipt'}, axis=1)  # new method\n",
    "# \n",
    "time=time.sort_values('Collection to Dispatch',ascending =False)\n",
    "time"
   ]
  },
  {
   "cell_type": "markdown",
   "metadata": {},
   "source": [
    "##### Monthly TAT"
   ]
  },
  {
   "cell_type": "code",
   "execution_count": 47,
   "metadata": {
    "ExecuteTime": {
     "end_time": "2021-09-16T18:18:07.466670Z",
     "start_time": "2021-09-16T18:18:07.413700Z"
    }
   },
   "outputs": [],
   "source": [
    "# add a column for months\n",
    "df['month'] = pd.DatetimeIndex(df['Date Dispatched']).month\n",
    "df['year'] = pd.DatetimeIndex(df['Date Dispatched']).year\n",
    "df=df[['Facilty','month','TAT(days)',\"year\"]]"
   ]
  },
  {
   "cell_type": "code",
   "execution_count": 48,
   "metadata": {
    "ExecuteTime": {
     "end_time": "2021-09-16T18:18:07.578598Z",
     "start_time": "2021-09-16T18:18:07.474662Z"
    }
   },
   "outputs": [],
   "source": [
    "def convert_to_business_days(tat):\n",
    "    tat.columns=['month','year','TAT(days)']\n",
    "    original_columns=tat.columns\n",
    "    tat['weeks']=round(tat['TAT(days)']/7,)\n",
    "    tat['multiplier']=2\n",
    "    tat['weekends days']=tat['weeks']*tat['multiplier']\n",
    "    tat['business days']=tat['TAT(days)']-tat['weekends days']\n",
    "    final_column=[]\n",
    "    for column in original_columns:\n",
    "        final_column.append(column)\n",
    "\n",
    "    added_columns=['weeks','multiplier','weekends days',\"business days\"]\n",
    "    final_column.extend(added_columns)\n",
    "    # tat.columns=\n",
    "    # tat\n",
    "    final_column\n",
    "    tat = tat.set_axis(final_column, axis=1, inplace=False)\n",
    "    tat=tat[['month','year','business days']]\n",
    "    tat.columns=['month','year','TAT(days)']\n",
    "    return tat"
   ]
  },
  {
   "cell_type": "code",
   "execution_count": 49,
   "metadata": {
    "ExecuteTime": {
     "end_time": "2021-09-16T18:18:07.828826Z",
     "start_time": "2021-09-16T18:18:07.588595Z"
    }
   },
   "outputs": [],
   "source": [
    "# find the average TAT grouped by months\n",
    "program_avg_TAT=round(df.groupby(['month','year']).mean()['TAT(days)'],1).reset_index()\n",
    "program_avg_TAT=convert_to_business_days(program_avg_TAT)\n",
    "program_avg_TAT['Month name'] = program_avg_TAT['month'].apply(lambda x: calendar.month_abbr[x])\n",
    "# program_avg_TAT['month']\n",
    "\n",
    "program_avg_TAT['month_year']=pd.to_datetime(program_avg_TAT['year'].astype(str) +\"-\" + program_avg_TAT['month'].astype(int).astype(str) + '-1', format = '%Y-%m')\n",
    "program_avg_TAT=program_avg_TAT.sort_values('month_year')\n",
    "del program_avg_TAT['month']\n",
    "del program_avg_TAT['year']\n",
    "del program_avg_TAT['Month name']\n",
    "# sorted_column=['month_year','T.A.T']\n",
    "# program_avg_TAT = program_avg_TAT.reindex(sorted_columns, axis=1)\n",
    "# program_avg_TAT"
   ]
  },
  {
   "cell_type": "code",
   "execution_count": 50,
   "metadata": {
    "ExecuteTime": {
     "end_time": "2021-09-16T18:18:08.131598Z",
     "start_time": "2021-09-16T18:18:07.838779Z"
    }
   },
   "outputs": [
    {
     "data": {
      "application/vnd.plotly.v1+json": {
       "config": {
        "plotlyServerURL": "https://plot.ly"
       },
       "data": [
        {
         "alignmentgroup": "True",
         "hovertemplate": "month_year=%{x}<br>TAT(days)=%{marker.color}<extra></extra>",
         "legendgroup": "",
         "marker": {
          "color": [
           13.399999999999999,
           9.6,
           16.4,
           22.700000000000003,
           31.1,
           21.2,
           40.9,
           8.8,
           5.7,
           8.3,
           9.9
          ],
          "coloraxis": "coloraxis"
         },
         "name": "",
         "offsetgroup": "",
         "orientation": "v",
         "showlegend": false,
         "text": [
          13.399999999999999,
          9.6,
          16.4,
          22.700000000000003,
          31.1,
          21.2,
          40.9,
          8.8,
          5.7,
          8.3,
          9.9
         ],
         "textposition": "outside",
         "type": "bar",
         "x": [
          "2020-10-01T00:00:00",
          "2020-11-01T00:00:00",
          "2020-12-01T00:00:00",
          "2021-01-01T00:00:00",
          "2021-02-01T00:00:00",
          "2021-03-01T00:00:00",
          "2021-05-01T00:00:00",
          "2021-06-01T00:00:00",
          "2021-07-01T00:00:00",
          "2021-08-01T00:00:00",
          "2021-09-01T00:00:00"
         ],
         "xaxis": "x",
         "y": [
          13.399999999999999,
          9.6,
          16.4,
          22.700000000000003,
          31.1,
          21.2,
          40.9,
          8.8,
          5.7,
          8.3,
          9.9
         ],
         "yaxis": "y"
        }
       ],
       "layout": {
        "barmode": "relative",
        "coloraxis": {
         "colorbar": {
          "title": {
           "text": "TAT(days)"
          }
         },
         "colorscale": [
          [
           0,
           "green"
          ],
          [
           0.5,
           "yellow"
          ],
          [
           1,
           "red"
          ]
         ]
        },
        "legend": {
         "tracegroupgap": 0
        },
        "template": {
         "data": {
          "bar": [
           {
            "error_x": {
             "color": "#2a3f5f"
            },
            "error_y": {
             "color": "#2a3f5f"
            },
            "marker": {
             "line": {
              "color": "#E5ECF6",
              "width": 0.5
             }
            },
            "type": "bar"
           }
          ],
          "barpolar": [
           {
            "marker": {
             "line": {
              "color": "#E5ECF6",
              "width": 0.5
             }
            },
            "type": "barpolar"
           }
          ],
          "carpet": [
           {
            "aaxis": {
             "endlinecolor": "#2a3f5f",
             "gridcolor": "white",
             "linecolor": "white",
             "minorgridcolor": "white",
             "startlinecolor": "#2a3f5f"
            },
            "baxis": {
             "endlinecolor": "#2a3f5f",
             "gridcolor": "white",
             "linecolor": "white",
             "minorgridcolor": "white",
             "startlinecolor": "#2a3f5f"
            },
            "type": "carpet"
           }
          ],
          "choropleth": [
           {
            "colorbar": {
             "outlinewidth": 0,
             "ticks": ""
            },
            "type": "choropleth"
           }
          ],
          "contour": [
           {
            "colorbar": {
             "outlinewidth": 0,
             "ticks": ""
            },
            "colorscale": [
             [
              0,
              "#0d0887"
             ],
             [
              0.1111111111111111,
              "#46039f"
             ],
             [
              0.2222222222222222,
              "#7201a8"
             ],
             [
              0.3333333333333333,
              "#9c179e"
             ],
             [
              0.4444444444444444,
              "#bd3786"
             ],
             [
              0.5555555555555556,
              "#d8576b"
             ],
             [
              0.6666666666666666,
              "#ed7953"
             ],
             [
              0.7777777777777778,
              "#fb9f3a"
             ],
             [
              0.8888888888888888,
              "#fdca26"
             ],
             [
              1,
              "#f0f921"
             ]
            ],
            "type": "contour"
           }
          ],
          "contourcarpet": [
           {
            "colorbar": {
             "outlinewidth": 0,
             "ticks": ""
            },
            "type": "contourcarpet"
           }
          ],
          "heatmap": [
           {
            "colorbar": {
             "outlinewidth": 0,
             "ticks": ""
            },
            "colorscale": [
             [
              0,
              "#0d0887"
             ],
             [
              0.1111111111111111,
              "#46039f"
             ],
             [
              0.2222222222222222,
              "#7201a8"
             ],
             [
              0.3333333333333333,
              "#9c179e"
             ],
             [
              0.4444444444444444,
              "#bd3786"
             ],
             [
              0.5555555555555556,
              "#d8576b"
             ],
             [
              0.6666666666666666,
              "#ed7953"
             ],
             [
              0.7777777777777778,
              "#fb9f3a"
             ],
             [
              0.8888888888888888,
              "#fdca26"
             ],
             [
              1,
              "#f0f921"
             ]
            ],
            "type": "heatmap"
           }
          ],
          "heatmapgl": [
           {
            "colorbar": {
             "outlinewidth": 0,
             "ticks": ""
            },
            "colorscale": [
             [
              0,
              "#0d0887"
             ],
             [
              0.1111111111111111,
              "#46039f"
             ],
             [
              0.2222222222222222,
              "#7201a8"
             ],
             [
              0.3333333333333333,
              "#9c179e"
             ],
             [
              0.4444444444444444,
              "#bd3786"
             ],
             [
              0.5555555555555556,
              "#d8576b"
             ],
             [
              0.6666666666666666,
              "#ed7953"
             ],
             [
              0.7777777777777778,
              "#fb9f3a"
             ],
             [
              0.8888888888888888,
              "#fdca26"
             ],
             [
              1,
              "#f0f921"
             ]
            ],
            "type": "heatmapgl"
           }
          ],
          "histogram": [
           {
            "marker": {
             "colorbar": {
              "outlinewidth": 0,
              "ticks": ""
             }
            },
            "type": "histogram"
           }
          ],
          "histogram2d": [
           {
            "colorbar": {
             "outlinewidth": 0,
             "ticks": ""
            },
            "colorscale": [
             [
              0,
              "#0d0887"
             ],
             [
              0.1111111111111111,
              "#46039f"
             ],
             [
              0.2222222222222222,
              "#7201a8"
             ],
             [
              0.3333333333333333,
              "#9c179e"
             ],
             [
              0.4444444444444444,
              "#bd3786"
             ],
             [
              0.5555555555555556,
              "#d8576b"
             ],
             [
              0.6666666666666666,
              "#ed7953"
             ],
             [
              0.7777777777777778,
              "#fb9f3a"
             ],
             [
              0.8888888888888888,
              "#fdca26"
             ],
             [
              1,
              "#f0f921"
             ]
            ],
            "type": "histogram2d"
           }
          ],
          "histogram2dcontour": [
           {
            "colorbar": {
             "outlinewidth": 0,
             "ticks": ""
            },
            "colorscale": [
             [
              0,
              "#0d0887"
             ],
             [
              0.1111111111111111,
              "#46039f"
             ],
             [
              0.2222222222222222,
              "#7201a8"
             ],
             [
              0.3333333333333333,
              "#9c179e"
             ],
             [
              0.4444444444444444,
              "#bd3786"
             ],
             [
              0.5555555555555556,
              "#d8576b"
             ],
             [
              0.6666666666666666,
              "#ed7953"
             ],
             [
              0.7777777777777778,
              "#fb9f3a"
             ],
             [
              0.8888888888888888,
              "#fdca26"
             ],
             [
              1,
              "#f0f921"
             ]
            ],
            "type": "histogram2dcontour"
           }
          ],
          "mesh3d": [
           {
            "colorbar": {
             "outlinewidth": 0,
             "ticks": ""
            },
            "type": "mesh3d"
           }
          ],
          "parcoords": [
           {
            "line": {
             "colorbar": {
              "outlinewidth": 0,
              "ticks": ""
             }
            },
            "type": "parcoords"
           }
          ],
          "pie": [
           {
            "automargin": true,
            "type": "pie"
           }
          ],
          "scatter": [
           {
            "marker": {
             "colorbar": {
              "outlinewidth": 0,
              "ticks": ""
             }
            },
            "type": "scatter"
           }
          ],
          "scatter3d": [
           {
            "line": {
             "colorbar": {
              "outlinewidth": 0,
              "ticks": ""
             }
            },
            "marker": {
             "colorbar": {
              "outlinewidth": 0,
              "ticks": ""
             }
            },
            "type": "scatter3d"
           }
          ],
          "scattercarpet": [
           {
            "marker": {
             "colorbar": {
              "outlinewidth": 0,
              "ticks": ""
             }
            },
            "type": "scattercarpet"
           }
          ],
          "scattergeo": [
           {
            "marker": {
             "colorbar": {
              "outlinewidth": 0,
              "ticks": ""
             }
            },
            "type": "scattergeo"
           }
          ],
          "scattergl": [
           {
            "marker": {
             "colorbar": {
              "outlinewidth": 0,
              "ticks": ""
             }
            },
            "type": "scattergl"
           }
          ],
          "scattermapbox": [
           {
            "marker": {
             "colorbar": {
              "outlinewidth": 0,
              "ticks": ""
             }
            },
            "type": "scattermapbox"
           }
          ],
          "scatterpolar": [
           {
            "marker": {
             "colorbar": {
              "outlinewidth": 0,
              "ticks": ""
             }
            },
            "type": "scatterpolar"
           }
          ],
          "scatterpolargl": [
           {
            "marker": {
             "colorbar": {
              "outlinewidth": 0,
              "ticks": ""
             }
            },
            "type": "scatterpolargl"
           }
          ],
          "scatterternary": [
           {
            "marker": {
             "colorbar": {
              "outlinewidth": 0,
              "ticks": ""
             }
            },
            "type": "scatterternary"
           }
          ],
          "surface": [
           {
            "colorbar": {
             "outlinewidth": 0,
             "ticks": ""
            },
            "colorscale": [
             [
              0,
              "#0d0887"
             ],
             [
              0.1111111111111111,
              "#46039f"
             ],
             [
              0.2222222222222222,
              "#7201a8"
             ],
             [
              0.3333333333333333,
              "#9c179e"
             ],
             [
              0.4444444444444444,
              "#bd3786"
             ],
             [
              0.5555555555555556,
              "#d8576b"
             ],
             [
              0.6666666666666666,
              "#ed7953"
             ],
             [
              0.7777777777777778,
              "#fb9f3a"
             ],
             [
              0.8888888888888888,
              "#fdca26"
             ],
             [
              1,
              "#f0f921"
             ]
            ],
            "type": "surface"
           }
          ],
          "table": [
           {
            "cells": {
             "fill": {
              "color": "#EBF0F8"
             },
             "line": {
              "color": "white"
             }
            },
            "header": {
             "fill": {
              "color": "#C8D4E3"
             },
             "line": {
              "color": "white"
             }
            },
            "type": "table"
           }
          ]
         },
         "layout": {
          "annotationdefaults": {
           "arrowcolor": "#2a3f5f",
           "arrowhead": 0,
           "arrowwidth": 1
          },
          "coloraxis": {
           "colorbar": {
            "outlinewidth": 0,
            "ticks": ""
           }
          },
          "colorscale": {
           "diverging": [
            [
             0,
             "#8e0152"
            ],
            [
             0.1,
             "#c51b7d"
            ],
            [
             0.2,
             "#de77ae"
            ],
            [
             0.3,
             "#f1b6da"
            ],
            [
             0.4,
             "#fde0ef"
            ],
            [
             0.5,
             "#f7f7f7"
            ],
            [
             0.6,
             "#e6f5d0"
            ],
            [
             0.7,
             "#b8e186"
            ],
            [
             0.8,
             "#7fbc41"
            ],
            [
             0.9,
             "#4d9221"
            ],
            [
             1,
             "#276419"
            ]
           ],
           "sequential": [
            [
             0,
             "#0d0887"
            ],
            [
             0.1111111111111111,
             "#46039f"
            ],
            [
             0.2222222222222222,
             "#7201a8"
            ],
            [
             0.3333333333333333,
             "#9c179e"
            ],
            [
             0.4444444444444444,
             "#bd3786"
            ],
            [
             0.5555555555555556,
             "#d8576b"
            ],
            [
             0.6666666666666666,
             "#ed7953"
            ],
            [
             0.7777777777777778,
             "#fb9f3a"
            ],
            [
             0.8888888888888888,
             "#fdca26"
            ],
            [
             1,
             "#f0f921"
            ]
           ],
           "sequentialminus": [
            [
             0,
             "#0d0887"
            ],
            [
             0.1111111111111111,
             "#46039f"
            ],
            [
             0.2222222222222222,
             "#7201a8"
            ],
            [
             0.3333333333333333,
             "#9c179e"
            ],
            [
             0.4444444444444444,
             "#bd3786"
            ],
            [
             0.5555555555555556,
             "#d8576b"
            ],
            [
             0.6666666666666666,
             "#ed7953"
            ],
            [
             0.7777777777777778,
             "#fb9f3a"
            ],
            [
             0.8888888888888888,
             "#fdca26"
            ],
            [
             1,
             "#f0f921"
            ]
           ]
          },
          "colorway": [
           "#636efa",
           "#EF553B",
           "#00cc96",
           "#ab63fa",
           "#FFA15A",
           "#19d3f3",
           "#FF6692",
           "#B6E880",
           "#FF97FF",
           "#FECB52"
          ],
          "font": {
           "color": "#2a3f5f"
          },
          "geo": {
           "bgcolor": "white",
           "lakecolor": "white",
           "landcolor": "#E5ECF6",
           "showlakes": true,
           "showland": true,
           "subunitcolor": "white"
          },
          "hoverlabel": {
           "align": "left"
          },
          "hovermode": "closest",
          "mapbox": {
           "style": "light"
          },
          "paper_bgcolor": "white",
          "plot_bgcolor": "#E5ECF6",
          "polar": {
           "angularaxis": {
            "gridcolor": "white",
            "linecolor": "white",
            "ticks": ""
           },
           "bgcolor": "#E5ECF6",
           "radialaxis": {
            "gridcolor": "white",
            "linecolor": "white",
            "ticks": ""
           }
          },
          "scene": {
           "xaxis": {
            "backgroundcolor": "#E5ECF6",
            "gridcolor": "white",
            "gridwidth": 2,
            "linecolor": "white",
            "showbackground": true,
            "ticks": "",
            "zerolinecolor": "white"
           },
           "yaxis": {
            "backgroundcolor": "#E5ECF6",
            "gridcolor": "white",
            "gridwidth": 2,
            "linecolor": "white",
            "showbackground": true,
            "ticks": "",
            "zerolinecolor": "white"
           },
           "zaxis": {
            "backgroundcolor": "#E5ECF6",
            "gridcolor": "white",
            "gridwidth": 2,
            "linecolor": "white",
            "showbackground": true,
            "ticks": "",
            "zerolinecolor": "white"
           }
          },
          "shapedefaults": {
           "line": {
            "color": "#2a3f5f"
           }
          },
          "ternary": {
           "aaxis": {
            "gridcolor": "white",
            "linecolor": "white",
            "ticks": ""
           },
           "baxis": {
            "gridcolor": "white",
            "linecolor": "white",
            "ticks": ""
           },
           "bgcolor": "#E5ECF6",
           "caxis": {
            "gridcolor": "white",
            "linecolor": "white",
            "ticks": ""
           }
          },
          "title": {
           "x": 0.05
          },
          "xaxis": {
           "automargin": true,
           "gridcolor": "white",
           "linecolor": "white",
           "ticks": "",
           "title": {
            "standoff": 15
           },
           "zerolinecolor": "white",
           "zerolinewidth": 2
          },
          "yaxis": {
           "automargin": true,
           "gridcolor": "white",
           "linecolor": "white",
           "ticks": "",
           "title": {
            "standoff": 15
           },
           "zerolinecolor": "white",
           "zerolinewidth": 2
          }
         }
        },
        "title": {
         "text": "Monthly average TAT(days)"
        },
        "uniformtext": {
         "minsize": 9,
         "mode": "hide"
        },
        "xaxis": {
         "anchor": "y",
         "domain": [
          0,
          1
         ],
         "title": {
          "text": "month_year"
         }
        },
        "yaxis": {
         "anchor": "x",
         "domain": [
          0,
          1
         ],
         "title": {
          "text": "TAT(days)"
         }
        }
       }
      },
      "text/html": [
       "<div>                            <div id=\"b177890b-16b4-49f8-9148-8c5a9ebd865e\" class=\"plotly-graph-div\" style=\"height:525px; width:100%;\"></div>            <script type=\"text/javascript\">                require([\"plotly\"], function(Plotly) {                    window.PLOTLYENV=window.PLOTLYENV || {};                                    if (document.getElementById(\"b177890b-16b4-49f8-9148-8c5a9ebd865e\")) {                    Plotly.newPlot(                        \"b177890b-16b4-49f8-9148-8c5a9ebd865e\",                        [{\"alignmentgroup\": \"True\", \"hovertemplate\": \"month_year=%{x}<br>TAT(days)=%{marker.color}<extra></extra>\", \"legendgroup\": \"\", \"marker\": {\"color\": [13.399999999999999, 9.6, 16.4, 22.700000000000003, 31.1, 21.2, 40.9, 8.8, 5.7, 8.3, 9.9], \"coloraxis\": \"coloraxis\"}, \"name\": \"\", \"offsetgroup\": \"\", \"orientation\": \"v\", \"showlegend\": false, \"text\": [13.399999999999999, 9.6, 16.4, 22.700000000000003, 31.1, 21.2, 40.9, 8.8, 5.7, 8.3, 9.9], \"textposition\": \"outside\", \"type\": \"bar\", \"x\": [\"2020-10-01T00:00:00\", \"2020-11-01T00:00:00\", \"2020-12-01T00:00:00\", \"2021-01-01T00:00:00\", \"2021-02-01T00:00:00\", \"2021-03-01T00:00:00\", \"2021-05-01T00:00:00\", \"2021-06-01T00:00:00\", \"2021-07-01T00:00:00\", \"2021-08-01T00:00:00\", \"2021-09-01T00:00:00\"], \"xaxis\": \"x\", \"y\": [13.399999999999999, 9.6, 16.4, 22.700000000000003, 31.1, 21.2, 40.9, 8.8, 5.7, 8.3, 9.9], \"yaxis\": \"y\"}],                        {\"barmode\": \"relative\", \"coloraxis\": {\"colorbar\": {\"title\": {\"text\": \"TAT(days)\"}}, \"colorscale\": [[0.0, \"green\"], [0.5, \"yellow\"], [1.0, \"red\"]]}, \"legend\": {\"tracegroupgap\": 0}, \"template\": {\"data\": {\"bar\": [{\"error_x\": {\"color\": \"#2a3f5f\"}, \"error_y\": {\"color\": \"#2a3f5f\"}, \"marker\": {\"line\": {\"color\": \"#E5ECF6\", \"width\": 0.5}}, \"type\": \"bar\"}], \"barpolar\": [{\"marker\": {\"line\": {\"color\": \"#E5ECF6\", \"width\": 0.5}}, \"type\": \"barpolar\"}], \"carpet\": [{\"aaxis\": {\"endlinecolor\": \"#2a3f5f\", \"gridcolor\": \"white\", \"linecolor\": \"white\", \"minorgridcolor\": \"white\", \"startlinecolor\": \"#2a3f5f\"}, \"baxis\": {\"endlinecolor\": \"#2a3f5f\", \"gridcolor\": \"white\", \"linecolor\": \"white\", \"minorgridcolor\": \"white\", \"startlinecolor\": \"#2a3f5f\"}, \"type\": \"carpet\"}], \"choropleth\": [{\"colorbar\": {\"outlinewidth\": 0, \"ticks\": \"\"}, \"type\": \"choropleth\"}], \"contour\": [{\"colorbar\": {\"outlinewidth\": 0, \"ticks\": \"\"}, \"colorscale\": [[0.0, \"#0d0887\"], [0.1111111111111111, \"#46039f\"], [0.2222222222222222, \"#7201a8\"], [0.3333333333333333, \"#9c179e\"], [0.4444444444444444, \"#bd3786\"], [0.5555555555555556, \"#d8576b\"], [0.6666666666666666, \"#ed7953\"], [0.7777777777777778, \"#fb9f3a\"], [0.8888888888888888, \"#fdca26\"], [1.0, \"#f0f921\"]], \"type\": \"contour\"}], \"contourcarpet\": [{\"colorbar\": {\"outlinewidth\": 0, \"ticks\": \"\"}, \"type\": \"contourcarpet\"}], \"heatmap\": [{\"colorbar\": {\"outlinewidth\": 0, \"ticks\": \"\"}, \"colorscale\": [[0.0, \"#0d0887\"], [0.1111111111111111, \"#46039f\"], [0.2222222222222222, \"#7201a8\"], [0.3333333333333333, \"#9c179e\"], [0.4444444444444444, \"#bd3786\"], [0.5555555555555556, \"#d8576b\"], [0.6666666666666666, \"#ed7953\"], [0.7777777777777778, \"#fb9f3a\"], [0.8888888888888888, \"#fdca26\"], [1.0, \"#f0f921\"]], \"type\": \"heatmap\"}], \"heatmapgl\": [{\"colorbar\": {\"outlinewidth\": 0, \"ticks\": \"\"}, \"colorscale\": [[0.0, \"#0d0887\"], [0.1111111111111111, \"#46039f\"], [0.2222222222222222, \"#7201a8\"], [0.3333333333333333, \"#9c179e\"], [0.4444444444444444, \"#bd3786\"], [0.5555555555555556, \"#d8576b\"], [0.6666666666666666, \"#ed7953\"], [0.7777777777777778, \"#fb9f3a\"], [0.8888888888888888, \"#fdca26\"], [1.0, \"#f0f921\"]], \"type\": \"heatmapgl\"}], \"histogram\": [{\"marker\": {\"colorbar\": {\"outlinewidth\": 0, \"ticks\": \"\"}}, \"type\": \"histogram\"}], \"histogram2d\": [{\"colorbar\": {\"outlinewidth\": 0, \"ticks\": \"\"}, \"colorscale\": [[0.0, \"#0d0887\"], [0.1111111111111111, \"#46039f\"], [0.2222222222222222, \"#7201a8\"], [0.3333333333333333, \"#9c179e\"], [0.4444444444444444, \"#bd3786\"], [0.5555555555555556, \"#d8576b\"], [0.6666666666666666, \"#ed7953\"], [0.7777777777777778, \"#fb9f3a\"], [0.8888888888888888, \"#fdca26\"], [1.0, \"#f0f921\"]], \"type\": \"histogram2d\"}], \"histogram2dcontour\": [{\"colorbar\": {\"outlinewidth\": 0, \"ticks\": \"\"}, \"colorscale\": [[0.0, \"#0d0887\"], [0.1111111111111111, \"#46039f\"], [0.2222222222222222, \"#7201a8\"], [0.3333333333333333, \"#9c179e\"], [0.4444444444444444, \"#bd3786\"], [0.5555555555555556, \"#d8576b\"], [0.6666666666666666, \"#ed7953\"], [0.7777777777777778, \"#fb9f3a\"], [0.8888888888888888, \"#fdca26\"], [1.0, \"#f0f921\"]], \"type\": \"histogram2dcontour\"}], \"mesh3d\": [{\"colorbar\": {\"outlinewidth\": 0, \"ticks\": \"\"}, \"type\": \"mesh3d\"}], \"parcoords\": [{\"line\": {\"colorbar\": {\"outlinewidth\": 0, \"ticks\": \"\"}}, \"type\": \"parcoords\"}], \"pie\": [{\"automargin\": true, \"type\": \"pie\"}], \"scatter\": [{\"marker\": {\"colorbar\": {\"outlinewidth\": 0, \"ticks\": \"\"}}, \"type\": \"scatter\"}], \"scatter3d\": [{\"line\": {\"colorbar\": {\"outlinewidth\": 0, \"ticks\": \"\"}}, \"marker\": {\"colorbar\": {\"outlinewidth\": 0, \"ticks\": \"\"}}, \"type\": \"scatter3d\"}], \"scattercarpet\": [{\"marker\": {\"colorbar\": {\"outlinewidth\": 0, \"ticks\": \"\"}}, \"type\": \"scattercarpet\"}], \"scattergeo\": [{\"marker\": {\"colorbar\": {\"outlinewidth\": 0, \"ticks\": \"\"}}, \"type\": \"scattergeo\"}], \"scattergl\": [{\"marker\": {\"colorbar\": {\"outlinewidth\": 0, \"ticks\": \"\"}}, \"type\": \"scattergl\"}], \"scattermapbox\": [{\"marker\": {\"colorbar\": {\"outlinewidth\": 0, \"ticks\": \"\"}}, \"type\": \"scattermapbox\"}], \"scatterpolar\": [{\"marker\": {\"colorbar\": {\"outlinewidth\": 0, \"ticks\": \"\"}}, \"type\": \"scatterpolar\"}], \"scatterpolargl\": [{\"marker\": {\"colorbar\": {\"outlinewidth\": 0, \"ticks\": \"\"}}, \"type\": \"scatterpolargl\"}], \"scatterternary\": [{\"marker\": {\"colorbar\": {\"outlinewidth\": 0, \"ticks\": \"\"}}, \"type\": \"scatterternary\"}], \"surface\": [{\"colorbar\": {\"outlinewidth\": 0, \"ticks\": \"\"}, \"colorscale\": [[0.0, \"#0d0887\"], [0.1111111111111111, \"#46039f\"], [0.2222222222222222, \"#7201a8\"], [0.3333333333333333, \"#9c179e\"], [0.4444444444444444, \"#bd3786\"], [0.5555555555555556, \"#d8576b\"], [0.6666666666666666, \"#ed7953\"], [0.7777777777777778, \"#fb9f3a\"], [0.8888888888888888, \"#fdca26\"], [1.0, \"#f0f921\"]], \"type\": \"surface\"}], \"table\": [{\"cells\": {\"fill\": {\"color\": \"#EBF0F8\"}, \"line\": {\"color\": \"white\"}}, \"header\": {\"fill\": {\"color\": \"#C8D4E3\"}, \"line\": {\"color\": \"white\"}}, \"type\": \"table\"}]}, \"layout\": {\"annotationdefaults\": {\"arrowcolor\": \"#2a3f5f\", \"arrowhead\": 0, \"arrowwidth\": 1}, \"coloraxis\": {\"colorbar\": {\"outlinewidth\": 0, \"ticks\": \"\"}}, \"colorscale\": {\"diverging\": [[0, \"#8e0152\"], [0.1, \"#c51b7d\"], [0.2, \"#de77ae\"], [0.3, \"#f1b6da\"], [0.4, \"#fde0ef\"], [0.5, \"#f7f7f7\"], [0.6, \"#e6f5d0\"], [0.7, \"#b8e186\"], [0.8, \"#7fbc41\"], [0.9, \"#4d9221\"], [1, \"#276419\"]], \"sequential\": [[0.0, \"#0d0887\"], [0.1111111111111111, \"#46039f\"], [0.2222222222222222, \"#7201a8\"], [0.3333333333333333, \"#9c179e\"], [0.4444444444444444, \"#bd3786\"], [0.5555555555555556, \"#d8576b\"], [0.6666666666666666, \"#ed7953\"], [0.7777777777777778, \"#fb9f3a\"], [0.8888888888888888, \"#fdca26\"], [1.0, \"#f0f921\"]], \"sequentialminus\": [[0.0, \"#0d0887\"], [0.1111111111111111, \"#46039f\"], [0.2222222222222222, \"#7201a8\"], [0.3333333333333333, \"#9c179e\"], [0.4444444444444444, \"#bd3786\"], [0.5555555555555556, \"#d8576b\"], [0.6666666666666666, \"#ed7953\"], [0.7777777777777778, \"#fb9f3a\"], [0.8888888888888888, \"#fdca26\"], [1.0, \"#f0f921\"]]}, \"colorway\": [\"#636efa\", \"#EF553B\", \"#00cc96\", \"#ab63fa\", \"#FFA15A\", \"#19d3f3\", \"#FF6692\", \"#B6E880\", \"#FF97FF\", \"#FECB52\"], \"font\": {\"color\": \"#2a3f5f\"}, \"geo\": {\"bgcolor\": \"white\", \"lakecolor\": \"white\", \"landcolor\": \"#E5ECF6\", \"showlakes\": true, \"showland\": true, \"subunitcolor\": \"white\"}, \"hoverlabel\": {\"align\": \"left\"}, \"hovermode\": \"closest\", \"mapbox\": {\"style\": \"light\"}, \"paper_bgcolor\": \"white\", \"plot_bgcolor\": \"#E5ECF6\", \"polar\": {\"angularaxis\": {\"gridcolor\": \"white\", \"linecolor\": \"white\", \"ticks\": \"\"}, \"bgcolor\": \"#E5ECF6\", \"radialaxis\": {\"gridcolor\": \"white\", \"linecolor\": \"white\", \"ticks\": \"\"}}, \"scene\": {\"xaxis\": {\"backgroundcolor\": \"#E5ECF6\", \"gridcolor\": \"white\", \"gridwidth\": 2, \"linecolor\": \"white\", \"showbackground\": true, \"ticks\": \"\", \"zerolinecolor\": \"white\"}, \"yaxis\": {\"backgroundcolor\": \"#E5ECF6\", \"gridcolor\": \"white\", \"gridwidth\": 2, \"linecolor\": \"white\", \"showbackground\": true, \"ticks\": \"\", \"zerolinecolor\": \"white\"}, \"zaxis\": {\"backgroundcolor\": \"#E5ECF6\", \"gridcolor\": \"white\", \"gridwidth\": 2, \"linecolor\": \"white\", \"showbackground\": true, \"ticks\": \"\", \"zerolinecolor\": \"white\"}}, \"shapedefaults\": {\"line\": {\"color\": \"#2a3f5f\"}}, \"ternary\": {\"aaxis\": {\"gridcolor\": \"white\", \"linecolor\": \"white\", \"ticks\": \"\"}, \"baxis\": {\"gridcolor\": \"white\", \"linecolor\": \"white\", \"ticks\": \"\"}, \"bgcolor\": \"#E5ECF6\", \"caxis\": {\"gridcolor\": \"white\", \"linecolor\": \"white\", \"ticks\": \"\"}}, \"title\": {\"x\": 0.05}, \"xaxis\": {\"automargin\": true, \"gridcolor\": \"white\", \"linecolor\": \"white\", \"ticks\": \"\", \"title\": {\"standoff\": 15}, \"zerolinecolor\": \"white\", \"zerolinewidth\": 2}, \"yaxis\": {\"automargin\": true, \"gridcolor\": \"white\", \"linecolor\": \"white\", \"ticks\": \"\", \"title\": {\"standoff\": 15}, \"zerolinecolor\": \"white\", \"zerolinewidth\": 2}}}, \"title\": {\"text\": \"Monthly average TAT(days)\"}, \"uniformtext\": {\"minsize\": 9, \"mode\": \"hide\"}, \"xaxis\": {\"anchor\": \"y\", \"domain\": [0.0, 1.0], \"title\": {\"text\": \"month_year\"}}, \"yaxis\": {\"anchor\": \"x\", \"domain\": [0.0, 1.0], \"title\": {\"text\": \"TAT(days)\"}}},                        {\"responsive\": true}                    ).then(function(){\n",
       "                            \n",
       "var gd = document.getElementById('b177890b-16b4-49f8-9148-8c5a9ebd865e');\n",
       "var x = new MutationObserver(function (mutations, observer) {{\n",
       "        var display = window.getComputedStyle(gd).display;\n",
       "        if (!display || display === 'none') {{\n",
       "            console.log([gd, 'removed!']);\n",
       "            Plotly.purge(gd);\n",
       "            observer.disconnect();\n",
       "        }}\n",
       "}});\n",
       "\n",
       "// Listen for the removal of the full notebook cells\n",
       "var notebookContainer = gd.closest('#notebook-container');\n",
       "if (notebookContainer) {{\n",
       "    x.observe(notebookContainer, {childList: true});\n",
       "}}\n",
       "\n",
       "// Listen for the clearing of the current output cell\n",
       "var outputEl = gd.closest('.output');\n",
       "if (outputEl) {{\n",
       "    x.observe(outputEl, {childList: true});\n",
       "}}\n",
       "\n",
       "                        })                };                });            </script>        </div>"
      ]
     },
     "metadata": {},
     "output_type": "display_data"
    }
   ],
   "source": [
    "# \";\" remove <matplotlib.axes._subplots.AxesSubplot at 0x204f3872460> above the graph.\n",
    "# program_avg_TAT.plot(x='month',y='TAT(days)');\n",
    "\n",
    "\n",
    "fig=px.bar(program_avg_TAT,x='month_year',y='TAT(days)',color='TAT(days)',title='Monthly average TAT(days)',text='TAT(days)',\n",
    "          color_continuous_scale=[\"green\", \"yellow\", \"red\"])\n",
    "fig.update_traces( textposition='outside')\n",
    "fig.update_layout(uniformtext_minsize=9, uniformtext_mode='hide')\n",
    "# fig.update_xaxes(tickangle=45)\n",
    "fig.show()\n",
    "# program_avg_TAT.iplot()"
   ]
  },
  {
   "cell_type": "markdown",
   "metadata": {},
   "source": [
    "#### Correlation"
   ]
  },
  {
   "cell_type": "code",
   "execution_count": 51,
   "metadata": {
    "ExecuteTime": {
     "end_time": "2021-09-16T18:18:08.910116Z",
     "start_time": "2021-09-16T18:18:08.136591Z"
    }
   },
   "outputs": [
    {
     "data": {
      "image/png": "[encoded data removed]",
      "text/plain": [
       "<Figure size 1152x432 with 2 Axes>"
      ]
     },
     "metadata": {
      "needs_background": "light"
     },
     "output_type": "display_data"
    }
   ],
   "source": [
    "# plotting correlation heatmap\n",
    "plt.figure(figsize=(16, 6))\n",
    "\n",
    "dataplot = sns.heatmap(time.corr(),  annot=True,vmin=1, vmax=-1,);\n",
    "dataplot.set_title('Correlation Heatmap', fontdict={'fontsize':18}, pad=12);"
   ]
  },
  {
   "cell_type": "markdown",
   "metadata": {},
   "source": [
    "#### Linear relationships"
   ]
  },
  {
   "cell_type": "code",
   "execution_count": 52,
   "metadata": {
    "ExecuteTime": {
     "end_time": "2021-09-16T18:18:11.071781Z",
     "start_time": "2021-09-16T18:18:08.920112Z"
    }
   },
   "outputs": [
    {
     "data": {
      "image/png": "[encoded data removed]",
      "text/plain": [
       "<Figure size 756x360 with 3 Axes>"
      ]
     },
     "metadata": {
      "needs_background": "light"
     },
     "output_type": "display_data"
    }
   ],
   "source": [
    "sns.pairplot(time,x_vars=['Collection to Receipt','Receipt To Processing','Processing To Dispatch'],y_vars=\"Collection to Dispatch\", height=5,aspect=0.7,kind='reg');"
   ]
  },
  {
   "cell_type": "code",
   "execution_count": 53,
   "metadata": {
    "ExecuteTime": {
     "end_time": "2021-09-16T18:18:11.101763Z",
     "start_time": "2021-09-16T18:18:11.077777Z"
    }
   },
   "outputs": [],
   "source": [
    "all_results_tat=all_results_tat.copy()\n"
   ]
  },
  {
   "cell_type": "code",
   "execution_count": 54,
   "metadata": {
    "ExecuteTime": {
     "end_time": "2021-09-16T18:18:11.227581Z",
     "start_time": "2021-09-16T18:18:11.106761Z"
    }
   },
   "outputs": [],
   "source": [
    "initial_PCR_df=all_results_tat.loc[all_results_tat['PCR Type'] == 'Initial PCR (6 week or first contact)']\n"
   ]
  },
  {
   "cell_type": "code",
   "execution_count": 55,
   "metadata": {
    "ExecuteTime": {
     "end_time": "2021-09-16T18:18:11.337762Z",
     "start_time": "2021-09-16T18:18:11.236572Z"
    }
   },
   "outputs": [],
   "source": [
    "initial_PCR_df=initial_PCR_df.copy()\n",
    "initial_PCR_df['TAT(days)'] = initial_PCR_df['TAT(days)'].apply(lambda x : x if x > 0 else 0)\n"
   ]
  },
  {
   "cell_type": "code",
   "execution_count": 56,
   "metadata": {
    "ExecuteTime": {
     "end_time": "2021-09-16T18:18:11.493878Z",
     "start_time": "2021-09-16T18:18:11.347741Z"
    }
   },
   "outputs": [],
   "source": [
    "all_results_tat=initial_PCR_df.loc[(all_results_tat['TAT(days)']!=0)]\n",
    "\n",
    "initial_PCRs=len(all_results_tat['PCR Type'])"
   ]
  },
  {
   "cell_type": "code",
   "execution_count": null,
   "metadata": {},
   "outputs": [],
   "source": []
  },
  {
   "cell_type": "code",
   "execution_count": null,
   "metadata": {},
   "outputs": [],
   "source": []
  },
  {
   "cell_type": "code",
   "execution_count": 57,
   "metadata": {
    "ExecuteTime": {
     "end_time": "2021-09-16T18:18:11.649748Z",
     "start_time": "2021-09-16T18:18:11.504861Z"
    }
   },
   "outputs": [],
   "source": [
    "less_than_2_days=all_results_tat[(all_results_tat['TAT(days)']<=2)]\n",
    "less_than_2_days\n",
    "less_than_2_days=int(less_than_2_days['TAT(days)'].count())\n",
    "# less_than_2_days\n",
    "\n",
    "\n",
    "two_to_7_days=all_results_tat[(all_results_tat['TAT(days)']>2 )& (all_results_tat['TAT(days)']<=7)]\n",
    "two_to_7_days=int(two_to_7_days['TAT(days)'].count())\n",
    "# two_to_7_days\n",
    "\n",
    "seven_to_14_days=all_results_tat[(all_results_tat['TAT(days)']>7 )& (all_results_tat['TAT(days)']<=14)]\n",
    "seven_to_14_days=int(seven_to_14_days['TAT(days)'].count())\n",
    "# seven_to_14_days\n",
    "\n",
    "fourteen_to_30_days=all_results_tat[(all_results_tat['TAT(days)']>14 )& (all_results_tat['TAT(days)']<=30)]\n",
    "fourteen_to_30_days=int(fourteen_to_30_days['TAT(days)'].count())\n",
    "# fourteen_to_30_days\n",
    "\n",
    "above_30_days=all_results_tat[(all_results_tat['TAT(days)']>30 )]\n",
    "above_30_days=int(above_30_days['TAT(days)'].count())\n",
    "# above_30_days"
   ]
  },
  {
   "cell_type": "code",
   "execution_count": 58,
   "metadata": {
    "ExecuteTime": {
     "end_time": "2021-09-16T18:18:11.774389Z",
     "start_time": "2021-09-16T18:18:11.658741Z"
    }
   },
   "outputs": [],
   "source": [
    "data = {'Initial EID test done':[initial_PCRs],\n",
    "        'TAT < 2 days':[less_than_2_days],'TAT 2-7 days':[two_to_7_days],\n",
    "        'TAT 7-14 days':[seven_to_14_days],'TAT 14-30 days':[fourteen_to_30_days],'TAT >30 days':[above_30_days],}\n",
    " \n",
    "# Create DataFrame\n",
    "tat_df = pd.DataFrame(data)\n",
    "tat_df=tat_df.T.reset_index()\n",
    "tat_df.columns=['Turn Around Time (TAT)','values']\n",
    "tat_df['%']=round(tat_df['values']/tat_df['values'].max()*100).astype(int).astype(str)+\"%\"\n",
    "tat_df['percentage']=tat_df['values'].astype(str)+\" (\"+tat_df['%']+\")\"\n",
    "# tat_df"
   ]
  },
  {
   "cell_type": "code",
   "execution_count": 59,
   "metadata": {
    "ExecuteTime": {
     "end_time": "2021-09-16T18:18:12.028232Z",
     "start_time": "2021-09-16T18:18:11.784388Z"
    }
   },
   "outputs": [
    {
     "data": {
      "application/vnd.plotly.v1+json": {
       "config": {
        "plotlyServerURL": "https://plot.ly"
       },
       "data": [
        {
         "alignmentgroup": "True",
         "hovertemplate": "Turn Around Time (TAT)=%{x}<br>values=%{y}<br>percentage=%{text}<extra></extra>",
         "legendgroup": "",
         "marker": {
          "color": "#636efa"
         },
         "name": "",
         "offsetgroup": "",
         "orientation": "v",
         "showlegend": false,
         "text": [
          "280 (100%)",
          "2 (1%)",
          "33 (12%)",
          "73 (26%)",
          "71 (25%)",
          "101 (36%)"
         ],
         "textposition": "outside",
         "type": "bar",
         "x": [
          "Initial EID test done",
          "TAT < 2 days",
          "TAT 2-7 days",
          "TAT 7-14 days",
          "TAT 14-30 days",
          "TAT >30 days"
         ],
         "xaxis": "x",
         "y": [
          280,
          2,
          33,
          73,
          71,
          101
         ],
         "yaxis": "y"
        }
       ],
       "layout": {
        "barmode": "relative",
        "legend": {
         "tracegroupgap": 0
        },
        "template": {
         "data": {
          "bar": [
           {
            "error_x": {
             "color": "#2a3f5f"
            },
            "error_y": {
             "color": "#2a3f5f"
            },
            "marker": {
             "line": {
              "color": "#E5ECF6",
              "width": 0.5
             }
            },
            "type": "bar"
           }
          ],
          "barpolar": [
           {
            "marker": {
             "line": {
              "color": "#E5ECF6",
              "width": 0.5
             }
            },
            "type": "barpolar"
           }
          ],
          "carpet": [
           {
            "aaxis": {
             "endlinecolor": "#2a3f5f",
             "gridcolor": "white",
             "linecolor": "white",
             "minorgridcolor": "white",
             "startlinecolor": "#2a3f5f"
            },
            "baxis": {
             "endlinecolor": "#2a3f5f",
             "gridcolor": "white",
             "linecolor": "white",
             "minorgridcolor": "white",
             "startlinecolor": "#2a3f5f"
            },
            "type": "carpet"
           }
          ],
          "choropleth": [
           {
            "colorbar": {
             "outlinewidth": 0,
             "ticks": ""
            },
            "type": "choropleth"
           }
          ],
          "contour": [
           {
            "colorbar": {
             "outlinewidth": 0,
             "ticks": ""
            },
            "colorscale": [
             [
              0,
              "#0d0887"
             ],
             [
              0.1111111111111111,
              "#46039f"
             ],
             [
              0.2222222222222222,
              "#7201a8"
             ],
             [
              0.3333333333333333,
              "#9c179e"
             ],
             [
              0.4444444444444444,
              "#bd3786"
             ],
             [
              0.5555555555555556,
              "#d8576b"
             ],
             [
              0.6666666666666666,
              "#ed7953"
             ],
             [
              0.7777777777777778,
              "#fb9f3a"
             ],
             [
              0.8888888888888888,
              "#fdca26"
             ],
             [
              1,
              "#f0f921"
             ]
            ],
            "type": "contour"
           }
          ],
          "contourcarpet": [
           {
            "colorbar": {
             "outlinewidth": 0,
             "ticks": ""
            },
            "type": "contourcarpet"
           }
          ],
          "heatmap": [
           {
            "colorbar": {
             "outlinewidth": 0,
             "ticks": ""
            },
            "colorscale": [
             [
              0,
              "#0d0887"
             ],
             [
              0.1111111111111111,
              "#46039f"
             ],
             [
              0.2222222222222222,
              "#7201a8"
             ],
             [
              0.3333333333333333,
              "#9c179e"
             ],
             [
              0.4444444444444444,
              "#bd3786"
             ],
             [
              0.5555555555555556,
              "#d8576b"
             ],
             [
              0.6666666666666666,
              "#ed7953"
             ],
             [
              0.7777777777777778,
              "#fb9f3a"
             ],
             [
              0.8888888888888888,
              "#fdca26"
             ],
             [
              1,
              "#f0f921"
             ]
            ],
            "type": "heatmap"
           }
          ],
          "heatmapgl": [
           {
            "colorbar": {
             "outlinewidth": 0,
             "ticks": ""
            },
            "colorscale": [
             [
              0,
              "#0d0887"
             ],
             [
              0.1111111111111111,
              "#46039f"
             ],
             [
              0.2222222222222222,
              "#7201a8"
             ],
             [
              0.3333333333333333,
              "#9c179e"
             ],
             [
              0.4444444444444444,
              "#bd3786"
             ],
             [
              0.5555555555555556,
              "#d8576b"
             ],
             [
              0.6666666666666666,
              "#ed7953"
             ],
             [
              0.7777777777777778,
              "#fb9f3a"
             ],
             [
              0.8888888888888888,
              "#fdca26"
             ],
             [
              1,
              "#f0f921"
             ]
            ],
            "type": "heatmapgl"
           }
          ],
          "histogram": [
           {
            "marker": {
             "colorbar": {
              "outlinewidth": 0,
              "ticks": ""
             }
            },
            "type": "histogram"
           }
          ],
          "histogram2d": [
           {
            "colorbar": {
             "outlinewidth": 0,
             "ticks": ""
            },
            "colorscale": [
             [
              0,
              "#0d0887"
             ],
             [
              0.1111111111111111,
              "#46039f"
             ],
             [
              0.2222222222222222,
              "#7201a8"
             ],
             [
              0.3333333333333333,
              "#9c179e"
             ],
             [
              0.4444444444444444,
              "#bd3786"
             ],
             [
              0.5555555555555556,
              "#d8576b"
             ],
             [
              0.6666666666666666,
              "#ed7953"
             ],
             [
              0.7777777777777778,
              "#fb9f3a"
             ],
             [
              0.8888888888888888,
              "#fdca26"
             ],
             [
              1,
              "#f0f921"
             ]
            ],
            "type": "histogram2d"
           }
          ],
          "histogram2dcontour": [
           {
            "colorbar": {
             "outlinewidth": 0,
             "ticks": ""
            },
            "colorscale": [
             [
              0,
              "#0d0887"
             ],
             [
              0.1111111111111111,
              "#46039f"
             ],
             [
              0.2222222222222222,
              "#7201a8"
             ],
             [
              0.3333333333333333,
              "#9c179e"
             ],
             [
              0.4444444444444444,
              "#bd3786"
             ],
             [
              0.5555555555555556,
              "#d8576b"
             ],
             [
              0.6666666666666666,
              "#ed7953"
             ],
             [
              0.7777777777777778,
              "#fb9f3a"
             ],
             [
              0.8888888888888888,
              "#fdca26"
             ],
             [
              1,
              "#f0f921"
             ]
            ],
            "type": "histogram2dcontour"
           }
          ],
          "mesh3d": [
           {
            "colorbar": {
             "outlinewidth": 0,
             "ticks": ""
            },
            "type": "mesh3d"
           }
          ],
          "parcoords": [
           {
            "line": {
             "colorbar": {
              "outlinewidth": 0,
              "ticks": ""
             }
            },
            "type": "parcoords"
           }
          ],
          "pie": [
           {
            "automargin": true,
            "type": "pie"
           }
          ],
          "scatter": [
           {
            "marker": {
             "colorbar": {
              "outlinewidth": 0,
              "ticks": ""
             }
            },
            "type": "scatter"
           }
          ],
          "scatter3d": [
           {
            "line": {
             "colorbar": {
              "outlinewidth": 0,
              "ticks": ""
             }
            },
            "marker": {
             "colorbar": {
              "outlinewidth": 0,
              "ticks": ""
             }
            },
            "type": "scatter3d"
           }
          ],
          "scattercarpet": [
           {
            "marker": {
             "colorbar": {
              "outlinewidth": 0,
              "ticks": ""
             }
            },
            "type": "scattercarpet"
           }
          ],
          "scattergeo": [
           {
            "marker": {
             "colorbar": {
              "outlinewidth": 0,
              "ticks": ""
             }
            },
            "type": "scattergeo"
           }
          ],
          "scattergl": [
           {
            "marker": {
             "colorbar": {
              "outlinewidth": 0,
              "ticks": ""
             }
            },
            "type": "scattergl"
           }
          ],
          "scattermapbox": [
           {
            "marker": {
             "colorbar": {
              "outlinewidth": 0,
              "ticks": ""
             }
            },
            "type": "scattermapbox"
           }
          ],
          "scatterpolar": [
           {
            "marker": {
             "colorbar": {
              "outlinewidth": 0,
              "ticks": ""
             }
            },
            "type": "scatterpolar"
           }
          ],
          "scatterpolargl": [
           {
            "marker": {
             "colorbar": {
              "outlinewidth": 0,
              "ticks": ""
             }
            },
            "type": "scatterpolargl"
           }
          ],
          "scatterternary": [
           {
            "marker": {
             "colorbar": {
              "outlinewidth": 0,
              "ticks": ""
             }
            },
            "type": "scatterternary"
           }
          ],
          "surface": [
           {
            "colorbar": {
             "outlinewidth": 0,
             "ticks": ""
            },
            "colorscale": [
             [
              0,
              "#0d0887"
             ],
             [
              0.1111111111111111,
              "#46039f"
             ],
             [
              0.2222222222222222,
              "#7201a8"
             ],
             [
              0.3333333333333333,
              "#9c179e"
             ],
             [
              0.4444444444444444,
              "#bd3786"
             ],
             [
              0.5555555555555556,
              "#d8576b"
             ],
             [
              0.6666666666666666,
              "#ed7953"
             ],
             [
              0.7777777777777778,
              "#fb9f3a"
             ],
             [
              0.8888888888888888,
              "#fdca26"
             ],
             [
              1,
              "#f0f921"
             ]
            ],
            "type": "surface"
           }
          ],
          "table": [
           {
            "cells": {
             "fill": {
              "color": "#EBF0F8"
             },
             "line": {
              "color": "white"
             }
            },
            "header": {
             "fill": {
              "color": "#C8D4E3"
             },
             "line": {
              "color": "white"
             }
            },
            "type": "table"
           }
          ]
         },
         "layout": {
          "annotationdefaults": {
           "arrowcolor": "#2a3f5f",
           "arrowhead": 0,
           "arrowwidth": 1
          },
          "coloraxis": {
           "colorbar": {
            "outlinewidth": 0,
            "ticks": ""
           }
          },
          "colorscale": {
           "diverging": [
            [
             0,
             "#8e0152"
            ],
            [
             0.1,
             "#c51b7d"
            ],
            [
             0.2,
             "#de77ae"
            ],
            [
             0.3,
             "#f1b6da"
            ],
            [
             0.4,
             "#fde0ef"
            ],
            [
             0.5,
             "#f7f7f7"
            ],
            [
             0.6,
             "#e6f5d0"
            ],
            [
             0.7,
             "#b8e186"
            ],
            [
             0.8,
             "#7fbc41"
            ],
            [
             0.9,
             "#4d9221"
            ],
            [
             1,
             "#276419"
            ]
           ],
           "sequential": [
            [
             0,
             "#0d0887"
            ],
            [
             0.1111111111111111,
             "#46039f"
            ],
            [
             0.2222222222222222,
             "#7201a8"
            ],
            [
             0.3333333333333333,
             "#9c179e"
            ],
            [
             0.4444444444444444,
             "#bd3786"
            ],
            [
             0.5555555555555556,
             "#d8576b"
            ],
            [
             0.6666666666666666,
             "#ed7953"
            ],
            [
             0.7777777777777778,
             "#fb9f3a"
            ],
            [
             0.8888888888888888,
             "#fdca26"
            ],
            [
             1,
             "#f0f921"
            ]
           ],
           "sequentialminus": [
            [
             0,
             "#0d0887"
            ],
            [
             0.1111111111111111,
             "#46039f"
            ],
            [
             0.2222222222222222,
             "#7201a8"
            ],
            [
             0.3333333333333333,
             "#9c179e"
            ],
            [
             0.4444444444444444,
             "#bd3786"
            ],
            [
             0.5555555555555556,
             "#d8576b"
            ],
            [
             0.6666666666666666,
             "#ed7953"
            ],
            [
             0.7777777777777778,
             "#fb9f3a"
            ],
            [
             0.8888888888888888,
             "#fdca26"
            ],
            [
             1,
             "#f0f921"
            ]
           ]
          },
          "colorway": [
           "#636efa",
           "#EF553B",
           "#00cc96",
           "#ab63fa",
           "#FFA15A",
           "#19d3f3",
           "#FF6692",
           "#B6E880",
           "#FF97FF",
           "#FECB52"
          ],
          "font": {
           "color": "#2a3f5f"
          },
          "geo": {
           "bgcolor": "white",
           "lakecolor": "white",
           "landcolor": "#E5ECF6",
           "showlakes": true,
           "showland": true,
           "subunitcolor": "white"
          },
          "hoverlabel": {
           "align": "left"
          },
          "hovermode": "closest",
          "mapbox": {
           "style": "light"
          },
          "paper_bgcolor": "white",
          "plot_bgcolor": "#E5ECF6",
          "polar": {
           "angularaxis": {
            "gridcolor": "white",
            "linecolor": "white",
            "ticks": ""
           },
           "bgcolor": "#E5ECF6",
           "radialaxis": {
            "gridcolor": "white",
            "linecolor": "white",
            "ticks": ""
           }
          },
          "scene": {
           "xaxis": {
            "backgroundcolor": "#E5ECF6",
            "gridcolor": "white",
            "gridwidth": 2,
            "linecolor": "white",
            "showbackground": true,
            "ticks": "",
            "zerolinecolor": "white"
           },
           "yaxis": {
            "backgroundcolor": "#E5ECF6",
            "gridcolor": "white",
            "gridwidth": 2,
            "linecolor": "white",
            "showbackground": true,
            "ticks": "",
            "zerolinecolor": "white"
           },
           "zaxis": {
            "backgroundcolor": "#E5ECF6",
            "gridcolor": "white",
            "gridwidth": 2,
            "linecolor": "white",
            "showbackground": true,
            "ticks": "",
            "zerolinecolor": "white"
           }
          },
          "shapedefaults": {
           "line": {
            "color": "#2a3f5f"
           }
          },
          "ternary": {
           "aaxis": {
            "gridcolor": "white",
            "linecolor": "white",
            "ticks": ""
           },
           "baxis": {
            "gridcolor": "white",
            "linecolor": "white",
            "ticks": ""
           },
           "bgcolor": "#E5ECF6",
           "caxis": {
            "gridcolor": "white",
            "linecolor": "white",
            "ticks": ""
           }
          },
          "title": {
           "x": 0.05
          },
          "xaxis": {
           "automargin": true,
           "gridcolor": "white",
           "linecolor": "white",
           "ticks": "",
           "title": {
            "standoff": 15
           },
           "zerolinecolor": "white",
           "zerolinewidth": 2
          },
          "yaxis": {
           "automargin": true,
           "gridcolor": "white",
           "linecolor": "white",
           "ticks": "",
           "title": {
            "standoff": 15
           },
           "zerolinecolor": "white",
           "zerolinewidth": 2
          }
         }
        },
        "title": {
         "text": "<b>INITIAL PCR TURN AROUND TIME DURING THE REVIEW PERIOD</b>"
        },
        "xaxis": {
         "anchor": "y",
         "domain": [
          0,
          1
         ],
         "title": {
          "text": "Turn Around Time (TAT)"
         }
        },
        "yaxis": {
         "anchor": "x",
         "domain": [
          0,
          1
         ],
         "title": {
          "text": "values"
         }
        }
       }
      },
      "text/html": [
       "<div>                            <div id=\"2dd51759-8d1b-4cb9-9e55-14e3b68dad78\" class=\"plotly-graph-div\" style=\"height:525px; width:100%;\"></div>            <script type=\"text/javascript\">                require([\"plotly\"], function(Plotly) {                    window.PLOTLYENV=window.PLOTLYENV || {};                                    if (document.getElementById(\"2dd51759-8d1b-4cb9-9e55-14e3b68dad78\")) {                    Plotly.newPlot(                        \"2dd51759-8d1b-4cb9-9e55-14e3b68dad78\",                        [{\"alignmentgroup\": \"True\", \"hovertemplate\": \"Turn Around Time (TAT)=%{x}<br>values=%{y}<br>percentage=%{text}<extra></extra>\", \"legendgroup\": \"\", \"marker\": {\"color\": \"#636efa\"}, \"name\": \"\", \"offsetgroup\": \"\", \"orientation\": \"v\", \"showlegend\": false, \"text\": [\"280 (100%)\", \"2 (1%)\", \"33 (12%)\", \"73 (26%)\", \"71 (25%)\", \"101 (36%)\"], \"textposition\": \"outside\", \"type\": \"bar\", \"x\": [\"Initial EID test done\", \"TAT < 2 days\", \"TAT 2-7 days\", \"TAT 7-14 days\", \"TAT 14-30 days\", \"TAT >30 days\"], \"xaxis\": \"x\", \"y\": [280, 2, 33, 73, 71, 101], \"yaxis\": \"y\"}],                        {\"barmode\": \"relative\", \"legend\": {\"tracegroupgap\": 0}, \"template\": {\"data\": {\"bar\": [{\"error_x\": {\"color\": \"#2a3f5f\"}, \"error_y\": {\"color\": \"#2a3f5f\"}, \"marker\": {\"line\": {\"color\": \"#E5ECF6\", \"width\": 0.5}}, \"type\": \"bar\"}], \"barpolar\": [{\"marker\": {\"line\": {\"color\": \"#E5ECF6\", \"width\": 0.5}}, \"type\": \"barpolar\"}], \"carpet\": [{\"aaxis\": {\"endlinecolor\": \"#2a3f5f\", \"gridcolor\": \"white\", \"linecolor\": \"white\", \"minorgridcolor\": \"white\", \"startlinecolor\": \"#2a3f5f\"}, \"baxis\": {\"endlinecolor\": \"#2a3f5f\", \"gridcolor\": \"white\", \"linecolor\": \"white\", \"minorgridcolor\": \"white\", \"startlinecolor\": \"#2a3f5f\"}, \"type\": \"carpet\"}], \"choropleth\": [{\"colorbar\": {\"outlinewidth\": 0, \"ticks\": \"\"}, \"type\": \"choropleth\"}], \"contour\": [{\"colorbar\": {\"outlinewidth\": 0, \"ticks\": \"\"}, \"colorscale\": [[0.0, \"#0d0887\"], [0.1111111111111111, \"#46039f\"], [0.2222222222222222, \"#7201a8\"], [0.3333333333333333, \"#9c179e\"], [0.4444444444444444, \"#bd3786\"], [0.5555555555555556, \"#d8576b\"], [0.6666666666666666, \"#ed7953\"], [0.7777777777777778, \"#fb9f3a\"], [0.8888888888888888, \"#fdca26\"], [1.0, \"#f0f921\"]], \"type\": \"contour\"}], \"contourcarpet\": [{\"colorbar\": {\"outlinewidth\": 0, \"ticks\": \"\"}, \"type\": \"contourcarpet\"}], \"heatmap\": [{\"colorbar\": {\"outlinewidth\": 0, \"ticks\": \"\"}, \"colorscale\": [[0.0, \"#0d0887\"], [0.1111111111111111, \"#46039f\"], [0.2222222222222222, \"#7201a8\"], [0.3333333333333333, \"#9c179e\"], [0.4444444444444444, \"#bd3786\"], [0.5555555555555556, \"#d8576b\"], [0.6666666666666666, \"#ed7953\"], [0.7777777777777778, \"#fb9f3a\"], [0.8888888888888888, \"#fdca26\"], [1.0, \"#f0f921\"]], \"type\": \"heatmap\"}], \"heatmapgl\": [{\"colorbar\": {\"outlinewidth\": 0, \"ticks\": \"\"}, \"colorscale\": [[0.0, \"#0d0887\"], [0.1111111111111111, \"#46039f\"], [0.2222222222222222, \"#7201a8\"], [0.3333333333333333, \"#9c179e\"], [0.4444444444444444, \"#bd3786\"], [0.5555555555555556, \"#d8576b\"], [0.6666666666666666, \"#ed7953\"], [0.7777777777777778, \"#fb9f3a\"], [0.8888888888888888, \"#fdca26\"], [1.0, \"#f0f921\"]], \"type\": \"heatmapgl\"}], \"histogram\": [{\"marker\": {\"colorbar\": {\"outlinewidth\": 0, \"ticks\": \"\"}}, \"type\": \"histogram\"}], \"histogram2d\": [{\"colorbar\": {\"outlinewidth\": 0, \"ticks\": \"\"}, \"colorscale\": [[0.0, \"#0d0887\"], [0.1111111111111111, \"#46039f\"], [0.2222222222222222, \"#7201a8\"], [0.3333333333333333, \"#9c179e\"], [0.4444444444444444, \"#bd3786\"], [0.5555555555555556, \"#d8576b\"], [0.6666666666666666, \"#ed7953\"], [0.7777777777777778, \"#fb9f3a\"], [0.8888888888888888, \"#fdca26\"], [1.0, \"#f0f921\"]], \"type\": \"histogram2d\"}], \"histogram2dcontour\": [{\"colorbar\": {\"outlinewidth\": 0, \"ticks\": \"\"}, \"colorscale\": [[0.0, \"#0d0887\"], [0.1111111111111111, \"#46039f\"], [0.2222222222222222, \"#7201a8\"], [0.3333333333333333, \"#9c179e\"], [0.4444444444444444, \"#bd3786\"], [0.5555555555555556, \"#d8576b\"], [0.6666666666666666, \"#ed7953\"], [0.7777777777777778, \"#fb9f3a\"], [0.8888888888888888, \"#fdca26\"], [1.0, \"#f0f921\"]], \"type\": \"histogram2dcontour\"}], \"mesh3d\": [{\"colorbar\": {\"outlinewidth\": 0, \"ticks\": \"\"}, \"type\": \"mesh3d\"}], \"parcoords\": [{\"line\": {\"colorbar\": {\"outlinewidth\": 0, \"ticks\": \"\"}}, \"type\": \"parcoords\"}], \"pie\": [{\"automargin\": true, \"type\": \"pie\"}], \"scatter\": [{\"marker\": {\"colorbar\": {\"outlinewidth\": 0, \"ticks\": \"\"}}, \"type\": \"scatter\"}], \"scatter3d\": [{\"line\": {\"colorbar\": {\"outlinewidth\": 0, \"ticks\": \"\"}}, \"marker\": {\"colorbar\": {\"outlinewidth\": 0, \"ticks\": \"\"}}, \"type\": \"scatter3d\"}], \"scattercarpet\": [{\"marker\": {\"colorbar\": {\"outlinewidth\": 0, \"ticks\": \"\"}}, \"type\": \"scattercarpet\"}], \"scattergeo\": [{\"marker\": {\"colorbar\": {\"outlinewidth\": 0, \"ticks\": \"\"}}, \"type\": \"scattergeo\"}], \"scattergl\": [{\"marker\": {\"colorbar\": {\"outlinewidth\": 0, \"ticks\": \"\"}}, \"type\": \"scattergl\"}], \"scattermapbox\": [{\"marker\": {\"colorbar\": {\"outlinewidth\": 0, \"ticks\": \"\"}}, \"type\": \"scattermapbox\"}], \"scatterpolar\": [{\"marker\": {\"colorbar\": {\"outlinewidth\": 0, \"ticks\": \"\"}}, \"type\": \"scatterpolar\"}], \"scatterpolargl\": [{\"marker\": {\"colorbar\": {\"outlinewidth\": 0, \"ticks\": \"\"}}, \"type\": \"scatterpolargl\"}], \"scatterternary\": [{\"marker\": {\"colorbar\": {\"outlinewidth\": 0, \"ticks\": \"\"}}, \"type\": \"scatterternary\"}], \"surface\": [{\"colorbar\": {\"outlinewidth\": 0, \"ticks\": \"\"}, \"colorscale\": [[0.0, \"#0d0887\"], [0.1111111111111111, \"#46039f\"], [0.2222222222222222, \"#7201a8\"], [0.3333333333333333, \"#9c179e\"], [0.4444444444444444, \"#bd3786\"], [0.5555555555555556, \"#d8576b\"], [0.6666666666666666, \"#ed7953\"], [0.7777777777777778, \"#fb9f3a\"], [0.8888888888888888, \"#fdca26\"], [1.0, \"#f0f921\"]], \"type\": \"surface\"}], \"table\": [{\"cells\": {\"fill\": {\"color\": \"#EBF0F8\"}, \"line\": {\"color\": \"white\"}}, \"header\": {\"fill\": {\"color\": \"#C8D4E3\"}, \"line\": {\"color\": \"white\"}}, \"type\": \"table\"}]}, \"layout\": {\"annotationdefaults\": {\"arrowcolor\": \"#2a3f5f\", \"arrowhead\": 0, \"arrowwidth\": 1}, \"coloraxis\": {\"colorbar\": {\"outlinewidth\": 0, \"ticks\": \"\"}}, \"colorscale\": {\"diverging\": [[0, \"#8e0152\"], [0.1, \"#c51b7d\"], [0.2, \"#de77ae\"], [0.3, \"#f1b6da\"], [0.4, \"#fde0ef\"], [0.5, \"#f7f7f7\"], [0.6, \"#e6f5d0\"], [0.7, \"#b8e186\"], [0.8, \"#7fbc41\"], [0.9, \"#4d9221\"], [1, \"#276419\"]], \"sequential\": [[0.0, \"#0d0887\"], [0.1111111111111111, \"#46039f\"], [0.2222222222222222, \"#7201a8\"], [0.3333333333333333, \"#9c179e\"], [0.4444444444444444, \"#bd3786\"], [0.5555555555555556, \"#d8576b\"], [0.6666666666666666, \"#ed7953\"], [0.7777777777777778, \"#fb9f3a\"], [0.8888888888888888, \"#fdca26\"], [1.0, \"#f0f921\"]], \"sequentialminus\": [[0.0, \"#0d0887\"], [0.1111111111111111, \"#46039f\"], [0.2222222222222222, \"#7201a8\"], [0.3333333333333333, \"#9c179e\"], [0.4444444444444444, \"#bd3786\"], [0.5555555555555556, \"#d8576b\"], [0.6666666666666666, \"#ed7953\"], [0.7777777777777778, \"#fb9f3a\"], [0.8888888888888888, \"#fdca26\"], [1.0, \"#f0f921\"]]}, \"colorway\": [\"#636efa\", \"#EF553B\", \"#00cc96\", \"#ab63fa\", \"#FFA15A\", \"#19d3f3\", \"#FF6692\", \"#B6E880\", \"#FF97FF\", \"#FECB52\"], \"font\": {\"color\": \"#2a3f5f\"}, \"geo\": {\"bgcolor\": \"white\", \"lakecolor\": \"white\", \"landcolor\": \"#E5ECF6\", \"showlakes\": true, \"showland\": true, \"subunitcolor\": \"white\"}, \"hoverlabel\": {\"align\": \"left\"}, \"hovermode\": \"closest\", \"mapbox\": {\"style\": \"light\"}, \"paper_bgcolor\": \"white\", \"plot_bgcolor\": \"#E5ECF6\", \"polar\": {\"angularaxis\": {\"gridcolor\": \"white\", \"linecolor\": \"white\", \"ticks\": \"\"}, \"bgcolor\": \"#E5ECF6\", \"radialaxis\": {\"gridcolor\": \"white\", \"linecolor\": \"white\", \"ticks\": \"\"}}, \"scene\": {\"xaxis\": {\"backgroundcolor\": \"#E5ECF6\", \"gridcolor\": \"white\", \"gridwidth\": 2, \"linecolor\": \"white\", \"showbackground\": true, \"ticks\": \"\", \"zerolinecolor\": \"white\"}, \"yaxis\": {\"backgroundcolor\": \"#E5ECF6\", \"gridcolor\": \"white\", \"gridwidth\": 2, \"linecolor\": \"white\", \"showbackground\": true, \"ticks\": \"\", \"zerolinecolor\": \"white\"}, \"zaxis\": {\"backgroundcolor\": \"#E5ECF6\", \"gridcolor\": \"white\", \"gridwidth\": 2, \"linecolor\": \"white\", \"showbackground\": true, \"ticks\": \"\", \"zerolinecolor\": \"white\"}}, \"shapedefaults\": {\"line\": {\"color\": \"#2a3f5f\"}}, \"ternary\": {\"aaxis\": {\"gridcolor\": \"white\", \"linecolor\": \"white\", \"ticks\": \"\"}, \"baxis\": {\"gridcolor\": \"white\", \"linecolor\": \"white\", \"ticks\": \"\"}, \"bgcolor\": \"#E5ECF6\", \"caxis\": {\"gridcolor\": \"white\", \"linecolor\": \"white\", \"ticks\": \"\"}}, \"title\": {\"x\": 0.05}, \"xaxis\": {\"automargin\": true, \"gridcolor\": \"white\", \"linecolor\": \"white\", \"ticks\": \"\", \"title\": {\"standoff\": 15}, \"zerolinecolor\": \"white\", \"zerolinewidth\": 2}, \"yaxis\": {\"automargin\": true, \"gridcolor\": \"white\", \"linecolor\": \"white\", \"ticks\": \"\", \"title\": {\"standoff\": 15}, \"zerolinecolor\": \"white\", \"zerolinewidth\": 2}}}, \"title\": {\"text\": \"<b>INITIAL PCR TURN AROUND TIME DURING THE REVIEW PERIOD</b>\"}, \"xaxis\": {\"anchor\": \"y\", \"domain\": [0.0, 1.0], \"title\": {\"text\": \"Turn Around Time (TAT)\"}}, \"yaxis\": {\"anchor\": \"x\", \"domain\": [0.0, 1.0], \"title\": {\"text\": \"values\"}}},                        {\"responsive\": true}                    ).then(function(){\n",
       "                            \n",
       "var gd = document.getElementById('2dd51759-8d1b-4cb9-9e55-14e3b68dad78');\n",
       "var x = new MutationObserver(function (mutations, observer) {{\n",
       "        var display = window.getComputedStyle(gd).display;\n",
       "        if (!display || display === 'none') {{\n",
       "            console.log([gd, 'removed!']);\n",
       "            Plotly.purge(gd);\n",
       "            observer.disconnect();\n",
       "        }}\n",
       "}});\n",
       "\n",
       "// Listen for the removal of the full notebook cells\n",
       "var notebookContainer = gd.closest('#notebook-container');\n",
       "if (notebookContainer) {{\n",
       "    x.observe(notebookContainer, {childList: true});\n",
       "}}\n",
       "\n",
       "// Listen for the clearing of the current output cell\n",
       "var outputEl = gd.closest('.output');\n",
       "if (outputEl) {{\n",
       "    x.observe(outputEl, {childList: true});\n",
       "}}\n",
       "\n",
       "                        })                };                });            </script>        </div>"
      ]
     },
     "metadata": {},
     "output_type": "display_data"
    }
   ],
   "source": [
    "fig=px.bar(tat_df,x='Turn Around Time (TAT)',y='values',title='<b>INITIAL PCR TURN AROUND TIME DURING THE REVIEW PERIOD</b>',\n",
    "           text='percentage',)\n",
    "#           color_continuous_scale=[\"green\", \"yellow\", \"red\"])\n",
    "fig.update_traces( textposition='outside')\n",
    "# fig.update_layout(uniformtext_minsize=9, uniformtext_mode='hide')\n",
    "# fig.update_xaxes(tickangle=45)\n",
    "fig.show()"
   ]
  },
  {
   "cell_type": "code",
   "execution_count": 60,
   "metadata": {
    "ExecuteTime": {
     "end_time": "2021-09-16T18:18:12.156150Z",
     "start_time": "2021-09-16T18:18:12.031230Z"
    },
    "scrolled": false
   },
   "outputs": [],
   "source": [
    "# px.scatter(time,x='Processing To Dispatch',y='collection to receipt',trendline=\"ols\",\n",
    "#            color='collection to receipt',\n",
    "#            title='Processing vs days spent for NASCOP to receive samples',\n",
    "#            opacity=0.65,trendline_color_override='green',hover_data=[\"Facilty\"])"
   ]
  },
  {
   "cell_type": "code",
   "execution_count": 61,
   "metadata": {
    "ExecuteTime": {
     "end_time": "2021-09-16T18:18:12.249615Z",
     "start_time": "2021-09-16T18:18:12.160148Z"
    },
    "scrolled": false
   },
   "outputs": [],
   "source": [
    "# px.scatter(time,x='Collection to Dispatch',y='collection to receipt',\n",
    "#            trendline=\"ols\",color=\"collection to receipt\",\n",
    "#            title='TAT(days) vs days spent for NASCOP to receive samples',\n",
    "#            opacity=0.65,trendline_color_override='red',hover_data=[\"Facilty\"])"
   ]
  },
  {
   "cell_type": "code",
   "execution_count": 62,
   "metadata": {
    "ExecuteTime": {
     "end_time": "2021-09-16T18:18:12.393002Z",
     "start_time": "2021-09-16T18:18:12.252610Z"
    },
    "scrolled": false
   },
   "outputs": [],
   "source": [
    "# px.scatter(time,x='Collection to Dispatch',y='Processing To Dispatch', trendline=\"ols\",title='collection to dispatch vs Processing To Dispatch',opacity=0.65,trendline_color_override='red',\n",
    "#           color='Processing To Dispatch',hover_data=[\"Facilty\"])"
   ]
  },
  {
   "cell_type": "code",
   "execution_count": null,
   "metadata": {},
   "outputs": [],
   "source": []
  }
 ],
 "metadata": {
  "hide_input": false,
  "kernelspec": {
   "display_name": "Python 3",
   "language": "python",
   "name": "python3"
  },
  "language_info": {
   "codemirror_mode": {
    "name": "ipython",
    "version": 3
   },
   "file_extension": ".py",
   "mimetype": "text/x-python",
   "name": "python",
   "nbconvert_exporter": "python",
   "pygments_lexer": "ipython3",
   "version": "3.8.11"
  }
 },
 "nbformat": 4,
 "nbformat_minor": 4
}
